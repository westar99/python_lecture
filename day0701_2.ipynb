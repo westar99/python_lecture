{
  "nbformat": 4,
  "nbformat_minor": 0,
  "metadata": {
    "colab": {
      "name": "day0701_2.ipynb",
      "provenance": [],
      "collapsed_sections": []
    },
    "kernelspec": {
      "name": "python3",
      "display_name": "Python 3"
    },
    "language_info": {
      "name": "python"
    }
  },
  "cells": [
    {
      "cell_type": "markdown",
      "source": [
        "---\n",
        "\n",
        "# **title: '머신러닝4 로지스틱 회귀'**\n",
        "\n",
        "# **date: '2022-07-01 11:00'**\n",
        "\n",
        "---"
      ],
      "metadata": {
        "id": "MLWbn0pUdFPO"
      }
    },
    {
      "cell_type": "markdown",
      "source": [
        "## 로지스틱 회귀\n",
        "- 선형회귀에서 출발\n",
        "- 이진 분류 문제 해결\n",
        "- 클래스 확률 예측\n",
        "- 딥러닝에서도 사용됨 "
      ],
      "metadata": {
        "id": "DYSbCj0tf9je"
      }
    },
    {
      "cell_type": "markdown",
      "source": [
        "- P177\n",
        " + X가 사격형일 확율 30%\n",
        " + X가 삼각형일 확률 50%\n",
        " + X가 원일 확률 20%"
      ],
      "metadata": {
        "id": "xyMxhRckgfKe"
      }
    },
    {
      "cell_type": "markdown",
      "source": [
        "\n",
        "## 데이터 불러오기\n",
        "- Species(종속변수 = Y)\n",
        "- Weight,Length, Diagonal,Height,Width(독립변수들)\n"
      ],
      "metadata": {
        "id": "7qMYi-ZYg2Qg"
      }
    },
    {
      "cell_type": "code",
      "source": [
        "import pandas as pd\n",
        "\n",
        "fish = pd.read_csv('https://bit.ly/fish_csv_data')\n",
        "fish.head()"
      ],
      "metadata": {
        "colab": {
          "base_uri": "https://localhost:8080/",
          "height": 206
        },
        "id": "rAwtyEtog8QO",
        "outputId": "5b93a718-f426-42d4-a1fb-6dfdb79d1128"
      },
      "execution_count": 48,
      "outputs": [
        {
          "output_type": "execute_result",
          "data": {
            "text/plain": [
              "  Species  Weight  Length  Diagonal   Height   Width\n",
              "0   Bream   242.0    25.4      30.0  11.5200  4.0200\n",
              "1   Bream   290.0    26.3      31.2  12.4800  4.3056\n",
              "2   Bream   340.0    26.5      31.1  12.3778  4.6961\n",
              "3   Bream   363.0    29.0      33.5  12.7300  4.4555\n",
              "4   Bream   430.0    29.0      34.0  12.4440  5.1340"
            ],
            "text/html": [
              "\n",
              "  <div id=\"df-1e28b899-1483-4eec-b037-95410a050afe\">\n",
              "    <div class=\"colab-df-container\">\n",
              "      <div>\n",
              "<style scoped>\n",
              "    .dataframe tbody tr th:only-of-type {\n",
              "        vertical-align: middle;\n",
              "    }\n",
              "\n",
              "    .dataframe tbody tr th {\n",
              "        vertical-align: top;\n",
              "    }\n",
              "\n",
              "    .dataframe thead th {\n",
              "        text-align: right;\n",
              "    }\n",
              "</style>\n",
              "<table border=\"1\" class=\"dataframe\">\n",
              "  <thead>\n",
              "    <tr style=\"text-align: right;\">\n",
              "      <th></th>\n",
              "      <th>Species</th>\n",
              "      <th>Weight</th>\n",
              "      <th>Length</th>\n",
              "      <th>Diagonal</th>\n",
              "      <th>Height</th>\n",
              "      <th>Width</th>\n",
              "    </tr>\n",
              "  </thead>\n",
              "  <tbody>\n",
              "    <tr>\n",
              "      <th>0</th>\n",
              "      <td>Bream</td>\n",
              "      <td>242.0</td>\n",
              "      <td>25.4</td>\n",
              "      <td>30.0</td>\n",
              "      <td>11.5200</td>\n",
              "      <td>4.0200</td>\n",
              "    </tr>\n",
              "    <tr>\n",
              "      <th>1</th>\n",
              "      <td>Bream</td>\n",
              "      <td>290.0</td>\n",
              "      <td>26.3</td>\n",
              "      <td>31.2</td>\n",
              "      <td>12.4800</td>\n",
              "      <td>4.3056</td>\n",
              "    </tr>\n",
              "    <tr>\n",
              "      <th>2</th>\n",
              "      <td>Bream</td>\n",
              "      <td>340.0</td>\n",
              "      <td>26.5</td>\n",
              "      <td>31.1</td>\n",
              "      <td>12.3778</td>\n",
              "      <td>4.6961</td>\n",
              "    </tr>\n",
              "    <tr>\n",
              "      <th>3</th>\n",
              "      <td>Bream</td>\n",
              "      <td>363.0</td>\n",
              "      <td>29.0</td>\n",
              "      <td>33.5</td>\n",
              "      <td>12.7300</td>\n",
              "      <td>4.4555</td>\n",
              "    </tr>\n",
              "    <tr>\n",
              "      <th>4</th>\n",
              "      <td>Bream</td>\n",
              "      <td>430.0</td>\n",
              "      <td>29.0</td>\n",
              "      <td>34.0</td>\n",
              "      <td>12.4440</td>\n",
              "      <td>5.1340</td>\n",
              "    </tr>\n",
              "  </tbody>\n",
              "</table>\n",
              "</div>\n",
              "      <button class=\"colab-df-convert\" onclick=\"convertToInteractive('df-1e28b899-1483-4eec-b037-95410a050afe')\"\n",
              "              title=\"Convert this dataframe to an interactive table.\"\n",
              "              style=\"display:none;\">\n",
              "        \n",
              "  <svg xmlns=\"http://www.w3.org/2000/svg\" height=\"24px\"viewBox=\"0 0 24 24\"\n",
              "       width=\"24px\">\n",
              "    <path d=\"M0 0h24v24H0V0z\" fill=\"none\"/>\n",
              "    <path d=\"M18.56 5.44l.94 2.06.94-2.06 2.06-.94-2.06-.94-.94-2.06-.94 2.06-2.06.94zm-11 1L8.5 8.5l.94-2.06 2.06-.94-2.06-.94L8.5 2.5l-.94 2.06-2.06.94zm10 10l.94 2.06.94-2.06 2.06-.94-2.06-.94-.94-2.06-.94 2.06-2.06.94z\"/><path d=\"M17.41 7.96l-1.37-1.37c-.4-.4-.92-.59-1.43-.59-.52 0-1.04.2-1.43.59L10.3 9.45l-7.72 7.72c-.78.78-.78 2.05 0 2.83L4 21.41c.39.39.9.59 1.41.59.51 0 1.02-.2 1.41-.59l7.78-7.78 2.81-2.81c.8-.78.8-2.07 0-2.86zM5.41 20L4 18.59l7.72-7.72 1.47 1.35L5.41 20z\"/>\n",
              "  </svg>\n",
              "      </button>\n",
              "      \n",
              "  <style>\n",
              "    .colab-df-container {\n",
              "      display:flex;\n",
              "      flex-wrap:wrap;\n",
              "      gap: 12px;\n",
              "    }\n",
              "\n",
              "    .colab-df-convert {\n",
              "      background-color: #E8F0FE;\n",
              "      border: none;\n",
              "      border-radius: 50%;\n",
              "      cursor: pointer;\n",
              "      display: none;\n",
              "      fill: #1967D2;\n",
              "      height: 32px;\n",
              "      padding: 0 0 0 0;\n",
              "      width: 32px;\n",
              "    }\n",
              "\n",
              "    .colab-df-convert:hover {\n",
              "      background-color: #E2EBFA;\n",
              "      box-shadow: 0px 1px 2px rgba(60, 64, 67, 0.3), 0px 1px 3px 1px rgba(60, 64, 67, 0.15);\n",
              "      fill: #174EA6;\n",
              "    }\n",
              "\n",
              "    [theme=dark] .colab-df-convert {\n",
              "      background-color: #3B4455;\n",
              "      fill: #D2E3FC;\n",
              "    }\n",
              "\n",
              "    [theme=dark] .colab-df-convert:hover {\n",
              "      background-color: #434B5C;\n",
              "      box-shadow: 0px 1px 3px 1px rgba(0, 0, 0, 0.15);\n",
              "      filter: drop-shadow(0px 1px 2px rgba(0, 0, 0, 0.3));\n",
              "      fill: #FFFFFF;\n",
              "    }\n",
              "  </style>\n",
              "\n",
              "      <script>\n",
              "        const buttonEl =\n",
              "          document.querySelector('#df-1e28b899-1483-4eec-b037-95410a050afe button.colab-df-convert');\n",
              "        buttonEl.style.display =\n",
              "          google.colab.kernel.accessAllowed ? 'block' : 'none';\n",
              "\n",
              "        async function convertToInteractive(key) {\n",
              "          const element = document.querySelector('#df-1e28b899-1483-4eec-b037-95410a050afe');\n",
              "          const dataTable =\n",
              "            await google.colab.kernel.invokeFunction('convertToInteractive',\n",
              "                                                     [key], {});\n",
              "          if (!dataTable) return;\n",
              "\n",
              "          const docLinkHtml = 'Like what you see? Visit the ' +\n",
              "            '<a target=\"_blank\" href=https://colab.research.google.com/notebooks/data_table.ipynb>data table notebook</a>'\n",
              "            + ' to learn more about interactive tables.';\n",
              "          element.innerHTML = '';\n",
              "          dataTable['output_type'] = 'display_data';\n",
              "          await google.colab.output.renderOutput(dataTable, element);\n",
              "          const docLink = document.createElement('div');\n",
              "          docLink.innerHTML = docLinkHtml;\n",
              "          element.appendChild(docLink);\n",
              "        }\n",
              "      </script>\n",
              "    </div>\n",
              "  </div>\n",
              "  "
            ]
          },
          "metadata": {},
          "execution_count": 48
        }
      ]
    },
    {
      "cell_type": "markdown",
      "source": [
        "## 데이터 탐색\n"
      ],
      "metadata": {
        "id": "yMaf0XcZhW9O"
      }
    },
    {
      "cell_type": "code",
      "source": [
        "# 종속변수\n",
        "print(pd.unique(fish['Species']))#유니크함수로 스피시스열의 고유값 추출\n",
        "print(\"\")\n",
        "print(fish['Species'].value_counts())"
      ],
      "metadata": {
        "colab": {
          "base_uri": "https://localhost:8080/"
        },
        "id": "g-aBGlh3hZXW",
        "outputId": "3b3388e2-d959-42bb-da8c-7db7fda2b039"
      },
      "execution_count": 65,
      "outputs": [
        {
          "output_type": "stream",
          "name": "stdout",
          "text": [
            "['Bream' 'Roach' 'Whitefish' 'Parkki' 'Perch' 'Pike' 'Smelt']\n",
            "\n",
            "Perch        56\n",
            "Bream        35\n",
            "Roach        20\n",
            "Pike         17\n",
            "Smelt        14\n",
            "Parkki       11\n",
            "Whitefish     6\n",
            "Name: Species, dtype: int64\n"
          ]
        }
      ]
    },
    {
      "cell_type": "markdown",
      "source": [
        "## 데이터 가공 "
      ],
      "metadata": {
        "id": "6ye-38aziRzg"
      }
    },
    {
      "cell_type": "code",
      "source": [
        "# 판다스 데이터 프레임에서 넘파이 배열로 변환\n",
        "fish_input = fish[['Weight','Length','Diagonal','Height','Width']].to_numpy() \n",
        "#  fish 데이터 프레임에서 여러열을 선택해 새로운 데이터 프레임을 넘파이 배열로 바꾸어 저장\n",
        "\n",
        "print(fish_input.shape)"
      ],
      "metadata": {
        "colab": {
          "base_uri": "https://localhost:8080/"
        },
        "id": "jjY0evhqiT5O",
        "outputId": "58040200-73a1-41ae-f457-a4d5f0d1b1dc"
      },
      "execution_count": 63,
      "outputs": [
        {
          "output_type": "stream",
          "name": "stdout",
          "text": [
            "(159, 5)\n"
          ]
        }
      ]
    },
    {
      "cell_type": "code",
      "source": [
        "print(fish_input[:5])"
      ],
      "metadata": {
        "colab": {
          "base_uri": "https://localhost:8080/"
        },
        "id": "ts9RNUrdio6_",
        "outputId": "1e061d6b-4c69-4775-fb1b-d5f296435e3c"
      },
      "execution_count": 31,
      "outputs": [
        {
          "output_type": "stream",
          "name": "stdout",
          "text": [
            "[[242.      25.4     30.      11.52     4.02  ]\n",
            " [290.      26.3     31.2     12.48     4.3056]\n",
            " [340.      26.5     31.1     12.3778   4.6961]\n",
            " [363.      29.      33.5     12.73     4.4555]\n",
            " [430.      29.      34.      12.444    5.134 ]]\n"
          ]
        }
      ]
    },
    {
      "cell_type": "markdown",
      "source": [
        "- 타킷데이터, 종속변수, Y"
      ],
      "metadata": {
        "id": "przwKutNi2IW"
      }
    },
    {
      "cell_type": "code",
      "source": [
        "fish_target = fish['Species'].to_numpy()\n",
        "print(fish_target.shape)\n",
        "print(fish_target[:5])"
      ],
      "metadata": {
        "colab": {
          "base_uri": "https://localhost:8080/"
        },
        "id": "gaOqnkSJivj2",
        "outputId": "813f2008-7080-4934-f46b-ac8af3507407"
      },
      "execution_count": 32,
      "outputs": [
        {
          "output_type": "stream",
          "name": "stdout",
          "text": [
            "(159,)\n",
            "['Bream' 'Bream' 'Bream' 'Bream' 'Bream']\n"
          ]
        }
      ]
    },
    {
      "cell_type": "markdown",
      "source": [
        "## 데이터 분리\n",
        "- 훈련 데이터 테스트 데이터 분리 "
      ],
      "metadata": {
        "id": "lS-xIzEOjTgo"
      }
    },
    {
      "cell_type": "code",
      "source": [
        "from sklearn.model_selection import train_test_split\n",
        "#임의 샘플링\n",
        "\n",
        "train_input, test_input,train_target,test_target = train_test_split(\n",
        "    fish_input, fish_target, random_state= 42\n",
        ")\n",
        "print(train_input.shape) # 훈련데이터 값\n",
        "#층화 샘플링\n"
      ],
      "metadata": {
        "id": "Pgb7pq9ajYPW",
        "colab": {
          "base_uri": "https://localhost:8080/"
        },
        "outputId": "a4c2e941-c44e-4848-ed70-100fd5f1dc84"
      },
      "execution_count": 50,
      "outputs": [
        {
          "output_type": "stream",
          "name": "stdout",
          "text": [
            "(119, 5)\n"
          ]
        }
      ]
    },
    {
      "cell_type": "markdown",
      "source": [
        "## 표준화 전처리 \n",
        "- 여기에서도 훈련 세트의 통계 값으로 테스트 세트를 변환해야 한다는 점을 잊지 마세요!!(중요)\n",
        "- 훈련 세트의 평균값과 테스트 세트의 평균값는 다르다. 따라서 테스트 세트의 평균값(통계값)을 훈련세트의 평균값(통계값)으로 대체해줘야 한다.\n",
        "- 데이터 가공\n",
        " + 숫자 결측치가 존재, 평균값으로 대체\n",
        " + 원본 데이터 평균으로 대치하면 안됨\n",
        " + 훈련 데이터와 테스트 데이터 분리\n",
        "- 데이터 누수(Data Leakage)\n",
        " + 훈련데이터 평균값 70을 대치(기준)\n",
        " + 테스트 데이터 평균값(75)과 모든 데이터 평균값(72.5)은 기준이 안됨 \n",
        " + 참조: https://scikit-learn.org/stable/common_pitfalls.html"
      ],
      "metadata": {
        "id": "B_EO3j0HjPuf"
      }
    },
    {
      "cell_type": "markdown",
      "source": [
        "cf) 기준을 맞춰라 -->데이터 표준화(표준점수)\n",
        "  - p97~100는 수동으로 mean,std 을 \n",
        "  -'# train_scaled = (train_input - mean)/ std \n",
        "   라는 수식을 만들어 사용했으나 \n",
        "  - StandardScaler 라는 매소드가 있으니 이를 이용하면 된다. "
      ],
      "metadata": {
        "id": "cmePcyzBHxZk"
      }
    },
    {
      "cell_type": "code",
      "source": [
        "from sklearn.preprocessing import StandardScaler\n",
        "ss = StandardScaler()\n",
        "ss.fit(train_input)\n",
        "#ss.fit(test_input)을 하면 안됨!!-> 훈련테스트 통계값으로 통일\n",
        "train_scaled = ss.transform(train_input)\n",
        "test_scaled = ss.transform(test_input)"
      ],
      "metadata": {
        "id": "7ZQ4FOdekAE2"
      },
      "execution_count": 34,
      "outputs": []
    },
    {
      "cell_type": "markdown",
      "source": [
        "## 모형 만들기\n",
        "- K-최근접 이웃\n"
      ],
      "metadata": {
        "id": "Yj2rrmuOhoNO"
      }
    },
    {
      "cell_type": "code",
      "source": [
        "from sklearn.neighbors import KNeighborsClassifier\n",
        "kn = KNeighborsClassifier(n_neighbors = 3)\n",
        "kn.fit(train_scaled, train_target)\n",
        "\n",
        "print(kn.score(train_scaled, train_target))\n",
        "print(kn.score(test_scaled, test_target))"
      ],
      "metadata": {
        "colab": {
          "base_uri": "https://localhost:8080/"
        },
        "id": "tcBgpViQJUXE",
        "outputId": "7e7ed471-1016-412f-fddd-3615facbbdda"
      },
      "execution_count": 36,
      "outputs": [
        {
          "output_type": "stream",
          "name": "stdout",
          "text": [
            "0.8907563025210085\n",
            "0.85\n"
          ]
        }
      ]
    },
    {
      "cell_type": "markdown",
      "source": [
        "- 타깃값 확인\n",
        "- 알파벳 순으로 정렬"
      ],
      "metadata": {
        "id": "NIrcBvgCg9PX"
      }
    },
    {
      "cell_type": "code",
      "source": [
        "print(kn.classes_)"
      ],
      "metadata": {
        "colab": {
          "base_uri": "https://localhost:8080/"
        },
        "id": "ecub-QleKPVD",
        "outputId": "fc84b8fa-55d8-476f-dc9b-302aa44e65d7"
      },
      "execution_count": 37,
      "outputs": [
        {
          "output_type": "stream",
          "name": "stdout",
          "text": [
            "['Bream' 'Parkki' 'Perch' 'Pike' 'Roach' 'Smelt' 'Whitefish']\n"
          ]
        }
      ]
    },
    {
      "cell_type": "markdown",
      "source": [
        "- 다중분율\n"
      ],
      "metadata": {
        "id": "kf2F4MUdKTz7"
      }
    },
    {
      "cell_type": "markdown",
      "source": [
        "- 5개 샘플에 대한 예측은 어떤 확률이냐?"
      ],
      "metadata": {
        "id": "IRLgt65pKYuT"
      }
    },
    {
      "cell_type": "code",
      "source": [
        "import numpy as np\n",
        "proba = kn.predict_proba(test_scaled[:5])\n",
        "print(kn.classes_)\n",
        "print(np.round(proba,decimals= 4))\n"
      ],
      "metadata": {
        "colab": {
          "base_uri": "https://localhost:8080/"
        },
        "id": "GurvqZg5KfMI",
        "outputId": "f1c9289e-da9f-40e1-afa7-f6949370d221"
      },
      "execution_count": 41,
      "outputs": [
        {
          "output_type": "stream",
          "name": "stdout",
          "text": [
            "['Bream' 'Parkki' 'Perch' 'Pike' 'Roach' 'Smelt' 'Whitefish']\n",
            "[[0.     0.     1.     0.     0.     0.     0.    ]\n",
            " [0.     0.     0.     0.     0.     1.     0.    ]\n",
            " [0.     0.     0.     1.     0.     0.     0.    ]\n",
            " [0.     0.     0.6667 0.     0.3333 0.     0.    ]\n",
            " [0.     0.     0.6667 0.     0.3333 0.     0.    ]]\n"
          ]
        }
      ]
    },
    {
      "cell_type": "markdown",
      "source": [
        "- 첫번째 클래스는 Perch\n",
        " + 100% 확률로 Perch로 예측\n",
        "- 네번째 클래스는 Perch\n",
        " + 66.7%확률로 Perch로 예측\n",
        " + 33.3%확률로 Roach로 예측"
      ],
      "metadata": {
        "id": "qPWFY-NyK4Is"
      }
    },
    {
      "cell_type": "markdown",
      "source": [
        "## 회귀식\n",
        "- y= ax + b\n",
        "- 양변에 로그를 취함\n",
        "- 원래 값으로 돌리기 위해 양변을 다시 지수로 변환->로지스틱 회귀 "
      ],
      "metadata": {
        "id": "aE6YaRa1MWW6"
      }
    },
    {
      "cell_type": "markdown",
      "source": [
        "## 로지스틱 회귀로 이진분류 수행\n"
      ],
      "metadata": {
        "id": "o_xfGeGLP5Uq"
      }
    },
    {
      "cell_type": "code",
      "source": [
        "char_arr = np.array(['A','B','C','D','E'])\n",
        "print(char_arr[[True,False,True,False,False]])"
      ],
      "metadata": {
        "colab": {
          "base_uri": "https://localhost:8080/"
        },
        "id": "Xbhiko7TP86i",
        "outputId": "912f5c3b-211a-48ce-9bc4-f9472465d7dd"
      },
      "execution_count": 42,
      "outputs": [
        {
          "output_type": "stream",
          "name": "stdout",
          "text": [
            "['A' 'C']\n"
          ]
        }
      ]
    },
    {
      "cell_type": "markdown",
      "source": [
        " + 도미와 빙어의 행만 골라냄 (bream,smelt)\n"
      ],
      "metadata": {
        "id": "s9AnDdFaQZtq"
      }
    },
    {
      "cell_type": "code",
      "source": [
        "bream_smelt_indexes =(train_target == 'Bream') | (train_target == 'Smelt')\n",
        "print(bream_smelt_indexes)\n",
        "train_bream_smelt = train_scaled[bream_smelt_indexes]\n",
        "target_bream_smelt = train_target[bream_smelt_indexes]\n",
        "\n",
        "print(train_scaled.shape, train_bream_smelt.shape)"
      ],
      "metadata": {
        "colab": {
          "base_uri": "https://localhost:8080/"
        },
        "id": "AQ6ijnw2Qekh",
        "outputId": "323352b7-5779-4c6b-ad20-69eebe69de3b"
      },
      "execution_count": 53,
      "outputs": [
        {
          "output_type": "stream",
          "name": "stdout",
          "text": [
            "[ True False  True False False False False  True False False False  True\n",
            " False False False  True  True False False  True False  True False False\n",
            " False  True False False  True False False False False  True False False\n",
            "  True  True False False False False False  True False False False False\n",
            " False  True False  True False False  True False False False  True False\n",
            " False False False False False  True False  True False False False False\n",
            " False False False False False  True False  True False False  True  True\n",
            " False False False  True False False False False False  True False False\n",
            " False  True False  True False False  True  True False False False False\n",
            " False False False False  True  True False False  True False False]\n",
            "(119, 5) (33, 5)\n"
          ]
        }
      ]
    },
    {
      "cell_type": "markdown",
      "source": [
        "- 총 119마리에서 참인 값은 33마리만 추출"
      ],
      "metadata": {
        "id": "jr054ejCU044"
      }
    },
    {
      "cell_type": "markdown",
      "source": [
        "## 모델 만들기"
      ],
      "metadata": {
        "id": "bEo-qx_kRBKa"
      }
    },
    {
      "cell_type": "code",
      "source": [
        "from sklearn.linear_model import LogisticRegression\n",
        "lr = LogisticRegression()\n",
        "lr.fit(train_bream_smelt,target_bream_smelt)"
      ],
      "metadata": {
        "colab": {
          "base_uri": "https://localhost:8080/"
        },
        "id": "piJkJnGHKZ3Y",
        "outputId": "199a7b1c-3873-44ca-d14e-2f4250d4fd47"
      },
      "execution_count": 54,
      "outputs": [
        {
          "output_type": "execute_result",
          "data": {
            "text/plain": [
              "LogisticRegression()"
            ]
          },
          "metadata": {},
          "execution_count": 54
        }
      ]
    },
    {
      "cell_type": "code",
      "source": [
        "print(lr.predict(train_bream_smelt[:5]))#훈련한 모델로 5개 샘플 예측"
      ],
      "metadata": {
        "colab": {
          "base_uri": "https://localhost:8080/"
        },
        "id": "k95hT_rJVzEy",
        "outputId": "e0657ffb-a6d2-46b2-cb15-1dfe21c7dac5"
      },
      "execution_count": 56,
      "outputs": [
        {
          "output_type": "stream",
          "name": "stdout",
          "text": [
            "['Bream' 'Smelt' 'Bream' 'Bream' 'Bream']\n"
          ]
        }
      ]
    },
    {
      "cell_type": "code",
      "source": [
        "print(lr.predict_proba(train_bream_smelt[:5]))# 예측 확율을 출력 두번째만 도미가 아님"
      ],
      "metadata": {
        "colab": {
          "base_uri": "https://localhost:8080/"
        },
        "id": "WOseY4H1V-yW",
        "outputId": "b924ed41-6536-4bc5-a809-96e296bcd422"
      },
      "execution_count": 57,
      "outputs": [
        {
          "output_type": "stream",
          "name": "stdout",
          "text": [
            "[[0.99759855 0.00240145]\n",
            " [0.02735183 0.97264817]\n",
            " [0.99486072 0.00513928]\n",
            " [0.98584202 0.01415798]\n",
            " [0.99767269 0.00232731]]\n"
          ]
        }
      ]
    },
    {
      "cell_type": "code",
      "source": [
        "print(lr.classes_) # 음성클라스 도미(0): 양성크라스 빙어(1)"
      ],
      "metadata": {
        "colab": {
          "base_uri": "https://localhost:8080/"
        },
        "id": "LBhQr_NLWeDQ",
        "outputId": "b78e1e13-ca6f-4f26-86f2-8a2d92e3ade7"
      },
      "execution_count": 58,
      "outputs": [
        {
          "output_type": "stream",
          "name": "stdout",
          "text": [
            "['Bream' 'Smelt']\n"
          ]
        }
      ]
    },
    {
      "cell_type": "markdown",
      "source": [
        "- cf. 분류기준 : threshold 임계값 설정(경계선 설정)\n",
        " + 도미 Vs 빙어 \n",
        "    - [0.51,0.49]-> 이런값은 도미인가 빙어인가?\n",
        "    - [0.90,0.10]"
      ],
      "metadata": {
        "id": "HEGyLjgMWifE"
      }
    },
    {
      "cell_type": "markdown",
      "source": [
        "- 계수와 절편 "
      ],
      "metadata": {
        "id": "eTT8eUHJXB9Z"
      }
    },
    {
      "cell_type": "code",
      "source": [
        "print(lr.coef_, lr.intercept_)#로지스틱 회귀는 선형회귀와 비슷"
      ],
      "metadata": {
        "colab": {
          "base_uri": "https://localhost:8080/"
        },
        "id": "4gF4VlVmXELP",
        "outputId": "cd777438-6132-44df-f38e-5dc1cd49e003"
      },
      "execution_count": 59,
      "outputs": [
        {
          "output_type": "stream",
          "name": "stdout",
          "text": [
            "[[-0.4037798  -0.57620209 -0.66280298 -1.01290277 -0.73168947]] [-2.16155132]\n"
          ]
        }
      ]
    },
    {
      "cell_type": "code",
      "source": [
        "decisions = lr.decision_function(train_bream_smelt[:5])#decision_function()메서드로 Z값 출력\n",
        "print(decisions)"
      ],
      "metadata": {
        "colab": {
          "base_uri": "https://localhost:8080/"
        },
        "id": "dUk5btNFXQq_",
        "outputId": "004cffc6-519d-48b5-d9e5-a1aa64236f7b"
      },
      "execution_count": 94,
      "outputs": [
        {
          "output_type": "stream",
          "name": "stdout",
          "text": [
            "[[ 13.07724442   5.67940163  -3.35341274  -3.31343798   2.17367082\n",
            "  -20.94258142   6.67911528]\n",
            " [-11.87101288   2.30253045   5.38260123  -3.16152122   3.19003127\n",
            "    8.30344773  -4.14607657]\n",
            " [ 12.33862012   5.65079591  -4.66939988  -2.1462105    1.70362799\n",
            "  -17.38222731   4.50479367]\n",
            " [ 10.54150945   6.10969846  -4.81186721  -2.96238906   2.29032761\n",
            "  -14.96402558   3.79674632]\n",
            " [ 13.67852112   5.73152066  -4.25491239  -2.55085968   1.73528849\n",
            "  -20.24827704   5.90871883]]\n"
          ]
        }
      ]
    },
    {
      "cell_type": "markdown",
      "source": [
        "- z값을 확율값으로 변환시켜야 함. 지수변환(p188)시켜야 함\n",
        "- expit() "
      ],
      "metadata": {
        "id": "v0NVrhraXiER"
      }
    },
    {
      "cell_type": "code",
      "source": [
        "from scipy.special import expit\n",
        "print(expit(decisions))"
      ],
      "metadata": {
        "colab": {
          "base_uri": "https://localhost:8080/"
        },
        "id": "UES0eP9IX2lu",
        "outputId": "5ed394f9-01b1-4a16-f5e9-31c6a35c6faf"
      },
      "execution_count": 61,
      "outputs": [
        {
          "output_type": "stream",
          "name": "stdout",
          "text": [
            "[0.00240145 0.97264817 0.00513928 0.01415798 0.00232731]\n"
          ]
        }
      ]
    },
    {
      "cell_type": "markdown",
      "source": [
        "## 다중 분류 수행하기\n",
        " -  2진분류의 확장판\n",
        " "
      ],
      "metadata": {
        "id": "jGzD8SpdYC4v"
      }
    },
    {
      "cell_type": "code",
      "source": [
        "# 하이퍼 파라메터 세팅\n",
        "# 모형을 튜닝(잘모르면 건들지 않는게 좋음, defult값 사용)\n",
        "# 모형 결과의 과대적합 또는 과소적합을 방지하기 위한 것\n",
        "lr = LogisticRegression(C =20 , max_iter = 1000)\n",
        "lr.fit(train_scaled, train_target)\n",
        "print(lr.score(train_scaled, train_target))\n",
        "print(lr.score(test_scaled, test_target))"
      ],
      "metadata": {
        "colab": {
          "base_uri": "https://localhost:8080/"
        },
        "id": "oeYgE68rcQEe",
        "outputId": "d8c83832-451f-4e60-92f5-0dee678af75f"
      },
      "execution_count": 68,
      "outputs": [
        {
          "output_type": "stream",
          "name": "stdout",
          "text": [
            "0.9327731092436975\n",
            "0.925\n"
          ]
        }
      ]
    },
    {
      "cell_type": "code",
      "source": [
        "print(lr.predict(test_scaled[:5]))"
      ],
      "metadata": {
        "colab": {
          "base_uri": "https://localhost:8080/"
        },
        "id": "lLmYJd_hc-b-",
        "outputId": "49c8b239-f389-4daf-ea7c-06523001af3b"
      },
      "execution_count": 73,
      "outputs": [
        {
          "output_type": "stream",
          "name": "stdout",
          "text": [
            "['Perch' 'Smelt' 'Pike' 'Roach' 'Perch']\n"
          ]
        }
      ]
    },
    {
      "cell_type": "code",
      "source": [
        "proba = lr.predict_proba(test_scaled[:5])\n",
        "print(np.round(proba, decimals = 3))\n",
        "print(lr.classes_)"
      ],
      "metadata": {
        "colab": {
          "base_uri": "https://localhost:8080/"
        },
        "id": "xWBYTJ_xdJ2e",
        "outputId": "ae1ccf75-f939-4322-9d69-8a35f987fad5"
      },
      "execution_count": 70,
      "outputs": [
        {
          "output_type": "stream",
          "name": "stdout",
          "text": [
            "[[0.    0.014 0.841 0.    0.136 0.007 0.003]\n",
            " [0.    0.003 0.044 0.    0.007 0.946 0.   ]\n",
            " [0.    0.    0.034 0.935 0.015 0.016 0.   ]\n",
            " [0.011 0.034 0.306 0.007 0.567 0.    0.076]\n",
            " [0.    0.    0.904 0.002 0.089 0.002 0.001]]\n",
            "['Bream' 'Parkki' 'Perch' 'Pike' 'Roach' 'Smelt' 'Whitefish']\n"
          ]
        }
      ]
    },
    {
      "cell_type": "markdown",
      "source": [
        "- 다중 분류일 경우 선형 방정식은 어떤 모습일까?\n",
        "- 분류 7개 컬럼 값 5개 \n"
      ],
      "metadata": {
        "id": "sHGAj5XxdatF"
      }
    },
    {
      "cell_type": "code",
      "source": [
        "print(lr.coef_,lr.intercept_)\n",
        "print(\"\")\n",
        "print(lr.coef_.shape, lr.intercept_.shape)"
      ],
      "metadata": {
        "colab": {
          "base_uri": "https://localhost:8080/"
        },
        "id": "RmDrAYBbdrYl",
        "outputId": "8238115d-d24a-4d59-d0a9-a1ae7bb289f8"
      },
      "execution_count": 83,
      "outputs": [
        {
          "output_type": "stream",
          "name": "stdout",
          "text": [
            "[[-1.49002087 -1.02912886  2.59345551  7.70357682 -1.2007011 ]\n",
            " [ 0.19618235 -2.01068181 -3.77976834  6.50491489 -1.99482722]\n",
            " [ 3.56279745  6.34357182 -8.48971143 -5.75757348  3.79307308]\n",
            " [-0.10458098  3.60319431  3.93067812 -3.61736674 -1.75069691]\n",
            " [-1.40061442 -6.07503434  5.25969314 -0.87220069  1.86043659]\n",
            " [-1.38526214  1.49214574  1.39226167 -5.67734118 -4.40097523]\n",
            " [ 0.62149861 -2.32406685 -0.90660867  1.71599038  3.6936908 ]] [-0.09205179 -0.26290885  3.25101327 -0.14742956  2.65498283 -6.78782948\n",
            "  1.38422358]\n",
            "\n",
            "(7, 5) (7,)\n"
          ]
        }
      ]
    },
    {
      "cell_type": "markdown",
      "source": [
        "## 평가지표\n",
        "- 회귀 평가지표\n",
        "  -> 결정계수($R^2$)P.121\n",
        "  + $1-[(타깃-예측)^2의 합/(타깃-평균)^2합]$\n",
        "- MAE, MSE, RMSE\n",
        "  + (실제 - 예측) =오차\n",
        "  + MAE(mean absolute errer): 오차의 절댓값의 평균\n",
        "  + MSE(m Squared e): 오차의 제곱의 평균\n",
        "  + RMSE(Root MSE): MSE에 제곱근을 취한값\n",
        "\n",
        "- 좋은 모델이란 \n",
        " + 결정계수 :1에 수렴하면 좋은 모델\n",
        " + MAE외 :0에 수렴하면 좋은 모델"
      ],
      "metadata": {
        "id": "jj7_M3rcduqV"
      }
    },
    {
      "cell_type": "code",
      "source": [
        "import numpy as np\n",
        "from sklearn.metrics import mean_absolute_error, mean_squared_error, r2_score\n",
        "\n",
        "true = np.array([1,2,3,2,3,5,4,6,5,6,7,8,8]) #실제값\n",
        "preds = np.array([1,1,2,2,3,4,4,5,5,7,7,6,8])#예측값\n",
        "\n",
        "#절대값 오차의 평균\n",
        "mae = mean_absolute_error(true, preds)\n",
        "print(\"mae=\",mae)\n",
        "#제곱 오차의 평균\n",
        "mse = mean_absolute_error(true, preds)\n",
        "print(\"mse=\",mse)\n",
        "#mse제곱근\n",
        "rmse =np.sqrt(mse)\n",
        "print(\"rmse=\",rmse)\n",
        "#결정계수\n",
        "r2 = r2_score(true, preds)\n",
        "print(\"r2=\",r2)"
      ],
      "metadata": {
        "colab": {
          "base_uri": "https://localhost:8080/"
        },
        "id": "aSr7IqQwcpkY",
        "outputId": "562b09a2-217d-4df6-ae82-1e3a5ab79996"
      },
      "execution_count": 90,
      "outputs": [
        {
          "output_type": "stream",
          "name": "stdout",
          "text": [
            "mae= 0.5384615384615384\n",
            "mse= 0.5384615384615384\n",
            "rmse= 0.7337993857053428\n",
            "r2= 0.8617021276595744\n"
          ]
        }
      ]
    },
    {
      "cell_type": "markdown",
      "source": [
        "## 분류 오차 행렬\n",
        "- 오차 행렬\n",
        "- 실제 값\n",
        " + [빙어, 도미, 도미, 빙어, 도미]\n",
        "- 예측 값\n",
        " + [빙어, 빙어, 도미, 빙어, 빙어]\n",
        "\n",
        "   - TP(빙어를 빙어로 예측):2\n",
        "   - TN(도미를 도미로 예측):1\n",
        "   - FP(실제도미,예측 빙어):2\n",
        "   - FN(실제빙어,예측 도미):0\n",
        "- 모형의 정확도 3/5 =60% \n",
        "- 사이킷런에 분류오차행렬 함수가 있다.\n",
        "- TP,TN,FP,FN(5,4,3,7)\n",
        " + 정확도(5+4/5+5+3+7)\n",
        " + 정밀도(precision:5/5+3):양성이라 예측(TP+FP)중 실제 양성값(TP)의 비율(스팸메일)->실수를 옳다고 생각하면 안되는 값\n",
        " + 재현율(5/5+7):실제 양성(TP+FN) 값 중 양성으로 예측한 값(TP)의 비율 (암진단)->사실을 거짓으로 판단하면 큰일나는 값\n",
        " + 로그손실\n",
        " + ROC Curve(=AUC)\n",
        "- 코로나 검사\n",
        " + 양성(1) : 음성(99)\n",
        " + 머신러닝 모형 :98%/ 정밀도 99\n",
        " + 인간 음성진단 :99%/ 정밀도 95\n",
        " + 검사자가 실제는 양성이나 진단은 음성으로 내릴 가능성이 높음(의료사고)-재현율로 파악하는 것이 옳다."
      ],
      "metadata": {
        "id": "wRAthe8ClqkF"
      }
    },
    {
      "cell_type": "code",
      "source": [
        "from sklearn.metrics import confusion_matrix\n",
        "\n",
        "true = [0,1,1,0,0]\n",
        "preds = [1,0,0,0,0]\n",
        "\n",
        "confusion_matrix(true, preds)"
      ],
      "metadata": {
        "colab": {
          "base_uri": "https://localhost:8080/"
        },
        "id": "20HryfIPoYR6",
        "outputId": "bf4cc9f5-0bf9-4327-b831-0e6d5d5bfe4a"
      },
      "execution_count": 92,
      "outputs": [
        {
          "output_type": "execute_result",
          "data": {
            "text/plain": [
              "array([[2, 1],\n",
              "       [2, 0]])"
            ]
          },
          "metadata": {},
          "execution_count": 92
        }
      ]
    },
    {
      "cell_type": "code",
      "source": [
        ""
      ],
      "metadata": {
        "id": "-l2MyCsukwj8"
      },
      "execution_count": null,
      "outputs": []
    },
    {
      "cell_type": "code",
      "source": [
        ""
      ],
      "metadata": {
        "id": "c8nH3yTjknls"
      },
      "execution_count": null,
      "outputs": []
    },
    {
      "cell_type": "code",
      "source": [
        ""
      ],
      "metadata": {
        "id": "J9ycA2VHXd6_"
      },
      "execution_count": null,
      "outputs": []
    },
    {
      "cell_type": "code",
      "source": [
        ""
      ],
      "metadata": {
        "id": "mMwrfxmzXKno"
      },
      "execution_count": null,
      "outputs": []
    }
  ]
}