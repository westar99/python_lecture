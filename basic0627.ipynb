{
  "nbformat": 4,
  "nbformat_minor": 0,
  "metadata": {
    "colab": {
      "name": "basic0627.ipynb",
      "provenance": [],
      "toc_visible": true,
      "authorship_tag": "ABX9TyMfI2jfcocBi7VyMoH2W0Si",
      "include_colab_link": true
    },
    "kernelspec": {
      "name": "ir",
      "display_name": "R"
    },
    "language_info": {
      "name": "R"
    }
  },
  "cells": [
    {
      "cell_type": "markdown",
      "metadata": {
        "id": "view-in-github",
        "colab_type": "text"
      },
      "source": [
        "<a href=\"https://colab.research.google.com/github/westar99/python_lecture/blob/main/basic0627.ipynb\" target=\"_parent\"><img src=\"https://colab.research.google.com/assets/colab-badge.svg\" alt=\"Open In Colab\"/></a>"
      ]
    },
    {
      "cell_type": "code",
      "execution_count": 5,
      "metadata": {
        "id": "vQx1wCw6bGrG"
      },
      "outputs": [],
      "source": [
        ""
      ]
    },
    {
      "cell_type": "markdown",
      "source": [
        "## 제목1\n",
        "-파이썬입문\n",
        "\n",
        "### 소제목 1\n"
      ],
      "metadata": {
        "id": "3FDK2Padj9gu"
      }
    },
    {
      "cell_type": "markdown",
      "source": [
        "###소제목 1\n",
        "--여기는 소제목입니다.\n"
      ],
      "metadata": {
        "id": "ixB-3EYQkKXs"
      }
    },
    {
      "cell_type": "code",
      "source": [
        "1+1"
      ],
      "metadata": {
        "colab": {
          "base_uri": "https://localhost:8080/",
          "height": 34
        },
        "id": "3EqI3BoXkmzV",
        "outputId": "4037d730-ab05-4f4e-dbb8-d06a5c72299c"
      },
      "execution_count": 6,
      "outputs": [
        {
          "output_type": "display_data",
          "data": {
            "text/html": [
              "2"
            ],
            "text/markdown": "2",
            "text/latex": "2",
            "text/plain": [
              "[1] 2"
            ]
          },
          "metadata": {}
        }
      ]
    },
    {
      "cell_type": "code",
      "source": [
        "print(\"hellow\")"
      ],
      "metadata": {
        "colab": {
          "base_uri": "https://localhost:8080/"
        },
        "id": "vEBL5-1-kwi8",
        "outputId": "7baf7ef8-0c5d-4d63-a13d-66aa14e457d2"
      },
      "execution_count": 7,
      "outputs": [
        {
          "output_type": "stream",
          "name": "stdout",
          "text": [
            "[1] \"hellow\"\n"
          ]
        }
      ]
    },
    {
      "cell_type": "markdown",
      "source": [
        "와우와우**굵은 텍스트**\n"
      ],
      "metadata": {
        "id": "xp2ExYNqeSng"
      }
    },
    {
      "cell_type": "markdown",
      "source": [
        "# 새 섹션"
      ],
      "metadata": {
        "id": "dDxepR3fjN5d"
      }
    },
    {
      "cell_type": "markdown",
      "source": [
        ""
      ],
      "metadata": {
        "id": "Onl1chzgbaS5"
      }
    }
  ]
}