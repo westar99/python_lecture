{
 "cells": [
  {
   "cell_type": "markdown",
   "metadata": {
    "id": "vQx1wCw6bGrG"
   },
   "source": []
  },
  {
   "cell_type": "markdown",
   "metadata": {
    "id": "3FDK2Padj9gu"
   },
   "source": [
    "## 제목1\n",
    "-파이썬입문\n",
    "\n",
    "### 소제목 1\n"
   ]
  },
  {
   "cell_type": "markdown",
   "metadata": {
    "id": "ixB-3EYQkKXs"
   },
   "source": [
    "###소제목 1\n",
    "--여기는 소제목입니다.\n"
   ]
  },
  {
   "cell_type": "code",
   "execution_count": 1,
   "metadata": {
    "colab": {
     "base_uri": "https://localhost:8080/",
     "height": 34
    },
    "id": "3EqI3BoXkmzV",
    "outputId": "4037d730-ab05-4f4e-dbb8-d06a5c72299c"
   },
   "outputs": [
    {
     "data": {
      "text/plain": [
       "2"
      ]
     },
     "execution_count": 1,
     "metadata": {},
     "output_type": "execute_result"
    }
   ],
   "source": [
    "1+1"
   ]
  },
  {
   "cell_type": "code",
   "execution_count": 2,
   "metadata": {
    "colab": {
     "base_uri": "https://localhost:8080/"
    },
    "id": "vEBL5-1-kwi8",
    "outputId": "7baf7ef8-0c5d-4d63-a13d-66aa14e457d2"
   },
   "outputs": [
    {
     "name": "stdout",
     "output_type": "stream",
     "text": [
      "hellow\n"
     ]
    }
   ],
   "source": [
    "print(\"hellow\")"
   ]
  },
  {
   "cell_type": "markdown",
   "metadata": {
    "id": "xp2ExYNqeSng"
   },
   "source": [
    "와우와우**굵은 텍스트**\n"
   ]
  },
  {
   "cell_type": "markdown",
   "metadata": {
    "id": "dDxepR3fjN5d"
   },
   "source": [
    "# 새 섹션"
   ]
  },
  {
   "cell_type": "markdown",
   "metadata": {
    "id": "Onl1chzgbaS5"
   },
   "source": []
  }
 ],
 "metadata": {
  "colab": {
   "name": "basic0627.ipynb",
   "provenance": [],
   "toc_visible": true
  },
  "kernelspec": {
   "display_name": "Python 3 (ipykernel)",
   "language": "python",
   "name": "python3"
  },
  "language_info": {
   "codemirror_mode": {
    "name": "ipython",
    "version": 3
   },
   "file_extension": ".py",
   "mimetype": "text/x-python",
   "name": "python",
   "nbconvert_exporter": "python",
   "pygments_lexer": "ipython3",
   "version": "3.9.12"
  }
 },
 "nbformat": 4,
 "nbformat_minor": 4
}
