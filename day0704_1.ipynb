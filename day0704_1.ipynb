{
  "nbformat": 4,
  "nbformat_minor": 0,
  "metadata": {
    "colab": {
      "name": "day0704_1.ipynb",
      "provenance": [],
      "collapsed_sections": []
    },
    "kernelspec": {
      "name": "python3",
      "display_name": "Python 3"
    },
    "language_info": {
      "name": "python"
    }
  },
  "cells": [
    {
      "cell_type": "markdown",
      "source": [
        "---\n",
        "\n",
        "# **title: '머신러닝4 확률적 경사 하강법'**\n",
        "\n",
        "# **date: '2022-07-04 09:00'**\n",
        "\n",
        "---"
      ],
      "metadata": {
        "id": "_LDMpROyfKtt"
      }
    },
    {
      "cell_type": "markdown",
      "source": [
        "## 확률적 경사 하강법\n",
        "- 점진적 학습 (step, 보폭)\n",
        "- 학습률\n",
        "- XGBoost, Light GBM, 딥러닝(이미지 분류, 자연어처리, 옵티마이져)\n"
      ],
      "metadata": {
        "id": "BSwNUikGnpdA"
      }
    },
    {
      "cell_type": "markdown",
      "source": [
        "### 샘플\n",
        " - 신경망 이미지 데이터, 자연어\n",
        " - 자율주행 하루 데이터 1TB -->학습량이 너무 큼\n",
        " - 한꺼번에 모델을 학습하기 어려움\n",
        "  + 샘플링, 배치, 에포크, 오차(=손실=loss)가 가장 작은 지점을 찾아야 함.\n",
        " - 이러한 방법이 확률적 경사 하강법 \n",
        " - 빠른 시간내에 손실을 줄일 수 있는 방법을 찾는것= 손실함수를 이용.\n",
        "  + 10시간 걸려 정확도95% 1시간 걸려 정확도 80% 어느 것이 좋은가? 최적화."
      ],
      "metadata": {
        "id": "8MMQgnqEouHu"
      }
    },
    {
      "cell_type": "markdown",
      "source": [
        "### 손실함수\n",
        "- 로지스틱 손실 함수"
      ],
      "metadata": {
        "id": "a3cCq14Jwyh0"
      }
    },
    {
      "cell_type": "code",
      "source": [
        "import pandas as pd\n",
        "fish = pd.read_csv(\"http://bit.ly/fish_csv_data\")\n",
        "fish.info()"
      ],
      "metadata": {
        "colab": {
          "base_uri": "https://localhost:8080/"
        },
        "id": "qfnVcsd1xgaM",
        "outputId": "c6ac28f1-654f-42f1-e9a6-2ab92f9cb9f2"
      },
      "execution_count": null,
      "outputs": [
        {
          "output_type": "stream",
          "name": "stdout",
          "text": [
            "<class 'pandas.core.frame.DataFrame'>\n",
            "RangeIndex: 159 entries, 0 to 158\n",
            "Data columns (total 6 columns):\n",
            " #   Column    Non-Null Count  Dtype  \n",
            "---  ------    --------------  -----  \n",
            " 0   Species   159 non-null    object \n",
            " 1   Weight    159 non-null    float64\n",
            " 2   Length    159 non-null    float64\n",
            " 3   Diagonal  159 non-null    float64\n",
            " 4   Height    159 non-null    float64\n",
            " 5   Width     159 non-null    float64\n",
            "dtypes: float64(5), object(1)\n",
            "memory usage: 7.6+ KB\n"
          ]
        }
      ]
    },
    {
      "cell_type": "code",
      "source": [
        "fish_input =fish[['Weight','Length','Diagonal','Height','Width']].to_numpy()\n",
        "fish_target =fish['Species'].to_numpy()\n",
        "\n",
        "fish_input.shape,fish_target.shape"
      ],
      "metadata": {
        "colab": {
          "base_uri": "https://localhost:8080/"
        },
        "id": "MwS2J7vjxwXk",
        "outputId": "65155aec-6d7c-4e94-d79b-c1e8424cc401"
      },
      "execution_count": null,
      "outputs": [
        {
          "output_type": "execute_result",
          "data": {
            "text/plain": [
              "((159, 5), (159,))"
            ]
          },
          "metadata": {},
          "execution_count": 28
        }
      ]
    },
    {
      "cell_type": "markdown",
      "source": [
        "- 훈련세트와 테스트 데이터 분리"
      ],
      "metadata": {
        "id": "PbUmNK5JyhXe"
      }
    },
    {
      "cell_type": "code",
      "source": [
        "from sklearn.model_selection import train_test_split\n",
        "train_input,test_input, train_target, test_target =train_test_split(\n",
        "    fish_input, fish_target, random_state =42\n",
        ")"
      ],
      "metadata": {
        "id": "KQdOHwEFypjr"
      },
      "execution_count": null,
      "outputs": []
    },
    {
      "cell_type": "markdown",
      "source": [
        "- 훈련세트와 테스트 세트의 특성 표준화\n",
        "  + 무게, 길이, 대각선 길이, 높이, 너비\n",
        "-표준화 처리진행"
      ],
      "metadata": {
        "id": "BJ-gO6BLzEAk"
      }
    },
    {
      "cell_type": "code",
      "source": [
        "from sklearn.preprocessing import StandardScaler\n",
        "ss = StandardScaler()\n",
        "ss.fit(train_input)\n",
        "train_scaled = ss.transform(train_input)\n",
        "test_scaled = ss.transform(test_input)\n",
        "\n",
        "train_scaled[:5]"
      ],
      "metadata": {
        "colab": {
          "base_uri": "https://localhost:8080/"
        },
        "id": "lJwL4EsXzQN8",
        "outputId": "dbe5ff7f-2808-4df6-a32b-04ea17e7e032"
      },
      "execution_count": null,
      "outputs": [
        {
          "output_type": "execute_result",
          "data": {
            "text/plain": [
              "array([[ 0.91965782,  0.60943175,  0.81041221,  1.85194896,  1.00075672],\n",
              "       [ 0.30041219,  1.54653445,  1.45316551, -0.46981663,  0.27291745],\n",
              "       [-1.0858536 , -1.68646987, -1.70848587, -1.70159849, -2.0044758 ],\n",
              "       [-0.79734143, -0.60880176, -0.67486907, -0.82480589, -0.27631471],\n",
              "       [-0.71289885, -0.73062511, -0.70092664, -0.0802298 , -0.7033869 ]])"
            ]
          },
          "metadata": {},
          "execution_count": 25
        }
      ]
    },
    {
      "cell_type": "markdown",
      "source": [
        "## 모델링\n",
        "- 확률적 경사 하강법"
      ],
      "metadata": {
        "id": "H3iR9MBOzs5r"
      }
    },
    {
      "cell_type": "code",
      "source": [
        "from sklearn.linear_model import SGDClassifier\n",
        "sc = SGDClassifier(loss = 'log',max_iter =10, random_state =42)#에포크 10회는 좀 적으니 더 숫자를 넣어라~\n",
        "\n",
        "sc.fit(train_scaled, train_target)\n",
        "print(sc.score(train_scaled,train_target))\n",
        "print(sc.score(test_scaled, test_target))"
      ],
      "metadata": {
        "colab": {
          "base_uri": "https://localhost:8080/"
        },
        "id": "C_fMC6Gjz-yD",
        "outputId": "2a1ea471-fb52-4ae0-a212-1e9a2789ebeb"
      },
      "execution_count": null,
      "outputs": [
        {
          "output_type": "stream",
          "name": "stdout",
          "text": [
            "0.773109243697479\n",
            "0.775\n"
          ]
        },
        {
          "output_type": "stream",
          "name": "stderr",
          "text": [
            "/usr/local/lib/python3.7/dist-packages/sklearn/linear_model/_stochastic_gradient.py:700: ConvergenceWarning: Maximum number of iteration reached before convergence. Consider increasing max_iter to improve the fit.\n",
            "  ConvergenceWarning,\n"
          ]
        }
      ]
    },
    {
      "cell_type": "markdown",
      "source": [
        "- partial_fit()메서드 사용하면 추가학습 가능"
      ],
      "metadata": {
        "id": "SrME8HEc07N1"
      }
    },
    {
      "cell_type": "code",
      "source": [
        "sc.partial_fit(train_scaled, train_target)\n",
        "print(sc.score(train_scaled, train_target))\n",
        "print(sc.score(test_scaled, test_target))"
      ],
      "metadata": {
        "colab": {
          "base_uri": "https://localhost:8080/"
        },
        "id": "O3D8FRRr1X_q",
        "outputId": "927ca947-e836-4592-ad39-8f4dbea1f6f2"
      },
      "execution_count": null,
      "outputs": [
        {
          "output_type": "stream",
          "name": "stdout",
          "text": [
            "0.8151260504201681\n",
            "0.85\n"
          ]
        }
      ]
    },
    {
      "cell_type": "markdown",
      "source": [
        "## 에포크와 과대/과소적합\n",
        "- 에포크 숫자가 적으면 덜학습 됨\n",
        "- early_stopping\n",
        " + 에포크 숫자를 1000회로 주어졌을 때 손실 10,9,8.....3,3,3\n",
        " + 3에 도달한 시점에서 학습을 몇번하고 그만 둠"
      ],
      "metadata": {
        "id": "7ereiBwT1v30"
      }
    },
    {
      "cell_type": "code",
      "source": [
        "import numpy as np\n",
        "sc = SGDClassifier(loss='log',random_state=42)\n",
        "train_score =[]\n",
        "test_score= []\n",
        "classes = np.unique(train_target)\n",
        "\n",
        "#300번 에포크 훈련을 반복\n",
        "#훈련할 때마다, train_score, test_score추가를 한다.\n",
        "for _ in range(0,300):\n",
        "  sc.partial_fit(train_scaled,train_target, classes= classes)\n",
        "  train_score.append(sc.score(train_scaled,train_target))\n",
        "  test_score.append(sc.score(test_scaled,test_target))"
      ],
      "metadata": {
        "id": "SxpQ8Qlx3-po"
      },
      "execution_count": null,
      "outputs": []
    },
    {
      "cell_type": "code",
      "source": [
        "import matplotlib.pyplot as plt \n",
        "fig,ax = plt.subplots()\n",
        "ax.plot(train_score)\n",
        "ax.plot(test_score)\n",
        "ax.legend([\"train\", \"test\"])\n",
        "plt.show()"
      ],
      "metadata": {
        "colab": {
          "base_uri": "https://localhost:8080/",
          "height": 265
        },
        "id": "maFOj-2u47jz",
        "outputId": "cce99f02-98c7-4275-84e1-4b988f287e7b"
      },
      "execution_count": null,
      "outputs": [
        {
          "output_type": "display_data",
          "data": {
            "text/plain": [
              "<Figure size 432x288 with 1 Axes>"
            ],
            "image/png": "[encoded data removed]"
          },
          "metadata": {
            "needs_background": "light"
          }
        }
      ]
    },
    {
      "cell_type": "markdown",
      "source": [
        "## XGBoost, LightGBM코드\n",
        " - train-loss, train-accuaray,test-loss,test-accurary"
      ],
      "metadata": {
        "id": "FROhGMP-yWdH"
      }
    }
  ]
}