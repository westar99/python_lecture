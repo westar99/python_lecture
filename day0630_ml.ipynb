{
 "cells": [
  {
   "cell_type": "markdown",
   "metadata": {
    "id": "v9hK02z93Lf_"
   },
   "source": [
    "title: '머신러닝2 데이터다루기'\n",
    "\n",
    "date: '2022-06-30 09:00'\n"
   ]
  },
  {
   "cell_type": "markdown",
   "metadata": {
    "id": "U7tAP8Lw3Ucn"
   },
   "source": [
    "## 인공지능\n",
    "인공지능>머신러닝>딥러닝\n",
    "\n",
    "- 딥러닝 알고리즘→인공신경망 알고리즘\n",
    "\n",
    "    - 이미지,자연어(=음성인식)\n",
    "\n",
    "    - 판별하는 성능이 중요\n",
    "\n",
    "- 머신러닝 알고리즘→선형회귀, 결정트리\n",
    "\n",
    "   - 결과에 대한 해석 요구\n",
    "\n",
    "   - 통계적 분석이 중요\n",
    "\n",
    "   - 정형데이터(=엑셀 데이터, 테이블)"
   ]
  },
  {
   "cell_type": "markdown",
   "metadata": {
    "id": "jej-XmCH_MsN"
   },
   "source": [
    "## 분석의 흐름\n",
    " 1.데이터 수집\n",
    "\n",
    " 2.데이터 가공\n",
    "\n",
    " 3.데이터 시각화\n",
    " \n",
    " 4.데이터(예측)모델링 \n",
    "  - 예측평가지표\n",
    "  - cf)R:,데이터(통계)모델링\n",
    "  - 변수(=컬럼=피쳐)간의 관계\n",
    "  - 가설 검정이 중요\n",
    "  - 공통점 : 결과를 해석\n",
    "\n",
    "5.보고서를 작성\n",
    "\n"
   ]
  },
  {
   "cell_type": "markdown",
   "metadata": {
    "id": "rsQkMvHUCIrc"
   },
   "source": [
    "### 모형학습\n",
    "- fish_data-> 독립변수, fish_target->종속변수\n",
    "- kn.fit(fish_data, fish_target) "
   ]
  },
  {
   "cell_type": "markdown",
   "metadata": {
    "id": "M1mhoNhwFP3r"
   },
   "source": [
    "## 새로운 모델 제안의 위험성\n",
    "-  어제 머신 러닝 공부에 이어서\n",
    "- Default(내정값) : 정확도 1(100%)\n",
    "- 하이퍼 파라미터 세팅\n",
    " + n_neighbprs = 49 로 했을 시 정확도 0.7(70%)\n",
    " + 튜닝을 하면 이상해질 수 있다. 따라서 완벽하게 파악하지 못한 내용을 변동시키지 말것.\n"
   ]
  },
  {
   "cell_type": "markdown",
   "metadata": {
    "id": "gA0BSK55Lq5a"
   },
   "source": [
    "## 머신러닝 알고리즘의 흐름\n",
    "- 선형모델 : **선형회귀**,**로지스틱 회귀**,서포트벡터 머신\n",
    "- 의사결정트리 모델 : 1975년 의사결정트리모델, KNN\n",
    " + **랜덤포레스트**\n",
    " + 부스팅계열 : **LightGBM(2017), XGBoost(2016)**\n",
    " + 추천: LightGBM"
   ]
  },
  {
   "cell_type": "markdown",
   "metadata": {
    "id": "x567XXd5NPZx"
   },
   "source": [
    "## 훈련 세트와 테스트 세트(P68)\n",
    "\n"
   ]
  },
  {
   "cell_type": "code",
   "execution_count": 250,
   "metadata": {
    "id": "8mGokI2HJZ9b"
   },
   "outputs": [],
   "source": [
    "fish_length = [25.4, 26.3, 26.5, 29.0, 29.0, 29.7, 29.7, 30.0, 30.0, 30.7, 31.0, 31.0, \n",
    "                31.5, 32.0, 32.0, 32.0, 33.0, 33.0, 33.5, 33.5, 34.0, 34.0, 34.5, 35.0, \n",
    "                35.0, 35.0, 35.0, 36.0, 36.0, 37.0, 38.5, 38.5, 39.5, 41.0, 41.0, 9.8, \n",
    "                10.5, 10.6, 11.0, 11.2, 11.3, 11.8, 11.8, 12.0, 12.2, 12.4, 13.0, 14.3, 15.0]\n",
    "fish_weight = [242.0, 290.0, 340.0, 363.0, 430.0, 450.0, 500.0, 390.0, 450.0, 500.0, 475.0, 500.0, \n",
    "                500.0, 340.0, 600.0, 600.0, 700.0, 700.0, 610.0, 650.0, 575.0, 685.0, 620.0, 680.0, \n",
    "                700.0, 725.0, 720.0, 714.0, 850.0, 1000.0, 920.0, 955.0, 925.0, 975.0, 950.0, 6.7, \n",
    "                7.5, 7.0, 9.7, 9.8, 8.7, 10.0, 9.9, 9.8, 12.2, 13.4, 12.2, 19.7, 19.9]"
   ]
  },
  {
   "cell_type": "markdown",
   "metadata": {
    "id": "YrHSbPyCOXeA"
   },
   "source": [
    "- 2차원 리스트를 만들고 라벨링을 한다."
   ]
  },
  {
   "cell_type": "code",
   "execution_count": 251,
   "metadata": {
    "colab": {
     "base_uri": "https://localhost:8080/"
    },
    "id": "nuJAlAwZOdih",
    "outputId": "7594b87f-eb91-4133-f857-53d6aeb6459d"
   },
   "outputs": [
    {
     "name": "stdout",
     "output_type": "stream",
     "text": [
      "[1, 1, 1, 1, 1, 1, 1, 0]\n",
      "[[25.4, 242.0], [29.7, 450.0], [31.0, 475.0], [32.0, 600.0], [34.0, 575.0], [35.0, 725.0], [38.5, 920.0], [9.8, 6.7]]\n",
      "[1, 1, 1, 1, 1, 1, 1, 1, 1, 1, 1, 1, 1, 1, 1, 1, 1, 1, 1, 1, 1, 1, 1, 1, 1, 1, 1, 1, 1, 1, 1, 1, 1, 1, 1, 0, 0, 0, 0, 0, 0, 0, 0, 0, 0, 0, 0, 0, 0]\n"
     ]
    }
   ],
   "source": [
    "fish_data = [[l, w] for l, w in zip(fish_length, fish_weight)]\n",
    "fish_target = [1] * 35 + [0] * 14\n",
    "print(fish_target[0:40:5])#1-40까지의 데이터에서 5간격으로 표시\n",
    "print(fish_data[0:40:5])\n",
    "print(fish_target)"
   ]
  },
  {
   "cell_type": "markdown",
   "metadata": {
    "id": "7BkaDyVqO6MJ"
   },
   "source": [
    "- 전체 데이터에서 일부분 샘플을 추출했다.\n",
    "- 도미35마리 빙어 14마리\n",
    "- 처음 35개를 훈련/ 나머지 14개를 테스트 해본다."
   ]
  },
  {
   "cell_type": "code",
   "execution_count": 253,
   "metadata": {
    "colab": {
     "base_uri": "https://localhost:8080/"
    },
    "id": "R_0wTC7POVAI",
    "outputId": "e6877832-ae28-4fd7-982b-d52e7fa1d7d3"
   },
   "outputs": [
    {
     "name": "stdout",
     "output_type": "stream",
     "text": [
      "0.0\n"
     ]
    }
   ],
   "source": [
    "from sklearn.neighbors import KNeighborsClassifier\n",
    "# 클래스 인스턴스화\n",
    "kn = KNeighborsClassifier()\n",
    "\n",
    "# 훈련세트로 0:34를 인덱스로 활용\n",
    "train_input = fish_data[:35]\n",
    "train_target =fish_target[:35]\n",
    "\n",
    "# 테스트 세트로 35:마지막까지를 인덱스로 활용\n",
    "test_input = fish_data[35:]\n",
    "test_target =fish_target[35:]\n",
    "\n",
    "# 모형학습\n",
    "kn = kn.fit(train_input,train_target)\n",
    "print(kn.score(test_input, test_target))"
   ]
  },
  {
   "cell_type": "markdown",
   "metadata": {
    "id": "AGTcWtVKQj_f"
   },
   "source": [
    "-> 훈련된 데이터는 도미인데 테스트한 데이터는 빙어이기에 이상한 결과가 나옴\n",
    "- 샘플링 편향\n",
    "- 훈련세트와 테스트 세트가 골고루 섞이지 않음"
   ]
  },
  {
   "cell_type": "markdown",
   "metadata": {
    "id": "g1D_meMvQ-ZH"
   },
   "source": [
    "## 샘플링 작업\n",
    "- 넘파이를 사용하여 골고루 섞어 준다. "
   ]
  },
  {
   "cell_type": "code",
   "execution_count": 254,
   "metadata": {
    "colab": {
     "base_uri": "https://localhost:8080/"
    },
    "id": "hAZ2lB4iRFGH",
    "outputId": "64a58e4b-ebc6-42bb-bb0e-8c63efa54076"
   },
   "outputs": [
    {
     "name": "stdout",
     "output_type": "stream",
     "text": [
      "[[ 25.4 242. ]\n",
      " [ 30.  390. ]\n",
      " [ 32.  600. ]\n",
      " [ 34.  685. ]\n",
      " [ 36.  850. ]\n",
      " [  9.8   6.7]\n",
      " [ 11.8   9.9]]\n",
      "(49, 2) (49,)\n"
     ]
    }
   ],
   "source": [
    "import numpy as np\n",
    "\n",
    "input_arr = np.array(fish_data)\n",
    "target_arr = np.array(fish_target)\n",
    "print(input_arr[0:49:7])\n",
    "print(input_arr.shape, target_arr.shape)#입력한 것의 (샘플수,특성수) 타겟은 특성수가 없음"
   ]
  },
  {
   "cell_type": "code",
   "execution_count": 255,
   "metadata": {
    "colab": {
     "base_uri": "https://localhost:8080/"
    },
    "id": "MqxfvqMvaPl1",
    "outputId": "cfe6fb81-535d-490d-ac0f-0a8b752ecb38"
   },
   "outputs": [
    {
     "name": "stdout",
     "output_type": "stream",
     "text": [
      "(49,)\n",
      "1\n",
      "[1 1 1 1 1 1 1 1 1 1 1 1 1 1 1 1 1 1 1 1 1 1 1 1 1 1 1 1 1 1 1 1 1 1 1 0 0\n",
      " 0 0 0 0 0 0 0 0 0 0 0 0]\n"
     ]
    }
   ],
   "source": [
    "print(target_arr.shape)\n",
    "print(target_arr.ndim)#차원을 확인->1차원\n",
    "print(target_arr)"
   ]
  },
  {
   "cell_type": "code",
   "execution_count": 302,
   "metadata": {
    "colab": {
     "base_uri": "https://localhost:8080/"
    },
    "id": "p7AhkZn5RroQ",
    "outputId": "6f2b9ae3-1fcf-47d1-be49-91e81720d2d7"
   },
   "outputs": [
    {
     "name": "stdout",
     "output_type": "stream",
     "text": [
      "[13 45 47 44 17 27 26 25 31 19 12  4 34  8  3  6 40 41 46 15  9 16 24 33\n",
      " 30  0 43 32  5 29 11 36  1 21  2 37 35 23 39 10 22 18 48 20  7 42 14 28\n",
      " 38]\n"
     ]
    }
   ],
   "source": [
    "#random으로 무작위 배열을 만드는 설정\n",
    "np.random.seed(42)\n",
    "index = np.arange(49)\n",
    "np.random.shuffle(index)\n",
    "print(index)"
   ]
  },
  {
   "cell_type": "code",
   "execution_count": 257,
   "metadata": {
    "id": "na9-IZF5Scwi"
   },
   "outputs": [],
   "source": [
    "train_input = input_arr[index[:35]]\n",
    "train_target= target_arr[index[:35]]\n",
    "\n",
    "test_input = input_arr[index[35:]]\n",
    "test_target= target_arr[index[35:]]"
   ]
  },
  {
   "cell_type": "code",
   "execution_count": 258,
   "metadata": {
    "colab": {
     "base_uri": "https://localhost:8080/"
    },
    "id": "_Q-SvyyFXaK-",
    "outputId": "b4a52524-23a1-4ce0-af95-a3f6697937a3"
   },
   "outputs": [
    {
     "name": "stdout",
     "output_type": "stream",
     "text": [
      "[[ 32. 340.]]\n",
      "[32.  12.4 14.3 12.2 33.  36.  35.  35.  38.5 33.5 31.5 29.  41.  30.\n",
      " 29.  29.7 11.3 11.8 13.  32.  30.7 33.  35.  41.  38.5 25.4 12.  39.5\n",
      " 29.7 37.  31.  10.5 26.3 34.  26.5]\n"
     ]
    }
   ],
   "source": [
    "print(train_input[:1])\n",
    "print(train_input[:,0])#전체길이"
   ]
  },
  {
   "cell_type": "markdown",
   "metadata": {
    "id": "6q2EvzJho2Uz"
   },
   "source": [
    "## 시각화"
   ]
  },
  {
   "cell_type": "code",
   "execution_count": 259,
   "metadata": {
    "colab": {
     "base_uri": "https://localhost:8080/",
     "height": 279
    },
    "id": "dgLlNVM6W4ym",
    "outputId": "a936f26b-17ea-4234-92f0-8ded22f66d98"
   },
   "outputs": [
    {
     "data": {
      "image/png": "[encoded data removed]",
      "text/plain": [
       "<Figure size 432x288 with 1 Axes>"
      ]
     },
     "metadata": {
      "needs_background": "light"
     },
     "output_type": "display_data"
    }
   ],
   "source": [
    "import matplotlib.pyplot as plt  \n",
    "fig, ax = plt.subplots()\n",
    "ax.scatter(train_input[:, 0], train_input[:, 1])\n",
    "ax.scatter(test_input[:, 0], test_input[:, 1])\n",
    "ax.set_xlabel(\"length\")\n",
    "ax.set_ylabel(\"weight\")\n",
    "fig.show()\n"
   ]
  },
  {
   "cell_type": "markdown",
   "metadata": {
    "id": "1-O1GqIaX7Be"
   },
   "source": [
    "## 두번째 머신러닝 프로그램"
   ]
  },
  {
   "cell_type": "code",
   "execution_count": 279,
   "metadata": {
    "colab": {
     "base_uri": "https://localhost:8080/"
    },
    "id": "MJCfHvvMYLZ0",
    "outputId": "02b828c1-1218-4d7e-e737-1ecb30205f27"
   },
   "outputs": [
    {
     "data": {
      "text/plain": [
       "1.0"
      ]
     },
     "execution_count": 279,
     "metadata": {},
     "output_type": "execute_result"
    }
   ],
   "source": [
    "kn.fit(train_input, train_target)\n",
    "kn.score(test_input, test_target)"
   ]
  },
  {
   "cell_type": "code",
   "execution_count": 264,
   "metadata": {
    "colab": {
     "base_uri": "https://localhost:8080/"
    },
    "id": "gW9PodTEYZse",
    "outputId": "71a9d8ec-2820-459d-f9c5-a3b36b972de7"
   },
   "outputs": [
    {
     "data": {
      "text/plain": [
       "array([0, 0, 1, 0, 1, 1, 1, 0, 1, 1, 0, 1, 1, 0])"
      ]
     },
     "execution_count": 264,
     "metadata": {},
     "output_type": "execute_result"
    }
   ],
   "source": [
    "kn.predict(test_input) # 예측데이터"
   ]
  },
  {
   "cell_type": "code",
   "execution_count": 266,
   "metadata": {
    "colab": {
     "base_uri": "https://localhost:8080/"
    },
    "id": "6CsA0C5FYfJm",
    "outputId": "acf39f0d-ac79-4bff-8df3-85c2429b0e18"
   },
   "outputs": [
    {
     "data": {
      "text/plain": [
       "array([0, 0, 1, 0, 1, 1, 1, 0, 1, 1, 0, 1, 1, 0])"
      ]
     },
     "execution_count": 266,
     "metadata": {},
     "output_type": "execute_result"
    }
   ],
   "source": [
    "test_target #실제 데이터"
   ]
  },
  {
   "cell_type": "markdown",
   "metadata": {
    "id": "Zp3BzQstYlUO"
   },
   "source": [
    "## 데이터 전처리\n",
    "- 머신러닝 시 데이터 전처리\n",
    "- 결측치 처리, 이상치 처리"
   ]
  },
  {
   "cell_type": "code",
   "execution_count": 268,
   "metadata": {
    "id": "Rv-zrfiIa7tE"
   },
   "outputs": [],
   "source": [
    "fish_length = [25.4, 26.3, 26.5, 29.0, 29.0, 29.7, 29.7, 30.0, 30.0, 30.7, 31.0, 31.0, \n",
    "                31.5, 32.0, 32.0, 32.0, 33.0, 33.0, 33.5, 33.5, 34.0, 34.0, 34.5, 35.0, \n",
    "                35.0, 35.0, 35.0, 36.0, 36.0, 37.0, 38.5, 38.5, 39.5, 41.0, 41.0, 9.8, \n",
    "                10.5, 10.6, 11.0, 11.2, 11.3, 11.8, 11.8, 12.0, 12.2, 12.4, 13.0, 14.3, 15.0]\n",
    "fish_weight = [242.0, 290.0, 340.0, 363.0, 430.0, 450.0, 500.0, 390.0, 450.0, 500.0, 475.0, 500.0, \n",
    "                500.0, 340.0, 600.0, 600.0, 700.0, 700.0, 610.0, 650.0, 575.0, 685.0, 620.0, 680.0, \n",
    "                700.0, 725.0, 720.0, 714.0, 850.0, 1000.0, 920.0, 955.0, 925.0, 975.0, 950.0, 6.7, \n",
    "                7.5, 7.0, 9.7, 9.8, 8.7, 10.0, 9.9, 9.8, 12.2, 13.4, 12.2, 19.7, 19.9]"
   ]
  },
  {
   "cell_type": "code",
   "execution_count": 270,
   "metadata": {
    "colab": {
     "base_uri": "https://localhost:8080/"
    },
    "id": "AJrbtPNBYjk_",
    "outputId": "e80bd10f-8398-4496-c0c3-988bafc3ae84"
   },
   "outputs": [
    {
     "data": {
      "text/plain": [
       "array([[1, 4],\n",
       "       [2, 5],\n",
       "       [3, 6]])"
      ]
     },
     "execution_count": 270,
     "metadata": {},
     "output_type": "execute_result"
    }
   ],
   "source": [
    "## column_stack()활용\n",
    "np.column_stack(([1,2,3],[4,5,6]))"
   ]
  },
  {
   "cell_type": "code",
   "execution_count": 272,
   "metadata": {
    "colab": {
     "base_uri": "https://localhost:8080/"
    },
    "id": "CuMxGvGGby3n",
    "outputId": "3dbdd27e-60dd-4de0-f5ef-82b5c957da0a"
   },
   "outputs": [
    {
     "name": "stdout",
     "output_type": "stream",
     "text": [
      "[[ 25.4 242. ]\n",
      " [ 26.3 290. ]\n",
      " [ 26.5 340. ]\n",
      " [ 29.  363. ]\n",
      " [ 29.  430. ]]\n"
     ]
    },
    {
     "data": {
      "text/plain": [
       "(49, 2)"
      ]
     },
     "execution_count": 272,
     "metadata": {},
     "output_type": "execute_result"
    }
   ],
   "source": [
    "fish_data = np.column_stack((fish_length, fish_weight))\n",
    "print(fish_data[:5])\n",
    "\n",
    "fish_data.shape"
   ]
  },
  {
   "cell_type": "markdown",
   "metadata": {
    "id": "nenWY9I7cZPW"
   },
   "source": [
    "- 종속변수 = Y = 타깃데이터 = Target <->독립변수(X)"
   ]
  },
  {
   "cell_type": "code",
   "execution_count": 274,
   "metadata": {
    "colab": {
     "base_uri": "https://localhost:8080/"
    },
    "id": "sVVEAU4ucffc",
    "outputId": "f97d7039-7b2d-49af-81a6-e24c09f93bf3"
   },
   "outputs": [
    {
     "name": "stdout",
     "output_type": "stream",
     "text": [
      "(49,)\n"
     ]
    }
   ],
   "source": [
    "fish_target = np.concatenate((np.ones(35),np.zeros(14)))\n",
    "print(fish_target.shape)"
   ]
  },
  {
   "cell_type": "markdown",
   "metadata": {
    "id": "2Oeburq-fWW2"
   },
   "source": [
    "## scikit-learn 훈련세트와 테스트 세트 나누기 "
   ]
  },
  {
   "cell_type": "code",
   "execution_count": 276,
   "metadata": {
    "colab": {
     "base_uri": "https://localhost:8080/"
    },
    "id": "AkgOZENFfik7",
    "outputId": "d4177c76-aafc-4e88-d1b3-e2766c009489"
   },
   "outputs": [
    {
     "data": {
      "text/plain": [
       "((36, 2), (13, 2), (36,), (13,))"
      ]
     },
     "execution_count": 276,
     "metadata": {},
     "output_type": "execute_result"
    }
   ],
   "source": [
    "from sklearn.model_selection import train_test_split\n",
    "train_input, test_input, train_target, test_target = train_test_split(\n",
    "    #독립변수, 종속변수\n",
    "    fish_data, fish_target, random_state =42\n",
    ")\n",
    "\n",
    "train_input.shape, test_input.shape, train_target.shape, test_target.shape"
   ]
  },
  {
   "cell_type": "markdown",
   "metadata": {
    "id": "J77aLjSbgcIs"
   },
   "source": [
    "- P92 도미와 빙어가 잘 섞여 있나? "
   ]
  },
  {
   "cell_type": "code",
   "execution_count": 278,
   "metadata": {
    "colab": {
     "base_uri": "https://localhost:8080/"
    },
    "id": "eJwKoWP995-d",
    "outputId": "232a2392-0eff-40db-8a8c-6d4153199843"
   },
   "outputs": [
    {
     "name": "stdout",
     "output_type": "stream",
     "text": [
      "[1. 0. 0. 0. 1. 1. 1. 1. 1. 1. 1. 1. 1.]\n"
     ]
    }
   ],
   "source": [
    "print(test_target)"
   ]
  },
  {
   "cell_type": "markdown",
   "metadata": {
    "id": "f-TTpZyN9-Ob"
   },
   "source": [
    "- 35(도미) :14(빙어)\n",
    " + 2.5:1\n",
    "- 테스트 셋(비율)\n",
    " + 3.3:1\n"
   ]
  },
  {
   "cell_type": "markdown",
   "metadata": {
    "id": "F5LQHTR1-20b"
   },
   "source": [
    "## 층화샘플링\n",
    "- 기초 통계, 설문조사\n",
    "- 비율이 중요\n",
    "- 예)남성 속옷을 구매하는 비율은 남자9: 여자1이지만 조사는 남자5: 여자 5로 조사됨으로 비율이 맞지 않음\n",
    "\n"
   ]
  },
  {
   "cell_type": "code",
   "execution_count": 280,
   "metadata": {
    "colab": {
     "base_uri": "https://localhost:8080/"
    },
    "id": "NRDqli-1c5qU",
    "outputId": "597ae20c-97f1-45e1-9afa-542e006be9bf"
   },
   "outputs": [
    {
     "data": {
      "text/plain": [
       "((36, 2), (13, 2), (36,), (13,))"
      ]
     },
     "execution_count": 280,
     "metadata": {},
     "output_type": "execute_result"
    }
   ],
   "source": [
    "train_input, test_input, train_target, test_target = train_test_split(\n",
    "    # 독립변수, 종속변수\n",
    "    fish_data, fish_target, stratify=fish_target, random_state = 42\n",
    ")\n",
    "\n",
    "train_input.shape, test_input.shape, train_target.shape, test_target.shape"
   ]
  },
  {
   "cell_type": "markdown",
   "metadata": {
    "id": "rt0aWGX-_Ayb"
   },
   "source": [
    "- stratify = fish_target를 넣어주어\n",
    "- 빙어가 한마리 더 늘도록 해서 테스트 세트 비율이 2.55:1 로 근접하게 됨"
   ]
  },
  {
   "cell_type": "code",
   "execution_count": 303,
   "metadata": {
    "colab": {
     "base_uri": "https://localhost:8080/"
    },
    "id": "cVVtxofCpQnN",
    "outputId": "ebe13285-a789-4775-9780-467d1fcf314b"
   },
   "outputs": [
    {
     "name": "stdout",
     "output_type": "stream",
     "text": [
      "[0. 0. 1. 0. 1. 0. 1. 1. 1. 1. 1. 1. 1.]\n"
     ]
    }
   ],
   "source": [
    "print(test_target)"
   ]
  },
  {
   "cell_type": "markdown",
   "metadata": {
    "id": "NO-xOmyjnAB8"
   },
   "source": [
    "## 수상한 도미 한마리\n",
    "-\n"
   ]
  },
  {
   "cell_type": "code",
   "execution_count": 289,
   "metadata": {
    "colab": {
     "base_uri": "https://localhost:8080/"
    },
    "id": "k20kKS2QAydT",
    "outputId": "0c92288a-b017-49a7-a000-98092efa4128"
   },
   "outputs": [
    {
     "data": {
      "text/plain": [
       "1.0"
      ]
     },
     "execution_count": 289,
     "metadata": {},
     "output_type": "execute_result"
    }
   ],
   "source": [
    "from sklearn.neighbors import KNeighborsClassifier\n",
    "kn = KNeighborsClassifier()\n",
    "kn.fit(train_input, train_target)\n",
    "kn.score(test_input, test_target)"
   ]
  },
  {
   "cell_type": "markdown",
   "metadata": {
    "id": "Q69ZWlAsP4AG"
   },
   "source": [
    "- 도미사이즈 20cm 이상 = 1\n",
    "- 빙어사이즈 10cm 이하 = 0 인 문제가 발생\n",
    "- 알고리즘에 문제가 있음"
   ]
  },
  {
   "cell_type": "code",
   "execution_count": 290,
   "metadata": {
    "colab": {
     "base_uri": "https://localhost:8080/"
    },
    "id": "tk8rzejVBPTd",
    "outputId": "0be58a80-6f06-422d-8529-2d836251e24f"
   },
   "outputs": [
    {
     "name": "stdout",
     "output_type": "stream",
     "text": [
      "[0.]\n"
     ]
    }
   ],
   "source": [
    "print(kn.predict([[25,150]]))"
   ]
  },
  {
   "cell_type": "code",
   "execution_count": 291,
   "metadata": {
    "colab": {
     "base_uri": "https://localhost:8080/",
     "height": 265
    },
    "id": "Nht8cuA-Q0A2",
    "outputId": "7a71f8fa-f657-41a2-e3e4-1c197e417629"
   },
   "outputs": [
    {
     "data": {
      "image/png": "[encoded data removed]",
      "text/plain": [
       "<Figure size 432x288 with 1 Axes>"
      ]
     },
     "metadata": {
      "needs_background": "light"
     },
     "output_type": "display_data"
    }
   ],
   "source": [
    "import matplotlib.pyplot as plt \n",
    "\n",
    "fig, ax = plt.subplots()\n",
    "ax.scatter(train_input[:, 0], train_input[:, 1])\n",
    "ax.scatter(25, 150, marker = '^')\n",
    "plt.show()"
   ]
  },
  {
   "cell_type": "markdown",
   "metadata": {
    "id": "Jlm4T-CCQ3Lx"
   },
   "source": [
    "- 이웃 샘플이 누구인지 확인해보니 알고리즘이 맞지 않음\n",
    " + 빙어에 4개의 이웃 샘플이 있어 빙어로 인식"
   ]
  },
  {
   "cell_type": "code",
   "execution_count": 292,
   "metadata": {
    "colab": {
     "base_uri": "https://localhost:8080/",
     "height": 279
    },
    "id": "CJsl89AGcSFN",
    "outputId": "2dcf7497-2181-48a0-8b9f-fd4b52f7ca4d"
   },
   "outputs": [
    {
     "data": {
      "image/png": "[encoded data removed]",
      "text/plain": [
       "<Figure size 432x288 with 1 Axes>"
      ]
     },
     "metadata": {
      "needs_background": "light"
     },
     "output_type": "display_data"
    }
   ],
   "source": [
    "distances, indexes = kn.kneighbors([[25, 150]])\n",
    "plt.scatter(train_input[:,0], train_input[:,1])\n",
    "plt.scatter(25, 150, marker='^')\n",
    "plt.scatter(train_input[indexes,0], train_input[indexes,1], marker='D')\n",
    "plt.xlabel('length')\n",
    "plt.ylabel('weight')\n",
    "plt.show()"
   ]
  },
  {
   "cell_type": "markdown",
   "metadata": {
    "id": "kJiWw1w-Rhje"
   },
   "source": [
    "- 떨어진 거리 비율을 맞추기 위해 스케일의 크기를 동일하게 함.즉 무게와 길이의 길이를 1000으로 맞춤"
   ]
  },
  {
   "cell_type": "code",
   "execution_count": 293,
   "metadata": {
    "colab": {
     "base_uri": "https://localhost:8080/",
     "height": 279
    },
    "id": "jmGGZbT6E9jK",
    "outputId": "414286dd-9015-4350-b292-b4d67e844197"
   },
   "outputs": [
    {
     "data": {
      "image/png": "[encoded data removed]",
      "text/plain": [
       "<Figure size 432x288 with 1 Axes>"
      ]
     },
     "metadata": {
      "needs_background": "light"
     },
     "output_type": "display_data"
    }
   ],
   "source": [
    "plt.scatter(train_input[:,0], train_input[:,1])\n",
    "plt.scatter(25, 150, marker='^')\n",
    "plt.scatter(train_input[indexes,0], train_input[indexes,1], marker='D')\n",
    "plt.xlim((0, 1000))\n",
    "plt.xlabel('length')\n",
    "plt.ylabel('weight')\n",
    "plt.show()"
   ]
  },
  {
   "cell_type": "markdown",
   "metadata": {
    "id": "0KhhgZa0FXk5"
   },
   "source": [
    "-p98\n",
    "- 그러나 두 특성(길이와 무게)의 값이 놓인 범위가 매우 다름\n",
    "- 두 특성의 스케일이 다름\n",
    " + 스케일이 같도록 통계처리 필요\n",
    " + Feature Engineering(피처 엔지니어링)\n",
    "- 머신 러닝\n",
    " + 전체 데이터 전처리(결측지 처리, 이상치 처리)\n",
    " + 데이터 분리\n",
    " + Feature Engineering(피처 엔지니어링)"
   ]
  },
  {
   "cell_type": "markdown",
   "metadata": {
    "id": "Paq12fM7GSKa"
   },
   "source": [
    "### 표준점수\n",
    "- z 점수\n"
   ]
  },
  {
   "cell_type": "code",
   "execution_count": 294,
   "metadata": {
    "colab": {
     "base_uri": "https://localhost:8080/"
    },
    "id": "LzoZmezTGjjq",
    "outputId": "55e0a2c5-6d2a-477a-c8aa-10df6a96631d"
   },
   "outputs": [
    {
     "name": "stdout",
     "output_type": "stream",
     "text": [
      "[ 27.29722222 454.09722222] [  9.98244253 323.29893931]\n"
     ]
    }
   ],
   "source": [
    "mean = np.mean(train_input, axis =0)\n",
    "std = np.std(train_input,axis=0)\n",
    "\n",
    "print(mean, std)"
   ]
  },
  {
   "cell_type": "markdown",
   "metadata": {
    "id": "L3Z8UINfG66g"
   },
   "source": [
    "- 표준 점수 구하기 "
   ]
  },
  {
   "cell_type": "code",
   "execution_count": 295,
   "metadata": {
    "colab": {
     "base_uri": "https://localhost:8080/"
    },
    "id": "S28H2Q3sG9yg",
    "outputId": "c7b7b38f-a9a9-486f-9f14-87da80146a1d"
   },
   "outputs": [
    {
     "name": "stdout",
     "output_type": "stream",
     "text": [
      "(36, 2) (2,) (2,)\n"
     ]
    }
   ],
   "source": [
    "# 브로드 캐스팅- 서로 다른 배열을 계산할 때\n",
    "print(train_input.shape, mean.shape, std.shape)\n",
    "train_scaled = (train_input - mean)/std"
   ]
  },
  {
   "cell_type": "code",
   "execution_count": 284,
   "metadata": {
    "colab": {
     "base_uri": "https://localhost:8080/"
    },
    "id": "Ij5ojs9mSQCN",
    "outputId": "656d21d8-3311-4682-937e-dc1792268d23"
   },
   "outputs": [
    {
     "data": {
      "text/plain": [
       "array([[ 29.7, 500. ],\n",
       "       [ 12.2,  12.2],\n",
       "       [ 33. , 700. ],\n",
       "       [ 11.3,   8.7],\n",
       "       [ 39.5, 925. ]])"
      ]
     },
     "execution_count": 284,
     "metadata": {},
     "output_type": "execute_result"
    }
   ],
   "source": [
    "train_input[0:5]"
   ]
  },
  {
   "cell_type": "code",
   "execution_count": 296,
   "metadata": {
    "colab": {
     "base_uri": "https://localhost:8080/"
    },
    "id": "ePndVYlfSTRu",
    "outputId": "1c6aa95f-9656-4bf4-f45e-347c3365cd43"
   },
   "outputs": [
    {
     "data": {
      "text/plain": [
       "array([[ 0.24070039,  0.14198246],\n",
       "       [-1.51237757, -1.36683783],\n",
       "       [ 0.5712808 ,  0.76060496],\n",
       "       [-1.60253587, -1.37766373],\n",
       "       [ 1.22242404,  1.45655528]])"
      ]
     },
     "execution_count": 296,
     "metadata": {},
     "output_type": "execute_result"
    }
   ],
   "source": [
    "train_scaled[0:5]"
   ]
  },
  {
   "cell_type": "code",
   "execution_count": 245,
   "metadata": {
    "colab": {
     "base_uri": "https://localhost:8080/",
     "height": 279
    },
    "id": "uTjMBLBPHTRb",
    "outputId": "add2c845-f4ad-4387-974d-d3b81a893962"
   },
   "outputs": [
    {
     "data": {
      "image/png": "[encoded data removed]",
      "text/plain": [
       "<Figure size 432x288 with 1 Axes>"
      ]
     },
     "metadata": {
      "needs_background": "light"
     },
     "output_type": "display_data"
    }
   ],
   "source": [
    "plt.scatter(train_scaled[:,0], train_scaled[:,1])\n",
    "plt.scatter(25, 150, marker='^')\n",
    "plt.xlabel('length')\n",
    "plt.ylabel('weight')\n",
    "plt.show()"
   ]
  },
  {
   "cell_type": "code",
   "execution_count": 287,
   "metadata": {
    "colab": {
     "base_uri": "https://localhost:8080/",
     "height": 279
    },
    "id": "n8XAa7LtHmE9",
    "outputId": "530a80ed-b690-40a9-dd88-e632f5e8941a"
   },
   "outputs": [
    {
     "data": {
      "image/png": "[encoded data removed]",
      "text/plain": [
       "<Figure size 432x288 with 1 Axes>"
      ]
     },
     "metadata": {
      "needs_background": "light"
     },
     "output_type": "display_data"
    }
   ],
   "source": [
    "new = ([25, 150] - mean) / std\n",
    "plt.scatter(train_scaled[:,0], train_scaled[:,1])\n",
    "plt.scatter(new[0], new[1], marker='^')\n",
    "plt.xlabel('length')\n",
    "plt.ylabel('weight')\n",
    "plt.show()"
   ]
  },
  {
   "cell_type": "markdown",
   "metadata": {
    "id": "PRG3RHByScvX"
   },
   "source": [
    "통계처리 전 : KNN --> 예측이 틀림\n",
    "통계처리 후 : KNN --> 예측이 정확하게 맞음\n",
    "-- 통계처리 --> Feature Engineering"
   ]
  },
  {
   "cell_type": "markdown",
   "metadata": {
    "id": "utESf5knG4aE"
   },
   "source": [
    "- 모형학습"
   ]
  },
  {
   "cell_type": "code",
   "execution_count": 297,
   "metadata": {
    "colab": {
     "base_uri": "https://localhost:8080/"
    },
    "id": "i_JF1qstMMFG",
    "outputId": "f2cfa832-bc1c-4782-e741-3b174dcf26fd"
   },
   "outputs": [
    {
     "data": {
      "text/plain": [
       "KNeighborsClassifier()"
      ]
     },
     "execution_count": 297,
     "metadata": {},
     "output_type": "execute_result"
    }
   ],
   "source": [
    "kn.fit(train_scaled, train_target)"
   ]
  },
  {
   "cell_type": "code",
   "execution_count": 298,
   "metadata": {
    "colab": {
     "base_uri": "https://localhost:8080/"
    },
    "id": "B7hqVy9pMURV",
    "outputId": "98e4752f-cba0-48fb-b341-ceb0e544a7ea"
   },
   "outputs": [
    {
     "data": {
      "text/plain": [
       "1.0"
      ]
     },
     "execution_count": 298,
     "metadata": {},
     "output_type": "execute_result"
    }
   ],
   "source": [
    "#kn.score(test_input, test_target)\n",
    "test_scaled = (test_input - mean)/ std\n",
    "kn.score(test_scaled, test_target)"
   ]
  },
  {
   "cell_type": "markdown",
   "metadata": {
    "id": "YXRNYZ2tMq9A"
   },
   "source": [
    "- 예측"
   ]
  },
  {
   "cell_type": "code",
   "execution_count": 301,
   "metadata": {
    "colab": {
     "base_uri": "https://localhost:8080/"
    },
    "id": "DZmGmBK8MtXf",
    "outputId": "b08d3cf9-a9fc-46fe-f810-e5062219b801"
   },
   "outputs": [
    {
     "name": "stdout",
     "output_type": "stream",
     "text": [
      "[1.]\n"
     ]
    }
   ],
   "source": [
    "print(kn.predict([new]))"
   ]
  },
  {
   "cell_type": "code",
   "execution_count": 299,
   "metadata": {
    "colab": {
     "base_uri": "https://localhost:8080/",
     "height": 279
    },
    "id": "mNbNJCNxM4Hh",
    "outputId": "29aa9dcf-8739-4eab-81be-27e16eaba6eb"
   },
   "outputs": [
    {
     "data": {
      "image/png": "[encoded data removed]",
      "text/plain": [
       "<Figure size 432x288 with 1 Axes>"
      ]
     },
     "metadata": {
      "needs_background": "light"
     },
     "output_type": "display_data"
    }
   ],
   "source": [
    "distances, indexes = kn.kneighbors([new])\n",
    "plt.scatter(train_scaled[:,0], train_scaled[:,1])\n",
    "plt.scatter(new[0], new[1], marker='^')\n",
    "plt.scatter(train_scaled[indexes,0], train_scaled[indexes,1], marker='D')\n",
    "plt.xlabel('length')\n",
    "plt.ylabel('weight')\n",
    "plt.show()"
   ]
  }
 ],
 "metadata": {
  "colab": {
   "collapsed_sections": [],
   "name": "day0630_ml.ipynb",
   "provenance": [],
   "toc_visible": true
  },
  "kernelspec": {
   "display_name": "Python 3 (ipykernel)",
   "language": "python",
   "name": "python3"
  },
  "language_info": {
   "codemirror_mode": {
    "name": "ipython",
    "version": 3
   },
   "file_extension": ".py",
   "mimetype": "text/x-python",
   "name": "python",
   "nbconvert_exporter": "python",
   "pygments_lexer": "ipython3",
   "version": "3.9.12"
  }
 },
 "nbformat": 4,
 "nbformat_minor": 1
}
