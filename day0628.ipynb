{
 "cells": [
  {
   "cell_type": "markdown",
   "metadata": {
    "id": "lZ4ObALmiVhZ"
   },
   "source": [
    "---\n",
    "title: '파이선 기초문법2+Numpy'\n",
    "\n",
    "date: '2022-06-28'\n",
    "\n",
    "---"
   ]
  },
  {
   "cell_type": "markdown",
   "metadata": {
    "id": "FeNNC1w4h3Zy"
   },
   "source": [
    "##복습-반복문 연습\n",
    "- for loop and while loop\n"
   ]
  },
  {
   "cell_type": "code",
   "execution_count": null,
   "metadata": {
    "colab": {
     "base_uri": "https://localhost:8080/"
    },
    "id": "bc15hAu6qAmj",
    "outputId": "9312dd1b-84ef-456d-bb5c-8aded2c504e9"
   },
   "outputs": [
    {
     "name": "stdout",
     "output_type": "stream",
     "text": [
      "Hellow World\n",
      "안녕하세요\n",
      "Hellow World\n",
      "안녕하세요\n",
      "Hellow World\n",
      "안녕하세요\n"
     ]
    }
   ],
   "source": [
    "for i in range(3):\n",
    "  print(\"Hellow World\")\n",
    "  print(\"안녕하세요\")  "
   ]
  },
  {
   "cell_type": "code",
   "execution_count": null,
   "metadata": {
    "colab": {
     "base_uri": "https://localhost:8080/"
    },
    "id": "a0DwiPIEqQQk",
    "outputId": "5ce42892-a892-45c5-c3f6-9d474c7a604c"
   },
   "outputs": [
    {
     "name": "stdout",
     "output_type": "stream",
     "text": [
      "No: 1\n",
      "Hellow World\n",
      "안녕하세요\n",
      "No: 2\n",
      "Hellow World\n",
      "안녕하세요\n",
      "No: 3\n",
      "Hellow World\n",
      "안녕하세요\n",
      "No: 4\n",
      "Hellow World\n",
      "안녕하세요\n",
      "No: 5\n",
      "Hellow World\n",
      "안녕하세요\n",
      "No: 6\n",
      "Hellow World\n",
      "안녕하세요\n",
      "No: 7\n",
      "Hellow World\n",
      "안녕하세요\n",
      "No: 8\n",
      "Hellow World\n",
      "안녕하세요\n",
      "No: 9\n",
      "Hellow World\n",
      "안녕하세요\n",
      "No: 10\n",
      "Hellow World\n",
      "안녕하세요\n",
      "No: 11\n"
     ]
    }
   ],
   "source": [
    "for i in range(100):\n",
    "  print(\"No:\",i+1)\n",
    "  if i == 10 :\n",
    "     break\n",
    "  print(\"Hellow World\")\n",
    "  print(\"안녕하세요\")"
   ]
  },
  {
   "cell_type": "code",
   "execution_count": null,
   "metadata": {
    "colab": {
     "base_uri": "https://localhost:8080/"
    },
    "id": "z_5amWRArd5U",
    "outputId": "ea5eb898-e6bd-4a26-f503-b37fa18b0056"
   },
   "outputs": [
    {
     "name": "stdout",
     "output_type": "stream",
     "text": [
      "출력이 안됨\n"
     ]
    }
   ],
   "source": [
    "\"k\" in \"kaggle\"\n",
    "if \"k\" == \"a\":\n",
    "  print(\"출력이 되나요?\")\n",
    "else:\n",
    "  print(\"출력이 안됨\")"
   ]
  },
  {
   "cell_type": "code",
   "execution_count": 69,
   "metadata": {
    "colab": {
     "base_uri": "https://localhost:8080/"
    },
    "id": "1iV2ZxL-Ri1G",
    "outputId": "1aa78fa7-54e5-45e1-ffbd-8ba3c84f4bc6"
   },
   "outputs": [
    {
     "name": "stdout",
     "output_type": "stream",
     "text": [
      "K\n",
      "a\n"
     ]
    }
   ],
   "source": [
    "a = \"Kaggle\"\n",
    "\n",
    "for i in a:\n",
    "  print(i)\n",
    "  if i == \"a\":\n",
    "    break"
   ]
  },
  {
   "cell_type": "markdown",
   "metadata": {
    "id": "7sleMn0wsAKD"
   },
   "source": [
    "- 리스트의 값이 존재\n",
    "- 전체 총합구하기"
   ]
  },
  {
   "cell_type": "code",
   "execution_count": 64,
   "metadata": {
    "colab": {
     "base_uri": "https://localhost:8080/"
    },
    "id": "OuMaSBbysEk7",
    "outputId": "45f10299-9574-49c6-8899-b156e7549a6b"
   },
   "outputs": [
    {
     "name": "stdout",
     "output_type": "stream",
     "text": [
      "number: 3\n",
      "total: 3\n",
      "number: 2\n",
      "total: 5\n",
      "number: 3\n",
      "total: 8\n",
      "number: 4\n",
      "total: 12\n",
      "number: 5\n",
      "total: 17\n",
      "-----최종결괏값------\n",
      "17\n"
     ]
    }
   ],
   "source": [
    "numbers = [3,2,3,4,5]\n",
    "sum = 0\n",
    "\n",
    "for num in numbers:\n",
    "  print(\"number:\",num)\n",
    "  sum = sum + num\n",
    "  print(\"total:\",sum)\n",
    "\n",
    "print(\"-----최종결괏값------\")\n",
    "print(sum)  "
   ]
  },
  {
   "cell_type": "code",
   "execution_count": null,
   "metadata": {
    "colab": {
     "base_uri": "https://localhost:8080/"
    },
    "id": "ZSvjf9ULtOay",
    "outputId": "ace1045a-0e39-41c8-dca6-4b0373cfa3a5"
   },
   "outputs": [
    {
     "name": "stdout",
     "output_type": "stream",
     "text": [
      "조건문 밖: apple\n",
      "조건문 안: apple\n",
      "조건문 밖: kiwi\n",
      "조건문 밖: mango\n",
      "조건문 안: mango\n",
      "['apple', 'mango']\n"
     ]
    }
   ],
   "source": [
    "fruits = ['apple', 'kiwi', 'mango']\n",
    "newlist = []\n",
    "# apple : a가 있나요? 있으면 newlist에 추가하세요\n",
    "# kiwi에는 a가 있나요 없으면 그냥 넘어가요\n",
    "# mango : a가 있나요? 그럼 newlist에 추가하세요\n",
    "\n",
    "for fruit in fruits:\n",
    "  print(\"조건문 밖:\", fruit)\n",
    "  if \"a\" in fruit:\n",
    "    print(\"조건문 안:\",fruit)\n",
    "    newlist.append(fruit)\n",
    "\n",
    "print(newlist)"
   ]
  },
  {
   "cell_type": "markdown",
   "metadata": {
    "id": "HJFqCN_4woVq"
   },
   "source": [
    "## While Loop\n",
    "- 분석할 때는 거의 사용안되고 개발할 때 사용"
   ]
  },
  {
   "cell_type": "code",
   "execution_count": null,
   "metadata": {
    "colab": {
     "base_uri": "https://localhost:8080/"
    },
    "id": "0A3M-e49vS5K",
    "outputId": "b2d7de02-8f3c-4153-e4f3-f4ffdc4b4384"
   },
   "outputs": [
    {
     "name": "stdout",
     "output_type": "stream",
     "text": [
      "1\n",
      "2\n",
      "3\n",
      "4\n",
      "5\n",
      "6\n",
      "7\n",
      "8\n",
      "9\n"
     ]
    }
   ],
   "source": [
    "i=1\n",
    "while i<10: #조건식 :참일때만 반복문 코드가 돔 (무한루프가 될 수 있다)\n",
    "  # 코드 \n",
    "  print(i)\n",
    "  i+=1 #1씩 증감 하여 10이 되면 거짓이 되면 멈춤\n",
    "  #1-=1 #1씩 감소"
   ]
  },
  {
   "cell_type": "markdown",
   "metadata": {
    "id": "CBQQbH6asCnb"
   },
   "source": [
    "## 사용자 정의 함수\n",
    "- 내가 필요에 의해 직접 함수를 작성\n",
    "- 함수 문서화\n",
    " + 키워드 : Docsting ->\"\"\" 내용 \"\"\" \n",
    " + 함수에는 반드시 설명이 들어가야 된다.\n",
    " + ***오늘 배운 것 중에 두번째로 중요한 내용!!!***\n"
   ]
  },
  {
   "cell_type": "code",
   "execution_count": null,
   "metadata": {
    "id": "ewBK1ydmxc4Z"
   },
   "outputs": [],
   "source": [
    "def 함수명(param1, param2):\n",
    "  #코드\n",
    "  return None"
   ]
  },
  {
   "cell_type": "code",
   "execution_count": null,
   "metadata": {
    "colab": {
     "base_uri": "https://localhost:8080/"
    },
    "id": "iE8iXvmfxrp1",
    "outputId": "08600148-6660-4e3c-f89e-a3bef19b405f"
   },
   "outputs": [
    {
     "name": "stdout",
     "output_type": "stream",
     "text": [
      "9\n",
      "1\n"
     ]
    }
   ],
   "source": [
    "def add(a = 0,b = 1):\n",
    "  # c = a + b\n",
    "  # return c\n",
    "  return a + b\n",
    "\n",
    "print(add(a = 5, b = 4))\n",
    "print(add())  "
   ]
  },
  {
   "cell_type": "markdown",
   "metadata": {
    "id": "4X0lboVxRxc_"
   },
   "source": [
    "- 사칙연산 사용자 정의 함수 만들기"
   ]
  },
  {
   "cell_type": "code",
   "execution_count": 65,
   "metadata": {
    "colab": {
     "base_uri": "https://localhost:8080/"
    },
    "id": "d4nb1ZB53u9o",
    "outputId": "09f4fe3d-734a-4f27-9ae2-492321861c12"
   },
   "outputs": [
    {
     "name": "stdout",
     "output_type": "stream",
     "text": [
      "3\n",
      "-1\n",
      "2\n",
      "0.5\n",
      "7.5\n"
     ]
    }
   ],
   "source": [
    "def de(a, b) :\n",
    "  return a + b\n",
    "print(de(1,2))\n",
    "def bbe(a, b) :\n",
    "  return a - b\n",
    "print(bbe(1,2))\n",
    "def kop(a, b) :\n",
    "  return a * b\n",
    "print(kop(1,2))\n",
    "def na(a, b) :\n",
    "  return a / b\n",
    "print(na(1,2))\n",
    "def mean(a , b):\n",
    "  return (a + b) / 2\n",
    "print(mean(5,10))"
   ]
  },
  {
   "cell_type": "code",
   "execution_count": 68,
   "metadata": {
    "colab": {
     "base_uri": "https://localhost:8080/"
    },
    "id": "PWxYxEzlXYLf",
    "outputId": "336249ae-3dfc-4f2a-f68a-45e9cd3277ef"
   },
   "outputs": [
    {
     "name": "stdout",
     "output_type": "stream",
     "text": [
      "첫번째수를 넣으세요5\n",
      "두번째수를 넣으세요10\n",
      "7.5\n"
     ]
    }
   ],
   "source": [
    "a = int(input('첫번째수를 넣으세요'))\n",
    "b = int(input('두번째수를 넣으세요'))\n",
    "def mean (a, b):\n",
    "  return (a + b)/2\n",
    "\n",
    "print(mean(a,b))"
   ]
  },
  {
   "cell_type": "code",
   "execution_count": 40,
   "metadata": {
    "colab": {
     "base_uri": "https://localhost:8080/"
    },
    "id": "BvKRyYDo6tpg",
    "outputId": "b28b9573-239d-4f2b-a127-337c3c3d5421"
   },
   "outputs": [
    {
     "name": "stdout",
     "output_type": "stream",
     "text": [
      "-5\n",
      " a,b를 빼는 함수\n",
      "\n",
      "  parameters:\n",
      "  a(int): int형 숫자 a가 입력\n",
      "  \n",
      "  b(int): int형 숫자 b가 입력\n",
      "\n",
      "  return:\n",
      "    int :반환값\n",
      "  \n"
     ]
    }
   ],
   "source": [
    "def subtract(a, b):\n",
    "  \"\"\" a,b를 빼는 함수\n",
    "\n",
    "  parameters:\n",
    "  a(int): int형 숫자 a가 입력\n",
    "  \n",
    "  b(int): int형 숫자 b가 입력\n",
    "\n",
    "  return:\n",
    "    int :반환값\n",
    "  \"\"\"\n",
    "  return a-b\n",
    "\n",
    "print(subtract(a= 5, b= 10))\n",
    "print(subtract.__doc__)"
   ]
  },
  {
   "cell_type": "markdown",
   "metadata": {
    "id": "RUd7t-Co9X1W"
   },
   "source": [
    "## Numpy\n",
    "- 내장 모듈(=라이브러리=R의 패키지)이 아닌 별도 라이브러리를 설치해야 함\n",
    "- 별도 라이브러리 설치가 필요(구글코랩은 불필요)\n"
   ]
  },
  {
   "cell_type": "code",
   "execution_count": 42,
   "metadata": {
    "colab": {
     "base_uri": "https://localhost:8080/"
    },
    "id": "OUvnRlCTAHyN",
    "outputId": "68fca75b-b336-4214-aa99-d73bea3b39be"
   },
   "outputs": [
    {
     "name": "stdout",
     "output_type": "stream",
     "text": [
      "1.21.6\n"
     ]
    }
   ],
   "source": [
    "import numpy as np\n",
    "print(np.__version__)"
   ]
  },
  {
   "cell_type": "code",
   "execution_count": 63,
   "metadata": {
    "colab": {
     "base_uri": "https://localhost:8080/"
    },
    "id": "JUT0vrufEUKE",
    "outputId": "8e4486a7-06a9-41b9-f968-74b6e65d92d3"
   },
   "outputs": [
    {
     "name": "stdout",
     "output_type": "stream",
     "text": [
      "[1 2 3]\n",
      "<class 'numpy.ndarray'>\n"
     ]
    }
   ],
   "source": [
    "temp = [1,2,3]\n",
    "temp_array = np.array(temp) # 리스트를 배열로 변환\n",
    "\n",
    "print (temp_array)\n",
    "print (type(temp_array))"
   ]
  },
  {
   "cell_type": "markdown",
   "metadata": {
    "id": "qEp50TQPSB-f"
   },
   "source": [
    "## 사칙연산"
   ]
  },
  {
   "cell_type": "code",
   "execution_count": 45,
   "metadata": {
    "colab": {
     "base_uri": "https://localhost:8080/"
    },
    "id": "wDZnzcM-EljU",
    "outputId": "9de5b14d-886c-41ab-d416-555a71bf6e98"
   },
   "outputs": [
    {
     "name": "stdout",
     "output_type": "stream",
     "text": [
      "[170 170 200]\n",
      "<class 'numpy.ndarray'>\n"
     ]
    }
   ],
   "source": [
    "math_score = [90, 80, 100]\n",
    "eng_score= [80, 90,100]\n",
    "\n",
    "#print(math_score+eng_score)\n",
    "math_array = np.array(math_score)\n",
    "eng_array= np.array(eng_score)\n",
    "\n",
    "total= math_array + eng_array\n",
    "print(total)\n",
    "print(type(total))\n"
   ]
  },
  {
   "cell_type": "markdown",
   "metadata": {
    "id": "WX6LlWWRFfZk"
   },
   "source": [
    "## 집계함수"
   ]
  },
  {
   "cell_type": "code",
   "execution_count": 61,
   "metadata": {
    "colab": {
     "base_uri": "https://localhost:8080/"
    },
    "id": "C7nEK64jFq5T",
    "outputId": "3d5afcb5-e734-46a1-e2f0-16384ba5af78"
   },
   "outputs": [
    {
     "name": "stdout",
     "output_type": "stream",
     "text": [
      "170\n",
      "200\n",
      "540\n"
     ]
    }
   ],
   "source": [
    "print(np.min(total))\n",
    "print(np.max(total))\n",
    "print(np.sum(total))"
   ]
  },
  {
   "cell_type": "markdown",
   "metadata": {
    "id": "_lBk8BJCF5hr"
   },
   "source": [
    "## 차원 확인\n",
    "- 배열의 차원 확인 필요"
   ]
  },
  {
   "cell_type": "code",
   "execution_count": 53,
   "metadata": {
    "colab": {
     "base_uri": "https://localhost:8080/"
    },
    "id": "VYMgOD9OF_1J",
    "outputId": "13166f46-a309-466f-adb4-089b94c5dd9b"
   },
   "outputs": [
    {
     "name": "stdout",
     "output_type": "stream",
     "text": [
      "(3,)\n",
      "1\n",
      "[1 2 3]\n"
     ]
    }
   ],
   "source": [
    "# 1차원 배열 생성\n",
    "temp_arr= np.array([1,2,3])\n",
    "print(temp_arr.shape)\n",
    "print(temp_arr.ndim) #차원을 나타냄\n",
    "print(temp_arr)"
   ]
  },
  {
   "cell_type": "code",
   "execution_count": 54,
   "metadata": {
    "colab": {
     "base_uri": "https://localhost:8080/"
    },
    "id": "JjS_GFHXGRYD",
    "outputId": "e91af46b-3834-48b1-be5d-1f787abd4367"
   },
   "outputs": [
    {
     "name": "stdout",
     "output_type": "stream",
     "text": [
      "(2, 3)\n",
      "2\n",
      "[[1 2 3]\n",
      " [4 5 6]]\n"
     ]
    }
   ],
   "source": [
    "# 2차원 배열 생성\n",
    "temp_arr = np.array([[1,2,3],[4,5,6]])\n",
    "print(temp_arr.shape)\n",
    "print(temp_arr.ndim) #차원을 나타냄\n",
    "print(temp_arr)"
   ]
  },
  {
   "cell_type": "code",
   "execution_count": 60,
   "metadata": {
    "colab": {
     "base_uri": "https://localhost:8080/"
    },
    "id": "jeEStZkpHI_K",
    "outputId": "ae8f0f6d-968b-45b2-8452-ef596e9dbaf4"
   },
   "outputs": [
    {
     "name": "stdout",
     "output_type": "stream",
     "text": [
      "(2, 2, 3)\n",
      "3\n",
      "[[[ 1  2  3]\n",
      "  [ 4  5  6]]\n",
      "\n",
      " [[ 7  8  9]\n",
      "  [10 11 12]]]\n"
     ]
    }
   ],
   "source": [
    "# 3차원 배열-> 이미지\n",
    "temp_arr = np.array([[[1,2,3],[4,5,6]],[[7,8,9],[10,11,12]]])\n",
    "print(temp_arr.shape)\n",
    "print(temp_arr.ndim)\n",
    "print(temp_arr)"
   ]
  },
  {
   "cell_type": "markdown",
   "metadata": {
    "id": "5SdXrlg0ISjj"
   },
   "source": [
    "## 배열 생성의 다양한 방법들\n",
    "- 모두 0으로 채운다\n"
   ]
  },
  {
   "cell_type": "code",
   "execution_count": 1,
   "metadata": {
    "colab": {
     "base_uri": "https://localhost:8080/"
    },
    "id": "7Cpvw2J4sE8Y",
    "outputId": "28be68a2-2b4f-44be-dbae-7bd65b24b583"
   },
   "outputs": [
    {
     "name": "stdout",
     "output_type": "stream",
     "text": [
      "1.21.6\n"
     ]
    }
   ],
   "source": [
    "import numpy as np \n",
    "print(np.__version__)"
   ]
  },
  {
   "cell_type": "code",
   "execution_count": 29,
   "metadata": {
    "colab": {
     "base_uri": "https://localhost:8080/"
    },
    "id": "iYg_A2U9sTZg",
    "outputId": "9a40b4a6-39ac-4d59-9c14-cdb55d8ade19"
   },
   "outputs": [
    {
     "data": {
      "text/plain": [
       "array([[[0., 0., 0.],\n",
       "        [0., 0., 0.]],\n",
       "\n",
       "       [[0., 0., 0.],\n",
       "        [0., 0., 0.]],\n",
       "\n",
       "       [[0., 0., 0.],\n",
       "        [0., 0., 0.]],\n",
       "\n",
       "       [[0., 0., 0.],\n",
       "        [0., 0., 0.]]])"
      ]
     },
     "execution_count": 29,
     "metadata": {},
     "output_type": "execute_result"
    }
   ],
   "source": [
    "temp_arr = np.zeros((4,2,3))\n",
    "temp_arr"
   ]
  },
  {
   "cell_type": "markdown",
   "metadata": {
    "id": "hY2QCGD0sfjo"
   },
   "source": [
    "- 모두 1로 채운다."
   ]
  },
  {
   "cell_type": "code",
   "execution_count": 6,
   "metadata": {
    "colab": {
     "base_uri": "https://localhost:8080/"
    },
    "id": "EKzi38FXscKI",
    "outputId": "a1a9ed4f-a87b-4354-9823-b9f54ea33a31"
   },
   "outputs": [
    {
     "data": {
      "text/plain": [
       "array([[1., 1., 1.],\n",
       "       [1., 1., 1.]])"
      ]
     },
     "execution_count": 6,
     "metadata": {},
     "output_type": "execute_result"
    }
   ],
   "source": [
    "temp_arr = np.ones((2,3))\n",
    "temp_arr"
   ]
  },
  {
   "cell_type": "markdown",
   "metadata": {
    "id": "tx0a68pes9mA"
   },
   "source": [
    "- 임의의 상수값으로 채운다(3개의 1행 3열자료에 100을 넣었다)\n",
    "3x1x3배열이라고 말한다."
   ]
  },
  {
   "cell_type": "code",
   "execution_count": 61,
   "metadata": {
    "colab": {
     "base_uri": "https://localhost:8080/"
    },
    "id": "2S6P3s3is23A",
    "outputId": "4a84a059-83d5-4680-b81d-7f13b12514c6"
   },
   "outputs": [
    {
     "data": {
      "text/plain": [
       "array([[100.1, 100.1, 100.1],\n",
       "       [100.1, 100.1, 100.1],\n",
       "       [100.1, 100.1, 100.1]])"
      ]
     },
     "execution_count": 61,
     "metadata": {},
     "output_type": "execute_result"
    }
   ],
   "source": [
    "temp_arr = np.full((3,3),100.1)\n",
    "temp_arr"
   ]
  },
  {
   "cell_type": "markdown",
   "metadata": {
    "id": "rluKqfSfC_cN"
   },
   "source": [
    " - 2개의 3행 4열 자료에 100을 넣었다."
   ]
  },
  {
   "cell_type": "code",
   "execution_count": 60,
   "metadata": {
    "colab": {
     "base_uri": "https://localhost:8080/"
    },
    "id": "lw39rFiN0wJ-",
    "outputId": "cbe0c907-248f-417c-dd21-94ad28f8c32b"
   },
   "outputs": [
    {
     "data": {
      "text/plain": [
       "array([[[100, 100, 100, 100],\n",
       "        [100, 100, 100, 100],\n",
       "        [100, 100, 100, 100]],\n",
       "\n",
       "       [[100, 100, 100, 100],\n",
       "        [100, 100, 100, 100],\n",
       "        [100, 100, 100, 100]]])"
      ]
     },
     "execution_count": 60,
     "metadata": {},
     "output_type": "execute_result"
    }
   ],
   "source": [
    "temp_arr = np.full((2,3,4),100)\n",
    "temp_arr"
   ]
  },
  {
   "cell_type": "markdown",
   "metadata": {
    "id": "9zabhiSwtTlY"
   },
   "source": [
    "- 최소, 최대 숫자의 범위를 정해두고,각 구간별로 값을 생성\n",
    "- .linspace(시작값, 종료값, 간격수)"
   ]
  },
  {
   "cell_type": "code",
   "execution_count": 31,
   "metadata": {
    "colab": {
     "base_uri": "https://localhost:8080/"
    },
    "id": "SWcwIfmCtcuI",
    "outputId": "bf07796c-eda6-4b43-e8e6-edfc45173f8c"
   },
   "outputs": [
    {
     "data": {
      "text/plain": [
       "array([ 5.        ,  5.71428571,  6.42857143,  7.14285714,  7.85714286,\n",
       "        8.57142857,  9.28571429, 10.        ])"
      ]
     },
     "execution_count": 31,
     "metadata": {},
     "output_type": "execute_result"
    }
   ],
   "source": [
    "temp_arr = np.linspace(5,10,8)\n",
    "temp_arr"
   ]
  },
  {
   "cell_type": "markdown",
   "metadata": {
    "id": "WYv5xh2stmlQ"
   },
   "source": [
    "- 반복문 시 , 자주 등장하는 배열"
   ]
  },
  {
   "cell_type": "code",
   "execution_count": 10,
   "metadata": {
    "colab": {
     "base_uri": "https://localhost:8080/"
    },
    "id": "zSonx9fCtzSI",
    "outputId": "17301c6d-d583-4acb-c28f-f9edcd2a7666"
   },
   "outputs": [
    {
     "data": {
      "text/plain": [
       "array([ 1,  2,  3,  4,  5,  6,  7,  8,  9, 10])"
      ]
     },
     "execution_count": 10,
     "metadata": {},
     "output_type": "execute_result"
    }
   ],
   "source": [
    "temp_arr = np.arange(1,11,1)\n",
    "temp_arr"
   ]
  },
  {
   "cell_type": "markdown",
   "metadata": {
    "id": "7jBMharOt6Bf"
   },
   "source": [
    "## 난수 생성"
   ]
  },
  {
   "cell_type": "code",
   "execution_count": 12,
   "metadata": {
    "colab": {
     "base_uri": "https://localhost:8080/"
    },
    "id": "lp3oKEEHH2w7",
    "outputId": "36ef0435-97df-4b8f-f7a9-ef7217cdccd0"
   },
   "outputs": [
    {
     "name": "stdout",
     "output_type": "stream",
     "text": [
      "0.09081438142620213\n"
     ]
    }
   ],
   "source": [
    "from numpy import random\n",
    "x = random.rand()\n",
    "print(x)"
   ]
  },
  {
   "cell_type": "code",
   "execution_count": 13,
   "metadata": {
    "colab": {
     "base_uri": "https://localhost:8080/"
    },
    "id": "8AipBI9FG2vL",
    "outputId": "1bc3d390-377f-4521-841a-bcbccf8dedd3"
   },
   "outputs": [
    {
     "name": "stdout",
     "output_type": "stream",
     "text": [
      "0.17530497899866515\n"
     ]
    }
   ],
   "source": [
    "import numpy\n",
    "x = numpy.random.rand()\n",
    "print(x)"
   ]
  },
  {
   "cell_type": "markdown",
   "metadata": {
    "id": "a3i54SHRGqAE"
   },
   "source": [
    "- 위의 두가지는 같은 내용이다.랜덤함수의 위치를 명시해준다."
   ]
  },
  {
   "cell_type": "markdown",
   "metadata": {
    "id": "zk4Ic3SbGKA-"
   },
   "source": [
    "- 랜덤 정수값 추출"
   ]
  },
  {
   "cell_type": "code",
   "execution_count": 16,
   "metadata": {
    "colab": {
     "base_uri": "https://localhost:8080/"
    },
    "id": "h_-MYemwvS52",
    "outputId": "7a4244ea-61a5-4406-aa9a-4f3a540aef60"
   },
   "outputs": [
    {
     "name": "stdout",
     "output_type": "stream",
     "text": [
      "[[ 4 26 62 97 49]\n",
      " [68 51 15 95 55]\n",
      " [37 91 98 47  8]]\n",
      "<class 'numpy.ndarray'>\n"
     ]
    }
   ],
   "source": [
    "from numpy import random\n",
    "#x = random.randint(100, size = (5))\n",
    "x = random.randint(100, size = (3,5))\n",
    "print(x)\n",
    "print(type(x))"
   ]
  },
  {
   "cell_type": "code",
   "execution_count": 38,
   "metadata": {
    "colab": {
     "base_uri": "https://localhost:8080/"
    },
    "id": "5s-hkO-l2D1-",
    "outputId": "548cc97d-f502-4b01-aa12-135009d0959c"
   },
   "outputs": [
    {
     "name": "stdout",
     "output_type": "stream",
     "text": [
      "[[[10 16  7 84]\n",
      "  [49 15 85 24]]\n",
      "\n",
      " [[78 15 34 79]\n",
      "  [95 66 42 17]]\n",
      "\n",
      " [[69  9  8  4]\n",
      "  [41 78 93 37]]]\n",
      "<class 'numpy.ndarray'>\n"
     ]
    }
   ],
   "source": [
    "from numpy import random\n",
    "#x = random.randint(100, size = (5))\n",
    "x = random.randint(100, size = (3,2,4))\n",
    "print(x)\n",
    "print(type(x))"
   ]
  },
  {
   "cell_type": "markdown",
   "metadata": {
    "id": "65zZ2u7cvwiY"
   },
   "source": [
    "- 랜덤 배열  실숫값 추출"
   ]
  },
  {
   "cell_type": "code",
   "execution_count": 17,
   "metadata": {
    "colab": {
     "base_uri": "https://localhost:8080/"
    },
    "id": "P2x1dMDUvpS2",
    "outputId": "51568c12-e2ed-4235-b374-daec162fb2a2"
   },
   "outputs": [
    {
     "name": "stdout",
     "output_type": "stream",
     "text": [
      "[[0.4704299  0.23477923 0.28244335 0.71846304 0.75368955]\n",
      " [0.41210023 0.91448093 0.15992748 0.33859588 0.52543335]]\n",
      "<class 'numpy.ndarray'>\n"
     ]
    }
   ],
   "source": [
    "from numpy import random\n",
    "x = random.rand(2,5)\n",
    "print(x)\n",
    "print(type(x))"
   ]
  },
  {
   "cell_type": "markdown",
   "metadata": {
    "id": "1kClBT-4wDsv"
   },
   "source": [
    "## Numpy 사칙 연산"
   ]
  },
  {
   "cell_type": "code",
   "execution_count": 18,
   "metadata": {
    "id": "LKOVvC5hwTsP"
   },
   "outputs": [],
   "source": [
    "import numpy as np\n",
    "array_01 = np.array([1,2,3])\n",
    "array_02 = np.array([10,20,30])"
   ]
  },
  {
   "cell_type": "code",
   "execution_count": 28,
   "metadata": {
    "colab": {
     "base_uri": "https://localhost:8080/"
    },
    "id": "BSp1vNiqwjSX",
    "outputId": "52780cba-2323-4640-c25b-12067cfaf98d"
   },
   "outputs": [
    {
     "name": "stdout",
     "output_type": "stream",
     "text": [
      "[11 22 33]\n",
      "[ -9 -18 -27]\n",
      "[10 40 90]\n",
      "[0.1 0.1 0.1]\n",
      "[ 1 16  9]\n"
     ]
    }
   ],
   "source": [
    "# 덧셈\n",
    "newArr = np.add(array_01,array_02)\n",
    "print(newArr)\n",
    "\n",
    "# 뺄셈\n",
    "newArr = np.subtract(array_01,array_02)\n",
    "print(newArr)\n",
    "\n",
    "# 곱셈\n",
    "newArr = np.multiply(array_01,array_02)\n",
    "print(newArr)\n",
    "\n",
    "# 나눗셈\n",
    "newArr = np.divide(array_01,array_02)\n",
    "print(newArr)\n",
    "\n",
    "# 거듭제곱\n",
    "array_01 = np.array([1,2,3])\n",
    "array_02 = np.array([2,4,2])\n",
    "newArr = np.power(array_01,array_02)\n",
    "print(newArr)"
   ]
  },
  {
   "cell_type": "markdown",
   "metadata": {
    "id": "_g7dK8SOvl_W"
   },
   "source": [
    "## 소숫점 정렬\n",
    "- 소숫점을 정렬하는 다양한 방법"
   ]
  },
  {
   "cell_type": "code",
   "execution_count": 41,
   "metadata": {
    "colab": {
     "base_uri": "https://localhost:8080/"
    },
    "id": "e8gSxLx4x-dT",
    "outputId": "0b12e38a-12b1-4a42-9e15-55d94b052e98"
   },
   "outputs": [
    {
     "name": "stdout",
     "output_type": "stream",
     "text": [
      "[-1.  1.]\n",
      "[-1.  1.]\n"
     ]
    }
   ],
   "source": [
    "# 소숫점 제거\n",
    "import numpy as np\n",
    "temp_arr =np.trunc([-1.91,1.9])\n",
    "print(temp_arr)\n",
    "      \n",
    "temp_arr =np.fix([-1.23,1.9])\n",
    "print(temp_arr)"
   ]
  },
  {
   "cell_type": "code",
   "execution_count": 23,
   "metadata": {
    "colab": {
     "base_uri": "https://localhost:8080/"
    },
    "id": "N5wX0Go3yTej",
    "outputId": "2d9a5615-7e36-4c62-9472-581b334d2dd3"
   },
   "outputs": [
    {
     "name": "stdout",
     "output_type": "stream",
     "text": [
      "[-1.23457  1.23232]\n"
     ]
    }
   ],
   "source": [
    "# 임의의 소숫점 자리에서 반올림\n",
    "temp_arr = np.around([-1.2345667,1.23232323],5)\n",
    "print(temp_arr)"
   ]
  },
  {
   "cell_type": "code",
   "execution_count": 25,
   "metadata": {
    "colab": {
     "base_uri": "https://localhost:8080/"
    },
    "id": "naQZxl4YypUf",
    "outputId": "ecd1d2cb-c0d6-4aa9-c94b-80af4d788c7d"
   },
   "outputs": [
    {
     "name": "stdout",
     "output_type": "stream",
     "text": [
      "[-2.  1.]\n"
     ]
    }
   ],
   "source": [
    "#소숫점 모두 내림\n",
    "temp_arr = np.floor([-1.2345667,1.23232323])\n",
    "print(temp_arr)"
   ]
  },
  {
   "cell_type": "code",
   "execution_count": 26,
   "metadata": {
    "colab": {
     "base_uri": "https://localhost:8080/"
    },
    "id": "XxBs95mFy2Ko",
    "outputId": "7d43b901-75c7-4d73-dbf7-f8f2eb050370"
   },
   "outputs": [
    {
     "name": "stdout",
     "output_type": "stream",
     "text": [
      "[-1.  2.]\n"
     ]
    }
   ],
   "source": [
    "#소숫점 모두 올림\n",
    "temp_arr = np.ceil([-1.2345667,1.23232323])\n",
    "print(temp_arr)"
   ]
  },
  {
   "cell_type": "markdown",
   "metadata": {
    "id": "tM4bkoafyjvH"
   },
   "source": [
    "## 조건식\n",
    " - pandas 가공\n",
    " - numpy\n",
    " - 조건식\n",
    "  + 하나(단일)의 조건식(->np.where)\n",
    "  + 다중 조건식(***이번 시간에 가장 중요함!!!!***)"
   ]
  },
  {
   "cell_type": "code",
   "execution_count": 43,
   "metadata": {
    "colab": {
     "base_uri": "https://localhost:8080/"
    },
    "id": "fK0sUTqc34O1",
    "outputId": "0ccf5d39-c1f0-4de9-bb3a-c6797e688870"
   },
   "outputs": [
    {
     "data": {
      "text/plain": [
       "array([0, 1, 2, 3, 4, 5, 6, 7, 8, 9])"
      ]
     },
     "execution_count": 43,
     "metadata": {},
     "output_type": "execute_result"
    }
   ],
   "source": [
    "temp_arr = np.arange(10)\n",
    "temp_arr"
   ]
  },
  {
   "cell_type": "code",
   "execution_count": 44,
   "metadata": {
    "id": "EMb-v2ua4FV1"
   },
   "outputs": [],
   "source": [
    "# 5보다 작으면 원 값 유지\n",
    "# 5보다 크면 곱하기 10을 유지해줌"
   ]
  },
  {
   "cell_type": "code",
   "execution_count": 46,
   "metadata": {
    "colab": {
     "base_uri": "https://localhost:8080/"
    },
    "id": "KsDfmkKs4NQ8",
    "outputId": "1f7f60f6-1b0d-458f-b0b7-c991a0fcfd69"
   },
   "outputs": [
    {
     "data": {
      "text/plain": [
       "array([ 0,  1,  2,  3,  4, 50, 60, 70, 80, 90])"
      ]
     },
     "execution_count": 46,
     "metadata": {},
     "output_type": "execute_result"
    }
   ],
   "source": [
    "#np.where(조건식, 참일 때, 거짓일 때)\n",
    "np.where(temp_arr< 5, temp_arr, temp_arr*10)"
   ]
  },
  {
   "cell_type": "code",
   "execution_count": 47,
   "metadata": {
    "colab": {
     "base_uri": "https://localhost:8080/"
    },
    "id": "YrXRhdes41A8",
    "outputId": "d710a68e-858b-4776-b414-177164a81c05"
   },
   "outputs": [
    {
     "data": {
      "text/plain": [
       "array([100, 101,   2,   3,   4,   5,  12,  14,  16,  18])"
      ]
     },
     "execution_count": 47,
     "metadata": {},
     "output_type": "execute_result"
    }
   ],
   "source": [
    "temp_arr = np.arange(10)\n",
    "# temp_arr\n",
    "cond_list = [temp_arr > 5, temp_arr < 2]\n",
    "choice_list = [temp_arr * 2, temp_arr + 100]\n",
    "\n",
    "#np.select(조건식 리스트, 결과값 리스트, default = )\n",
    "np.select(cond_list, choice_list, default = temp_arr)"
   ]
  },
  {
   "cell_type": "markdown",
   "metadata": {
    "id": "Sq2mG_Al4vqN"
   },
   "source": [
    "## Reshape\n",
    " - 배열의 차원 또는 크기를 바꿈\n",
    " - 곱셈이 중요"
   ]
  },
  {
   "cell_type": "code",
   "execution_count": 48,
   "metadata": {
    "colab": {
     "base_uri": "https://localhost:8080/"
    },
    "id": "5a35r8Ks6qT_",
    "outputId": "a1145b69-e9b4-4d46-b28e-d057bff07201"
   },
   "outputs": [
    {
     "name": "stdout",
     "output_type": "stream",
     "text": [
      "(3, 4)\n",
      "[[1. 1. 1. 1.]\n",
      " [1. 1. 1. 1.]\n",
      " [1. 1. 1. 1.]]\n"
     ]
    }
   ],
   "source": [
    "import numpy as np\n",
    "temp_array = np.ones((3,4))\n",
    "print(temp_array.shape)\n",
    "print(temp_array)"
   ]
  },
  {
   "cell_type": "markdown",
   "metadata": {
    "id": "TAViu_0-_AHY"
   },
   "source": [
    "- 값을 임으로 바꿔서 순서를 확인바란다."
   ]
  },
  {
   "cell_type": "code",
   "execution_count": 57,
   "metadata": {
    "colab": {
     "base_uri": "https://localhost:8080/"
    },
    "id": "PSqCPcag9H3d",
    "outputId": "d37029ae-1ff5-49c9-9f12-08f85c2b48ac"
   },
   "outputs": [
    {
     "data": {
      "text/plain": [
       "array([[[34, 28, 61, 38]],\n",
       "\n",
       "       [[49, 30, 47, 52]],\n",
       "\n",
       "       [[78, 13, 72, 62]]])"
      ]
     },
     "execution_count": 57,
     "metadata": {},
     "output_type": "execute_result"
    }
   ],
   "source": [
    "temp_array= random.randint(100, size = (3,1,4))\n",
    "temp_array"
   ]
  },
  {
   "cell_type": "markdown",
   "metadata": {
    "id": "xXszAeEH7oRE"
   },
   "source": [
    "- 3개의 4열을 만들었다. 그렇기에 아래도 12의 공배수로 적어줘야 된다."
   ]
  },
  {
   "cell_type": "code",
   "execution_count": 58,
   "metadata": {
    "colab": {
     "base_uri": "https://localhost:8080/"
    },
    "id": "WWP-tpeS69Ks",
    "outputId": "2172852b-3e0a-44e9-ecb4-e13af488f32f"
   },
   "outputs": [
    {
     "name": "stdout",
     "output_type": "stream",
     "text": [
      "(2, 2, 3)\n",
      "[[[34 28 61]\n",
      "  [38 49 30]]\n",
      "\n",
      " [[47 52 78]\n",
      "  [13 72 62]]]\n"
     ]
    }
   ],
   "source": [
    "after_reshape = temp_array.reshape(2,2,3)\n",
    "print(after_reshape.shape)\n",
    "print(after_reshape)"
   ]
  },
  {
   "cell_type": "markdown",
   "metadata": {
    "id": "gKdvjBM57UUf"
   },
   "source": [
    "- (2,2,?)를 했을 때 나머지 내용을 모르겠으면 (-1)을 적어주면 편하다."
   ]
  },
  {
   "cell_type": "code",
   "execution_count": 59,
   "metadata": {
    "colab": {
     "base_uri": "https://localhost:8080/"
    },
    "id": "IgvtY0Jp56Zg",
    "outputId": "46a35d4c-39d3-4546-e8df-07e5fe24a156"
   },
   "outputs": [
    {
     "name": "stdout",
     "output_type": "stream",
     "text": [
      "(2, 2, 3)\n",
      "[[[34 28 61]\n",
      "  [38 49 30]]\n",
      "\n",
      " [[47 52 78]\n",
      "  [13 72 62]]]\n"
     ]
    }
   ],
   "source": [
    "after_reshape = temp_array.reshape(2,2,-1)\n",
    "print(after_reshape.shape)\n",
    "print(after_reshape)"
   ]
  },
  {
   "cell_type": "markdown",
   "metadata": {
    "id": "6Gw5iHun8Tl8"
   },
   "source": [
    "## 브로드 캐스팅\n",
    "- 서로 다른 크기의 배열을 계산할 때의 기본적인 규칙을 의미"
   ]
  },
  {
   "cell_type": "markdown",
   "metadata": {
    "id": "TSnx6An_PGrP"
   },
   "source": [
    "## 판다스"
   ]
  },
  {
   "cell_type": "code",
   "execution_count": 62,
   "metadata": {
    "colab": {
     "base_uri": "https://localhost:8080/"
    },
    "id": "czNJGxgl4Bfs",
    "outputId": "19cd27b9-9cf8-4857-9055-d84423f68754"
   },
   "outputs": [
    {
     "name": "stdout",
     "output_type": "stream",
     "text": [
      "1.3.5\n"
     ]
    }
   ],
   "source": [
    "import pandas as pd\n",
    "print(pd.__version__)"
   ]
  },
  {
   "cell_type": "code",
   "execution_count": 64,
   "metadata": {
    "colab": {
     "base_uri": "https://localhost:8080/"
    },
    "id": "gTh4kEHuIe7R",
    "outputId": "96ab6057-0943-438d-8b04-ef24fcbc6f7e"
   },
   "outputs": [
    {
     "name": "stdout",
     "output_type": "stream",
     "text": [
      "   col1  col2\n",
      "0     1     3\n",
      "1     2     4\n",
      "<class 'pandas.core.frame.DataFrame'>\n"
     ]
    }
   ],
   "source": [
    "temp_dict = {\n",
    "    'col1' : [1,2],\n",
    "    'col2' : [3,4]\n",
    "    }\n",
    "df = pd.DataFrame(temp_dict)\n",
    "print(df)\n",
    "print(type(df))    "
   ]
  },
  {
   "cell_type": "markdown",
   "metadata": {
    "id": "Ie3EJFZjI40Y"
   },
   "source": [
    "## 구글 드라이브 연동 "
   ]
  },
  {
   "cell_type": "code",
   "execution_count": 65,
   "metadata": {
    "colab": {
     "base_uri": "https://localhost:8080/"
    },
    "id": "-H1yDQP8JYYY",
    "outputId": "51b719f5-0431-4ea6-f733-9683245a7163"
   },
   "outputs": [
    {
     "name": "stdout",
     "output_type": "stream",
     "text": [
      "Mounted at /content/drive\n"
     ]
    }
   ],
   "source": [
    "from google.colab import drive\n",
    "drive.mount('/content/drive')"
   ]
  },
  {
   "cell_type": "code",
   "execution_count": 68,
   "metadata": {
    "colab": {
     "base_uri": "https://localhost:8080/"
    },
    "id": "GZvcNrR-K2rx",
    "outputId": "587c0b8c-3f44-4d87-f11e-248608b16f69"
   },
   "outputs": [
    {
     "name": "stdout",
     "output_type": "stream",
     "text": [
      "/content/drive/MyDrive/Colab Notebooks/Human_ai/Basic/Chapter 3. pandas/data/Lemonade2016.csv\n",
      "<class 'pandas.core.frame.DataFrame'>\n",
      "RangeIndex: 32 entries, 0 to 31\n",
      "Data columns (total 7 columns):\n",
      " #   Column       Non-Null Count  Dtype  \n",
      "---  ------       --------------  -----  \n",
      " 0   Date         31 non-null     object \n",
      " 1   Location     32 non-null     object \n",
      " 2   Lemon        32 non-null     int64  \n",
      " 3   Orange       32 non-null     int64  \n",
      " 4   Temperature  32 non-null     int64  \n",
      " 5   Leaflets     31 non-null     float64\n",
      " 6   Price        32 non-null     float64\n",
      "dtypes: float64(2), int64(3), object(2)\n",
      "memory usage: 1.9+ KB\n"
     ]
    }
   ],
   "source": [
    "DATA_PATH= '/content/drive/MyDrive/Colab Notebooks/Human_ai/Basic/Chapter 3. pandas/data/'\n",
    "print(DATA_PATH + 'Lemonade2016.csv')\n",
    "\n",
    "lemonade  = pd.read_csv(DATA_PATH + 'Lemonade2016.csv')\n",
    "#covid_df = pd.read_csv(DATA_PATH + 'owid-covid-data.csv')\n",
    "\n",
    "lemonade.info()"
   ]
  },
  {
   "cell_type": "code",
   "execution_count": null,
   "metadata": {
    "id": "mjbt2WjRNGaP"
   },
   "outputs": [],
   "source": []
  }
 ],
 "metadata": {
  "colab": {
   "collapsed_sections": [],
   "name": "day0628.ipynb",
   "provenance": [],
   "toc_visible": true
  },
  "kernelspec": {
   "display_name": "Python 3 (ipykernel)",
   "language": "python",
   "name": "python3"
  },
  "language_info": {
   "codemirror_mode": {
    "name": "ipython",
    "version": 3
   },
   "file_extension": ".py",
   "mimetype": "text/x-python",
   "name": "python",
   "nbconvert_exporter": "python",
   "pygments_lexer": "ipython3",
   "version": "3.9.12"
  }
 },
 "nbformat": 4,
 "nbformat_minor": 1
}
