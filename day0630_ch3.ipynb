{
 "cells": [
  {
   "cell_type": "markdown",
   "metadata": {
    "id": "xBsJMsBziue5"
   },
   "source": [
    "title: '머신러닝3 회귀알고리즘'\n",
    "\n",
    "date: '2022-06-30 14:00'\n"
   ]
  },
  {
   "cell_type": "markdown",
   "metadata": {
    "id": "PLkwPfTuUYsy"
   },
   "source": [
    "##  K- 최근접 이웃 회귀\n",
    "- 지도학습 알고리즘은 크게 분류와 회귀\n",
    "- 지도 학습 : 종속변수 존재\n",
    " + 분류 : 도미와 빙어 분류 문제 해결\n",
    " + 회귀 : 통계 회귀분석 y = ax + b\n"
   ]
  },
  {
   "cell_type": "markdown",
   "metadata": {
    "id": "GQJy65JyUk4k"
   },
   "source": [
    "## 데이터 불러오기"
   ]
  },
  {
   "cell_type": "code",
   "execution_count": 42,
   "metadata": {
    "colab": {
     "base_uri": "https://localhost:8080/"
    },
    "id": "c46tlwHhU1U8",
    "outputId": "e386b22c-24bb-4b77-a46c-74ccf688ef0b"
   },
   "outputs": [
    {
     "name": "stdout",
     "output_type": "stream",
     "text": [
      "1.21.6\n"
     ]
    }
   ],
   "source": [
    "import numpy as np\n",
    "print(np.__version__)"
   ]
  },
  {
   "cell_type": "code",
   "execution_count": 20,
   "metadata": {
    "id": "YkfBqpf2UqME"
   },
   "outputs": [],
   "source": [
    "perch_length = np.array(\n",
    "    [8.4, 13.7, 15.0, 16.2, 17.4, 18.0, 18.7, 19.0, 19.6, 20.0, \n",
    "     21.0, 21.0, 21.0, 21.3, 22.0, 22.0, 22.0, 22.0, 22.0, 22.5, \n",
    "     22.5, 22.7, 23.0, 23.5, 24.0, 24.0, 24.6, 25.0, 25.6, 26.5, \n",
    "     27.3, 27.5, 27.5, 27.5, 28.0, 28.7, 30.0, 32.8, 34.5, 35.0, \n",
    "     36.5, 36.0, 37.0, 37.0, 39.0, 39.0, 39.0, 40.0, 40.0, 40.0, \n",
    "     40.0, 42.0, 43.0, 43.0, 43.5, 44.0]\n",
    "     )\n",
    "perch_weight = np.array(\n",
    "    [5.9, 32.0, 40.0, 51.5, 70.0, 100.0, 78.0, 80.0, 85.0, 85.0, \n",
    "     110.0, 115.0, 125.0, 130.0, 120.0, 120.0, 130.0, 135.0, 110.0, \n",
    "     130.0, 150.0, 145.0, 150.0, 170.0, 225.0, 145.0, 188.0, 180.0, \n",
    "     197.0, 218.0, 300.0, 260.0, 265.0, 250.0, 250.0, 300.0, 320.0, \n",
    "     514.0, 556.0, 840.0, 685.0, 700.0, 700.0, 690.0, 900.0, 650.0, \n",
    "     820.0, 850.0, 900.0, 1015.0, 820.0, 1100.0, 1000.0, 1100.0, \n",
    "     1000.0, 1000.0]\n",
    "     )"
   ]
  },
  {
   "cell_type": "code",
   "execution_count": 11,
   "metadata": {
    "colab": {
     "base_uri": "https://localhost:8080/",
     "height": 297
    },
    "id": "YMQAmm_dVGH8",
    "outputId": "5e0a3ac5-903f-4228-8577-25f5f8af7ac4"
   },
   "outputs": [
    {
     "data": {
      "text/plain": [
       "<function matplotlib.pyplot.show>"
      ]
     },
     "execution_count": 11,
     "metadata": {},
     "output_type": "execute_result"
    },
    {
     "data": {
      "image/png": "[encoded data removed]",
      "text/plain": [
       "<Figure size 432x288 with 1 Axes>"
      ]
     },
     "metadata": {
      "needs_background": "light"
     },
     "output_type": "display_data"
    }
   ],
   "source": [
    "import matplotlib.pyplot as plt\n",
    "fig, ax= plt.subplots() # 객체지향의 시작\n",
    "ax.scatter(perch_length,perch_weight)\n",
    "ax.set_xlabel('length')\n",
    "ax.set_ylabel('weight')\n",
    "plt.show\n"
   ]
  },
  {
   "cell_type": "code",
   "execution_count": 43,
   "metadata": {
    "colab": {
     "base_uri": "https://localhost:8080/"
    },
    "id": "dy1x26xpV19k",
    "outputId": "aad6f641-1d4b-493b-c7a9-bd9e21120832"
   },
   "outputs": [
    {
     "name": "stdout",
     "output_type": "stream",
     "text": [
      "1\n"
     ]
    }
   ],
   "source": [
    "from sklearn.model_selection import train_test_split\n",
    "train_input, test_input, train_target, test_target = train_test_split(\n",
    "    perch_length, perch_weight, random_state = 42\n",
    ")\n",
    "\n",
    "train_input.shape, test_input.shape, train_target.shape, test_target.shape\n",
    "print(train_input.ndim)"
   ]
  },
  {
   "cell_type": "markdown",
   "metadata": {
    "id": "CgVYx0d7WnYY"
   },
   "source": [
    "- 1차원 배열-> 2차원 배열\n"
   ]
  },
  {
   "cell_type": "code",
   "execution_count": 29,
   "metadata": {
    "colab": {
     "base_uri": "https://localhost:8080/"
    },
    "id": "AalCkXDaZfSS",
    "outputId": "0cabb9e2-e332-40ca-eb04-2af42e8e6da3"
   },
   "outputs": [
    {
     "name": "stdout",
     "output_type": "stream",
     "text": [
      "(42, 1) (14, 1)\n",
      "2\n"
     ]
    }
   ],
   "source": [
    "train_input = train_input. reshape(-1,1)\n",
    "test_input = test_input.reshape(-1,1)\n",
    "print(train_input.shape, test_input.shape)\n",
    "print(train_input.ndim)"
   ]
  },
  {
   "cell_type": "markdown",
   "metadata": {
    "id": "1rjxEXYDajiT"
   },
   "source": [
    "## 결정계수\n",
    "- Adjusted -R Squared\n",
    "- 정확한 지표(0~1)\n",
    "- 1에 가까울수록 예측 모형이 예측을 잘한다."
   ]
  },
  {
   "cell_type": "code",
   "execution_count": 30,
   "metadata": {
    "colab": {
     "base_uri": "https://localhost:8080/"
    },
    "id": "AB2dKUu_bLOS",
    "outputId": "9bf11bce-2672-4c96-c33c-79763aa5304e"
   },
   "outputs": [
    {
     "name": "stdout",
     "output_type": "stream",
     "text": [
      "0.992809406101064\n"
     ]
    }
   ],
   "source": [
    "from sklearn.neighbors import KNeighborsRegressor\n",
    "\n",
    "knr = KNeighborsRegressor()\n",
    "\n",
    "#모형학습\n",
    "knr.fit(train_input,train_target)\n",
    "\n",
    "#테스트 세트의 점수를 확인한다\n",
    "print(knr.score(test_input,test_target))"
   ]
  },
  {
   "cell_type": "code",
   "execution_count": 36,
   "metadata": {
    "colab": {
     "base_uri": "https://localhost:8080/"
    },
    "id": "hgVUf0RabsrS",
    "outputId": "dc9b1431-d5c0-466b-f950-152d55684f3e"
   },
   "outputs": [
    {
     "name": "stdout",
     "output_type": "stream",
     "text": [
      "19.157142857142862\n"
     ]
    }
   ],
   "source": [
    "from sklearn.metrics import mean_absolute_error\n",
    "\n",
    "#예측 데이터\n",
    "test_prediction = knr.predict(test_input)\n",
    "\n",
    "#테스트 세트에 대한 평균 절댓값 오차를 계산\n",
    "mae = mean_absolute_error(test_target,test_prediction)\n",
    "print(mae)"
   ]
  },
  {
   "cell_type": "markdown",
   "metadata": {
    "id": "O94IRRSfdpKK"
   },
   "source": [
    "- 예측이 평균적으로 19g정도 다르다.\n",
    " + 확실한 것은 오차가 존재하는데 19g이 의미하는 것은 무엇인가?\n",
    "   - 오차를 줄일 필요가 있음(더 많은 데이터를 모으거나 알고리즘을 바꿔야 함)\n",
    " + 개선을 지속적으로 하여 0g이 될때까지"
   ]
  },
  {
   "cell_type": "code",
   "execution_count": 37,
   "metadata": {
    "colab": {
     "base_uri": "https://localhost:8080/"
    },
    "id": "WyfoXhvJcpP6",
    "outputId": "46eebae0-4155-417d-d1fb-b4ad8e396389"
   },
   "outputs": [
    {
     "name": "stdout",
     "output_type": "stream",
     "text": [
      "0.9698823289099254\n"
     ]
    }
   ],
   "source": [
    "print(knr.score(train_input, train_target))"
   ]
  },
  {
   "cell_type": "markdown",
   "metadata": {
    "id": "YQeL1wkrfJb5"
   },
   "source": []
  },
  {
   "cell_type": "markdown",
   "metadata": {
    "id": "AWDqEc1ycs7y"
   },
   "source": [
    "## 과대적합 vs 과소적합\n",
    "- 매우 힘듬. 도망가고 싶음(모형 설계가 잘못됨)\n",
    "- 과대적합 : 훈련세트는 점수 좋으나 테스트 점수가 매우 안좋음\n",
    "- 과소적합 : 테스트세트의 점수가 매우 좋음\n",
    "- 결론 : 제대로 모형이 훈련이 안된 것이기에 모형 서비스에 탑재 불가."
   ]
  },
  {
   "cell_type": "code",
   "execution_count": 39,
   "metadata": {
    "colab": {
     "base_uri": "https://localhost:8080/"
    },
    "id": "hbgrPRZSfPd5",
    "outputId": "bc1561a9-121e-4306-e5fb-177e2614fce2"
   },
   "outputs": [
    {
     "name": "stdout",
     "output_type": "stream",
     "text": [
      "훈련평가: 0.9698823289099254\n",
      "테스트평가: 0.992809406101064\n"
     ]
    }
   ],
   "source": [
    "print(\"훈련평가:\",knr.score(train_input,train_target))\n",
    "print(\"테스트평가:\",knr.score(test_input,test_target))# 테스트세트 점수가 좋기에 과소적합"
   ]
  },
  {
   "cell_type": "markdown",
   "metadata": {
    "id": "Y24j9WURhZs4"
   },
   "source": [
    "- 모형개선 "
   ]
  },
  {
   "cell_type": "code",
   "execution_count": 40,
   "metadata": {
    "colab": {
     "base_uri": "https://localhost:8080/"
    },
    "id": "3vODX2ryhcRp",
    "outputId": "eb27625c-fdb9-4a17-8419-150b23ec47bb"
   },
   "outputs": [
    {
     "name": "stdout",
     "output_type": "stream",
     "text": [
      "훈련 평가: 0.9804899950518966\n",
      "테스트 평가: 0.9746459963987609\n"
     ]
    }
   ],
   "source": [
    "# 이웃의 갯수를 3으로 재 지정\n",
    "knr.n_neighbors = 3\n",
    "\n",
    "# 모형 다시 훈련\n",
    "knr.fit(train_input, train_target)\n",
    "print(\"훈련 평가:\",knr.score(train_input,train_target))\n",
    "print(\"테스트 평가:\",knr.score(test_input, test_target))"
   ]
  }
 ],
 "metadata": {
  "colab": {
   "collapsed_sections": [],
   "name": "day0630_ch3.ipynb",
   "provenance": []
  },
  "kernelspec": {
   "display_name": "Python 3 (ipykernel)",
   "language": "python",
   "name": "python3"
  },
  "language_info": {
   "codemirror_mode": {
    "name": "ipython",
    "version": 3
   },
   "file_extension": ".py",
   "mimetype": "text/x-python",
   "name": "python",
   "nbconvert_exporter": "python",
   "pygments_lexer": "ipython3",
   "version": "3.9.12"
  }
 },
 "nbformat": 4,
 "nbformat_minor": 1
}
