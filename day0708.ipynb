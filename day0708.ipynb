{
 "cells": [
  {
   "cell_type": "markdown",
   "metadata": {
    "id": "tedARQ91ztTs"
   },
   "source": [
    "---\n",
    "\n",
    "# **title: '자전거'**\n",
    "\n",
    "# **date: '2022-07-08 09:00'**\n",
    "\n",
    "---\n"
   ]
  },
  {
   "cell_type": "code",
   "execution_count": 151,
   "metadata": {
    "colab": {
     "base_uri": "https://localhost:8080/"
    },
    "id": "cDY6Wy_n1X-g",
    "outputId": "c81c8540-3656-4be7-a6a8-769a86bf6978"
   },
   "outputs": [
    {
     "name": "stdout",
     "output_type": "stream",
     "text": [
      "Drive already mounted at /content/drive; to attempt to forcibly remount, call drive.mount(\"/content/drive\", force_remount=True).\n"
     ]
    }
   ],
   "source": [
    "from google.colab import drive \n",
    "drive.mount(\"/content/drive\")"
   ]
  },
  {
   "cell_type": "markdown",
   "metadata": {
    "id": "bCJ3CH_JztT4"
   },
   "source": [
    "## step 01. 필수 라이브러리 불러오기\n",
    "- 주석"
   ]
  },
  {
   "cell_type": "code",
   "execution_count": 152,
   "metadata": {
    "colab": {
     "base_uri": "https://localhost:8080/"
    },
    "execution": {
     "iopub.execute_input": "2022-07-08T07:35:53.671955Z",
     "iopub.status.busy": "2022-07-08T07:35:53.671605Z",
     "iopub.status.idle": "2022-07-08T07:35:53.680681Z",
     "shell.execute_reply": "2022-07-08T07:35:53.679456Z",
     "shell.execute_reply.started": "2022-07-08T07:35:53.671926Z"
    },
    "id": "v9tA44a6ztT6",
    "outputId": "ce6020f5-e98b-4f02-b35f-eb9e19cd5a10"
   },
   "outputs": [
    {
     "name": "stdout",
     "output_type": "stream",
     "text": [
      "pandas version : 1.3.5\n",
      "numpy version : 1.21.6\n"
     ]
    }
   ],
   "source": [
    "import pandas as pd # 데이터 가공\n",
    "import numpy as np # 수치 연산\n",
    "import matplotlib as mpl # 시각화 \n",
    "import matplotlib.pyplot as plt \n",
    "import seaborn as sns # 시각화 \n",
    "import sklearn # 머신러닝\n",
    "\n",
    "# 버전 확인\n",
    "print(\"pandas version :\", pd.__version__)\n",
    "print(\"numpy version :\", np.__version__)\n",
    "# matplotlib\n",
    "# sklearn\n",
    "# seaborn"
   ]
  },
  {
   "cell_type": "markdown",
   "metadata": {
    "id": "TFfFVuy8ztT8"
   },
   "source": [
    "## step 02. 데이터 불러오기\n",
    "- 데이터를 불러온다. "
   ]
  },
  {
   "cell_type": "code",
   "execution_count": 153,
   "metadata": {
    "colab": {
     "base_uri": "https://localhost:8080/"
    },
    "execution": {
     "iopub.execute_input": "2022-07-08T07:35:53.692845Z",
     "iopub.status.busy": "2022-07-08T07:35:53.691792Z",
     "iopub.status.idle": "2022-07-08T07:35:53.734662Z",
     "shell.execute_reply": "2022-07-08T07:35:53.733308Z",
     "shell.execute_reply.started": "2022-07-08T07:35:53.692798Z"
    },
    "id": "uPoNqcApztT9",
    "outputId": "d8e26cf0-5864-4981-8e69-dddbb8f07d7b"
   },
   "outputs": [
    {
     "data": {
      "text/plain": [
       "((10886, 12), (6493, 9), (6493, 2))"
      ]
     },
     "execution_count": 153,
     "metadata": {},
     "output_type": "execute_result"
    }
   ],
   "source": [
    "DATA_PATH = '/content/drive/MyDrive/Colab Notebooks/Human_ai/lecture/bike/'\n",
    "\n",
    "train = pd.read_csv(DATA_PATH + 'train.csv') # 훈련 데이터\n",
    "test = pd.read_csv(DATA_PATH + 'test.csv')   # 테스트 데이터\n",
    "submission = pd.read_csv(DATA_PATH + 'sampleSubmission.csv') # 제출 샘플 데이터\n",
    "\n",
    "train.shape, test.shape, submission.shape"
   ]
  },
  {
   "cell_type": "markdown",
   "metadata": {
    "id": "WQLfEatoztT_"
   },
   "source": [
    "## step 03. 데이터 확인하기"
   ]
  },
  {
   "cell_type": "code",
   "execution_count": 154,
   "metadata": {
    "colab": {
     "base_uri": "https://localhost:8080/"
    },
    "execution": {
     "iopub.execute_input": "2022-07-08T07:35:53.740946Z",
     "iopub.status.busy": "2022-07-08T07:35:53.738654Z",
     "iopub.status.idle": "2022-07-08T07:35:53.755006Z",
     "shell.execute_reply": "2022-07-08T07:35:53.753944Z",
     "shell.execute_reply.started": "2022-07-08T07:35:53.740907Z"
    },
    "id": "l0JrQ73_ztUB",
    "outputId": "3935e900-a689-40e9-bd24-a099fd28750a"
   },
   "outputs": [
    {
     "name": "stdout",
     "output_type": "stream",
     "text": [
      "<class 'pandas.core.frame.DataFrame'>\n",
      "RangeIndex: 10886 entries, 0 to 10885\n",
      "Data columns (total 12 columns):\n",
      " #   Column      Non-Null Count  Dtype  \n",
      "---  ------      --------------  -----  \n",
      " 0   datetime    10886 non-null  object \n",
      " 1   season      10886 non-null  int64  \n",
      " 2   holiday     10886 non-null  int64  \n",
      " 3   workingday  10886 non-null  int64  \n",
      " 4   weather     10886 non-null  int64  \n",
      " 5   temp        10886 non-null  float64\n",
      " 6   atemp       10886 non-null  float64\n",
      " 7   humidity    10886 non-null  int64  \n",
      " 8   windspeed   10886 non-null  float64\n",
      " 9   casual      10886 non-null  int64  \n",
      " 10  registered  10886 non-null  int64  \n",
      " 11  count       10886 non-null  int64  \n",
      "dtypes: float64(3), int64(8), object(1)\n",
      "memory usage: 1020.7+ KB\n"
     ]
    }
   ],
   "source": [
    "train.info()"
   ]
  },
  {
   "cell_type": "code",
   "execution_count": 155,
   "metadata": {
    "colab": {
     "base_uri": "https://localhost:8080/"
    },
    "execution": {
     "iopub.execute_input": "2022-07-08T07:35:53.757665Z",
     "iopub.status.busy": "2022-07-08T07:35:53.757042Z",
     "iopub.status.idle": "2022-07-08T07:35:53.771030Z",
     "shell.execute_reply": "2022-07-08T07:35:53.770124Z",
     "shell.execute_reply.started": "2022-07-08T07:35:53.757622Z"
    },
    "id": "Uc4ONoPuztUC",
    "outputId": "b24e420a-acab-4dad-d2f0-b0b2050bc556"
   },
   "outputs": [
    {
     "name": "stdout",
     "output_type": "stream",
     "text": [
      "<class 'pandas.core.frame.DataFrame'>\n",
      "RangeIndex: 6493 entries, 0 to 6492\n",
      "Data columns (total 9 columns):\n",
      " #   Column      Non-Null Count  Dtype  \n",
      "---  ------      --------------  -----  \n",
      " 0   datetime    6493 non-null   object \n",
      " 1   season      6493 non-null   int64  \n",
      " 2   holiday     6493 non-null   int64  \n",
      " 3   workingday  6493 non-null   int64  \n",
      " 4   weather     6493 non-null   int64  \n",
      " 5   temp        6493 non-null   float64\n",
      " 6   atemp       6493 non-null   float64\n",
      " 7   humidity    6493 non-null   int64  \n",
      " 8   windspeed   6493 non-null   float64\n",
      "dtypes: float64(3), int64(5), object(1)\n",
      "memory usage: 456.7+ KB\n"
     ]
    }
   ],
   "source": [
    "test.info()"
   ]
  },
  {
   "cell_type": "markdown",
   "metadata": {
    "id": "ifI7_MblztUD"
   },
   "source": [
    "- 현재 판단으로는 결측치가 없어 보임. "
   ]
  },
  {
   "cell_type": "markdown",
   "metadata": {
    "id": "7Zk1zIW_ztUD"
   },
   "source": [
    "## step 03. 탐색적 자료 분석\n",
    "- 시각화\n",
    "- 날짜 기반\n",
    "- train 다이렉트로 변화를 주면 전처리 시 헷갈림\n",
    "- 복제본 뜬다. (탐색적 자료 분석)\n",
    "- 데이터 셋 매우 작음\n",
    "    + 전체를 다 써도 큰 상관 없음\n",
    "    + 전체 데이터에서 일부 샘플링 함"
   ]
  },
  {
   "cell_type": "code",
   "execution_count": 156,
   "metadata": {
    "colab": {
     "base_uri": "https://localhost:8080/"
    },
    "execution": {
     "iopub.execute_input": "2022-07-08T07:35:53.773031Z",
     "iopub.status.busy": "2022-07-08T07:35:53.772589Z",
     "iopub.status.idle": "2022-07-08T07:35:53.791216Z",
     "shell.execute_reply": "2022-07-08T07:35:53.789993Z",
     "shell.execute_reply.started": "2022-07-08T07:35:53.773004Z"
    },
    "id": "M8eAVNUOztUE",
    "outputId": "bc244c13-b7c5-43d3-9d50-0e8db9cf9cbe"
   },
   "outputs": [
    {
     "name": "stdout",
     "output_type": "stream",
     "text": [
      "<class 'pandas.core.frame.DataFrame'>\n",
      "RangeIndex: 10886 entries, 0 to 10885\n",
      "Data columns (total 12 columns):\n",
      " #   Column      Non-Null Count  Dtype  \n",
      "---  ------      --------------  -----  \n",
      " 0   datetime    10886 non-null  object \n",
      " 1   season      10886 non-null  int64  \n",
      " 2   holiday     10886 non-null  int64  \n",
      " 3   workingday  10886 non-null  int64  \n",
      " 4   weather     10886 non-null  int64  \n",
      " 5   temp        10886 non-null  float64\n",
      " 6   atemp       10886 non-null  float64\n",
      " 7   humidity    10886 non-null  int64  \n",
      " 8   windspeed   10886 non-null  float64\n",
      " 9   casual      10886 non-null  int64  \n",
      " 10  registered  10886 non-null  int64  \n",
      " 11  count       10886 non-null  int64  \n",
      "dtypes: float64(3), int64(8), object(1)\n",
      "memory usage: 1020.7+ KB\n"
     ]
    }
   ],
   "source": [
    "temp_df = train.copy()\n",
    "temp_df.info()"
   ]
  },
  {
   "cell_type": "markdown",
   "metadata": {
    "id": "XZ9e6gOZztUE"
   },
   "source": [
    "- 시각화를 위한 날짜 데이터 처리\n",
    "- 연도, 월, 일자, 시간, 분, 초\n"
   ]
  },
  {
   "cell_type": "code",
   "execution_count": 157,
   "metadata": {
    "colab": {
     "base_uri": "https://localhost:8080/"
    },
    "execution": {
     "iopub.execute_input": "2022-07-08T07:35:53.793897Z",
     "iopub.status.busy": "2022-07-08T07:35:53.793180Z",
     "iopub.status.idle": "2022-07-08T07:35:53.801739Z",
     "shell.execute_reply": "2022-07-08T07:35:53.800528Z",
     "shell.execute_reply.started": "2022-07-08T07:35:53.793852Z"
    },
    "id": "9RTW-Z3-ztUE",
    "outputId": "ba750680-944f-4ed1-bbef-d03d0fe6337f"
   },
   "outputs": [
    {
     "data": {
      "text/plain": [
       "0    2011-01-01 00:00:00\n",
       "1    2011-01-01 01:00:00\n",
       "2    2011-01-01 02:00:00\n",
       "3    2011-01-01 03:00:00\n",
       "4    2011-01-01 04:00:00\n",
       "5    2011-01-01 05:00:00\n",
       "6    2011-01-01 06:00:00\n",
       "7    2011-01-01 07:00:00\n",
       "8    2011-01-01 08:00:00\n",
       "9    2011-01-01 09:00:00\n",
       "Name: datetime, dtype: object"
      ]
     },
     "execution_count": 157,
     "metadata": {},
     "output_type": "execute_result"
    }
   ],
   "source": [
    "temp_df['datetime'][:10]"
   ]
  },
  {
   "cell_type": "code",
   "execution_count": 158,
   "metadata": {
    "colab": {
     "base_uri": "https://localhost:8080/"
    },
    "execution": {
     "iopub.execute_input": "2022-07-08T07:35:53.809787Z",
     "iopub.status.busy": "2022-07-08T07:35:53.809419Z",
     "iopub.status.idle": "2022-07-08T07:35:53.817342Z",
     "shell.execute_reply": "2022-07-08T07:35:53.816557Z",
     "shell.execute_reply.started": "2022-07-08T07:35:53.809756Z"
    },
    "id": "kb6pgJEhztUF",
    "outputId": "c8fcebed-85ed-47bb-de77-ef45b616bf83"
   },
   "outputs": [
    {
     "name": "stdout",
     "output_type": "stream",
     "text": [
      "00:00:00\n",
      "05\n"
     ]
    }
   ],
   "source": [
    "print(temp_df['datetime'][0].split()[1])\n",
    "print(temp_df['datetime'][100].split()[0].split('-')[2])"
   ]
  },
  {
   "cell_type": "code",
   "execution_count": 159,
   "metadata": {
    "colab": {
     "base_uri": "https://localhost:8080/"
    },
    "execution": {
     "iopub.execute_input": "2022-07-08T07:35:53.832196Z",
     "iopub.status.busy": "2022-07-08T07:35:53.831649Z",
     "iopub.status.idle": "2022-07-08T07:35:54.132449Z",
     "shell.execute_reply": "2022-07-08T07:35:54.131298Z",
     "shell.execute_reply.started": "2022-07-08T07:35:53.832165Z"
    },
    "id": "F4Y4euTIztUF",
    "outputId": "f5d00d63-81ad-45a5-dd27-b38ba53ea596"
   },
   "outputs": [
    {
     "name": "stdout",
     "output_type": "stream",
     "text": [
      "2011 01 05\n"
     ]
    }
   ],
   "source": [
    "year = temp_df['datetime'][100].split()[0].split('-')[0]\n",
    "month = temp_df['datetime'][100].split()[0].split('-')[1]\n",
    "day = temp_df['datetime'][100].split()[0].split('-')[2]\n",
    "\n",
    "print(year, month, day)"
   ]
  },
  {
   "cell_type": "code",
   "execution_count": 160,
   "metadata": {
    "colab": {
     "base_uri": "https://localhost:8080/"
    },
    "execution": {
     "iopub.execute_input": "2022-07-08T07:35:54.134663Z",
     "iopub.status.busy": "2022-07-08T07:35:54.134339Z",
     "iopub.status.idle": "2022-07-08T07:35:54.148420Z",
     "shell.execute_reply": "2022-07-08T07:35:54.147685Z",
     "shell.execute_reply.started": "2022-07-08T07:35:54.134629Z"
    },
    "id": "xEm9PSW_ztUG",
    "outputId": "134c795f-dd02-4980-f965-72c12c4c51be"
   },
   "outputs": [
    {
     "data": {
      "text/plain": [
       "('02', '00', '00')"
      ]
     },
     "execution_count": 160,
     "metadata": {},
     "output_type": "execute_result"
    }
   ],
   "source": [
    "hour = temp_df['datetime'][2].split()[1].split(':')[0]\n",
    "minutes = temp_df['datetime'][2].split()[1].split(':')[1]\n",
    "seconds = temp_df['datetime'][2].split()[1].split(':')[2]\n",
    "\n",
    "hour, minutes, seconds"
   ]
  },
  {
   "cell_type": "code",
   "execution_count": 161,
   "metadata": {
    "colab": {
     "base_uri": "https://localhost:8080/",
     "height": 35
    },
    "execution": {
     "iopub.execute_input": "2022-07-08T07:35:54.150348Z",
     "iopub.status.busy": "2022-07-08T07:35:54.149402Z",
     "iopub.status.idle": "2022-07-08T07:35:54.170027Z",
     "shell.execute_reply": "2022-07-08T07:35:54.169061Z",
     "shell.execute_reply.started": "2022-07-08T07:35:54.150314Z"
    },
    "id": "fYnKwsxjztUG",
    "outputId": "ae9ad455-2f08-4ed7-c95e-8c2d0d70abd3"
   },
   "outputs": [
    {
     "data": {
      "application/vnd.google.colaboratory.intrinsic+json": {
       "type": "string"
      },
      "text/plain": [
       "'2011-01-01'"
      ]
     },
     "execution_count": 161,
     "metadata": {},
     "output_type": "execute_result"
    }
   ],
   "source": [
    "temp_df['datetime'][0].split()[0]"
   ]
  },
  {
   "cell_type": "markdown",
   "metadata": {
    "id": "BLsYZ_wAztUG"
   },
   "source": [
    "- 시간 데이터 전처리 방법론 1. "
   ]
  },
  {
   "cell_type": "code",
   "execution_count": 162,
   "metadata": {
    "colab": {
     "base_uri": "https://localhost:8080/",
     "height": 442
    },
    "execution": {
     "iopub.execute_input": "2022-07-08T07:35:54.172525Z",
     "iopub.status.busy": "2022-07-08T07:35:54.171783Z",
     "iopub.status.idle": "2022-07-08T07:35:54.233097Z",
     "shell.execute_reply": "2022-07-08T07:35:54.232034Z",
     "shell.execute_reply.started": "2022-07-08T07:35:54.172490Z"
    },
    "id": "efPN2KWjztUH",
    "outputId": "5e97895c-d31e-4a9f-be40-84a314eb1eb0"
   },
   "outputs": [
    {
     "name": "stdout",
     "output_type": "stream",
     "text": [
      "실행시간 (second) ->  0.043\n"
     ]
    },
    {
     "data": {
      "text/html": [
       "\n",
       "  <div id=\"df-4e800a1d-593a-452f-8f87-30e7464779ba\">\n",
       "    <div class=\"colab-df-container\">\n",
       "      <div>\n",
       "<style scoped>\n",
       "    .dataframe tbody tr th:only-of-type {\n",
       "        vertical-align: middle;\n",
       "    }\n",
       "\n",
       "    .dataframe tbody tr th {\n",
       "        vertical-align: top;\n",
       "    }\n",
       "\n",
       "    .dataframe thead th {\n",
       "        text-align: right;\n",
       "    }\n",
       "</style>\n",
       "<table border=\"1\" class=\"dataframe\">\n",
       "  <thead>\n",
       "    <tr style=\"text-align: right;\">\n",
       "      <th></th>\n",
       "      <th>datetime</th>\n",
       "      <th>year</th>\n",
       "      <th>month</th>\n",
       "      <th>day</th>\n",
       "      <th>hour</th>\n",
       "    </tr>\n",
       "  </thead>\n",
       "  <tbody>\n",
       "    <tr>\n",
       "      <th>0</th>\n",
       "      <td>2011-01-01 00:00:00</td>\n",
       "      <td>2011</td>\n",
       "      <td>01</td>\n",
       "      <td>01</td>\n",
       "      <td>00</td>\n",
       "    </tr>\n",
       "    <tr>\n",
       "      <th>1</th>\n",
       "      <td>2011-01-01 01:00:00</td>\n",
       "      <td>2011</td>\n",
       "      <td>01</td>\n",
       "      <td>01</td>\n",
       "      <td>01</td>\n",
       "    </tr>\n",
       "    <tr>\n",
       "      <th>2</th>\n",
       "      <td>2011-01-01 02:00:00</td>\n",
       "      <td>2011</td>\n",
       "      <td>01</td>\n",
       "      <td>01</td>\n",
       "      <td>02</td>\n",
       "    </tr>\n",
       "    <tr>\n",
       "      <th>3</th>\n",
       "      <td>2011-01-01 03:00:00</td>\n",
       "      <td>2011</td>\n",
       "      <td>01</td>\n",
       "      <td>01</td>\n",
       "      <td>03</td>\n",
       "    </tr>\n",
       "    <tr>\n",
       "      <th>4</th>\n",
       "      <td>2011-01-01 04:00:00</td>\n",
       "      <td>2011</td>\n",
       "      <td>01</td>\n",
       "      <td>01</td>\n",
       "      <td>04</td>\n",
       "    </tr>\n",
       "    <tr>\n",
       "      <th>...</th>\n",
       "      <td>...</td>\n",
       "      <td>...</td>\n",
       "      <td>...</td>\n",
       "      <td>...</td>\n",
       "      <td>...</td>\n",
       "    </tr>\n",
       "    <tr>\n",
       "      <th>10881</th>\n",
       "      <td>2012-12-19 19:00:00</td>\n",
       "      <td>2012</td>\n",
       "      <td>12</td>\n",
       "      <td>19</td>\n",
       "      <td>19</td>\n",
       "    </tr>\n",
       "    <tr>\n",
       "      <th>10882</th>\n",
       "      <td>2012-12-19 20:00:00</td>\n",
       "      <td>2012</td>\n",
       "      <td>12</td>\n",
       "      <td>19</td>\n",
       "      <td>20</td>\n",
       "    </tr>\n",
       "    <tr>\n",
       "      <th>10883</th>\n",
       "      <td>2012-12-19 21:00:00</td>\n",
       "      <td>2012</td>\n",
       "      <td>12</td>\n",
       "      <td>19</td>\n",
       "      <td>21</td>\n",
       "    </tr>\n",
       "    <tr>\n",
       "      <th>10884</th>\n",
       "      <td>2012-12-19 22:00:00</td>\n",
       "      <td>2012</td>\n",
       "      <td>12</td>\n",
       "      <td>19</td>\n",
       "      <td>22</td>\n",
       "    </tr>\n",
       "    <tr>\n",
       "      <th>10885</th>\n",
       "      <td>2012-12-19 23:00:00</td>\n",
       "      <td>2012</td>\n",
       "      <td>12</td>\n",
       "      <td>19</td>\n",
       "      <td>23</td>\n",
       "    </tr>\n",
       "  </tbody>\n",
       "</table>\n",
       "<p>10886 rows × 5 columns</p>\n",
       "</div>\n",
       "      <button class=\"colab-df-convert\" onclick=\"convertToInteractive('df-4e800a1d-593a-452f-8f87-30e7464779ba')\"\n",
       "              title=\"Convert this dataframe to an interactive table.\"\n",
       "              style=\"display:none;\">\n",
       "        \n",
       "  <svg xmlns=\"http://www.w3.org/2000/svg\" height=\"24px\"viewBox=\"0 0 24 24\"\n",
       "       width=\"24px\">\n",
       "    <path d=\"M0 0h24v24H0V0z\" fill=\"none\"/>\n",
       "    <path d=\"M18.56 5.44l.94 2.06.94-2.06 2.06-.94-2.06-.94-.94-2.06-.94 2.06-2.06.94zm-11 1L8.5 8.5l.94-2.06 2.06-.94-2.06-.94L8.5 2.5l-.94 2.06-2.06.94zm10 10l.94 2.06.94-2.06 2.06-.94-2.06-.94-.94-2.06-.94 2.06-2.06.94z\"/><path d=\"M17.41 7.96l-1.37-1.37c-.4-.4-.92-.59-1.43-.59-.52 0-1.04.2-1.43.59L10.3 9.45l-7.72 7.72c-.78.78-.78 2.05 0 2.83L4 21.41c.39.39.9.59 1.41.59.51 0 1.02-.2 1.41-.59l7.78-7.78 2.81-2.81c.8-.78.8-2.07 0-2.86zM5.41 20L4 18.59l7.72-7.72 1.47 1.35L5.41 20z\"/>\n",
       "  </svg>\n",
       "      </button>\n",
       "      \n",
       "  <style>\n",
       "    .colab-df-container {\n",
       "      display:flex;\n",
       "      flex-wrap:wrap;\n",
       "      gap: 12px;\n",
       "    }\n",
       "\n",
       "    .colab-df-convert {\n",
       "      background-color: #E8F0FE;\n",
       "      border: none;\n",
       "      border-radius: 50%;\n",
       "      cursor: pointer;\n",
       "      display: none;\n",
       "      fill: #1967D2;\n",
       "      height: 32px;\n",
       "      padding: 0 0 0 0;\n",
       "      width: 32px;\n",
       "    }\n",
       "\n",
       "    .colab-df-convert:hover {\n",
       "      background-color: #E2EBFA;\n",
       "      box-shadow: 0px 1px 2px rgba(60, 64, 67, 0.3), 0px 1px 3px 1px rgba(60, 64, 67, 0.15);\n",
       "      fill: #174EA6;\n",
       "    }\n",
       "\n",
       "    [theme=dark] .colab-df-convert {\n",
       "      background-color: #3B4455;\n",
       "      fill: #D2E3FC;\n",
       "    }\n",
       "\n",
       "    [theme=dark] .colab-df-convert:hover {\n",
       "      background-color: #434B5C;\n",
       "      box-shadow: 0px 1px 3px 1px rgba(0, 0, 0, 0.15);\n",
       "      filter: drop-shadow(0px 1px 2px rgba(0, 0, 0, 0.3));\n",
       "      fill: #FFFFFF;\n",
       "    }\n",
       "  </style>\n",
       "\n",
       "      <script>\n",
       "        const buttonEl =\n",
       "          document.querySelector('#df-4e800a1d-593a-452f-8f87-30e7464779ba button.colab-df-convert');\n",
       "        buttonEl.style.display =\n",
       "          google.colab.kernel.accessAllowed ? 'block' : 'none';\n",
       "\n",
       "        async function convertToInteractive(key) {\n",
       "          const element = document.querySelector('#df-4e800a1d-593a-452f-8f87-30e7464779ba');\n",
       "          const dataTable =\n",
       "            await google.colab.kernel.invokeFunction('convertToInteractive',\n",
       "                                                     [key], {});\n",
       "          if (!dataTable) return;\n",
       "\n",
       "          const docLinkHtml = 'Like what you see? Visit the ' +\n",
       "            '<a target=\"_blank\" href=https://colab.research.google.com/notebooks/data_table.ipynb>data table notebook</a>'\n",
       "            + ' to learn more about interactive tables.';\n",
       "          element.innerHTML = '';\n",
       "          dataTable['output_type'] = 'display_data';\n",
       "          await google.colab.output.renderOutput(dataTable, element);\n",
       "          const docLink = document.createElement('div');\n",
       "          docLink.innerHTML = docLinkHtml;\n",
       "          element.appendChild(docLink);\n",
       "        }\n",
       "      </script>\n",
       "    </div>\n",
       "  </div>\n",
       "  "
      ],
      "text/plain": [
       "                  datetime  year month day hour\n",
       "0      2011-01-01 00:00:00  2011    01  01   00\n",
       "1      2011-01-01 01:00:00  2011    01  01   01\n",
       "2      2011-01-01 02:00:00  2011    01  01   02\n",
       "3      2011-01-01 03:00:00  2011    01  01   03\n",
       "4      2011-01-01 04:00:00  2011    01  01   04\n",
       "...                    ...   ...   ...  ..  ...\n",
       "10881  2012-12-19 19:00:00  2012    12  19   19\n",
       "10882  2012-12-19 20:00:00  2012    12  19   20\n",
       "10883  2012-12-19 21:00:00  2012    12  19   21\n",
       "10884  2012-12-19 22:00:00  2012    12  19   22\n",
       "10885  2012-12-19 23:00:00  2012    12  19   23\n",
       "\n",
       "[10886 rows x 5 columns]"
      ]
     },
     "execution_count": 162,
     "metadata": {},
     "output_type": "execute_result"
    }
   ],
   "source": [
    "import time \n",
    "import datetime \n",
    "\n",
    "# 시간 테스트 \n",
    "start_time = time.time()\n",
    "\n",
    "temp_df['date'] = temp_df['datetime'].apply(lambda x : x.split()[0])\n",
    "temp_df['year'] = temp_df['datetime'].apply(lambda x : x.split()[0].split('-')[0])\n",
    "temp_df['month'] = temp_df['datetime'].apply(lambda x : x.split()[0].split('-')[1])\n",
    "temp_df['day'] = temp_df['datetime'].apply(lambda x : x.split()[0].split('-')[2])\n",
    "temp_df['hour'] = temp_df['datetime'].apply(lambda x : x.split()[1].split(':')[0])\n",
    "\n",
    "end_time = time.time() \n",
    "lambda_ctime = end_time - start_time\n",
    "\n",
    "print(\"실행시간 (second) -> \", np.round(lambda_ctime, 3))\n",
    "temp_df[['datetime', 'year', 'month', 'day', 'hour']]"
   ]
  },
  {
   "cell_type": "markdown",
   "metadata": {
    "id": "KsvhkBeVztUH"
   },
   "source": [
    "- 시간 데이터 방법론 전처리 2"
   ]
  },
  {
   "cell_type": "code",
   "execution_count": 163,
   "metadata": {
    "execution": {
     "iopub.execute_input": "2022-07-08T07:35:54.235000Z",
     "iopub.status.busy": "2022-07-08T07:35:54.234584Z",
     "iopub.status.idle": "2022-07-08T07:35:54.248355Z",
     "shell.execute_reply": "2022-07-08T07:35:54.247388Z",
     "shell.execute_reply.started": "2022-07-08T07:35:54.234959Z"
    },
    "id": "wMDcFnubztUH"
   },
   "outputs": [],
   "source": [
    "temp_df['date'] = pd.to_datetime(temp_df['datetime'])\n",
    "temp_df['year'] = temp_df['date'].dt.year"
   ]
  },
  {
   "cell_type": "code",
   "execution_count": 164,
   "metadata": {
    "colab": {
     "base_uri": "https://localhost:8080/",
     "height": 442
    },
    "execution": {
     "iopub.execute_input": "2022-07-08T07:35:54.250738Z",
     "iopub.status.busy": "2022-07-08T07:35:54.249671Z",
     "iopub.status.idle": "2022-07-08T07:35:54.283271Z",
     "shell.execute_reply": "2022-07-08T07:35:54.282593Z",
     "shell.execute_reply.started": "2022-07-08T07:35:54.250694Z"
    },
    "id": "fWk4RqDTztUI",
    "outputId": "2024c542-f369-49bf-9e19-b300c703748f"
   },
   "outputs": [
    {
     "name": "stdout",
     "output_type": "stream",
     "text": [
      "실행시간 (second) ->  0.013\n"
     ]
    },
    {
     "data": {
      "text/html": [
       "\n",
       "  <div id=\"df-60e2ba36-d212-44ef-bb9b-c70818ecf681\">\n",
       "    <div class=\"colab-df-container\">\n",
       "      <div>\n",
       "<style scoped>\n",
       "    .dataframe tbody tr th:only-of-type {\n",
       "        vertical-align: middle;\n",
       "    }\n",
       "\n",
       "    .dataframe tbody tr th {\n",
       "        vertical-align: top;\n",
       "    }\n",
       "\n",
       "    .dataframe thead th {\n",
       "        text-align: right;\n",
       "    }\n",
       "</style>\n",
       "<table border=\"1\" class=\"dataframe\">\n",
       "  <thead>\n",
       "    <tr style=\"text-align: right;\">\n",
       "      <th></th>\n",
       "      <th>datetime</th>\n",
       "      <th>year</th>\n",
       "      <th>month</th>\n",
       "      <th>day</th>\n",
       "      <th>hour</th>\n",
       "    </tr>\n",
       "  </thead>\n",
       "  <tbody>\n",
       "    <tr>\n",
       "      <th>0</th>\n",
       "      <td>2011-01-01 00:00:00</td>\n",
       "      <td>2011</td>\n",
       "      <td>1</td>\n",
       "      <td>1</td>\n",
       "      <td>0</td>\n",
       "    </tr>\n",
       "    <tr>\n",
       "      <th>1</th>\n",
       "      <td>2011-01-01 01:00:00</td>\n",
       "      <td>2011</td>\n",
       "      <td>1</td>\n",
       "      <td>1</td>\n",
       "      <td>1</td>\n",
       "    </tr>\n",
       "    <tr>\n",
       "      <th>2</th>\n",
       "      <td>2011-01-01 02:00:00</td>\n",
       "      <td>2011</td>\n",
       "      <td>1</td>\n",
       "      <td>1</td>\n",
       "      <td>2</td>\n",
       "    </tr>\n",
       "    <tr>\n",
       "      <th>3</th>\n",
       "      <td>2011-01-01 03:00:00</td>\n",
       "      <td>2011</td>\n",
       "      <td>1</td>\n",
       "      <td>1</td>\n",
       "      <td>3</td>\n",
       "    </tr>\n",
       "    <tr>\n",
       "      <th>4</th>\n",
       "      <td>2011-01-01 04:00:00</td>\n",
       "      <td>2011</td>\n",
       "      <td>1</td>\n",
       "      <td>1</td>\n",
       "      <td>4</td>\n",
       "    </tr>\n",
       "    <tr>\n",
       "      <th>...</th>\n",
       "      <td>...</td>\n",
       "      <td>...</td>\n",
       "      <td>...</td>\n",
       "      <td>...</td>\n",
       "      <td>...</td>\n",
       "    </tr>\n",
       "    <tr>\n",
       "      <th>10881</th>\n",
       "      <td>2012-12-19 19:00:00</td>\n",
       "      <td>2012</td>\n",
       "      <td>12</td>\n",
       "      <td>19</td>\n",
       "      <td>19</td>\n",
       "    </tr>\n",
       "    <tr>\n",
       "      <th>10882</th>\n",
       "      <td>2012-12-19 20:00:00</td>\n",
       "      <td>2012</td>\n",
       "      <td>12</td>\n",
       "      <td>19</td>\n",
       "      <td>20</td>\n",
       "    </tr>\n",
       "    <tr>\n",
       "      <th>10883</th>\n",
       "      <td>2012-12-19 21:00:00</td>\n",
       "      <td>2012</td>\n",
       "      <td>12</td>\n",
       "      <td>19</td>\n",
       "      <td>21</td>\n",
       "    </tr>\n",
       "    <tr>\n",
       "      <th>10884</th>\n",
       "      <td>2012-12-19 22:00:00</td>\n",
       "      <td>2012</td>\n",
       "      <td>12</td>\n",
       "      <td>19</td>\n",
       "      <td>22</td>\n",
       "    </tr>\n",
       "    <tr>\n",
       "      <th>10885</th>\n",
       "      <td>2012-12-19 23:00:00</td>\n",
       "      <td>2012</td>\n",
       "      <td>12</td>\n",
       "      <td>19</td>\n",
       "      <td>23</td>\n",
       "    </tr>\n",
       "  </tbody>\n",
       "</table>\n",
       "<p>10886 rows × 5 columns</p>\n",
       "</div>\n",
       "      <button class=\"colab-df-convert\" onclick=\"convertToInteractive('df-60e2ba36-d212-44ef-bb9b-c70818ecf681')\"\n",
       "              title=\"Convert this dataframe to an interactive table.\"\n",
       "              style=\"display:none;\">\n",
       "        \n",
       "  <svg xmlns=\"http://www.w3.org/2000/svg\" height=\"24px\"viewBox=\"0 0 24 24\"\n",
       "       width=\"24px\">\n",
       "    <path d=\"M0 0h24v24H0V0z\" fill=\"none\"/>\n",
       "    <path d=\"M18.56 5.44l.94 2.06.94-2.06 2.06-.94-2.06-.94-.94-2.06-.94 2.06-2.06.94zm-11 1L8.5 8.5l.94-2.06 2.06-.94-2.06-.94L8.5 2.5l-.94 2.06-2.06.94zm10 10l.94 2.06.94-2.06 2.06-.94-2.06-.94-.94-2.06-.94 2.06-2.06.94z\"/><path d=\"M17.41 7.96l-1.37-1.37c-.4-.4-.92-.59-1.43-.59-.52 0-1.04.2-1.43.59L10.3 9.45l-7.72 7.72c-.78.78-.78 2.05 0 2.83L4 21.41c.39.39.9.59 1.41.59.51 0 1.02-.2 1.41-.59l7.78-7.78 2.81-2.81c.8-.78.8-2.07 0-2.86zM5.41 20L4 18.59l7.72-7.72 1.47 1.35L5.41 20z\"/>\n",
       "  </svg>\n",
       "      </button>\n",
       "      \n",
       "  <style>\n",
       "    .colab-df-container {\n",
       "      display:flex;\n",
       "      flex-wrap:wrap;\n",
       "      gap: 12px;\n",
       "    }\n",
       "\n",
       "    .colab-df-convert {\n",
       "      background-color: #E8F0FE;\n",
       "      border: none;\n",
       "      border-radius: 50%;\n",
       "      cursor: pointer;\n",
       "      display: none;\n",
       "      fill: #1967D2;\n",
       "      height: 32px;\n",
       "      padding: 0 0 0 0;\n",
       "      width: 32px;\n",
       "    }\n",
       "\n",
       "    .colab-df-convert:hover {\n",
       "      background-color: #E2EBFA;\n",
       "      box-shadow: 0px 1px 2px rgba(60, 64, 67, 0.3), 0px 1px 3px 1px rgba(60, 64, 67, 0.15);\n",
       "      fill: #174EA6;\n",
       "    }\n",
       "\n",
       "    [theme=dark] .colab-df-convert {\n",
       "      background-color: #3B4455;\n",
       "      fill: #D2E3FC;\n",
       "    }\n",
       "\n",
       "    [theme=dark] .colab-df-convert:hover {\n",
       "      background-color: #434B5C;\n",
       "      box-shadow: 0px 1px 3px 1px rgba(0, 0, 0, 0.15);\n",
       "      filter: drop-shadow(0px 1px 2px rgba(0, 0, 0, 0.3));\n",
       "      fill: #FFFFFF;\n",
       "    }\n",
       "  </style>\n",
       "\n",
       "      <script>\n",
       "        const buttonEl =\n",
       "          document.querySelector('#df-60e2ba36-d212-44ef-bb9b-c70818ecf681 button.colab-df-convert');\n",
       "        buttonEl.style.display =\n",
       "          google.colab.kernel.accessAllowed ? 'block' : 'none';\n",
       "\n",
       "        async function convertToInteractive(key) {\n",
       "          const element = document.querySelector('#df-60e2ba36-d212-44ef-bb9b-c70818ecf681');\n",
       "          const dataTable =\n",
       "            await google.colab.kernel.invokeFunction('convertToInteractive',\n",
       "                                                     [key], {});\n",
       "          if (!dataTable) return;\n",
       "\n",
       "          const docLinkHtml = 'Like what you see? Visit the ' +\n",
       "            '<a target=\"_blank\" href=https://colab.research.google.com/notebooks/data_table.ipynb>data table notebook</a>'\n",
       "            + ' to learn more about interactive tables.';\n",
       "          element.innerHTML = '';\n",
       "          dataTable['output_type'] = 'display_data';\n",
       "          await google.colab.output.renderOutput(dataTable, element);\n",
       "          const docLink = document.createElement('div');\n",
       "          docLink.innerHTML = docLinkHtml;\n",
       "          element.appendChild(docLink);\n",
       "        }\n",
       "      </script>\n",
       "    </div>\n",
       "  </div>\n",
       "  "
      ],
      "text/plain": [
       "                  datetime  year  month  day  hour\n",
       "0      2011-01-01 00:00:00  2011      1    1     0\n",
       "1      2011-01-01 01:00:00  2011      1    1     1\n",
       "2      2011-01-01 02:00:00  2011      1    1     2\n",
       "3      2011-01-01 03:00:00  2011      1    1     3\n",
       "4      2011-01-01 04:00:00  2011      1    1     4\n",
       "...                    ...   ...    ...  ...   ...\n",
       "10881  2012-12-19 19:00:00  2012     12   19    19\n",
       "10882  2012-12-19 20:00:00  2012     12   19    20\n",
       "10883  2012-12-19 21:00:00  2012     12   19    21\n",
       "10884  2012-12-19 22:00:00  2012     12   19    22\n",
       "10885  2012-12-19 23:00:00  2012     12   19    23\n",
       "\n",
       "[10886 rows x 5 columns]"
      ]
     },
     "execution_count": 164,
     "metadata": {},
     "output_type": "execute_result"
    }
   ],
   "source": [
    "import time \n",
    "import datetime \n",
    "\n",
    "# 시간 테스트 \n",
    "start_time = time.time()\n",
    "\n",
    "temp_df['date'] = pd.to_datetime(temp_df['datetime'])\n",
    "temp_df['year'] = temp_df['date'].dt.year\n",
    "temp_df['month'] = temp_df['date'].dt.month\n",
    "temp_df['day'] = temp_df['date'].dt.day\n",
    "temp_df['hour'] = temp_df['date'].dt.hour\n",
    "\n",
    "end_time = time.time() \n",
    "dt_ctime = end_time - start_time\n",
    "\n",
    "print(\"실행시간 (second) -> \", np.round(dt_ctime, 3))\n",
    "\n",
    "temp_df[['datetime', 'year', 'month', 'day', 'hour']]"
   ]
  },
  {
   "cell_type": "code",
   "execution_count": 165,
   "metadata": {
    "colab": {
     "base_uri": "https://localhost:8080/"
    },
    "execution": {
     "iopub.execute_input": "2022-07-08T07:35:54.284818Z",
     "iopub.status.busy": "2022-07-08T07:35:54.284346Z",
     "iopub.status.idle": "2022-07-08T07:35:54.292860Z",
     "shell.execute_reply": "2022-07-08T07:35:54.291766Z",
     "shell.execute_reply.started": "2022-07-08T07:35:54.284785Z"
    },
    "id": "ScCmlTCgztUI",
    "outputId": "4a716150-82e5-4661-90ca-c6f54f35db30"
   },
   "outputs": [
    {
     "data": {
      "text/plain": [
       "0       2011-01-01 00:00:00\n",
       "1       2011-01-01 01:00:00\n",
       "2       2011-01-01 02:00:00\n",
       "3       2011-01-01 03:00:00\n",
       "4       2011-01-01 04:00:00\n",
       "                ...        \n",
       "10881   2012-12-19 19:00:00\n",
       "10882   2012-12-19 20:00:00\n",
       "10883   2012-12-19 21:00:00\n",
       "10884   2012-12-19 22:00:00\n",
       "10885   2012-12-19 23:00:00\n",
       "Name: date, Length: 10886, dtype: datetime64[ns]"
      ]
     },
     "execution_count": 165,
     "metadata": {},
     "output_type": "execute_result"
    }
   ],
   "source": [
    "temp_df['date']"
   ]
  },
  {
   "cell_type": "markdown",
   "metadata": {
    "id": "DdKpDg1OztUI"
   },
   "source": [
    "- 요일 추출하기"
   ]
  },
  {
   "cell_type": "code",
   "execution_count": 166,
   "metadata": {
    "colab": {
     "base_uri": "https://localhost:8080/"
    },
    "execution": {
     "iopub.execute_input": "2022-07-08T07:35:54.294808Z",
     "iopub.status.busy": "2022-07-08T07:35:54.294065Z",
     "iopub.status.idle": "2022-07-08T07:35:54.309778Z",
     "shell.execute_reply": "2022-07-08T07:35:54.308623Z",
     "shell.execute_reply.started": "2022-07-08T07:35:54.294762Z"
    },
    "id": "YORPhkTiztUJ",
    "outputId": "83b291e3-5e2b-4e98-be50-a4d6566aa889"
   },
   "outputs": [
    {
     "data": {
      "text/plain": [
       "0       2011-01-01 00:00:00\n",
       "1       2011-01-01 01:00:00\n",
       "2       2011-01-01 02:00:00\n",
       "3       2011-01-01 03:00:00\n",
       "4       2011-01-01 04:00:00\n",
       "                ...        \n",
       "10881   2012-12-19 19:00:00\n",
       "10882   2012-12-19 20:00:00\n",
       "10883   2012-12-19 21:00:00\n",
       "10884   2012-12-19 22:00:00\n",
       "10885   2012-12-19 23:00:00\n",
       "Name: date, Length: 10886, dtype: datetime64[ns]"
      ]
     },
     "execution_count": 166,
     "metadata": {},
     "output_type": "execute_result"
    }
   ],
   "source": [
    "temp_df['date']"
   ]
  },
  {
   "cell_type": "code",
   "execution_count": 167,
   "metadata": {
    "colab": {
     "base_uri": "https://localhost:8080/"
    },
    "execution": {
     "iopub.execute_input": "2022-07-08T07:35:54.312201Z",
     "iopub.status.busy": "2022-07-08T07:35:54.311492Z",
     "iopub.status.idle": "2022-07-08T07:35:54.331052Z",
     "shell.execute_reply": "2022-07-08T07:35:54.330142Z",
     "shell.execute_reply.started": "2022-07-08T07:35:54.312156Z"
    },
    "id": "-3KhxRorztUJ",
    "outputId": "1e2a5a99-4af8-4e76-c17a-9cd8dcb4f92f"
   },
   "outputs": [
    {
     "data": {
      "text/plain": [
       "0         Saturday\n",
       "1         Saturday\n",
       "2         Saturday\n",
       "3         Saturday\n",
       "4         Saturday\n",
       "           ...    \n",
       "10881    Wednesday\n",
       "10882    Wednesday\n",
       "10883    Wednesday\n",
       "10884    Wednesday\n",
       "10885    Wednesday\n",
       "Name: weekday, Length: 10886, dtype: object"
      ]
     },
     "execution_count": 167,
     "metadata": {},
     "output_type": "execute_result"
    }
   ],
   "source": [
    "temp_df['weekday'] = temp_df['date'].dt.day_name()\n",
    "temp_df['weekday']"
   ]
  },
  {
   "cell_type": "code",
   "execution_count": 168,
   "metadata": {
    "colab": {
     "base_uri": "https://localhost:8080/"
    },
    "execution": {
     "iopub.execute_input": "2022-07-08T07:35:54.335145Z",
     "iopub.status.busy": "2022-07-08T07:35:54.334456Z",
     "iopub.status.idle": "2022-07-08T07:35:54.344355Z",
     "shell.execute_reply": "2022-07-08T07:35:54.343578Z",
     "shell.execute_reply.started": "2022-07-08T07:35:54.335111Z"
    },
    "id": "VhVe2-VLztUJ",
    "outputId": "0e5b1220-0e21-4bde-9584-70907c084653"
   },
   "outputs": [
    {
     "data": {
      "text/plain": [
       "0        Spring\n",
       "1        Spring\n",
       "2        Spring\n",
       "3        Spring\n",
       "4        Spring\n",
       "          ...  \n",
       "10881    Winter\n",
       "10882    Winter\n",
       "10883    Winter\n",
       "10884    Winter\n",
       "10885    Winter\n",
       "Name: season, Length: 10886, dtype: object"
      ]
     },
     "execution_count": 168,
     "metadata": {},
     "output_type": "execute_result"
    }
   ],
   "source": [
    "temp_df['season'] = temp_df['season'].map({\n",
    "    1: 'Spring', \n",
    "    2: 'Summer', \n",
    "    3: 'Fall', \n",
    "    4: 'Winter'\n",
    "})\n",
    "\n",
    "temp_df['season']"
   ]
  },
  {
   "cell_type": "code",
   "execution_count": 169,
   "metadata": {
    "colab": {
     "base_uri": "https://localhost:8080/"
    },
    "execution": {
     "iopub.execute_input": "2022-07-08T07:35:54.345926Z",
     "iopub.status.busy": "2022-07-08T07:35:54.345461Z",
     "iopub.status.idle": "2022-07-08T07:35:54.362242Z",
     "shell.execute_reply": "2022-07-08T07:35:54.361138Z",
     "shell.execute_reply.started": "2022-07-08T07:35:54.345898Z"
    },
    "id": "HApJmhp3ztUJ",
    "outputId": "e48261f5-11f7-41b6-9e08-2cda1f9dd4ea"
   },
   "outputs": [
    {
     "data": {
      "text/plain": [
       "0        Clear\n",
       "1        Clear\n",
       "2        Clear\n",
       "3        Clear\n",
       "4        Clear\n",
       "         ...  \n",
       "10881    Clear\n",
       "10882    Clear\n",
       "10883    Clear\n",
       "10884    Clear\n",
       "10885    Clear\n",
       "Name: weather, Length: 10886, dtype: object"
      ]
     },
     "execution_count": 169,
     "metadata": {},
     "output_type": "execute_result"
    }
   ],
   "source": [
    "temp_df['weather'] = temp_df['weather'].map({\n",
    "    1 : 'Clear', \n",
    "    2 : 'Few clouds', \n",
    "    3 : 'Light Snow, Rain', \n",
    "    4 : 'Heavy Snow, Rain'\n",
    "})\n",
    "\n",
    "temp_df['weather']"
   ]
  },
  {
   "cell_type": "code",
   "execution_count": 170,
   "metadata": {
    "colab": {
     "base_uri": "https://localhost:8080/",
     "height": 444
    },
    "execution": {
     "iopub.execute_input": "2022-07-08T07:35:54.364029Z",
     "iopub.status.busy": "2022-07-08T07:35:54.363398Z",
     "iopub.status.idle": "2022-07-08T07:35:54.386421Z",
     "shell.execute_reply": "2022-07-08T07:35:54.385169Z",
     "shell.execute_reply.started": "2022-07-08T07:35:54.363994Z"
    },
    "id": "N8Pp_eLnztUK",
    "outputId": "da5dccf0-a61d-4ab2-fe7a-36f187beca22"
   },
   "outputs": [
    {
     "data": {
      "text/html": [
       "\n",
       "  <div id=\"df-97103711-b9e3-40fa-a0bb-5e1055da6831\">\n",
       "    <div class=\"colab-df-container\">\n",
       "      <div>\n",
       "<style scoped>\n",
       "    .dataframe tbody tr th:only-of-type {\n",
       "        vertical-align: middle;\n",
       "    }\n",
       "\n",
       "    .dataframe tbody tr th {\n",
       "        vertical-align: top;\n",
       "    }\n",
       "\n",
       "    .dataframe thead th {\n",
       "        text-align: right;\n",
       "    }\n",
       "</style>\n",
       "<table border=\"1\" class=\"dataframe\">\n",
       "  <thead>\n",
       "    <tr style=\"text-align: right;\">\n",
       "      <th></th>\n",
       "      <th>datetime</th>\n",
       "      <th>season</th>\n",
       "      <th>holiday</th>\n",
       "      <th>workingday</th>\n",
       "      <th>weather</th>\n",
       "      <th>temp</th>\n",
       "      <th>atemp</th>\n",
       "      <th>humidity</th>\n",
       "      <th>windspeed</th>\n",
       "      <th>casual</th>\n",
       "      <th>registered</th>\n",
       "      <th>count</th>\n",
       "      <th>date</th>\n",
       "      <th>year</th>\n",
       "      <th>month</th>\n",
       "      <th>day</th>\n",
       "      <th>hour</th>\n",
       "      <th>weekday</th>\n",
       "    </tr>\n",
       "  </thead>\n",
       "  <tbody>\n",
       "    <tr>\n",
       "      <th>0</th>\n",
       "      <td>2011-01-01 00:00:00</td>\n",
       "      <td>Spring</td>\n",
       "      <td>0</td>\n",
       "      <td>0</td>\n",
       "      <td>Clear</td>\n",
       "      <td>9.84</td>\n",
       "      <td>14.395</td>\n",
       "      <td>81</td>\n",
       "      <td>0.0</td>\n",
       "      <td>3</td>\n",
       "      <td>13</td>\n",
       "      <td>16</td>\n",
       "      <td>2011-01-01 00:00:00</td>\n",
       "      <td>2011</td>\n",
       "      <td>1</td>\n",
       "      <td>1</td>\n",
       "      <td>0</td>\n",
       "      <td>Saturday</td>\n",
       "    </tr>\n",
       "    <tr>\n",
       "      <th>1</th>\n",
       "      <td>2011-01-01 01:00:00</td>\n",
       "      <td>Spring</td>\n",
       "      <td>0</td>\n",
       "      <td>0</td>\n",
       "      <td>Clear</td>\n",
       "      <td>9.02</td>\n",
       "      <td>13.635</td>\n",
       "      <td>80</td>\n",
       "      <td>0.0</td>\n",
       "      <td>8</td>\n",
       "      <td>32</td>\n",
       "      <td>40</td>\n",
       "      <td>2011-01-01 01:00:00</td>\n",
       "      <td>2011</td>\n",
       "      <td>1</td>\n",
       "      <td>1</td>\n",
       "      <td>1</td>\n",
       "      <td>Saturday</td>\n",
       "    </tr>\n",
       "    <tr>\n",
       "      <th>2</th>\n",
       "      <td>2011-01-01 02:00:00</td>\n",
       "      <td>Spring</td>\n",
       "      <td>0</td>\n",
       "      <td>0</td>\n",
       "      <td>Clear</td>\n",
       "      <td>9.02</td>\n",
       "      <td>13.635</td>\n",
       "      <td>80</td>\n",
       "      <td>0.0</td>\n",
       "      <td>5</td>\n",
       "      <td>27</td>\n",
       "      <td>32</td>\n",
       "      <td>2011-01-01 02:00:00</td>\n",
       "      <td>2011</td>\n",
       "      <td>1</td>\n",
       "      <td>1</td>\n",
       "      <td>2</td>\n",
       "      <td>Saturday</td>\n",
       "    </tr>\n",
       "    <tr>\n",
       "      <th>3</th>\n",
       "      <td>2011-01-01 03:00:00</td>\n",
       "      <td>Spring</td>\n",
       "      <td>0</td>\n",
       "      <td>0</td>\n",
       "      <td>Clear</td>\n",
       "      <td>9.84</td>\n",
       "      <td>14.395</td>\n",
       "      <td>75</td>\n",
       "      <td>0.0</td>\n",
       "      <td>3</td>\n",
       "      <td>10</td>\n",
       "      <td>13</td>\n",
       "      <td>2011-01-01 03:00:00</td>\n",
       "      <td>2011</td>\n",
       "      <td>1</td>\n",
       "      <td>1</td>\n",
       "      <td>3</td>\n",
       "      <td>Saturday</td>\n",
       "    </tr>\n",
       "    <tr>\n",
       "      <th>4</th>\n",
       "      <td>2011-01-01 04:00:00</td>\n",
       "      <td>Spring</td>\n",
       "      <td>0</td>\n",
       "      <td>0</td>\n",
       "      <td>Clear</td>\n",
       "      <td>9.84</td>\n",
       "      <td>14.395</td>\n",
       "      <td>75</td>\n",
       "      <td>0.0</td>\n",
       "      <td>0</td>\n",
       "      <td>1</td>\n",
       "      <td>1</td>\n",
       "      <td>2011-01-01 04:00:00</td>\n",
       "      <td>2011</td>\n",
       "      <td>1</td>\n",
       "      <td>1</td>\n",
       "      <td>4</td>\n",
       "      <td>Saturday</td>\n",
       "    </tr>\n",
       "  </tbody>\n",
       "</table>\n",
       "</div>\n",
       "      <button class=\"colab-df-convert\" onclick=\"convertToInteractive('df-97103711-b9e3-40fa-a0bb-5e1055da6831')\"\n",
       "              title=\"Convert this dataframe to an interactive table.\"\n",
       "              style=\"display:none;\">\n",
       "        \n",
       "  <svg xmlns=\"http://www.w3.org/2000/svg\" height=\"24px\"viewBox=\"0 0 24 24\"\n",
       "       width=\"24px\">\n",
       "    <path d=\"M0 0h24v24H0V0z\" fill=\"none\"/>\n",
       "    <path d=\"M18.56 5.44l.94 2.06.94-2.06 2.06-.94-2.06-.94-.94-2.06-.94 2.06-2.06.94zm-11 1L8.5 8.5l.94-2.06 2.06-.94-2.06-.94L8.5 2.5l-.94 2.06-2.06.94zm10 10l.94 2.06.94-2.06 2.06-.94-2.06-.94-.94-2.06-.94 2.06-2.06.94z\"/><path d=\"M17.41 7.96l-1.37-1.37c-.4-.4-.92-.59-1.43-.59-.52 0-1.04.2-1.43.59L10.3 9.45l-7.72 7.72c-.78.78-.78 2.05 0 2.83L4 21.41c.39.39.9.59 1.41.59.51 0 1.02-.2 1.41-.59l7.78-7.78 2.81-2.81c.8-.78.8-2.07 0-2.86zM5.41 20L4 18.59l7.72-7.72 1.47 1.35L5.41 20z\"/>\n",
       "  </svg>\n",
       "      </button>\n",
       "      \n",
       "  <style>\n",
       "    .colab-df-container {\n",
       "      display:flex;\n",
       "      flex-wrap:wrap;\n",
       "      gap: 12px;\n",
       "    }\n",
       "\n",
       "    .colab-df-convert {\n",
       "      background-color: #E8F0FE;\n",
       "      border: none;\n",
       "      border-radius: 50%;\n",
       "      cursor: pointer;\n",
       "      display: none;\n",
       "      fill: #1967D2;\n",
       "      height: 32px;\n",
       "      padding: 0 0 0 0;\n",
       "      width: 32px;\n",
       "    }\n",
       "\n",
       "    .colab-df-convert:hover {\n",
       "      background-color: #E2EBFA;\n",
       "      box-shadow: 0px 1px 2px rgba(60, 64, 67, 0.3), 0px 1px 3px 1px rgba(60, 64, 67, 0.15);\n",
       "      fill: #174EA6;\n",
       "    }\n",
       "\n",
       "    [theme=dark] .colab-df-convert {\n",
       "      background-color: #3B4455;\n",
       "      fill: #D2E3FC;\n",
       "    }\n",
       "\n",
       "    [theme=dark] .colab-df-convert:hover {\n",
       "      background-color: #434B5C;\n",
       "      box-shadow: 0px 1px 3px 1px rgba(0, 0, 0, 0.15);\n",
       "      filter: drop-shadow(0px 1px 2px rgba(0, 0, 0, 0.3));\n",
       "      fill: #FFFFFF;\n",
       "    }\n",
       "  </style>\n",
       "\n",
       "      <script>\n",
       "        const buttonEl =\n",
       "          document.querySelector('#df-97103711-b9e3-40fa-a0bb-5e1055da6831 button.colab-df-convert');\n",
       "        buttonEl.style.display =\n",
       "          google.colab.kernel.accessAllowed ? 'block' : 'none';\n",
       "\n",
       "        async function convertToInteractive(key) {\n",
       "          const element = document.querySelector('#df-97103711-b9e3-40fa-a0bb-5e1055da6831');\n",
       "          const dataTable =\n",
       "            await google.colab.kernel.invokeFunction('convertToInteractive',\n",
       "                                                     [key], {});\n",
       "          if (!dataTable) return;\n",
       "\n",
       "          const docLinkHtml = 'Like what you see? Visit the ' +\n",
       "            '<a target=\"_blank\" href=https://colab.research.google.com/notebooks/data_table.ipynb>data table notebook</a>'\n",
       "            + ' to learn more about interactive tables.';\n",
       "          element.innerHTML = '';\n",
       "          dataTable['output_type'] = 'display_data';\n",
       "          await google.colab.output.renderOutput(dataTable, element);\n",
       "          const docLink = document.createElement('div');\n",
       "          docLink.innerHTML = docLinkHtml;\n",
       "          element.appendChild(docLink);\n",
       "        }\n",
       "      </script>\n",
       "    </div>\n",
       "  </div>\n",
       "  "
      ],
      "text/plain": [
       "              datetime  season  holiday  workingday weather  temp   atemp  \\\n",
       "0  2011-01-01 00:00:00  Spring        0           0   Clear  9.84  14.395   \n",
       "1  2011-01-01 01:00:00  Spring        0           0   Clear  9.02  13.635   \n",
       "2  2011-01-01 02:00:00  Spring        0           0   Clear  9.02  13.635   \n",
       "3  2011-01-01 03:00:00  Spring        0           0   Clear  9.84  14.395   \n",
       "4  2011-01-01 04:00:00  Spring        0           0   Clear  9.84  14.395   \n",
       "\n",
       "   humidity  windspeed  casual  registered  count                date  year  \\\n",
       "0        81        0.0       3          13     16 2011-01-01 00:00:00  2011   \n",
       "1        80        0.0       8          32     40 2011-01-01 01:00:00  2011   \n",
       "2        80        0.0       5          27     32 2011-01-01 02:00:00  2011   \n",
       "3        75        0.0       3          10     13 2011-01-01 03:00:00  2011   \n",
       "4        75        0.0       0           1      1 2011-01-01 04:00:00  2011   \n",
       "\n",
       "   month  day  hour   weekday  \n",
       "0      1    1     0  Saturday  \n",
       "1      1    1     1  Saturday  \n",
       "2      1    1     2  Saturday  \n",
       "3      1    1     3  Saturday  \n",
       "4      1    1     4  Saturday  "
      ]
     },
     "execution_count": 170,
     "metadata": {},
     "output_type": "execute_result"
    }
   ],
   "source": [
    "temp_df.head()"
   ]
  },
  {
   "cell_type": "markdown",
   "metadata": {
    "id": "i6KBk8coztUK"
   },
   "source": [
    "## step 04. 데이터 시각화\n",
    "- 수치를 예측하는 대회\n",
    "- 종속 변수를 시각화 해야 함. \n",
    "- 분포 확인 후, 로그변환을 줄지 안줄지 결정 해야 함. "
   ]
  },
  {
   "cell_type": "code",
   "execution_count": 171,
   "metadata": {
    "colab": {
     "base_uri": "https://localhost:8080/",
     "height": 295
    },
    "execution": {
     "iopub.execute_input": "2022-07-08T07:35:54.388367Z",
     "iopub.status.busy": "2022-07-08T07:35:54.387897Z",
     "iopub.status.idle": "2022-07-08T07:35:54.838386Z",
     "shell.execute_reply": "2022-07-08T07:35:54.837505Z",
     "shell.execute_reply.started": "2022-07-08T07:35:54.388337Z"
    },
    "id": "MYclmvEIztUK",
    "outputId": "104a8f34-cd65-4edc-d784-ef91ec2cc3c0"
   },
   "outputs": [
    {
     "data": {
      "image/png": "[encoded data removed]",
      "text/plain": [
       "<Figure size 432x288 with 2 Axes>"
      ]
     },
     "metadata": {
      "needs_background": "light"
     },
     "output_type": "display_data"
    }
   ],
   "source": [
    "fig, ax = plt.subplots(nrows = 1, ncols = 2)\n",
    "\n",
    "sns.histplot(train['count'], ax = ax[0]) \n",
    "sns.histplot(np.log(train['count']), ax = ax[1])\n",
    "\n",
    "# 옵션 제목\n",
    "ax[0].set_title('Normal Graph')\n",
    "ax[1].set_title(\"Log Transformed Graph\")\n",
    "\n",
    "plt.show()"
   ]
  },
  {
   "cell_type": "markdown",
   "metadata": {
    "id": "jhkNwmfYztUK"
   },
   "source": [
    "- 막대 그래프\n",
    "    + year, count \n",
    "    + month, count\n",
    "    + day, count \n",
    "    + hour, count\n",
    "- 각 그래프의 타이틀 추가 "
   ]
  },
  {
   "cell_type": "code",
   "execution_count": 172,
   "metadata": {
    "colab": {
     "base_uri": "https://localhost:8080/",
     "height": 630
    },
    "execution": {
     "iopub.execute_input": "2022-07-08T07:35:54.840211Z",
     "iopub.status.busy": "2022-07-08T07:35:54.839875Z",
     "iopub.status.idle": "2022-07-08T07:35:57.386879Z",
     "shell.execute_reply": "2022-07-08T07:35:57.385612Z",
     "shell.execute_reply.started": "2022-07-08T07:35:54.840182Z"
    },
    "id": "pR5mRAnjztUK",
    "outputId": "8fb8c4f9-6f17-4ab0-d82d-ab13afdf664b"
   },
   "outputs": [
    {
     "data": {
      "image/png": "[encoded data removed]",
      "text/plain": [
       "<Figure size 720x648 with 4 Axes>"
      ]
     },
     "metadata": {
      "needs_background": "light"
     },
     "output_type": "display_data"
    }
   ],
   "source": [
    "fig, ax = plt.subplots(nrows = 2, ncols = 2)\n",
    "\n",
    "## 1단계 : 전체 그래프 기본 설정\n",
    "# 그래프 사이 간격\n",
    "fig.tight_layout()\n",
    "\n",
    "# 전체 그래프 사이즈 관리\n",
    "fig.set_size_inches(10, 9)\n",
    "\n",
    "## 2단계 :  각 개별 그래프 입력\n",
    "sns.barplot(x = 'year', y = 'count', data = temp_df, ax=ax[0,0])\n",
    "sns.barplot(x = 'month',y = 'count', data = temp_df, ax=ax[0,1])\n",
    "sns.barplot(x = 'day', y = 'count', data = temp_df, ax=ax[1,0])\n",
    "sns.barplot(x = 'hour', y = 'count', data = temp_df, ax=ax[1,1])\n",
    "\n",
    "## 3단계 : 디테일 옵션\n",
    "ax[0, 0].set_title(\"Rental Amounts by Year\")\n",
    "ax[0, 1].set_title(\"Rental Amounts by month\")\n",
    "ax[1, 0].set_title(\"Rental Amounts by day\")\n",
    "ax[1, 1].set_title(\"Rental Amounts by hour\")\n",
    "\n",
    "ax[0, 0].tick_params(axis = 'x', labelrotation=90)\n",
    "\n",
    "plt.show()"
   ]
  },
  {
   "cell_type": "markdown",
   "metadata": {
    "id": "nZbEaehFztUL"
   },
   "source": [
    "- boxplot\n",
    "    + season, count\n",
    "    + weather, count\n",
    "    + holiday, count\n",
    "    + workingday, count"
   ]
  },
  {
   "cell_type": "code",
   "execution_count": 173,
   "metadata": {
    "colab": {
     "base_uri": "https://localhost:8080/",
     "height": 630
    },
    "execution": {
     "iopub.execute_input": "2022-07-08T07:35:57.389298Z",
     "iopub.status.busy": "2022-07-08T07:35:57.388511Z",
     "iopub.status.idle": "2022-07-08T07:35:57.980191Z",
     "shell.execute_reply": "2022-07-08T07:35:57.978217Z",
     "shell.execute_reply.started": "2022-07-08T07:35:57.389251Z"
    },
    "id": "pwFX54iYztUL",
    "outputId": "5945211b-82c7-43e7-8a28-c9f57ae8e569"
   },
   "outputs": [
    {
     "data": {
      "image/png": "[encoded data removed]",
      "text/plain": [
       "<Figure size 720x648 with 4 Axes>"
      ]
     },
     "metadata": {
      "needs_background": "light"
     },
     "output_type": "display_data"
    }
   ],
   "source": [
    "fig, ax = plt.subplots(nrows = 2, ncols = 2)\n",
    "\n",
    "## 1단계 : 전체 그래프 기본 설정\n",
    "# 그래프 사이 간격\n",
    "fig.tight_layout()\n",
    "\n",
    "# 전체 그래프 사이즈 관리\n",
    "fig.set_size_inches(10, 9)\n",
    "\n",
    "## 2단계 :  각 개별 그래프 입력\n",
    "sns.boxplot(x = 'season', y = 'count', data = temp_df, ax=ax[0,0])\n",
    "sns.boxplot(x = 'weather',y = 'count', data = temp_df, ax=ax[0,1])\n",
    "sns.boxplot(x = 'holiday', y = 'count', data = temp_df, ax=ax[1,0])\n",
    "sns.boxplot(x = 'workingday', y = 'count', data = temp_df, ax=ax[1,1])\n",
    "\n",
    "## 3단계 : 디테일 옵션\n",
    "ax[0, 0].set_title(\"Box Plot On Count Across Season\")\n",
    "ax[0, 1].set_title(\"Rental Amounts by month\")\n",
    "ax[1, 0].set_title(\"Rental Amounts by day\")\n",
    "ax[1, 1].set_title(\"Rental Amounts by hour\")\n",
    "\n",
    "ax[0, 1].tick_params(axis = 'x', labelrotation=20)\n",
    "\n",
    "plt.show()"
   ]
  },
  {
   "cell_type": "markdown",
   "metadata": {
    "id": "np8EgVLRztUL"
   },
   "source": [
    "- 포인트 플롯\n",
    "- 5개의 행 그래프 작성\n",
    "    + workingday, holiday, weekday, season, weather\n",
    " - 5개의 그래프를 한 이미지로 그리세요. "
   ]
  },
  {
   "cell_type": "code",
   "execution_count": 174,
   "metadata": {
    "colab": {
     "base_uri": "https://localhost:8080/",
     "height": 1000
    },
    "execution": {
     "iopub.execute_input": "2022-07-08T07:35:57.982834Z",
     "iopub.status.busy": "2022-07-08T07:35:57.981658Z",
     "iopub.status.idle": "2022-07-08T07:36:09.945824Z",
     "shell.execute_reply": "2022-07-08T07:36:09.944634Z",
     "shell.execute_reply.started": "2022-07-08T07:35:57.982787Z"
    },
    "id": "jzllNBH1ztUM",
    "outputId": "a61bd459-d34a-430e-f943-a314b9e1515f"
   },
   "outputs": [
    {
     "data": {
      "image/png": "[encoded data removed]",
      "text/plain": [
       "<Figure size 864x1296 with 5 Axes>"
      ]
     },
     "metadata": {
      "needs_background": "light"
     },
     "output_type": "display_data"
    }
   ],
   "source": [
    "fig, ax = plt.subplots(nrows = 5)\n",
    "fig.set_size_inches(12, 18)\n",
    "\n",
    "sns.pointplot(x = 'hour', y = 'count', hue = 'workingday', data = temp_df, ax = ax[0])\n",
    "sns.pointplot(x = 'hour', y = 'count', hue = 'holiday', data = temp_df, ax = ax[1])\n",
    "sns.pointplot(x = 'hour', y = 'count', hue = 'weekday', data = temp_df, ax = ax[2])\n",
    "sns.pointplot(x = 'hour', y = 'count', hue = 'season', data = temp_df, ax = ax[3])\n",
    "sns.pointplot(x = 'hour', y = 'count', hue = 'weather', data = temp_df, ax = ax[4])\n",
    "\n",
    "plt.show()"
   ]
  },
  {
   "cell_type": "markdown",
   "metadata": {
    "id": "bf9XjgHvztUM"
   },
   "source": [
    "- 회귀선을 포함한 산점도 그래프\n",
    "    + x, y 모두 수치형 그래프여야 함. \n",
    "    + 연속형 수치형 데이터야 함. \n",
    "- 총 4개의 그래프가 나와야 함. "
   ]
  },
  {
   "cell_type": "code",
   "execution_count": 175,
   "metadata": {
    "colab": {
     "base_uri": "https://localhost:8080/"
    },
    "execution": {
     "iopub.execute_input": "2022-07-08T07:36:09.947642Z",
     "iopub.status.busy": "2022-07-08T07:36:09.947263Z",
     "iopub.status.idle": "2022-07-08T07:36:09.965045Z",
     "shell.execute_reply": "2022-07-08T07:36:09.964002Z",
     "shell.execute_reply.started": "2022-07-08T07:36:09.947608Z"
    },
    "id": "S9rjGLm5ztUM",
    "outputId": "b549ec4e-7b2a-4676-b29b-212425491428"
   },
   "outputs": [
    {
     "name": "stdout",
     "output_type": "stream",
     "text": [
      "<class 'pandas.core.frame.DataFrame'>\n",
      "RangeIndex: 10886 entries, 0 to 10885\n",
      "Data columns (total 18 columns):\n",
      " #   Column      Non-Null Count  Dtype         \n",
      "---  ------      --------------  -----         \n",
      " 0   datetime    10886 non-null  object        \n",
      " 1   season      10886 non-null  object        \n",
      " 2   holiday     10886 non-null  int64         \n",
      " 3   workingday  10886 non-null  int64         \n",
      " 4   weather     10886 non-null  object        \n",
      " 5   temp        10886 non-null  float64       \n",
      " 6   atemp       10886 non-null  float64       \n",
      " 7   humidity    10886 non-null  int64         \n",
      " 8   windspeed   10886 non-null  float64       \n",
      " 9   casual      10886 non-null  int64         \n",
      " 10  registered  10886 non-null  int64         \n",
      " 11  count       10886 non-null  int64         \n",
      " 12  date        10886 non-null  datetime64[ns]\n",
      " 13  year        10886 non-null  int64         \n",
      " 14  month       10886 non-null  int64         \n",
      " 15  day         10886 non-null  int64         \n",
      " 16  hour        10886 non-null  int64         \n",
      " 17  weekday     10886 non-null  object        \n",
      "dtypes: datetime64[ns](1), float64(3), int64(10), object(4)\n",
      "memory usage: 1.5+ MB\n"
     ]
    }
   ],
   "source": [
    "temp_df.info()"
   ]
  },
  {
   "cell_type": "code",
   "execution_count": 176,
   "metadata": {
    "colab": {
     "base_uri": "https://localhost:8080/"
    },
    "execution": {
     "iopub.execute_input": "2022-07-08T07:36:09.967700Z",
     "iopub.status.busy": "2022-07-08T07:36:09.967000Z",
     "iopub.status.idle": "2022-07-08T07:36:09.978484Z",
     "shell.execute_reply": "2022-07-08T07:36:09.977476Z",
     "shell.execute_reply.started": "2022-07-08T07:36:09.967645Z"
    },
    "id": "yN6OBajQztUM",
    "outputId": "1baa3fbf-bca3-45ae-cd7d-6be703737ac2"
   },
   "outputs": [
    {
     "data": {
      "text/plain": [
       "0.0000     1313\n",
       "8.9981     1120\n",
       "11.0014    1057\n",
       "12.9980    1042\n",
       "7.0015     1034\n",
       "15.0013     961\n",
       "6.0032      872\n",
       "16.9979     824\n",
       "19.0012     676\n",
       "19.9995     492\n",
       "22.0028     372\n",
       "23.9994     274\n",
       "26.0027     235\n",
       "27.9993     187\n",
       "30.0026     111\n",
       "31.0009      89\n",
       "32.9975      80\n",
       "35.0008      58\n",
       "39.0007      27\n",
       "36.9974      22\n",
       "43.0006      12\n",
       "40.9973      11\n",
       "43.9989       8\n",
       "46.0022       3\n",
       "56.9969       2\n",
       "47.9988       2\n",
       "51.9987       1\n",
       "50.0021       1\n",
       "Name: windspeed, dtype: int64"
      ]
     },
     "execution_count": 176,
     "metadata": {},
     "output_type": "execute_result"
    }
   ],
   "source": [
    "temp_df['windspeed'].value_counts()"
   ]
  },
  {
   "cell_type": "code",
   "execution_count": 177,
   "metadata": {
    "colab": {
     "base_uri": "https://localhost:8080/",
     "height": 309
    },
    "execution": {
     "iopub.execute_input": "2022-07-08T07:36:09.980440Z",
     "iopub.status.busy": "2022-07-08T07:36:09.979935Z",
     "iopub.status.idle": "2022-07-08T07:36:13.068589Z",
     "shell.execute_reply": "2022-07-08T07:36:13.067422Z",
     "shell.execute_reply.started": "2022-07-08T07:36:09.980409Z"
    },
    "id": "a9HxspDHztUM",
    "outputId": "74668f9c-5600-415d-98b2-0bf58f2373b8"
   },
   "outputs": [
    {
     "data": {
      "image/png": "[encoded data removed]",
      "text/plain": [
       "<Figure size 432x288 with 4 Axes>"
      ]
     },
     "metadata": {
      "needs_background": "light"
     },
     "output_type": "display_data"
    }
   ],
   "source": [
    "fig, ax = plt.subplots(nrows=2, ncols =2)\n",
    "\n",
    "fig.tight_layout()\n",
    "\n",
    "sns.regplot(x ='temp', y ='count', data = temp_df, scatter_kws = {'alpha' : 0.2}, line_kws = {'color' : 'blue'}, ax = ax[0, 0])\n",
    "sns.regplot(x ='atemp', y ='count', data = temp_df, scatter_kws = {'alpha' : 0.2}, line_kws = {'color' : 'blue'}, ax = ax[0, 1])\n",
    "sns.regplot(x ='humidity', y ='count', data = temp_df, scatter_kws = {'alpha' : 0.2}, line_kws = {'color' : 'blue'}, ax = ax[1, 0])\n",
    "sns.regplot(x ='windspeed', y ='count', data = temp_df, scatter_kws = {'alpha' : 0.2}, line_kws = {'color' : 'blue'}, ax = ax[1, 1])\n",
    "plt.show()"
   ]
  },
  {
   "cell_type": "markdown",
   "metadata": {
    "id": "JbOU0k9YztUN"
   },
   "source": [
    "- 히트맵 그래프 그리기\n",
    "- 상관계수 해석\n",
    "    + 수치가 양수다 (양의 관계)\n",
    "    + 수치가 음수다 (음의 관계)\n",
    "    + 0~0.2 : 두 변수 사이의 상관관계는 없다. \n",
    "    + 0.2 ~ 1: 값이 커지면 커질수록 두 변수 간 상관관계는 크다. \n",
    "    "
   ]
  },
  {
   "cell_type": "code",
   "execution_count": 178,
   "metadata": {
    "colab": {
     "base_uri": "https://localhost:8080/",
     "height": 206
    },
    "execution": {
     "iopub.execute_input": "2022-07-08T07:36:13.071210Z",
     "iopub.status.busy": "2022-07-08T07:36:13.070445Z",
     "iopub.status.idle": "2022-07-08T07:36:13.086231Z",
     "shell.execute_reply": "2022-07-08T07:36:13.085417Z",
     "shell.execute_reply.started": "2022-07-08T07:36:13.071166Z"
    },
    "id": "d5FHPIdiztUN",
    "outputId": "440ab254-fcfc-40b5-9804-78ac34086867"
   },
   "outputs": [
    {
     "data": {
      "text/html": [
       "\n",
       "  <div id=\"df-85088303-7931-4007-8f20-6de2c39d6b03\">\n",
       "    <div class=\"colab-df-container\">\n",
       "      <div>\n",
       "<style scoped>\n",
       "    .dataframe tbody tr th:only-of-type {\n",
       "        vertical-align: middle;\n",
       "    }\n",
       "\n",
       "    .dataframe tbody tr th {\n",
       "        vertical-align: top;\n",
       "    }\n",
       "\n",
       "    .dataframe thead th {\n",
       "        text-align: right;\n",
       "    }\n",
       "</style>\n",
       "<table border=\"1\" class=\"dataframe\">\n",
       "  <thead>\n",
       "    <tr style=\"text-align: right;\">\n",
       "      <th></th>\n",
       "      <th>temp</th>\n",
       "      <th>atemp</th>\n",
       "      <th>humidity</th>\n",
       "      <th>windspeed</th>\n",
       "      <th>count</th>\n",
       "    </tr>\n",
       "  </thead>\n",
       "  <tbody>\n",
       "    <tr>\n",
       "      <th>temp</th>\n",
       "      <td>1.000000</td>\n",
       "      <td>0.984948</td>\n",
       "      <td>-0.064949</td>\n",
       "      <td>-0.017852</td>\n",
       "      <td>0.394454</td>\n",
       "    </tr>\n",
       "    <tr>\n",
       "      <th>atemp</th>\n",
       "      <td>0.984948</td>\n",
       "      <td>1.000000</td>\n",
       "      <td>-0.043536</td>\n",
       "      <td>-0.057473</td>\n",
       "      <td>0.389784</td>\n",
       "    </tr>\n",
       "    <tr>\n",
       "      <th>humidity</th>\n",
       "      <td>-0.064949</td>\n",
       "      <td>-0.043536</td>\n",
       "      <td>1.000000</td>\n",
       "      <td>-0.318607</td>\n",
       "      <td>-0.317371</td>\n",
       "    </tr>\n",
       "    <tr>\n",
       "      <th>windspeed</th>\n",
       "      <td>-0.017852</td>\n",
       "      <td>-0.057473</td>\n",
       "      <td>-0.318607</td>\n",
       "      <td>1.000000</td>\n",
       "      <td>0.101369</td>\n",
       "    </tr>\n",
       "    <tr>\n",
       "      <th>count</th>\n",
       "      <td>0.394454</td>\n",
       "      <td>0.389784</td>\n",
       "      <td>-0.317371</td>\n",
       "      <td>0.101369</td>\n",
       "      <td>1.000000</td>\n",
       "    </tr>\n",
       "  </tbody>\n",
       "</table>\n",
       "</div>\n",
       "      <button class=\"colab-df-convert\" onclick=\"convertToInteractive('df-85088303-7931-4007-8f20-6de2c39d6b03')\"\n",
       "              title=\"Convert this dataframe to an interactive table.\"\n",
       "              style=\"display:none;\">\n",
       "        \n",
       "  <svg xmlns=\"http://www.w3.org/2000/svg\" height=\"24px\"viewBox=\"0 0 24 24\"\n",
       "       width=\"24px\">\n",
       "    <path d=\"M0 0h24v24H0V0z\" fill=\"none\"/>\n",
       "    <path d=\"M18.56 5.44l.94 2.06.94-2.06 2.06-.94-2.06-.94-.94-2.06-.94 2.06-2.06.94zm-11 1L8.5 8.5l.94-2.06 2.06-.94-2.06-.94L8.5 2.5l-.94 2.06-2.06.94zm10 10l.94 2.06.94-2.06 2.06-.94-2.06-.94-.94-2.06-.94 2.06-2.06.94z\"/><path d=\"M17.41 7.96l-1.37-1.37c-.4-.4-.92-.59-1.43-.59-.52 0-1.04.2-1.43.59L10.3 9.45l-7.72 7.72c-.78.78-.78 2.05 0 2.83L4 21.41c.39.39.9.59 1.41.59.51 0 1.02-.2 1.41-.59l7.78-7.78 2.81-2.81c.8-.78.8-2.07 0-2.86zM5.41 20L4 18.59l7.72-7.72 1.47 1.35L5.41 20z\"/>\n",
       "  </svg>\n",
       "      </button>\n",
       "      \n",
       "  <style>\n",
       "    .colab-df-container {\n",
       "      display:flex;\n",
       "      flex-wrap:wrap;\n",
       "      gap: 12px;\n",
       "    }\n",
       "\n",
       "    .colab-df-convert {\n",
       "      background-color: #E8F0FE;\n",
       "      border: none;\n",
       "      border-radius: 50%;\n",
       "      cursor: pointer;\n",
       "      display: none;\n",
       "      fill: #1967D2;\n",
       "      height: 32px;\n",
       "      padding: 0 0 0 0;\n",
       "      width: 32px;\n",
       "    }\n",
       "\n",
       "    .colab-df-convert:hover {\n",
       "      background-color: #E2EBFA;\n",
       "      box-shadow: 0px 1px 2px rgba(60, 64, 67, 0.3), 0px 1px 3px 1px rgba(60, 64, 67, 0.15);\n",
       "      fill: #174EA6;\n",
       "    }\n",
       "\n",
       "    [theme=dark] .colab-df-convert {\n",
       "      background-color: #3B4455;\n",
       "      fill: #D2E3FC;\n",
       "    }\n",
       "\n",
       "    [theme=dark] .colab-df-convert:hover {\n",
       "      background-color: #434B5C;\n",
       "      box-shadow: 0px 1px 3px 1px rgba(0, 0, 0, 0.15);\n",
       "      filter: drop-shadow(0px 1px 2px rgba(0, 0, 0, 0.3));\n",
       "      fill: #FFFFFF;\n",
       "    }\n",
       "  </style>\n",
       "\n",
       "      <script>\n",
       "        const buttonEl =\n",
       "          document.querySelector('#df-85088303-7931-4007-8f20-6de2c39d6b03 button.colab-df-convert');\n",
       "        buttonEl.style.display =\n",
       "          google.colab.kernel.accessAllowed ? 'block' : 'none';\n",
       "\n",
       "        async function convertToInteractive(key) {\n",
       "          const element = document.querySelector('#df-85088303-7931-4007-8f20-6de2c39d6b03');\n",
       "          const dataTable =\n",
       "            await google.colab.kernel.invokeFunction('convertToInteractive',\n",
       "                                                     [key], {});\n",
       "          if (!dataTable) return;\n",
       "\n",
       "          const docLinkHtml = 'Like what you see? Visit the ' +\n",
       "            '<a target=\"_blank\" href=https://colab.research.google.com/notebooks/data_table.ipynb>data table notebook</a>'\n",
       "            + ' to learn more about interactive tables.';\n",
       "          element.innerHTML = '';\n",
       "          dataTable['output_type'] = 'display_data';\n",
       "          await google.colab.output.renderOutput(dataTable, element);\n",
       "          const docLink = document.createElement('div');\n",
       "          docLink.innerHTML = docLinkHtml;\n",
       "          element.appendChild(docLink);\n",
       "        }\n",
       "      </script>\n",
       "    </div>\n",
       "  </div>\n",
       "  "
      ],
      "text/plain": [
       "               temp     atemp  humidity  windspeed     count\n",
       "temp       1.000000  0.984948 -0.064949  -0.017852  0.394454\n",
       "atemp      0.984948  1.000000 -0.043536  -0.057473  0.389784\n",
       "humidity  -0.064949 -0.043536  1.000000  -0.318607 -0.317371\n",
       "windspeed -0.017852 -0.057473 -0.318607   1.000000  0.101369\n",
       "count      0.394454  0.389784 -0.317371   0.101369  1.000000"
      ]
     },
     "execution_count": 178,
     "metadata": {},
     "output_type": "execute_result"
    }
   ],
   "source": [
    "corrMat = temp_df[['temp', 'atemp', 'humidity', 'windspeed', 'count']].corr()\n",
    "corrMat"
   ]
  },
  {
   "cell_type": "code",
   "execution_count": 179,
   "metadata": {
    "colab": {
     "base_uri": "https://localhost:8080/",
     "height": 287
    },
    "execution": {
     "iopub.execute_input": "2022-07-08T07:36:13.088052Z",
     "iopub.status.busy": "2022-07-08T07:36:13.087485Z",
     "iopub.status.idle": "2022-07-08T07:36:13.368453Z",
     "shell.execute_reply": "2022-07-08T07:36:13.367179Z",
     "shell.execute_reply.started": "2022-07-08T07:36:13.088022Z"
    },
    "id": "cSZHA7PyztUN",
    "outputId": "70519343-df5a-41eb-c2b5-95576b90fdbc"
   },
   "outputs": [
    {
     "data": {
      "text/plain": [
       "<matplotlib.axes._subplots.AxesSubplot at 0x7f96ce4d4fd0>"
      ]
     },
     "execution_count": 179,
     "metadata": {},
     "output_type": "execute_result"
    },
    {
     "data": {
      "image/png": "[encoded data removed]",
      "text/plain": [
       "<Figure size 432x288 with 2 Axes>"
      ]
     },
     "metadata": {
      "needs_background": "light"
     },
     "output_type": "display_data"
    }
   ],
   "source": [
    "sns.heatmap(corrMat, annot=True)"
   ]
  },
  {
   "cell_type": "markdown",
   "metadata": {
    "id": "yBBkXJmEztUN"
   },
   "source": [
    "## 데이터 전처리\n",
    "- 첫번째 : train 데이터의 causal, registered 컬럼 제거할 것임\n",
    "- 두번째 : 날짜 데이터 처리, dt.month, 이렇게 할 것\n",
    "- 세번째 : season 컬럼 처리 필요 (숫자를 문자로 바꾸자)\n",
    "    + 인코딩 변환 (라벨인코딩, 원핫 인코딩) \n",
    "- 네번째 : weather 컬럼 처리 필요 (숫자를 문자로 바꾸자)\n",
    "    + 인코딩 변환 (라벨인코딩, 원핫 인코딩)\n",
    "- 다섯번째 : month, day 컬럼 삭제 예정\n",
    "- 여섯번째 : weather 4인 데이터는 삭제 (이상치)\n",
    "- 일곱번째 : windspeed 컬럼 삭제 \n",
    "- 여덟번째 : temp, atemp중 하나 삭제 (옵션)\n",
    "- 마지막 : 모든 문자를 숫자로 인코딩 (원-핫 인코딩)"
   ]
  },
  {
   "cell_type": "markdown",
   "metadata": {
    "id": "6g8vwEyZztUN"
   },
   "source": [
    "### 첫번째\n",
    "- train 데이터의 causal, registered 컬럼 제거"
   ]
  },
  {
   "cell_type": "code",
   "execution_count": 180,
   "metadata": {
    "colab": {
     "base_uri": "https://localhost:8080/"
    },
    "execution": {
     "iopub.execute_input": "2022-07-08T07:36:13.370225Z",
     "iopub.status.busy": "2022-07-08T07:36:13.369886Z",
     "iopub.status.idle": "2022-07-08T07:36:13.384788Z",
     "shell.execute_reply": "2022-07-08T07:36:13.383697Z",
     "shell.execute_reply.started": "2022-07-08T07:36:13.370195Z"
    },
    "id": "o9d0QTbrztUO",
    "outputId": "110ba6c2-d7fb-4e0b-ace4-c924e1b3cba1"
   },
   "outputs": [
    {
     "name": "stdout",
     "output_type": "stream",
     "text": [
      "<class 'pandas.core.frame.DataFrame'>\n",
      "RangeIndex: 10886 entries, 0 to 10885\n",
      "Data columns (total 12 columns):\n",
      " #   Column      Non-Null Count  Dtype  \n",
      "---  ------      --------------  -----  \n",
      " 0   datetime    10886 non-null  object \n",
      " 1   season      10886 non-null  int64  \n",
      " 2   holiday     10886 non-null  int64  \n",
      " 3   workingday  10886 non-null  int64  \n",
      " 4   weather     10886 non-null  int64  \n",
      " 5   temp        10886 non-null  float64\n",
      " 6   atemp       10886 non-null  float64\n",
      " 7   humidity    10886 non-null  int64  \n",
      " 8   windspeed   10886 non-null  float64\n",
      " 9   casual      10886 non-null  int64  \n",
      " 10  registered  10886 non-null  int64  \n",
      " 11  count       10886 non-null  int64  \n",
      "dtypes: float64(3), int64(8), object(1)\n",
      "memory usage: 1020.7+ KB\n"
     ]
    }
   ],
   "source": [
    "train.info()"
   ]
  },
  {
   "cell_type": "code",
   "execution_count": 181,
   "metadata": {
    "colab": {
     "base_uri": "https://localhost:8080/"
    },
    "execution": {
     "iopub.execute_input": "2022-07-08T07:36:13.386805Z",
     "iopub.status.busy": "2022-07-08T07:36:13.385983Z",
     "iopub.status.idle": "2022-07-08T07:36:13.395313Z",
     "shell.execute_reply": "2022-07-08T07:36:13.394591Z",
     "shell.execute_reply.started": "2022-07-08T07:36:13.386773Z"
    },
    "id": "n2-NLOctztUO",
    "outputId": "3d395e35-4149-4776-cd88-a6ecae032d17"
   },
   "outputs": [
    {
     "data": {
      "text/plain": [
       "((10886, 10), (6493, 9))"
      ]
     },
     "execution_count": 181,
     "metadata": {},
     "output_type": "execute_result"
    }
   ],
   "source": [
    "train = train.drop(['casual', 'registered'], axis = 1)\n",
    "train.shape, test.shape"
   ]
  },
  {
   "cell_type": "markdown",
   "metadata": {
    "id": "qxxQgqFRztUO"
   },
   "source": [
    "## weather 컬럼 지우기\n",
    "- 4인 데이터는 삭제"
   ]
  },
  {
   "cell_type": "code",
   "execution_count": 182,
   "metadata": {
    "colab": {
     "base_uri": "https://localhost:8080/"
    },
    "execution": {
     "iopub.execute_input": "2022-07-08T07:36:13.396840Z",
     "iopub.status.busy": "2022-07-08T07:36:13.396494Z",
     "iopub.status.idle": "2022-07-08T07:36:13.416086Z",
     "shell.execute_reply": "2022-07-08T07:36:13.414849Z",
     "shell.execute_reply.started": "2022-07-08T07:36:13.396812Z"
    },
    "id": "IOy4rIKTztUO",
    "outputId": "55f3395f-a974-4bcc-8841-5d7f613da108"
   },
   "outputs": [
    {
     "data": {
      "text/plain": [
       "(10885, 10)"
      ]
     },
     "execution_count": 182,
     "metadata": {},
     "output_type": "execute_result"
    }
   ],
   "source": [
    "train = train[train['weather'] != 4].reset_index(drop=True)\n",
    "train.shape"
   ]
  },
  {
   "cell_type": "markdown",
   "metadata": {
    "id": "oV18zM4LztUO"
   },
   "source": [
    "### 데이터 합치기\n",
    "- train, test 데이터 합치기"
   ]
  },
  {
   "cell_type": "code",
   "execution_count": 207,
   "metadata": {
    "colab": {
     "base_uri": "https://localhost:8080/"
    },
    "execution": {
     "iopub.execute_input": "2022-07-08T07:36:13.418328Z",
     "iopub.status.busy": "2022-07-08T07:36:13.417641Z",
     "iopub.status.idle": "2022-07-08T07:36:13.438300Z",
     "shell.execute_reply": "2022-07-08T07:36:13.437522Z",
     "shell.execute_reply.started": "2022-07-08T07:36:13.418282Z"
    },
    "id": "HWovPOZJztUO",
    "outputId": "f67b898d-4545-44aa-fbec-d24d0f86c672"
   },
   "outputs": [
    {
     "name": "stdout",
     "output_type": "stream",
     "text": [
      "<class 'pandas.core.frame.DataFrame'>\n",
      "RangeIndex: 17378 entries, 0 to 17377\n",
      "Data columns (total 22 columns):\n",
      " #   Column                    Non-Null Count  Dtype  \n",
      "---  ------                    --------------  -----  \n",
      " 0   holiday                   17378 non-null  int64  \n",
      " 1   workingday                17378 non-null  int64  \n",
      " 2   temp                      17378 non-null  float64\n",
      " 3   atemp                     17378 non-null  float64\n",
      " 4   humidity                  17378 non-null  int64  \n",
      " 5   year                      17378 non-null  int64  \n",
      " 6   hour                      17378 non-null  int64  \n",
      " 7   season_Fall               17378 non-null  uint8  \n",
      " 8   season_Spring             17378 non-null  uint8  \n",
      " 9   season_Summer             17378 non-null  uint8  \n",
      " 10  season_Winter             17378 non-null  uint8  \n",
      " 11  weather_Clear             17378 non-null  uint8  \n",
      " 12  weather_Few clouds        17378 non-null  uint8  \n",
      " 13  weather_Heavy Snow, Rain  17378 non-null  uint8  \n",
      " 14  weather_Light Snow, Rain  17378 non-null  uint8  \n",
      " 15  weekday_Friday            17378 non-null  uint8  \n",
      " 16  weekday_Monday            17378 non-null  uint8  \n",
      " 17  weekday_Saturday          17378 non-null  uint8  \n",
      " 18  weekday_Sunday            17378 non-null  uint8  \n",
      " 19  weekday_Thursday          17378 non-null  uint8  \n",
      " 20  weekday_Tuesday           17378 non-null  uint8  \n",
      " 21  weekday_Wednesday         17378 non-null  uint8  \n",
      "dtypes: float64(2), int64(5), uint8(15)\n",
      "memory usage: 1.2 MB\n"
     ]
    }
   ],
   "source": [
    "all_data = pd.concat([train, test], ignore_index=True)\n",
    "all_data.info()"
   ]
  },
  {
   "cell_type": "markdown",
   "metadata": {
    "id": "Nc1bqxwKztUP"
   },
   "source": [
    "### 두번째 & 다섯번째 \n",
    "- 날짜 데이터 처리, dt.month, 이렇게 할 것\n",
    "- month, day 컬럼 삭제 예정"
   ]
  },
  {
   "cell_type": "code",
   "execution_count": 184,
   "metadata": {
    "colab": {
     "base_uri": "https://localhost:8080/"
    },
    "execution": {
     "iopub.execute_input": "2022-07-08T07:36:13.444836Z",
     "iopub.status.busy": "2022-07-08T07:36:13.444465Z",
     "iopub.status.idle": "2022-07-08T07:36:13.468320Z",
     "shell.execute_reply": "2022-07-08T07:36:13.467299Z",
     "shell.execute_reply.started": "2022-07-08T07:36:13.444805Z"
    },
    "id": "w1RSEUFAztUP",
    "outputId": "98258428-7b4d-4e60-ae3a-14da77a9bfb9"
   },
   "outputs": [
    {
     "data": {
      "text/plain": [
       "(17378, 14)"
      ]
     },
     "execution_count": 184,
     "metadata": {},
     "output_type": "execute_result"
    }
   ],
   "source": [
    "all_data['date'] = pd.to_datetime(all_data['datetime'])\n",
    "all_data['year'] = all_data['date'].dt.year\n",
    "all_data['hour'] = all_data['date'].dt.hour\n",
    "all_data['weekday'] = all_data['date'].dt.day_name()\n",
    "\n",
    "all_data.shape"
   ]
  },
  {
   "cell_type": "code",
   "execution_count": 185,
   "metadata": {
    "colab": {
     "base_uri": "https://localhost:8080/"
    },
    "execution": {
     "iopub.execute_input": "2022-07-08T07:36:13.470400Z",
     "iopub.status.busy": "2022-07-08T07:36:13.469956Z",
     "iopub.status.idle": "2022-07-08T07:36:13.487465Z",
     "shell.execute_reply": "2022-07-08T07:36:13.486565Z",
     "shell.execute_reply.started": "2022-07-08T07:36:13.470360Z"
    },
    "id": "0orfD0ocztUP",
    "outputId": "f7c5c49f-d970-4821-ea68-34e5410478a3"
   },
   "outputs": [
    {
     "name": "stdout",
     "output_type": "stream",
     "text": [
      "<class 'pandas.core.frame.DataFrame'>\n",
      "RangeIndex: 17378 entries, 0 to 17377\n",
      "Data columns (total 14 columns):\n",
      " #   Column      Non-Null Count  Dtype         \n",
      "---  ------      --------------  -----         \n",
      " 0   datetime    17378 non-null  object        \n",
      " 1   season      17378 non-null  int64         \n",
      " 2   holiday     17378 non-null  int64         \n",
      " 3   workingday  17378 non-null  int64         \n",
      " 4   weather     17378 non-null  int64         \n",
      " 5   temp        17378 non-null  float64       \n",
      " 6   atemp       17378 non-null  float64       \n",
      " 7   humidity    17378 non-null  int64         \n",
      " 8   windspeed   17378 non-null  float64       \n",
      " 9   count       10885 non-null  float64       \n",
      " 10  date        17378 non-null  datetime64[ns]\n",
      " 11  year        17378 non-null  int64         \n",
      " 12  hour        17378 non-null  int64         \n",
      " 13  weekday     17378 non-null  object        \n",
      "dtypes: datetime64[ns](1), float64(4), int64(7), object(2)\n",
      "memory usage: 1.9+ MB\n"
     ]
    }
   ],
   "source": [
    "all_data.info()"
   ]
  },
  {
   "cell_type": "markdown",
   "metadata": {
    "id": "3zzZ2ZBkztUP"
   },
   "source": [
    "### 세번째 \n",
    "- season 컬럼 처리 필요 (숫자를 문자로 바꾸자)\n",
    "    + 인코딩 변환 (라벨인코딩, 원핫 인코딩) "
   ]
  },
  {
   "cell_type": "code",
   "execution_count": 186,
   "metadata": {
    "colab": {
     "base_uri": "https://localhost:8080/"
    },
    "execution": {
     "iopub.execute_input": "2022-07-08T07:36:13.489487Z",
     "iopub.status.busy": "2022-07-08T07:36:13.488943Z",
     "iopub.status.idle": "2022-07-08T07:36:13.498272Z",
     "shell.execute_reply": "2022-07-08T07:36:13.497243Z",
     "shell.execute_reply.started": "2022-07-08T07:36:13.489459Z"
    },
    "id": "VjJOFCrrztUP",
    "outputId": "5ecc2fe8-e8c7-48c4-f38e-8c9384bab968"
   },
   "outputs": [
    {
     "data": {
      "text/plain": [
       "(17378, 14)"
      ]
     },
     "execution_count": 186,
     "metadata": {},
     "output_type": "execute_result"
    }
   ],
   "source": [
    "all_data['season'] = all_data['season'].map({\n",
    "    1: 'Spring', \n",
    "    2: 'Summer', \n",
    "    3: 'Fall', \n",
    "    4: 'Winter'\n",
    "})\n",
    "\n",
    "all_data.shape"
   ]
  },
  {
   "cell_type": "code",
   "execution_count": 187,
   "metadata": {
    "colab": {
     "base_uri": "https://localhost:8080/"
    },
    "execution": {
     "iopub.execute_input": "2022-07-08T07:36:13.500154Z",
     "iopub.status.busy": "2022-07-08T07:36:13.499600Z",
     "iopub.status.idle": "2022-07-08T07:36:13.514948Z",
     "shell.execute_reply": "2022-07-08T07:36:13.513864Z",
     "shell.execute_reply.started": "2022-07-08T07:36:13.500123Z"
    },
    "id": "5a2zZBYjztUQ",
    "outputId": "5013cd6d-4cff-476c-c76a-a5fe46644257"
   },
   "outputs": [
    {
     "data": {
      "text/plain": [
       "0        Spring\n",
       "1        Spring\n",
       "2        Spring\n",
       "3        Spring\n",
       "4        Spring\n",
       "          ...  \n",
       "17373    Spring\n",
       "17374    Spring\n",
       "17375    Spring\n",
       "17376    Spring\n",
       "17377    Spring\n",
       "Name: season, Length: 17378, dtype: object"
      ]
     },
     "execution_count": 187,
     "metadata": {},
     "output_type": "execute_result"
    }
   ],
   "source": [
    "all_data['season']"
   ]
  },
  {
   "cell_type": "markdown",
   "metadata": {
    "id": "hFblOx4KztUQ"
   },
   "source": [
    "### 네번째\n",
    "- weather 컬럼 처리 필요 (숫자를 문자로 바꾸자)\n",
    "    + 인코딩 변환 (라벨인코딩, 원핫 인코딩)\n"
   ]
  },
  {
   "cell_type": "code",
   "execution_count": 188,
   "metadata": {
    "colab": {
     "base_uri": "https://localhost:8080/"
    },
    "execution": {
     "iopub.execute_input": "2022-07-08T07:36:13.517166Z",
     "iopub.status.busy": "2022-07-08T07:36:13.516249Z",
     "iopub.status.idle": "2022-07-08T07:36:13.534307Z",
     "shell.execute_reply": "2022-07-08T07:36:13.533265Z",
     "shell.execute_reply.started": "2022-07-08T07:36:13.517060Z"
    },
    "id": "Btts0ZRPztUQ",
    "outputId": "aff81728-c1de-4ca1-acc2-3fb266229e9a"
   },
   "outputs": [
    {
     "data": {
      "text/plain": [
       "(17378, 14)"
      ]
     },
     "execution_count": 188,
     "metadata": {},
     "output_type": "execute_result"
    }
   ],
   "source": [
    "all_data['weather'] = all_data['weather'].map({\n",
    "    1 : 'Clear', \n",
    "    2 : 'Few clouds', \n",
    "    3 : 'Light Snow, Rain', \n",
    "    4 : 'Heavy Snow, Rain'\n",
    "})\n",
    "\n",
    "all_data.shape"
   ]
  },
  {
   "cell_type": "code",
   "execution_count": 189,
   "metadata": {
    "colab": {
     "base_uri": "https://localhost:8080/"
    },
    "execution": {
     "iopub.execute_input": "2022-07-08T07:36:13.536124Z",
     "iopub.status.busy": "2022-07-08T07:36:13.535833Z",
     "iopub.status.idle": "2022-07-08T07:36:13.557034Z",
     "shell.execute_reply": "2022-07-08T07:36:13.556171Z",
     "shell.execute_reply.started": "2022-07-08T07:36:13.536089Z"
    },
    "id": "pUMNa8DOztUQ",
    "outputId": "0d00a6eb-e8bc-452d-926c-865e0841c592"
   },
   "outputs": [
    {
     "data": {
      "text/plain": [
       "0             Clear\n",
       "1             Clear\n",
       "2             Clear\n",
       "3             Clear\n",
       "4             Clear\n",
       "            ...    \n",
       "17373    Few clouds\n",
       "17374    Few clouds\n",
       "17375         Clear\n",
       "17376         Clear\n",
       "17377         Clear\n",
       "Name: weather, Length: 17378, dtype: object"
      ]
     },
     "execution_count": 189,
     "metadata": {},
     "output_type": "execute_result"
    }
   ],
   "source": [
    "all_data['weather']"
   ]
  },
  {
   "cell_type": "markdown",
   "metadata": {
    "id": "nau-_9SsztUR"
   },
   "source": [
    "### 다섯번째\n",
    "- weather 4인 데이터는 삭제 (이상치)\n",
    "    + 4 대신, 'Heavy Snow, Rain'"
   ]
  },
  {
   "cell_type": "code",
   "execution_count": 190,
   "metadata": {
    "colab": {
     "base_uri": "https://localhost:8080/"
    },
    "execution": {
     "iopub.execute_input": "2022-07-08T07:36:13.558798Z",
     "iopub.status.busy": "2022-07-08T07:36:13.558284Z",
     "iopub.status.idle": "2022-07-08T07:36:13.575171Z",
     "shell.execute_reply": "2022-07-08T07:36:13.573956Z",
     "shell.execute_reply.started": "2022-07-08T07:36:13.558766Z"
    },
    "id": "PqIlPInFztUR",
    "outputId": "ac775502-7827-4bb2-8ad5-b2da0d11de53"
   },
   "outputs": [
    {
     "data": {
      "text/plain": [
       "(17378, 14)"
      ]
     },
     "execution_count": 190,
     "metadata": {},
     "output_type": "execute_result"
    }
   ],
   "source": [
    "all_data.shape"
   ]
  },
  {
   "cell_type": "code",
   "execution_count": 191,
   "metadata": {
    "execution": {
     "iopub.execute_input": "2022-07-08T07:36:13.577471Z",
     "iopub.status.busy": "2022-07-08T07:36:13.576786Z",
     "iopub.status.idle": "2022-07-08T07:36:13.590743Z",
     "shell.execute_reply": "2022-07-08T07:36:13.589518Z",
     "shell.execute_reply.started": "2022-07-08T07:36:13.577425Z"
    },
    "id": "EDusct5MztUR"
   },
   "outputs": [],
   "source": [
    "# all_data['weather'].value_counts()"
   ]
  },
  {
   "cell_type": "markdown",
   "metadata": {
    "id": "UvJL-JDcztUR"
   },
   "source": [
    "- all_data에서 지우는 것이 아니라, train에서만 지워야 함."
   ]
  },
  {
   "cell_type": "code",
   "execution_count": 192,
   "metadata": {
    "execution": {
     "iopub.execute_input": "2022-07-08T07:36:13.592420Z",
     "iopub.status.busy": "2022-07-08T07:36:13.592104Z",
     "iopub.status.idle": "2022-07-08T07:36:13.608431Z",
     "shell.execute_reply": "2022-07-08T07:36:13.607358Z",
     "shell.execute_reply.started": "2022-07-08T07:36:13.592394Z"
    },
    "id": "aoU4mGuQztUR"
   },
   "outputs": [],
   "source": [
    "# all_data = all_data[all_data['weather'] != 'Heavy Snow, Rain']\n",
    "# all_data.shape"
   ]
  },
  {
   "cell_type": "markdown",
   "metadata": {
    "id": "eG2lGTflztUR"
   },
   "source": [
    "## 일곱번째 \n",
    "- windspeed 컬럼 삭제\n",
    "- train만 제거"
   ]
  },
  {
   "cell_type": "code",
   "execution_count": 193,
   "metadata": {
    "colab": {
     "base_uri": "https://localhost:8080/"
    },
    "execution": {
     "iopub.execute_input": "2022-07-08T07:36:13.611818Z",
     "iopub.status.busy": "2022-07-08T07:36:13.610863Z",
     "iopub.status.idle": "2022-07-08T07:36:13.631350Z",
     "shell.execute_reply": "2022-07-08T07:36:13.630556Z",
     "shell.execute_reply.started": "2022-07-08T07:36:13.611780Z"
    },
    "id": "lOS4I8RlztUS",
    "outputId": "7c5b9d02-3ae7-4186-c424-7a1a8f47c6b6"
   },
   "outputs": [
    {
     "data": {
      "text/plain": [
       "(17378, 13)"
      ]
     },
     "execution_count": 193,
     "metadata": {},
     "output_type": "execute_result"
    }
   ],
   "source": [
    "all_data = all_data.drop('windspeed', axis = 1)\n",
    "all_data.shape"
   ]
  },
  {
   "cell_type": "code",
   "execution_count": 194,
   "metadata": {
    "colab": {
     "base_uri": "https://localhost:8080/"
    },
    "execution": {
     "iopub.execute_input": "2022-07-08T07:36:13.633600Z",
     "iopub.status.busy": "2022-07-08T07:36:13.632430Z",
     "iopub.status.idle": "2022-07-08T07:36:13.653274Z",
     "shell.execute_reply": "2022-07-08T07:36:13.652432Z",
     "shell.execute_reply.started": "2022-07-08T07:36:13.633565Z"
    },
    "id": "t1ZNGw8cztUS",
    "outputId": "57ebb56f-9396-4236-f3e2-e3cced2fd041"
   },
   "outputs": [
    {
     "name": "stdout",
     "output_type": "stream",
     "text": [
      "<class 'pandas.core.frame.DataFrame'>\n",
      "RangeIndex: 17378 entries, 0 to 17377\n",
      "Data columns (total 13 columns):\n",
      " #   Column      Non-Null Count  Dtype         \n",
      "---  ------      --------------  -----         \n",
      " 0   datetime    17378 non-null  object        \n",
      " 1   season      17378 non-null  object        \n",
      " 2   holiday     17378 non-null  int64         \n",
      " 3   workingday  17378 non-null  int64         \n",
      " 4   weather     17378 non-null  object        \n",
      " 5   temp        17378 non-null  float64       \n",
      " 6   atemp       17378 non-null  float64       \n",
      " 7   humidity    17378 non-null  int64         \n",
      " 8   count       10885 non-null  float64       \n",
      " 9   date        17378 non-null  datetime64[ns]\n",
      " 10  year        17378 non-null  int64         \n",
      " 11  hour        17378 non-null  int64         \n",
      " 12  weekday     17378 non-null  object        \n",
      "dtypes: datetime64[ns](1), float64(3), int64(5), object(4)\n",
      "memory usage: 1.7+ MB\n"
     ]
    }
   ],
   "source": [
    "all_data.info()"
   ]
  },
  {
   "cell_type": "markdown",
   "metadata": {
    "id": "qnrvwP92ztUS"
   },
   "source": [
    "### date 컬럼 제거\n"
   ]
  },
  {
   "cell_type": "code",
   "execution_count": 195,
   "metadata": {
    "colab": {
     "base_uri": "https://localhost:8080/"
    },
    "execution": {
     "iopub.execute_input": "2022-07-08T07:36:13.655159Z",
     "iopub.status.busy": "2022-07-08T07:36:13.654527Z",
     "iopub.status.idle": "2022-07-08T07:36:13.673745Z",
     "shell.execute_reply": "2022-07-08T07:36:13.672652Z",
     "shell.execute_reply.started": "2022-07-08T07:36:13.655119Z"
    },
    "id": "Z5lKmTecztUS",
    "outputId": "5222d928-db32-4c5d-8ab8-9ec20f132b3e"
   },
   "outputs": [
    {
     "name": "stdout",
     "output_type": "stream",
     "text": [
      "<class 'pandas.core.frame.DataFrame'>\n",
      "RangeIndex: 17378 entries, 0 to 17377\n",
      "Data columns (total 13 columns):\n",
      " #   Column      Non-Null Count  Dtype         \n",
      "---  ------      --------------  -----         \n",
      " 0   datetime    17378 non-null  object        \n",
      " 1   season      17378 non-null  object        \n",
      " 2   holiday     17378 non-null  int64         \n",
      " 3   workingday  17378 non-null  int64         \n",
      " 4   weather     17378 non-null  object        \n",
      " 5   temp        17378 non-null  float64       \n",
      " 6   atemp       17378 non-null  float64       \n",
      " 7   humidity    17378 non-null  int64         \n",
      " 8   count       10885 non-null  float64       \n",
      " 9   date        17378 non-null  datetime64[ns]\n",
      " 10  year        17378 non-null  int64         \n",
      " 11  hour        17378 non-null  int64         \n",
      " 12  weekday     17378 non-null  object        \n",
      "dtypes: datetime64[ns](1), float64(3), int64(5), object(4)\n",
      "memory usage: 1.7+ MB\n"
     ]
    }
   ],
   "source": [
    "all_data.info()"
   ]
  },
  {
   "cell_type": "code",
   "execution_count": 196,
   "metadata": {
    "colab": {
     "base_uri": "https://localhost:8080/"
    },
    "execution": {
     "iopub.execute_input": "2022-07-08T07:36:13.675589Z",
     "iopub.status.busy": "2022-07-08T07:36:13.674745Z",
     "iopub.status.idle": "2022-07-08T07:36:13.685687Z",
     "shell.execute_reply": "2022-07-08T07:36:13.684839Z",
     "shell.execute_reply.started": "2022-07-08T07:36:13.675557Z"
    },
    "id": "9e8eeXvEztUS",
    "outputId": "b3be7c79-6250-44f5-a70c-c5068b355699"
   },
   "outputs": [
    {
     "data": {
      "text/plain": [
       "(17378, 11)"
      ]
     },
     "execution_count": 196,
     "metadata": {},
     "output_type": "execute_result"
    }
   ],
   "source": [
    "all_data = all_data.drop(['datetime', 'date'], axis = 1)\n",
    "all_data.shape"
   ]
  },
  {
   "cell_type": "markdown",
   "metadata": {
    "id": "6UpvzvBkztUS"
   },
   "source": [
    "### 원-핫 인코딩\n",
    "- "
   ]
  },
  {
   "cell_type": "code",
   "execution_count": 197,
   "metadata": {
    "colab": {
     "base_uri": "https://localhost:8080/"
    },
    "execution": {
     "iopub.execute_input": "2022-07-08T07:36:13.687405Z",
     "iopub.status.busy": "2022-07-08T07:36:13.686637Z",
     "iopub.status.idle": "2022-07-08T07:36:13.719159Z",
     "shell.execute_reply": "2022-07-08T07:36:13.718403Z",
     "shell.execute_reply.started": "2022-07-08T07:36:13.687365Z"
    },
    "id": "2bu7_NpNztUT",
    "outputId": "4597382f-e200-4006-8a59-9c710657c8b5"
   },
   "outputs": [
    {
     "data": {
      "text/plain": [
       "(17378, 23)"
      ]
     },
     "execution_count": 197,
     "metadata": {},
     "output_type": "execute_result"
    }
   ],
   "source": [
    "all_data = pd.get_dummies(all_data).reset_index(drop=True)\n",
    "all_data.shape"
   ]
  },
  {
   "cell_type": "code",
   "execution_count": 198,
   "metadata": {
    "colab": {
     "base_uri": "https://localhost:8080/"
    },
    "execution": {
     "iopub.execute_input": "2022-07-08T07:36:13.721109Z",
     "iopub.status.busy": "2022-07-08T07:36:13.720156Z",
     "iopub.status.idle": "2022-07-08T07:36:13.734444Z",
     "shell.execute_reply": "2022-07-08T07:36:13.733484Z",
     "shell.execute_reply.started": "2022-07-08T07:36:13.721076Z"
    },
    "id": "0fhsxvTqztUT",
    "outputId": "20d9f6ef-2282-4652-9023-2c7d47f004e4"
   },
   "outputs": [
    {
     "name": "stdout",
     "output_type": "stream",
     "text": [
      "<class 'pandas.core.frame.DataFrame'>\n",
      "RangeIndex: 17378 entries, 0 to 17377\n",
      "Data columns (total 23 columns):\n",
      " #   Column                    Non-Null Count  Dtype  \n",
      "---  ------                    --------------  -----  \n",
      " 0   holiday                   17378 non-null  int64  \n",
      " 1   workingday                17378 non-null  int64  \n",
      " 2   temp                      17378 non-null  float64\n",
      " 3   atemp                     17378 non-null  float64\n",
      " 4   humidity                  17378 non-null  int64  \n",
      " 5   count                     10885 non-null  float64\n",
      " 6   year                      17378 non-null  int64  \n",
      " 7   hour                      17378 non-null  int64  \n",
      " 8   season_Fall               17378 non-null  uint8  \n",
      " 9   season_Spring             17378 non-null  uint8  \n",
      " 10  season_Summer             17378 non-null  uint8  \n",
      " 11  season_Winter             17378 non-null  uint8  \n",
      " 12  weather_Clear             17378 non-null  uint8  \n",
      " 13  weather_Few clouds        17378 non-null  uint8  \n",
      " 14  weather_Heavy Snow, Rain  17378 non-null  uint8  \n",
      " 15  weather_Light Snow, Rain  17378 non-null  uint8  \n",
      " 16  weekday_Friday            17378 non-null  uint8  \n",
      " 17  weekday_Monday            17378 non-null  uint8  \n",
      " 18  weekday_Saturday          17378 non-null  uint8  \n",
      " 19  weekday_Sunday            17378 non-null  uint8  \n",
      " 20  weekday_Thursday          17378 non-null  uint8  \n",
      " 21  weekday_Tuesday           17378 non-null  uint8  \n",
      " 22  weekday_Wednesday         17378 non-null  uint8  \n",
      "dtypes: float64(3), int64(5), uint8(15)\n",
      "memory usage: 1.3 MB\n"
     ]
    }
   ],
   "source": [
    "all_data.info()"
   ]
  },
  {
   "cell_type": "markdown",
   "metadata": {
    "id": "6nNN-sp0ztUT"
   },
   "source": [
    "## 데이터셋 나누기\n",
    "- 훈련데이터와 테스트 데이터로 재 나누기\n",
    "- count 타깃 데이터(=종속 데이터)\n",
    "    + 타깃 데이터가 있으면 훈련 데이터\n",
    "    + 타깃 데이터가 없으면 테스트 데이터"
   ]
  },
  {
   "cell_type": "code",
   "execution_count": 199,
   "metadata": {
    "colab": {
     "base_uri": "https://localhost:8080/"
    },
    "execution": {
     "iopub.execute_input": "2022-07-08T07:36:13.735965Z",
     "iopub.status.busy": "2022-07-08T07:36:13.735519Z",
     "iopub.status.idle": "2022-07-08T07:36:13.750018Z",
     "shell.execute_reply": "2022-07-08T07:36:13.748618Z",
     "shell.execute_reply.started": "2022-07-08T07:36:13.735929Z"
    },
    "id": "Hv4M5KIAztUT",
    "outputId": "ff1d959b-5cbe-4c31-f7f8-d5d49b9aaa30"
   },
   "outputs": [
    {
     "data": {
      "text/plain": [
       "((10885, 23), (6493, 23))"
      ]
     },
     "execution_count": 199,
     "metadata": {},
     "output_type": "execute_result"
    }
   ],
   "source": [
    "train = all_data[~pd.isnull(all_data['count'])]\n",
    "test = all_data[pd.isnull(all_data['count'])]\n",
    "\n",
    "train.shape, test.shape"
   ]
  },
  {
   "cell_type": "markdown",
   "metadata": {
    "id": "U0RyduW3ztUT"
   },
   "source": [
    "- count 컬럼을 제거해야 함\n",
    "- 타깃 데이터만 y로 추출\n",
    "    + train, test count 컬럼 제거"
   ]
  },
  {
   "cell_type": "code",
   "execution_count": 200,
   "metadata": {
    "colab": {
     "base_uri": "https://localhost:8080/"
    },
    "execution": {
     "iopub.execute_input": "2022-07-08T07:36:13.752207Z",
     "iopub.status.busy": "2022-07-08T07:36:13.751504Z",
     "iopub.status.idle": "2022-07-08T07:36:13.765414Z",
     "shell.execute_reply": "2022-07-08T07:36:13.764315Z",
     "shell.execute_reply.started": "2022-07-08T07:36:13.752163Z"
    },
    "id": "lF5-AnaoztUT",
    "outputId": "9c3bdfd5-f458-4e8c-a93e-13e6399c1fd3"
   },
   "outputs": [
    {
     "data": {
      "text/plain": [
       "((10885, 22), (6493, 22))"
      ]
     },
     "execution_count": 200,
     "metadata": {},
     "output_type": "execute_result"
    }
   ],
   "source": [
    "y = train['count'] # 타깃값 \n",
    "\n",
    "train = train.drop(['count'], axis = 1)\n",
    "test = test.drop(['count'], axis = 1)\n",
    "\n",
    "train.shape, test.shape"
   ]
  },
  {
   "cell_type": "markdown",
   "metadata": {
    "id": "PKin0rcYztUU"
   },
   "source": [
    "## 모델 훈련\n",
    "- LinearRegression 모형만 학습"
   ]
  },
  {
   "cell_type": "code",
   "execution_count": 201,
   "metadata": {
    "colab": {
     "base_uri": "https://localhost:8080/"
    },
    "execution": {
     "iopub.execute_input": "2022-07-08T07:36:13.769519Z",
     "iopub.status.busy": "2022-07-08T07:36:13.769190Z",
     "iopub.status.idle": "2022-07-08T07:36:13.801471Z",
     "shell.execute_reply": "2022-07-08T07:36:13.800368Z",
     "shell.execute_reply.started": "2022-07-08T07:36:13.769489Z"
    },
    "id": "izqBT9XDztUU",
    "outputId": "f3265308-0fc0-49c3-e49e-d853e34f10e9"
   },
   "outputs": [
    {
     "data": {
      "text/plain": [
       "array([2.37067025, 2.51692861, 2.61965969, 2.70791364, 2.81064472,\n",
       "       2.79551553, 2.85117928, 3.02430512, 3.12703621, 3.47246024])"
      ]
     },
     "execution_count": 201,
     "metadata": {},
     "output_type": "execute_result"
    }
   ],
   "source": [
    "from sklearn.linear_model import LinearRegression\n",
    "# train_test_split\n",
    "\n",
    "lr_model = LinearRegression()\n",
    "\n",
    "# 모형 학습 전\n",
    "# 로그변환을 해준다. \n",
    "log_y = np.log(y)\n",
    "lr_model.fit(train, log_y)\n",
    "\n",
    "# 모형 예측\n",
    "lr_preds = lr_model.predict(test)\n",
    "lr_preds[:10]"
   ]
  },
  {
   "cell_type": "markdown",
   "metadata": {
    "id": "s721LMmXztUU"
   },
   "source": [
    "## 모형 예측"
   ]
  },
  {
   "cell_type": "code",
   "execution_count": 202,
   "metadata": {
    "colab": {
     "base_uri": "https://localhost:8080/"
    },
    "execution": {
     "iopub.execute_input": "2022-07-08T07:36:13.811036Z",
     "iopub.status.busy": "2022-07-08T07:36:13.806072Z",
     "iopub.status.idle": "2022-07-08T07:36:13.828495Z",
     "shell.execute_reply": "2022-07-08T07:36:13.827299Z",
     "shell.execute_reply.started": "2022-07-08T07:36:13.810971Z"
    },
    "id": "i_ZJhxLDztUU",
    "outputId": "47d1d271-8246-4b5b-e4bf-cceaef39b2e9"
   },
   "outputs": [
    {
     "data": {
      "text/plain": [
       "array([ 10.70456458,  12.39048215,  13.73105001, ..., 133.25111439,\n",
       "       158.50077047, 154.745211  ])"
      ]
     },
     "execution_count": 202,
     "metadata": {},
     "output_type": "execute_result"
    }
   ],
   "source": [
    "# 지수변환\n",
    "final_preds = np.exp(lr_preds)\n",
    "final_preds"
   ]
  },
  {
   "cell_type": "markdown",
   "metadata": {
    "id": "j2yBnKctztUU"
   },
   "source": [
    "## 제출"
   ]
  },
  {
   "cell_type": "code",
   "execution_count": 203,
   "metadata": {
    "execution": {
     "iopub.execute_input": "2022-07-08T07:36:13.835693Z",
     "iopub.status.busy": "2022-07-08T07:36:13.830440Z",
     "iopub.status.idle": "2022-07-08T07:36:13.912707Z",
     "shell.execute_reply": "2022-07-08T07:36:13.911445Z",
     "shell.execute_reply.started": "2022-07-08T07:36:13.835622Z"
    },
    "id": "JN4jEXbBztUU"
   },
   "outputs": [],
   "source": [
    "submission['count'] = final_preds \n",
    "submission.to_csv('submission.csv', index=False)"
   ]
  },
  {
   "cell_type": "code",
   "execution_count": 204,
   "metadata": {
    "colab": {
     "base_uri": "https://localhost:8080/",
     "height": 206
    },
    "execution": {
     "iopub.execute_input": "2022-07-08T07:36:29.063831Z",
     "iopub.status.busy": "2022-07-08T07:36:29.063425Z",
     "iopub.status.idle": "2022-07-08T07:36:29.075003Z",
     "shell.execute_reply": "2022-07-08T07:36:29.073904Z",
     "shell.execute_reply.started": "2022-07-08T07:36:29.063796Z"
    },
    "id": "vIxH3IqpztUV",
    "outputId": "7ab6eefd-7283-48d4-95af-83ae8ed5c9f7"
   },
   "outputs": [
    {
     "data": {
      "text/html": [
       "\n",
       "  <div id=\"df-4e6175ca-0693-4468-b21f-0f9394ab9a74\">\n",
       "    <div class=\"colab-df-container\">\n",
       "      <div>\n",
       "<style scoped>\n",
       "    .dataframe tbody tr th:only-of-type {\n",
       "        vertical-align: middle;\n",
       "    }\n",
       "\n",
       "    .dataframe tbody tr th {\n",
       "        vertical-align: top;\n",
       "    }\n",
       "\n",
       "    .dataframe thead th {\n",
       "        text-align: right;\n",
       "    }\n",
       "</style>\n",
       "<table border=\"1\" class=\"dataframe\">\n",
       "  <thead>\n",
       "    <tr style=\"text-align: right;\">\n",
       "      <th></th>\n",
       "      <th>datetime</th>\n",
       "      <th>count</th>\n",
       "    </tr>\n",
       "  </thead>\n",
       "  <tbody>\n",
       "    <tr>\n",
       "      <th>0</th>\n",
       "      <td>2011-01-20 00:00:00</td>\n",
       "      <td>10.704565</td>\n",
       "    </tr>\n",
       "    <tr>\n",
       "      <th>1</th>\n",
       "      <td>2011-01-20 01:00:00</td>\n",
       "      <td>12.390482</td>\n",
       "    </tr>\n",
       "    <tr>\n",
       "      <th>2</th>\n",
       "      <td>2011-01-20 02:00:00</td>\n",
       "      <td>13.731050</td>\n",
       "    </tr>\n",
       "    <tr>\n",
       "      <th>3</th>\n",
       "      <td>2011-01-20 03:00:00</td>\n",
       "      <td>14.997952</td>\n",
       "    </tr>\n",
       "    <tr>\n",
       "      <th>4</th>\n",
       "      <td>2011-01-20 04:00:00</td>\n",
       "      <td>16.620630</td>\n",
       "    </tr>\n",
       "  </tbody>\n",
       "</table>\n",
       "</div>\n",
       "      <button class=\"colab-df-convert\" onclick=\"convertToInteractive('df-4e6175ca-0693-4468-b21f-0f9394ab9a74')\"\n",
       "              title=\"Convert this dataframe to an interactive table.\"\n",
       "              style=\"display:none;\">\n",
       "        \n",
       "  <svg xmlns=\"http://www.w3.org/2000/svg\" height=\"24px\"viewBox=\"0 0 24 24\"\n",
       "       width=\"24px\">\n",
       "    <path d=\"M0 0h24v24H0V0z\" fill=\"none\"/>\n",
       "    <path d=\"M18.56 5.44l.94 2.06.94-2.06 2.06-.94-2.06-.94-.94-2.06-.94 2.06-2.06.94zm-11 1L8.5 8.5l.94-2.06 2.06-.94-2.06-.94L8.5 2.5l-.94 2.06-2.06.94zm10 10l.94 2.06.94-2.06 2.06-.94-2.06-.94-.94-2.06-.94 2.06-2.06.94z\"/><path d=\"M17.41 7.96l-1.37-1.37c-.4-.4-.92-.59-1.43-.59-.52 0-1.04.2-1.43.59L10.3 9.45l-7.72 7.72c-.78.78-.78 2.05 0 2.83L4 21.41c.39.39.9.59 1.41.59.51 0 1.02-.2 1.41-.59l7.78-7.78 2.81-2.81c.8-.78.8-2.07 0-2.86zM5.41 20L4 18.59l7.72-7.72 1.47 1.35L5.41 20z\"/>\n",
       "  </svg>\n",
       "      </button>\n",
       "      \n",
       "  <style>\n",
       "    .colab-df-container {\n",
       "      display:flex;\n",
       "      flex-wrap:wrap;\n",
       "      gap: 12px;\n",
       "    }\n",
       "\n",
       "    .colab-df-convert {\n",
       "      background-color: #E8F0FE;\n",
       "      border: none;\n",
       "      border-radius: 50%;\n",
       "      cursor: pointer;\n",
       "      display: none;\n",
       "      fill: #1967D2;\n",
       "      height: 32px;\n",
       "      padding: 0 0 0 0;\n",
       "      width: 32px;\n",
       "    }\n",
       "\n",
       "    .colab-df-convert:hover {\n",
       "      background-color: #E2EBFA;\n",
       "      box-shadow: 0px 1px 2px rgba(60, 64, 67, 0.3), 0px 1px 3px 1px rgba(60, 64, 67, 0.15);\n",
       "      fill: #174EA6;\n",
       "    }\n",
       "\n",
       "    [theme=dark] .colab-df-convert {\n",
       "      background-color: #3B4455;\n",
       "      fill: #D2E3FC;\n",
       "    }\n",
       "\n",
       "    [theme=dark] .colab-df-convert:hover {\n",
       "      background-color: #434B5C;\n",
       "      box-shadow: 0px 1px 3px 1px rgba(0, 0, 0, 0.15);\n",
       "      filter: drop-shadow(0px 1px 2px rgba(0, 0, 0, 0.3));\n",
       "      fill: #FFFFFF;\n",
       "    }\n",
       "  </style>\n",
       "\n",
       "      <script>\n",
       "        const buttonEl =\n",
       "          document.querySelector('#df-4e6175ca-0693-4468-b21f-0f9394ab9a74 button.colab-df-convert');\n",
       "        buttonEl.style.display =\n",
       "          google.colab.kernel.accessAllowed ? 'block' : 'none';\n",
       "\n",
       "        async function convertToInteractive(key) {\n",
       "          const element = document.querySelector('#df-4e6175ca-0693-4468-b21f-0f9394ab9a74');\n",
       "          const dataTable =\n",
       "            await google.colab.kernel.invokeFunction('convertToInteractive',\n",
       "                                                     [key], {});\n",
       "          if (!dataTable) return;\n",
       "\n",
       "          const docLinkHtml = 'Like what you see? Visit the ' +\n",
       "            '<a target=\"_blank\" href=https://colab.research.google.com/notebooks/data_table.ipynb>data table notebook</a>'\n",
       "            + ' to learn more about interactive tables.';\n",
       "          element.innerHTML = '';\n",
       "          dataTable['output_type'] = 'display_data';\n",
       "          await google.colab.output.renderOutput(dataTable, element);\n",
       "          const docLink = document.createElement('div');\n",
       "          docLink.innerHTML = docLinkHtml;\n",
       "          element.appendChild(docLink);\n",
       "        }\n",
       "      </script>\n",
       "    </div>\n",
       "  </div>\n",
       "  "
      ],
      "text/plain": [
       "              datetime      count\n",
       "0  2011-01-20 00:00:00  10.704565\n",
       "1  2011-01-20 01:00:00  12.390482\n",
       "2  2011-01-20 02:00:00  13.731050\n",
       "3  2011-01-20 03:00:00  14.997952\n",
       "4  2011-01-20 04:00:00  16.620630"
      ]
     },
     "execution_count": 204,
     "metadata": {},
     "output_type": "execute_result"
    }
   ],
   "source": [
    "submission.head()"
   ]
  }
 ],
 "metadata": {
  "colab": {
   "collapsed_sections": [],
   "name": "day0708.ipynb",
   "provenance": []
  },
  "kernelspec": {
   "display_name": "Python 3 (ipykernel)",
   "language": "python",
   "name": "python3"
  },
  "language_info": {
   "codemirror_mode": {
    "name": "ipython",
    "version": 3
   },
   "file_extension": ".py",
   "mimetype": "text/x-python",
   "name": "python",
   "nbconvert_exporter": "python",
   "pygments_lexer": "ipython3",
   "version": "3.9.12"
  }
 },
 "nbformat": 4,
 "nbformat_minor": 1
}
