{
  "nbformat": 4,
  "nbformat_minor": 0,
  "metadata": {
    "colab": {
      "name": "day0704_2.ipynb",
      "provenance": [],
      "collapsed_sections": []
    },
    "kernelspec": {
      "name": "python3",
      "display_name": "Python 3"
    },
    "language_info": {
      "name": "python"
    }
  },
  "cells": [
    {
      "cell_type": "markdown",
      "source": [
        "---\n",
        "\n",
        "# **title: '머신러닝5 결정트리'**\n",
        "\n",
        "# **date: '2022-07-04 11:00'**\n",
        "\n",
        "---"
      ],
      "metadata": {
        "id": "H6tOCXmA9iHx"
      }
    },
    {
      "cell_type": "markdown",
      "source": [
        "## 결정트리(아주 중요)\n"
      ],
      "metadata": {
        "id": "hu_1jJYz9WcA"
      }
    },
    {
      "cell_type": "code",
      "source": [
        "import pandas as pd\n",
        "wine = pd.read_csv('https://bit.ly/wine_csv_data')\n",
        "print(wine.head())"
      ],
      "metadata": {
        "colab": {
          "base_uri": "https://localhost:8080/"
        },
        "id": "APKHUcqv96Qp",
        "outputId": "8985f08c-cd28-48d9-bca4-3382a3aaf768"
      },
      "execution_count": 139,
      "outputs": [
        {
          "output_type": "stream",
          "name": "stdout",
          "text": [
            "   alcohol  sugar    pH  class\n",
            "0      9.4    1.9  3.51    0.0\n",
            "1      9.8    2.6  3.20    0.0\n",
            "2      9.8    2.3  3.26    0.0\n",
            "3      9.8    1.9  3.16    0.0\n",
            "4      9.4    1.9  3.51    0.0\n"
          ]
        }
      ]
    },
    {
      "cell_type": "markdown",
      "source": [
        "- 데이터 가공하기."
      ],
      "metadata": {
        "id": "4tVk69XL-Q25"
      }
    },
    {
      "cell_type": "code",
      "source": [
        "data = wine[['alcohol','sugar','pH']].to_numpy()\n",
        "target = wine['class'].to_numpy()"
      ],
      "metadata": {
        "id": "f9XWjVXR-ThI"
      },
      "execution_count": 140,
      "outputs": []
    },
    {
      "cell_type": "markdown",
      "source": [
        "- 훈련데이터 분리 "
      ],
      "metadata": {
        "id": "aDwecglQ_cFB"
      }
    },
    {
      "cell_type": "code",
      "source": [
        "from sklearn.model_selection import train_test_split\n",
        "train_input, test_input, train_target, test_target =train_test_split(\n",
        "    data, target, test_size = 0.2, random_state=42\n",
        ")\n",
        "\n",
        "train_input.shape, test_input.shape, train_target.shape, test_target.shape"
      ],
      "metadata": {
        "colab": {
          "base_uri": "https://localhost:8080/"
        },
        "id": "ZD_Zwqqt_eUg",
        "outputId": "481c0209-75c7-4186-b2b8-36a71d511b34"
      },
      "execution_count": 141,
      "outputs": [
        {
          "output_type": "execute_result",
          "data": {
            "text/plain": [
              "((5197, 3), (1300, 3), (5197,), (1300,))"
            ]
          },
          "metadata": {},
          "execution_count": 141
        }
      ]
    },
    {
      "cell_type": "code",
      "source": [
        "from sklearn.preprocessing import StandardScaler\n",
        "ss = StandardScaler()\n",
        "ss.fit(train_input)\n",
        "\n",
        "train_scaled = ss.transform(train_input)\n",
        "test_scaled = ss.transform(test_input)"
      ],
      "metadata": {
        "id": "jB4BRpbnAYNg"
      },
      "execution_count": 142,
      "outputs": []
    },
    {
      "cell_type": "code",
      "source": [
        "from sklearn.linear_model import LogisticRegression\n",
        "lr = LogisticRegression()\n",
        "lr.fit(train_scaled, train_target)\n",
        "print(lr.score(train_scaled,train_target))\n",
        "print(lr.score(test_scaled,test_target))"
      ],
      "metadata": {
        "colab": {
          "base_uri": "https://localhost:8080/"
        },
        "id": "k03ntRTm-oZg",
        "outputId": "f6ce54ea-3be1-4d5f-b584-12314bdc7fa2"
      },
      "execution_count": 143,
      "outputs": [
        {
          "output_type": "stream",
          "name": "stdout",
          "text": [
            "0.7808350971714451\n",
            "0.7776923076923077\n"
          ]
        }
      ]
    },
    {
      "cell_type": "code",
      "source": [
        "print(lr.coef_,lr.intercept_)"
      ],
      "metadata": {
        "colab": {
          "base_uri": "https://localhost:8080/"
        },
        "id": "SJY9A2YQC7Av",
        "outputId": "b00d5f33-b2e3-4365-b418-5df96c42f058"
      },
      "execution_count": 144,
      "outputs": [
        {
          "output_type": "stream",
          "name": "stdout",
          "text": [
            "[[ 0.51270274  1.6733911  -0.68767781]] [1.81777902]\n"
          ]
        }
      ]
    },
    {
      "cell_type": "markdown",
      "source": [
        "- 모델만들기 "
      ],
      "metadata": {
        "id": "oN1OTWLYDG_u"
      }
    },
    {
      "cell_type": "code",
      "source": [
        "from sklearn.tree import DecisionTreeClassifier\n",
        "import matplotlib.pyplot as plt\n",
        "from sklearn.tree import plot_tree\n",
        "\n",
        "dt = DecisionTreeClassifier(max_depth= 6,random_state=42)#깊이를 줄여보자\n",
        "dt.fit(train_scaled,train_target)\n",
        "print(dt.score(train_scaled,train_target)) #훈련 셋트\n",
        "print(dt.score(test_scaled,test_target)) #테스트 셋트\n",
        "\n",
        "plt.figure(figsize=(10,7))\n",
        "plot_tree(dt)\n",
        "plt.show()"
      ],
      "metadata": {
        "colab": {
          "base_uri": "https://localhost:8080/",
          "height": 448
        },
        "id": "BhmqEnD0DSCG",
        "outputId": "f7b52464-6ec0-42cb-bb47-7cd22ad1f417"
      },
      "execution_count": 145,
      "outputs": [
        {
          "output_type": "stream",
          "name": "stdout",
          "text": [
            "0.8766596113142198\n",
            "0.8523076923076923\n"
          ]
        },
        {
          "output_type": "display_data",
          "data": {
            "text/plain": [
              "<Figure size 720x504 with 1 Axes>"
            ],
            "image/png": "[encoded data removed]"
          },
          "metadata": {
            "needs_background": "light"
          }
        }
      ]
    },
    {
      "cell_type": "markdown",
      "source": [
        "- 훈련정확도는 99.6%\n",
        "- 테스트 정확도는 85.9%\n",
        "  +->과대적합이 일어남\n",
        "-max_depth= 7값을 조정하여 비슷하게 만듬"
      ],
      "metadata": {
        "id": "kqIDlPSQkYia"
      }
    },
    {
      "cell_type": "markdown",
      "source": [
        "### 노드란 무엇인가?\n",
        "- 0이면 레드 와인(1599)\n",
        "- 1이면 화이트 와인(4898)\n",
        " "
      ],
      "metadata": {
        "id": "t6pbeukvl8Q1"
      }
    },
    {
      "cell_type": "code",
      "source": [
        "wine['class'].value_counts()"
      ],
      "metadata": {
        "colab": {
          "base_uri": "https://localhost:8080/"
        },
        "id": "Hgai4PjFmAXN",
        "outputId": "26bee917-67fc-4fda-d615-fd911b9d28a7"
      },
      "execution_count": 146,
      "outputs": [
        {
          "output_type": "execute_result",
          "data": {
            "text/plain": [
              "1.0    4898\n",
              "0.0    1599\n",
              "Name: class, dtype: int64"
            ]
          },
          "metadata": {},
          "execution_count": 146
        }
      ]
    },
    {
      "cell_type": "code",
      "source": [
        "plt.figure(figsize=(10,7))\n",
        "plot_tree(dt,\n",
        "          max_depth=1, \n",
        "          filled=True, \n",
        "          feature_names=['alcohol','sugar','pH'])\n",
        "plt.show()"
      ],
      "metadata": {
        "colab": {
          "base_uri": "https://localhost:8080/",
          "height": 411
        },
        "id": "ncay-v8HC2RF",
        "outputId": "e1e05e45-3a80-4bbf-dab3-113a169314ea"
      },
      "execution_count": 147,
      "outputs": [
        {
          "output_type": "display_data",
          "data": {
            "text/plain": [
              "<Figure size 720x504 with 1 Axes>"
            ],
            "image/png": "[encoded data removed]"
          },
          "metadata": {
            "needs_background": "light"
          }
        }
      ]
    },
    {
      "cell_type": "markdown",
      "source": [
        "- 불순도(Gini impurity)\n",
        " + 비율(0~0.5)\n",
        " + 레드와인:화이트 와인 이 5:5 일때 불순도가 가장 높은 상태(0.5)\n",
        " + 한범주안에서 서로 다른 데이터가 얼마나 섞여 있는지를 나타냄.\n",
        " + 흰색과 검은색이 각각 반반이면 불순도 최대 0.5\n",
        " + 흰색과 검은색이 완전 분리가 되면 \n",
        "   - 흰색 노드 불순도 최소 0\n",
        "   - 검은색 노드 불순도 최소 0"
      ],
      "metadata": {
        "id": "sox7DSuzlH7q"
      }
    },
    {
      "cell_type": "markdown",
      "source": [
        "- 엔트로피(Entropy)\n",
        " + 불확실한 정도를 의미(0~1)\n",
        " + 흰색과 검은색이 각각 반이면 엔트로피 최대 1\n",
        " + 흰색과 검은색이 완전 분리가 되면\n",
        "   - 흰색 노드 엔트로피도 0\n",
        "   - 검은색 노드 엔트로피도 0 "
      ],
      "metadata": {
        "id": "j4vWF7szk__9"
      }
    },
    {
      "cell_type": "code",
      "source": [
        "from sklearn.tree import DecisionTreeClassifier\n",
        "import matplotlib.pyplot as plt\n",
        "from sklearn.tree import plot_tree\n",
        "\n",
        "dt = DecisionTreeClassifier(criterion = 'entropy', max_depth = 42, random_state=42)\n",
        "dt.fit(train_scaled,train_target)\n",
        "dt.score(train_scaled,train_target) #훈련 셋트\n",
        "dt.score(test_scaled,test_target) #테스트 셋트\n",
        "plt.figure(figsize=(10,7))\n",
        "plot_tree(dt,\n",
        "          max_depth=1, \n",
        "          filled=True, \n",
        "          feature_names=['alcohol','sugar','pH'])\n",
        "plt.show()"
      ],
      "metadata": {
        "colab": {
          "base_uri": "https://localhost:8080/",
          "height": 411
        },
        "id": "hJq8fE3H-k6R",
        "outputId": "ed070c57-da85-4d4b-fc6a-c584a9229eea"
      },
      "execution_count": 148,
      "outputs": [
        {
          "output_type": "display_data",
          "data": {
            "text/plain": [
              "<Figure size 720x504 with 1 Axes>"
            ],
            "image/png": "[encoded data removed]"
          },
          "metadata": {
            "needs_background": "light"
          }
        }
      ]
    },
    {
      "cell_type": "markdown",
      "source": [
        "### 특성 중요도\n",
        "- 어떤 특성이 결정 트리 모델에 영향을 주었는가? "
      ],
      "metadata": {
        "id": "7Ev_vp8Pr1yk"
      }
    },
    {
      "cell_type": "code",
      "source": [
        "print(dt.feature_importances_)"
      ],
      "metadata": {
        "colab": {
          "base_uri": "https://localhost:8080/"
        },
        "id": "sz90bcr_r95y",
        "outputId": "015d2c28-fa6e-4f20-bd99-210993e39516"
      },
      "execution_count": 149,
      "outputs": [
        {
          "output_type": "stream",
          "name": "stdout",
          "text": [
            "[0.23739824 0.5051808  0.25742097]\n"
          ]
        }
      ]
    },
    {
      "cell_type": "markdown",
      "source": [
        "## 현업에서의 적용\n",
        "- 현업에서 DecisionTreeClassifier을 사용하기에는 오래되었다.(1970년대)\n",
        "- 렘덤포르세트, XGBoost 하이퍼 파라미터가 매우 많음\n"
      ],
      "metadata": {
        "id": "-weCOgOY-Kth"
      }
    },
    {
      "cell_type": "markdown",
      "source": [
        "## 검증 세트\n",
        "- 훈련세트와 테스트세트\n",
        "- 훈련 : 교과서로 공부하는 것 \n",
        "- 훈련세트 : 모의평가\n",
        "- 검증 : 강남대성 모의고사\n",
        "- 테스트 : 중간고사, 기말고사\n",
        "- 실전 :수능"
      ],
      "metadata": {
        "id": "C10R8Ro10l5h"
      }
    },
    {
      "cell_type": "code",
      "source": [
        "import pandas as pd\n",
        "wine = pd.read_csv('https://bit.ly/wine_csv_data')\n",
        "data = wine[['alcohol','sugar','pH']].to_numpy()\n",
        "target = wine['class'].to_numpy()\n",
        "#훈련 80%, 테스트 20%\n",
        "train_input, test_input, train_target, test_target =train_test_split(\n",
        "    data, target, test_size = 0.2, random_state=42\n",
        ")\n",
        "train_input.shape, test_input.shape, train_target.shape, test_target.shape"
      ],
      "metadata": {
        "colab": {
          "base_uri": "https://localhost:8080/"
        },
        "id": "mTkiHsXJ1sD5",
        "outputId": "0c2348b5-fd55-4896-be29-b806478eba0a"
      },
      "execution_count": 150,
      "outputs": [
        {
          "output_type": "execute_result",
          "data": {
            "text/plain": [
              "((5197, 3), (1300, 3), (5197,), (1300,))"
            ]
          },
          "metadata": {},
          "execution_count": 150
        }
      ]
    },
    {
      "cell_type": "code",
      "source": [
        "#훈련80%, 검증20%\n",
        "sub_input, val_input,sub_target,val_target = train_test_split(\n",
        "    train_input, train_target, test_size =0.2, random_state=42\n",
        ")\n",
        "sub_input.shape,val_input.shape,sub_target.shape,val_target.shape"
      ],
      "metadata": {
        "colab": {
          "base_uri": "https://localhost:8080/"
        },
        "id": "Utdi-66U2gph",
        "outputId": "7a0afc15-c497-4921-bbc6-fc923f16d832"
      },
      "execution_count": 151,
      "outputs": [
        {
          "output_type": "execute_result",
          "data": {
            "text/plain": [
              "((4157, 3), (1040, 3), (4157,), (1040,))"
            ]
          },
          "metadata": {},
          "execution_count": 151
        }
      ]
    },
    {
      "cell_type": "markdown",
      "source": [
        "- 훈련데이터: sub_input, sub_target\n",
        "- 검증데이터: val_input, val_target\n",
        "- 테스트데이터: test_input, test_target"
      ],
      "metadata": {
        "id": "3ZnfZpIF3M7X"
      }
    },
    {
      "cell_type": "code",
      "source": [
        "from sklearn.tree import DecisionTreeClassifier\n",
        "dt =DecisionTreeClassifier(random_state =42)\n",
        "dt.fit(sub_input,sub_target)\n",
        "print(\"훈련성과:\",dt.score(sub_input,sub_target))\n",
        "print(\"검증성과:\",dt.score(val_input,val_target))\n",
        "print(\"최종:\",dt.score(test_input,test_target))"
      ],
      "metadata": {
        "colab": {
          "base_uri": "https://localhost:8080/"
        },
        "id": "bhVApkS53Z1_",
        "outputId": "1bd44802-5df2-41b1-8631-762f3dcdec91"
      },
      "execution_count": 152,
      "outputs": [
        {
          "output_type": "stream",
          "name": "stdout",
          "text": [
            "훈련성과: 0.9971133028626413\n",
            "검증성과: 0.864423076923077\n",
            "최종: 0.8569230769230769\n"
          ]
        }
      ]
    },
    {
      "cell_type": "markdown",
      "source": [
        "- 훈련 : 87%\n",
        "- 검증 : 86%->과대적합\n",
        "------------\n",
        "- 최종 : 85%"
      ],
      "metadata": {
        "id": "reHTQaHu4X_Q"
      }
    },
    {
      "cell_type": "markdown",
      "source": [
        "### 교차 검증\n",
        "- 데이터 셋을 반복분할\n",
        "- For loop\n",
        "- 샘플링의 편향성을 방지\n",
        "- 교차검증을 한다고 해서 정확도가 무조건 올라가는 것은 아님.\n",
        "- 모형을 안정적으로 만들어줌(과대적합 방지)\n"
      ],
      "metadata": {
        "id": "Y0pu1_c147jX"
      }
    },
    {
      "cell_type": "code",
      "source": [
        "from sklearn.model_selection import KFold\n",
        "import numpy as np\n",
        "df = np.array([1,2,3,4,5,6,7,8,9,10])\n",
        "\n",
        "#데이터를 K폴드로 나눈다.\n",
        "folds = KFold(n_splits=5, shuffle = True)\n",
        "for train_idx,valid_idx in folds.split(df):\n",
        "  print(f'훈련데이터:{df[train_idx]},검증데이터:{df[valid_idx]}')"
      ],
      "metadata": {
        "colab": {
          "base_uri": "https://localhost:8080/"
        },
        "id": "ENVYHXjR_UeX",
        "outputId": "dda654f2-1dee-45f2-c1d7-78998c9cb0f5"
      },
      "execution_count": 153,
      "outputs": [
        {
          "output_type": "stream",
          "name": "stdout",
          "text": [
            "훈련데이터:[1 2 3 4 5 6 8 9],검증데이터:[ 7 10]\n",
            "훈련데이터:[ 1  2  3  4  6  7  8 10],검증데이터:[5 9]\n",
            "훈련데이터:[ 1  2  4  5  7  8  9 10],검증데이터:[3 6]\n",
            "훈련데이터:[ 1  3  4  5  6  7  9 10],검증데이터:[2 8]\n",
            "훈련데이터:[ 2  3  5  6  7  8  9 10],검증데이터:[1 4]\n"
          ]
        }
      ]
    },
    {
      "cell_type": "markdown",
      "source": [
        "- 교차 검증 함수\n",
        " + cross_validate()"
      ],
      "metadata": {
        "id": "EWIM0qytAJvO"
      }
    },
    {
      "cell_type": "code",
      "source": [
        "from sklearn.model_selection import cross_validate\n",
        "scores =cross_validate(dt,train_input,train_target)\n",
        "print(scores)\n",
        "print(\"평균:\",np.mean(scores['test_score']))"
      ],
      "metadata": {
        "colab": {
          "base_uri": "https://localhost:8080/"
        },
        "id": "mqJZSxKR4DHR",
        "outputId": "df22dc46-f033-4bf3-be15-e11042afb8bb"
      },
      "execution_count": 154,
      "outputs": [
        {
          "output_type": "stream",
          "name": "stdout",
          "text": [
            "{'fit_time': array([0.01610422, 0.00758529, 0.00780439, 0.00830793, 0.00751185]), 'score_time': array([0.00120473, 0.00096321, 0.00094819, 0.00098753, 0.00134945]), 'test_score': array([0.86923077, 0.84615385, 0.87680462, 0.84889317, 0.83541867])}\n",
            "평균: 0.855300214703487\n"
          ]
        }
      ]
    },
    {
      "cell_type": "markdown",
      "source": [
        "- StratifiedKFold 사용\n",
        " + 타깃클래스를 골고루 나누기 위함"
      ],
      "metadata": {
        "id": "xlQZAuorCTF1"
      }
    },
    {
      "cell_type": "code",
      "source": [
        "from sklearn.model_selection import StratifiedKFold \n",
        "scores = cross_validate(dt, train_input, train_target, cv = StratifiedKFold())\n",
        "print(scores)\n",
        "print(\"평균 : \", np.mean(scores['test_score']))"
      ],
      "metadata": {
        "colab": {
          "base_uri": "https://localhost:8080/"
        },
        "id": "VweyWHXgPOdR",
        "outputId": "d51eb2e4-d749-467c-a4b9-d78de825702b"
      },
      "execution_count": 155,
      "outputs": [
        {
          "output_type": "stream",
          "name": "stdout",
          "text": [
            "{'fit_time': array([0.01418257, 0.00769162, 0.00846624, 0.00809741, 0.00809479]), 'score_time': array([0.00103283, 0.00094843, 0.00096679, 0.00104737, 0.00102282]), 'test_score': array([0.86923077, 0.84615385, 0.87680462, 0.84889317, 0.83541867])}\n",
            "평균 :  0.855300214703487\n"
          ]
        }
      ]
    },
    {
      "cell_type": "markdown",
      "source": [
        "- 10-폴드 교차 검증"
      ],
      "metadata": {
        "id": "Qd6IMfGSPUjx"
      }
    },
    {
      "cell_type": "code",
      "source": [
        "from sklearn.model_selection import StratifiedKFold\n",
        "splitter =StratifiedKFold(n_splits = 10,shuffle =True, random_state = 42)#10번 더 교차 검증을 수행\n",
        "scores =cross_validate(dt,train_input,train_target,cv =splitter)\n",
        "print(scores)\n",
        "print(\"평균:\",np.mean(scores['test_score']))"
      ],
      "metadata": {
        "colab": {
          "base_uri": "https://localhost:8080/"
        },
        "id": "xfbVwxeG8btA",
        "outputId": "d5d2aa5c-4867-47fa-dccf-b8c13dd26341"
      },
      "execution_count": 156,
      "outputs": [
        {
          "output_type": "stream",
          "name": "stdout",
          "text": [
            "{'fit_time': array([0.01752782, 0.00863743, 0.00879025, 0.0088315 , 0.00837684,\n",
            "       0.00851107, 0.00831246, 0.00826931, 0.00829077, 0.00844049]), 'score_time': array([0.00099802, 0.00086832, 0.00085974, 0.00183129, 0.00091791,\n",
            "       0.0008316 , 0.00078368, 0.00092673, 0.00080705, 0.00082994]), 'test_score': array([0.83461538, 0.87884615, 0.85384615, 0.85384615, 0.84615385,\n",
            "       0.87307692, 0.85961538, 0.85549133, 0.85163776, 0.86705202])}\n",
            "평균: 0.8574181117533719\n"
          ]
        }
      ]
    },
    {
      "cell_type": "markdown",
      "source": [
        "## 하이퍼 파라미터 튜닝\n",
        "- 그리드 서치(사람이 수동입력)\n",
        " + max_depth: [1.3.5...]\n",
        "- 랜덤 서치(사람이 범위만 지정)\n",
        " + max_depth: 1~10/by random\n",
        "- 베이지안 옵티마이제이션\n",
        "- 사람의 개입없이 하이퍼파라미터 튜닝을 자동적으로 수행하는 기술을 AutoML이라고 함\n",
        " + 예)PyCaret\n",
        "- 각 모델마다 적게는 1-2개에서 많게는 5-6개의 매개 변수를 제공한다\n",
        "- 하이퍼파라미터와 동시에 교차검증을 수행(불가능하다)\n",
        " + 교차검증 5번\n",
        "  - 교차검증 1번 돌때, Max Depth3번 적용 총 결과값 3x5x2나옴\n",
        "  - Max Death =1,3,7\n",
        "  - criterion= gini.entropy \n"
      ],
      "metadata": {
        "id": "MNUn3H0CDOrl"
      }
    },
    {
      "cell_type": "code",
      "source": [
        "from sklearn.model_selection import GridSearchCV\n",
        "params = {\n",
        "    'min_impurity_decrease' : [0.0001,0.0002,0.0003,0.0004,0.0005]\n",
        "    \n",
        "}\n",
        "gs = GridSearchCV(DecisionTreeClassifier(random_state =42),params, n_jobs= -1)\n",
        "gs.fit(train_input,train_target)"
      ],
      "metadata": {
        "colab": {
          "base_uri": "https://localhost:8080/"
        },
        "id": "gy65p8cPHUJz",
        "outputId": "7b834512-c687-49df-8d4b-a809995900c9"
      },
      "execution_count": 158,
      "outputs": [
        {
          "output_type": "execute_result",
          "data": {
            "text/plain": [
              "GridSearchCV(estimator=DecisionTreeClassifier(random_state=42), n_jobs=-1,\n",
              "             param_grid={'min_impurity_decrease': [0.0001, 0.0002, 0.0003,\n",
              "                                                   0.0004, 0.0005]})"
            ]
          },
          "metadata": {},
          "execution_count": 158
        }
      ]
    },
    {
      "cell_type": "code",
      "source": [
        "print(\"best:\",gs.best_estimator_)\n",
        "dt = gs.best_estimator_\n",
        "print(dt.score(train_input, train_target))"
      ],
      "metadata": {
        "colab": {
          "base_uri": "https://localhost:8080/"
        },
        "id": "DBC6sfp6IJOT",
        "outputId": "6827845f-5be4-40f6-f8f3-362cd97227c9"
      },
      "execution_count": 159,
      "outputs": [
        {
          "output_type": "stream",
          "name": "stdout",
          "text": [
            "best: DecisionTreeClassifier(min_impurity_decrease=0.0001, random_state=42)\n",
            "0.9615162593804117\n"
          ]
        }
      ]
    },
    {
      "cell_type": "code",
      "source": [
        "from sklearn.model_selection import GridSearchCV\n",
        "params = {\n",
        "    'criterion' : ['gini', 'entropy'],\n",
        "    'max_depth ': [1,3,7],\n",
        "    'min_impurity_decrease' : [0.0001,0.0002,0.0003,0.0004,0.0005]\n",
        "    \n",
        "}\n",
        "gs = GridSearchCV(DecisionTreeClassifier(random_state =42),params, n_jobs= -1)\n",
        "gs.fit(train_input,train_target)\n",
        "print(\"best:\",gs.best_estimator_)\n",
        "dt = gs.best_estimator_\n",
        "print(dt.score(train_input, train_target))"
      ],
      "metadata": {
        "colab": {
          "base_uri": "https://localhost:8080/"
        },
        "id": "1d0DAdgVNHuj",
        "outputId": "947685fa-c654-415f-f263-b7128111dacb"
      },
      "execution_count": 162,
      "outputs": [
        {
          "output_type": "stream",
          "name": "stdout",
          "text": [
            "best: DecisionTreeClassifier(max_depth=7, min_impurity_decrease=0.0005,\n",
            "                       random_state=42)\n",
            "0.8830094285164518\n"
          ]
        }
      ]
    }
  ]
}