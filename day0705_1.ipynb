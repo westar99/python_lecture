{
 "cells": [
  {
   "cell_type": "markdown",
   "metadata": {
    "id": "zr82aFE6n5sH"
   },
   "source": [
    "---\n",
    "\n",
    "# **title: '머신러닝5 트리의 앙상블'**\n",
    "\n",
    "# **date: '2022-07-05 09:00'**\n",
    "\n",
    "---"
   ]
  },
  {
   "cell_type": "markdown",
   "metadata": {
    "id": "N-TcIdn3s33A"
   },
   "source": [
    "##  랜덤 포레스트\n",
    "- Decision Tree(나무 1개)에서 출발\n",
    "  + 여러개 심음\n",
    "  + 샘플링\n",
    "  + Feature Importances\n",
    "- 예측해야 할 행의 갯수,100만개\n",
    "- 컬럼의 갯수 200개 ==>100개 축소\n",
    "  + 나무 100개를 심고 평균을 내자\n",
    "  + 나무 1개당 컬럼을 10개로 다양한 값 찾기\n",
    "     + T1 mae :20, T2 mae :30, T3 mae 10.....->T1~T100 mae :20(평균값)\n",
    "     + Feature Importances\n",
    "  + 샘플링 : 부트스트랩 샘플(복원추출)\n",
    "  "
   ]
  },
  {
   "cell_type": "code",
   "execution_count": null,
   "metadata": {
    "colab": {
     "base_uri": "https://localhost:8080/"
    },
    "id": "N-_QhDyf38g8",
    "outputId": "47a701af-36ed-4e6d-fa67-5c44e9e16004"
   },
   "outputs": [
    {
     "name": "stdout",
     "output_type": "stream",
     "text": [
      "0.9973541965122431 0.8905151032797809 과대적합\n",
      "[0.23167441 0.50039841 0.26792718] 역시 당도가 중요\n",
      "0.8934000384837406 OOB검증세트와 비슷\n"
     ]
    }
   ],
   "source": [
    "# 라이브러리 불러오기 \n",
    "import numpy as np \n",
    "import pandas as pd \n",
    "from sklearn.model_selection import train_test_split, cross_validate\n",
    "from sklearn.ensemble import RandomForestClassifier\n",
    "\n",
    "# 데이터 불러오기\n",
    "wine = pd.read_csv('https://bit.ly/wine_csv_data')\n",
    "\n",
    "# input, target 분리 \n",
    "data = wine[['alcohol', 'sugar', 'pH']].to_numpy()\n",
    "target = wine['class'].to_numpy()\n",
    "\n",
    "\n",
    "# 훈련데이터, 테스트 데이터 분리\n",
    "train_input, test_input, train_target, test_target = train_test_split(\n",
    "    data, target, test_size = 0.2, random_state = 42\n",
    ")\n",
    "\n",
    "# 모델링\n",
    "rf = RandomForestClassifier(n_jobs=-1, random_state = 42)\n",
    "\n",
    "# 모형 평가\n",
    "scores = cross_validate(rf, train_input, train_target, return_train_score = True, n_jobs =-1)\n",
    "print(np.mean(scores['train_score']), np.mean(scores['test_score']),\"과대적합\")\n",
    "\n",
    "# 특성 중요도\n",
    "rf.fit(train_input, train_target)\n",
    "print(rf.feature_importances_,\"역시 당도가 중요\")\n",
    "\n",
    "# OOB \n",
    "rf = RandomForestClassifier(oob_score = True, n_jobs = -1, random_state = 42)\n",
    "rf.fit(train_input, train_target)\n",
    "print(rf.oob_score_,\"OOB검증세트와 비슷\")"
   ]
  },
  {
   "cell_type": "markdown",
   "metadata": {
    "id": "1NEy0oWG6S_t"
   },
   "source": [
    "## 그레이디언트 부스팅\n",
    "- 기존알고리즘에 가중치(보정치)를 주어 학습을 시킴\n",
    "- 경사하강법의 원리를 이용함\n",
    "- T1~Tn 증가하면서 오차를 보정해주며 정확성을 높임\n",
    "- 랜덤포레스트와의 차이점\n",
    "  + 랜덤포레스트는 각 나무간의 상호 연관성이 없음(부트스트랩샘플)\n",
    "  + 그레이디언트 부스팅은 각 나무간 상호 연관성이 있음\n",
    "     ->그러나 너무 느린 속도\n",
    "  + XGBoost,LightGBM이 대안"
   ]
  },
  {
   "cell_type": "code",
   "execution_count": null,
   "metadata": {
    "colab": {
     "base_uri": "https://localhost:8080/"
    },
    "id": "RxDpRyUn-d87",
    "outputId": "63977456-7792-4fde-9477-e113607d307b"
   },
   "outputs": [
    {
     "name": "stdout",
     "output_type": "stream",
     "text": [
      "0.8881086892152563 0.8720430147331015\n"
     ]
    }
   ],
   "source": [
    "from sklearn.ensemble import GradientBoostingClassifier\n",
    "gb = GradientBoostingClassifier(random_state=42)\n",
    "scores = cross_validate(gb,train_input,train_target, return_train_score=True,n_jobs=-1)\n",
    "print(np.mean(scores['train_score']),np.mean(scores['test_score']))"
   ]
  },
  {
   "cell_type": "code",
   "execution_count": null,
   "metadata": {
    "colab": {
     "base_uri": "https://localhost:8080/"
    },
    "id": "p21fj4JKAGsE",
    "outputId": "51eb9d70-e446-4b7d-daf4-9ff0975ceee8"
   },
   "outputs": [
    {
     "name": "stdout",
     "output_type": "stream",
     "text": [
      "0.9464595437171814 0.8780082549788999\n"
     ]
    }
   ],
   "source": [
    "#결정트리 갯수를 기본100->500개로 늘리고 학습율 기본0.1->0.2로 늘려 봄\n",
    "gb = GradientBoostingClassifier(n_estimators=500,learning_rate=0.2,random_state=42)\n",
    "scores = cross_validate(gb,train_input,train_target, return_train_score=True,n_jobs=-1)\n",
    "print(np.mean(scores['train_score']),np.mean(scores['test_score']))"
   ]
  },
  {
   "cell_type": "markdown",
   "metadata": {
    "id": "ZpuFwMMDA38y"
   },
   "source": [
    "- 특성 중요도"
   ]
  },
  {
   "cell_type": "code",
   "execution_count": null,
   "metadata": {
    "colab": {
     "base_uri": "https://localhost:8080/"
    },
    "id": "OfO9-u3Z_Tvy",
    "outputId": "de536285-4a5c-4e08-e6a3-067630d410d9"
   },
   "outputs": [
    {
     "name": "stdout",
     "output_type": "stream",
     "text": [
      "[0.15872278 0.68010884 0.16116839]\n"
     ]
    }
   ],
   "source": [
    "gb.fit(train_input, train_target)\n",
    "print(gb.feature_importances_)"
   ]
  }
 ],
 "metadata": {
  "colab": {
   "collapsed_sections": [],
   "name": "day0705_1.ipynb",
   "provenance": []
  },
  "kernelspec": {
   "display_name": "Python 3 (ipykernel)",
   "language": "python",
   "name": "python3"
  },
  "language_info": {
   "codemirror_mode": {
    "name": "ipython",
    "version": 3
   },
   "file_extension": ".py",
   "mimetype": "text/x-python",
   "name": "python",
   "nbconvert_exporter": "python",
   "pygments_lexer": "ipython3",
   "version": "3.9.12"
  }
 },
 "nbformat": 4,
 "nbformat_minor": 1
}
