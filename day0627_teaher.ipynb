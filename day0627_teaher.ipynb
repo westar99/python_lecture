{
 "cells": [
  {
   "cell_type": "markdown",
   "metadata": {
    "id": "rwhxo1FozCqP"
   },
   "source": [
    "---\n",
    "title: \"Python 기초문법\"\n",
    "date: '2022-06-27'\n",
    "---"
   ]
  },
  {
   "cell_type": "markdown",
   "metadata": {
    "id": "SL2hjP_ezCnS"
   },
   "source": [
    "- Hello World"
   ]
  },
  {
   "cell_type": "code",
   "execution_count": null,
   "metadata": {
    "colab": {
     "base_uri": "https://localhost:8080/"
    },
    "id": "1SGghnC2y-1P",
    "outputId": "e8f728d3-a8d0-4267-9b53-8c774a70db50"
   },
   "outputs": [
    {
     "name": "stdout",
     "output_type": "stream",
     "text": [
      "Hello World\n"
     ]
    }
   ],
   "source": [
    "print(\"Hello World\")"
   ]
  },
  {
   "cell_type": "markdown",
   "metadata": {
    "id": "OY5DBymZ0C5K"
   },
   "source": [
    "## 주석처리\n",
    "- 1줄 주석, 여러 줄 주석 처리\n",
    "- 여러 줄 주석 처리\n",
    "  + 함수 또는 클래스를 문서화 할 때 주로 사용\n",
    "\n",
    "- 프로젝트 할 때\n",
    "  + 전체 공정 100\n",
    "  + 코드 / 코드 문서화 / 한글작업 문서화\n",
    "   "
   ]
  },
  {
   "cell_type": "code",
   "execution_count": null,
   "metadata": {
    "colab": {
     "base_uri": "https://localhost:8080/"
    },
    "id": "E_phlM630Ipl",
    "outputId": "7f1c13f4-cd67-4764-c224-abf53aa4c27a"
   },
   "outputs": [
    {
     "name": "stdout",
     "output_type": "stream",
     "text": [
      "1줄 주석\n",
      "여러줄 주석\n"
     ]
    }
   ],
   "source": [
    "# print() 함수 사용\n",
    "print(\"1줄 주석\")\n",
    "\n",
    "\"\"\"\n",
    "여러 줄 주석\n",
    "쌍따옴표 3개를 입력해주세요\n",
    "앞과 뒤로 \n",
    "\"\"\"\n",
    "\n",
    "print(\"여러줄 주석\")"
   ]
  },
  {
   "cell_type": "markdown",
   "metadata": {
    "id": "sKQdx3Rm5P0w"
   },
   "source": [
    "## 변수 (Scalar)\n",
    "- 자료형\n",
    "- Scalar형 Non-Scalar형\n"
   ]
  },
  {
   "cell_type": "markdown",
   "metadata": {
    "id": "cyUGhXxD5l_i"
   },
   "source": [
    "### 수치형 자료형\n",
    "- int, float "
   ]
  },
  {
   "cell_type": "code",
   "execution_count": null,
   "metadata": {
    "colab": {
     "base_uri": "https://localhost:8080/"
    },
    "id": "2q5qMyEZ5j5o",
    "outputId": "4bb5058c-c48e-4cc0-e526-ede861a20386"
   },
   "outputs": [
    {
     "name": "stdout",
     "output_type": "stream",
     "text": [
      "1\n",
      "<class 'int'>\n"
     ]
    }
   ],
   "source": [
    "num_int = 1\n",
    "print(num_int)\n",
    "print(type(num_int))"
   ]
  },
  {
   "cell_type": "code",
   "execution_count": null,
   "metadata": {
    "colab": {
     "base_uri": "https://localhost:8080/"
    },
    "id": "KKEcny7U6Jb9",
    "outputId": "d84bff32-9c1d-4526-9675-e3a0c00f176c"
   },
   "outputs": [
    {
     "name": "stdout",
     "output_type": "stream",
     "text": [
      "0.1\n",
      "<class 'float'>\n"
     ]
    }
   ],
   "source": [
    "num_float = 0.1\n",
    "print(num_float)\n",
    "print(type(num_float))"
   ]
  },
  {
   "cell_type": "markdown",
   "metadata": {
    "id": "e2C0MncW6Uj5"
   },
   "source": [
    "### Bool형\n",
    "- True, False\n",
    "- R : TRUE, FALSE"
   ]
  },
  {
   "cell_type": "code",
   "execution_count": null,
   "metadata": {
    "colab": {
     "base_uri": "https://localhost:8080/"
    },
    "id": "Rag7FLbL6guQ",
    "outputId": "8e22fc57-1eef-47a8-dfc2-6596e1e51bcc"
   },
   "outputs": [
    {
     "name": "stdout",
     "output_type": "stream",
     "text": [
      "True\n",
      "<class 'bool'>\n"
     ]
    }
   ],
   "source": [
    "bool_true = True\n",
    "print(bool_true)\n",
    "print(type(bool_true))"
   ]
  },
  {
   "cell_type": "markdown",
   "metadata": {
    "id": "KN5xToz96ISp"
   },
   "source": [
    "### None 자료형\n",
    "- Null값, 값이 정해지지 않은 자료형\n"
   ]
  },
  {
   "cell_type": "code",
   "execution_count": null,
   "metadata": {
    "colab": {
     "base_uri": "https://localhost:8080/"
    },
    "id": "xUhRtvCM64AY",
    "outputId": "d5276d46-9b89-4ef8-97b8-178fa136bf65"
   },
   "outputs": [
    {
     "name": "stdout",
     "output_type": "stream",
     "text": [
      "None\n",
      "<class 'NoneType'>\n"
     ]
    }
   ],
   "source": [
    "none_x = None\n",
    "print(none_x)\n",
    "print(type(none_x))"
   ]
  },
  {
   "cell_type": "markdown",
   "metadata": {
    "id": "giYFmbt27ZRq"
   },
   "source": [
    "## 사칙연산\n",
    "- 정수형 사칙연산, 실수형 사칙연산\n",
    "- 결괏값의 자료형"
   ]
  },
  {
   "cell_type": "markdown",
   "metadata": {
    "id": "OqIW2IDV7mKF"
   },
   "source": [
    "### 정수형 사칙 연산\n",
    "+, -, *, / "
   ]
  },
  {
   "cell_type": "code",
   "execution_count": null,
   "metadata": {
    "colab": {
     "base_uri": "https://localhost:8080/"
    },
    "id": "kxDoPigX7lbh",
    "outputId": "6aefa748-799b-4c64-d069-e9d781e5ea62"
   },
   "outputs": [
    {
     "name": "stdout",
     "output_type": "stream",
     "text": [
      "a + b =  5\n",
      "a - b =  1\n",
      "a * b =  6\n",
      "a / b =  1.5\n"
     ]
    }
   ],
   "source": [
    "a = 3\n",
    "b = 2 \n",
    "print('a + b = ', a+b)\n",
    "print('a - b = ', a-b)\n",
    "print('a * b = ', a*b)\n",
    "print('a / b = ', a/b)"
   ]
  },
  {
   "cell_type": "markdown",
   "metadata": {
    "id": "QeAf46t472WK"
   },
   "source": [
    "### 실수형 사칙 연산"
   ]
  },
  {
   "cell_type": "code",
   "execution_count": null,
   "metadata": {
    "colab": {
     "base_uri": "https://localhost:8080/"
    },
    "id": "EoSipU-q74gQ",
    "outputId": "4f3dca4d-068b-484f-dced-02ee23286aa9"
   },
   "outputs": [
    {
     "name": "stdout",
     "output_type": "stream",
     "text": [
      "a + b =  4.0\n",
      "a - b =  -1.0\n",
      "a * b =  3.75\n",
      "a / b =  0.6\n"
     ]
    }
   ],
   "source": [
    "a = 1.5\n",
    "b = 2.5\n",
    "print('a + b = ', a+b)\n",
    "print('a - b = ', a-b)\n",
    "print('a * b = ', a*b)\n",
    "print('a / b = ', a/b)"
   ]
  },
  {
   "cell_type": "markdown",
   "metadata": {
    "id": "1La3t7269Y-t"
   },
   "source": [
    "## 논리형 연산자\n",
    "- Bool형\n",
    "- True와 False 값으로 정의\n",
    "- 조건식\n",
    "  + 교집합(=and), 합집합(=or)\n",
    "  "
   ]
  },
  {
   "cell_type": "code",
   "execution_count": null,
   "metadata": {
    "colab": {
     "base_uri": "https://localhost:8080/"
    },
    "id": "2qXcUvOS9ugm",
    "outputId": "e8821125-a5fe-4f6d-c052-7003530a3ab4"
   },
   "outputs": [
    {
     "name": "stdout",
     "output_type": "stream",
     "text": [
      "True\n",
      "False\n",
      "False\n",
      "False\n"
     ]
    }
   ],
   "source": [
    "print(True and True)\n",
    "print(True and False)\n",
    "print(False and True)\n",
    "print(False and False)"
   ]
  },
  {
   "cell_type": "code",
   "execution_count": null,
   "metadata": {
    "colab": {
     "base_uri": "https://localhost:8080/"
    },
    "id": "MAUiqxOH943y",
    "outputId": "a7e94b91-895b-4741-e560-d3a557d40bb9"
   },
   "outputs": [
    {
     "name": "stdout",
     "output_type": "stream",
     "text": [
      "True\n",
      "True\n",
      "True\n",
      "False\n"
     ]
    }
   ],
   "source": [
    "print(True or True)\n",
    "print(True or False)\n",
    "print(False or True)\n",
    "print(False or False)"
   ]
  },
  {
   "cell_type": "markdown",
   "metadata": {
    "id": "AswMGKuw-Jtt"
   },
   "source": [
    "## 비교 연산자\n",
    "- 비교 연산자는 부등호를 의미한다. \n"
   ]
  },
  {
   "cell_type": "code",
   "execution_count": null,
   "metadata": {
    "colab": {
     "base_uri": "https://localhost:8080/"
    },
    "id": "oC4GZX7O-M_3",
    "outputId": "83d4873f-d9a6-4a5b-cbde-b163d3049bf0"
   },
   "outputs": [
    {
     "name": "stdout",
     "output_type": "stream",
     "text": [
      "True\n",
      "False\n",
      "True\n"
     ]
    }
   ],
   "source": [
    "print(4 > 3) # 참 = True \n",
    "print(4 < 3) # 거짓 = False\n",
    "\n",
    "print(4 > 3 or 4 < 3) # False"
   ]
  },
  {
   "cell_type": "markdown",
   "metadata": {
    "id": "0Z9KZpNY-rWk"
   },
   "source": [
    "## 논리형 & 비교 연산자 응용\n",
    "- input()\n",
    "- 형변환\n",
    "- 데이터 타입을 바꾸는 것"
   ]
  },
  {
   "cell_type": "code",
   "execution_count": null,
   "metadata": {
    "colab": {
     "base_uri": "https://localhost:8080/"
    },
    "id": "QMIbX8du-6FW",
    "outputId": "abb5423b-6a17-42c2-c6b6-fc515fd4538c"
   },
   "outputs": [
    {
     "name": "stdout",
     "output_type": "stream",
     "text": [
      "숫자를 입력하세요..!1\n",
      "1\n",
      "<class 'int'>\n"
     ]
    }
   ],
   "source": [
    "var = int(input(\"숫자를 입력하세요..!\"))\n",
    "print(var)\n",
    "print(type(var))"
   ]
  },
  {
   "cell_type": "code",
   "execution_count": null,
   "metadata": {
    "colab": {
     "base_uri": "https://localhost:8080/"
    },
    "id": "T1IMOVdL_vxO",
    "outputId": "6eec7da7-38d6-45e5-ba15-0e0f0ac7a839"
   },
   "outputs": [
    {
     "name": "stdout",
     "output_type": "stream",
     "text": [
      "첫번째 숫자를 입력하세요..!10\n",
      "두번째 숫자를 입력하세요..!20\n",
      "세번째 숫자를 입력하세요..!30\n",
      "네번째 숫자를 입력하세요..!40\n"
     ]
    }
   ],
   "source": [
    "num1 = int(input(\"첫번째 숫자를 입력하세요..!\"))\n",
    "num2 = int(input(\"두번째 숫자를 입력하세요..!\"))\n",
    "num3 = int(input(\"세번째 숫자를 입력하세요..!\"))\n",
    "num4 = int(input(\"네번째 숫자를 입력하세요..!\"))"
   ]
  },
  {
   "cell_type": "code",
   "execution_count": null,
   "metadata": {
    "id": "A0bLbtFK_5bY"
   },
   "outputs": [],
   "source": [
    "var1 = num1 >= num2 # False\n",
    "var2 = num3 < num4 # True"
   ]
  },
  {
   "cell_type": "code",
   "execution_count": null,
   "metadata": {
    "colab": {
     "base_uri": "https://localhost:8080/"
    },
    "id": "Ma9zN8hd_4xd",
    "outputId": "de06831f-e83d-44b5-f75a-6d0a50c4e419"
   },
   "outputs": [
    {
     "name": "stdout",
     "output_type": "stream",
     "text": [
      "True\n"
     ]
    }
   ],
   "source": [
    "print(var1 and var2) # True\n",
    "\n",
    "# 1 True\n",
    "# 2 False"
   ]
  },
  {
   "cell_type": "markdown",
   "metadata": {
    "id": "_MbnqdARBuzB"
   },
   "source": [
    "## String \n",
    "- Non Scalar\n"
   ]
  },
  {
   "cell_type": "code",
   "execution_count": null,
   "metadata": {
    "colab": {
     "base_uri": "https://localhost:8080/"
    },
    "id": "OPwua_9sB21Q",
    "outputId": "b8e1e744-9467-48dd-b753-0b2a1c5e839d"
   },
   "outputs": [
    {
     "name": "stdout",
     "output_type": "stream",
     "text": [
      "Hello World\n",
      "Hello World\n",
      "'Hello World'\n",
      "\"Hello World\"\n"
     ]
    }
   ],
   "source": [
    "print('Hello World')\n",
    "print(\"Hello World\")\n",
    "\n",
    "print(\"'Hello World'\")\n",
    "print('\"Hello World\"')"
   ]
  },
  {
   "cell_type": "markdown",
   "metadata": {
    "id": "5fGpip3FCbyn"
   },
   "source": [
    "## String Operators\n",
    "- 문자열 연산자\n",
    "- +, * 가능"
   ]
  },
  {
   "cell_type": "code",
   "execution_count": null,
   "metadata": {
    "colab": {
     "base_uri": "https://localhost:8080/"
    },
    "id": "y1UbwhR2Clnv",
    "outputId": "64b8bc3b-3b53-41f6-b402-45cbace7ad71"
   },
   "outputs": [
    {
     "name": "stdout",
     "output_type": "stream",
     "text": [
      "Hello World\n"
     ]
    }
   ],
   "source": [
    "str1 = \"Hello \"\n",
    "str2 = \"World\"\n",
    "print(str1 + str2)"
   ]
  },
  {
   "cell_type": "code",
   "execution_count": null,
   "metadata": {
    "colab": {
     "base_uri": "https://localhost:8080/"
    },
    "id": "YSgfcaf5C18w",
    "outputId": "9b47e745-c098-4ad3-bcc7-5dce35dfd973"
   },
   "outputs": [
    {
     "name": "stdout",
     "output_type": "stream",
     "text": [
      "Hello WorldHello World\n"
     ]
    }
   ],
   "source": [
    "greet = str1 + str2\n",
    "print(greet * 2)"
   ]
  },
  {
   "cell_type": "markdown",
   "metadata": {
    "id": "cHWV2okfhuIH"
   },
   "source": [
    "## 문자열 인덱싱\n",
    "- 인덱싱은 0번째 부터 시작"
   ]
  },
  {
   "cell_type": "code",
   "execution_count": 6,
   "metadata": {
    "colab": {
     "base_uri": "https://localhost:8080/"
    },
    "id": "51zUvJlbh0m4",
    "outputId": "48e99936-896f-4bef-efee-3b08d9f8871c"
   },
   "outputs": [
    {
     "name": "stdout",
     "output_type": "stream",
     "text": [
      "a\n"
     ]
    }
   ],
   "source": [
    "greeting = \"Hello Kaggle\"\n",
    "i = 7\n",
    "print(greeting[i])\n",
    "print(greeting[7])"
   ]
  },
  {
   "cell_type": "code",
   "execution_count": 9,
   "metadata": {
    "colab": {
     "base_uri": "https://localhost:8080/"
    },
    "id": "BqzBG-d5igw8",
    "outputId": "b12b20ea-0aa0-4077-e71b-35b3b6d94b1a"
   },
   "outputs": [
    {
     "name": "stdout",
     "output_type": "stream",
     "text": [
      "숫자를 입력하세요...!7\n",
      "a\n"
     ]
    }
   ],
   "source": [
    "greeting = \"Hello Kaggle\"\n",
    "i = int(input(\"숫자를 입력하세요...!\"))\n",
    "print(greeting[i])"
   ]
  },
  {
   "cell_type": "markdown",
   "metadata": {
    "id": "bC-jo7Y5iyri"
   },
   "source": [
    "## 슬라이싱"
   ]
  },
  {
   "cell_type": "code",
   "execution_count": 16,
   "metadata": {
    "colab": {
     "base_uri": "https://localhost:8080/"
    },
    "id": "i4oOcsrri00a",
    "outputId": "4f02319c-488b-4e11-d904-2f3eb8633aed"
   },
   "outputs": [
    {
     "name": "stdout",
     "output_type": "stream",
     "text": [
      "Hello Ka\n",
      "Hello Ka\n",
      "Kaggle\n",
      "HloKg\n",
      "HlKg\n",
      "Hog\n"
     ]
    }
   ],
   "source": [
    "greeting = \"Hello Kaggle\"\n",
    "# print(greeting[시작인덱스:끝인덱스-1])\n",
    "print(greeting[0:8])\n",
    "print(greeting[:8])\n",
    "print(greeting[6:])\n",
    "print(greeting[0:10:2])\n",
    "print(greeting[0:10:3])\n",
    "print(greeting[0:10:4])"
   ]
  },
  {
   "cell_type": "code",
   "execution_count": 17,
   "metadata": {
    "colab": {
     "base_uri": "https://localhost:8080/"
    },
    "id": "V7YS9s_DkuT6",
    "outputId": "4a047e43-8fb8-4498-dfb8-967e32d955bc"
   },
   "outputs": [
    {
     "name": "stdout",
     "output_type": "stream",
     "text": [
      "ace\n"
     ]
    }
   ],
   "source": [
    "alphabet_letter = \"0123456789\"\n",
    "print(alphabet_letter[0:5:2])"
   ]
  },
  {
   "cell_type": "code",
   "execution_count": 20,
   "metadata": {
    "colab": {
     "base_uri": "https://localhost:8080/"
    },
    "id": "NB4KAcwmlVm5",
    "outputId": "cd70c890-a4c0-4987-fbe3-0b9c44d6f087"
   },
   "outputs": [
    {
     "name": "stdout",
     "output_type": "stream",
     "text": [
      "e\n"
     ]
    }
   ],
   "source": [
    "greeting = \"Hello Kaggle\"\n",
    "print(greeting[11])"
   ]
  },
  {
   "cell_type": "markdown",
   "metadata": {
    "id": "HwEoH4Fwl8M-"
   },
   "source": [
    "- 문자열 관련 메서드\n",
    "  + split()\n",
    "  + sort() \n",
    "  + etc "
   ]
  },
  {
   "cell_type": "markdown",
   "metadata": {
    "id": "ZdiVEg73mKaJ"
   },
   "source": [
    "## 리스트\n",
    "- []로 표시, \n",
    "- [item1, item2, item3]"
   ]
  },
  {
   "cell_type": "code",
   "execution_count": 22,
   "metadata": {
    "colab": {
     "base_uri": "https://localhost:8080/"
    },
    "id": "2m50StzWmeBF",
    "outputId": "4a2750da-551e-4be0-ef6d-27d2c0d35b22"
   },
   "outputs": [
    {
     "name": "stdout",
     "output_type": "stream",
     "text": [
      "[1, 2, ['apple'], 'apple']\n"
     ]
    }
   ],
   "source": [
    "a = [] # 빈 리스트\n",
    "a_func = list() # 빈 리스트 생성\n",
    "b = [1] # 숫자 요소\n",
    "c = ['apple'] # 문자 요소\n",
    "d = [1, 2, ['apple'], 'apple']\n",
    "print(d)"
   ]
  },
  {
   "cell_type": "markdown",
   "metadata": {
    "id": "Jig0NG8vnLJJ"
   },
   "source": [
    "### 리스트 값 수정하기\n",
    "- 리스트 값 수정"
   ]
  },
  {
   "cell_type": "code",
   "execution_count": 24,
   "metadata": {
    "colab": {
     "base_uri": "https://localhost:8080/"
    },
    "id": "ElfOVeg2nQGF",
    "outputId": "4d0ad02b-3ec1-43a0-f214-67231eb21f27"
   },
   "outputs": [
    {
     "name": "stdout",
     "output_type": "stream",
     "text": [
      "['아무값', 1, 2]\n"
     ]
    }
   ],
   "source": [
    "a = [0, 1, 2]\n",
    "a[0] = \"아무값\"\n",
    "print(a)"
   ]
  },
  {
   "cell_type": "markdown",
   "metadata": {
    "id": "i-Kpb7uQnl7W"
   },
   "source": [
    "### 리스트 값 추가하기\n",
    "- 메서드 사용"
   ]
  },
  {
   "cell_type": "code",
   "execution_count": 30,
   "metadata": {
    "colab": {
     "base_uri": "https://localhost:8080/"
    },
    "id": "oVcdE_GFnp8j",
    "outputId": "702e4c07-07e8-48e8-fb07-b754a71e1f54"
   },
   "outputs": [
    {
     "name": "stdout",
     "output_type": "stream",
     "text": [
      "[100, 200, 300, 400]\n",
      "[100, 200, 300, 400, [500, 600]]\n"
     ]
    }
   ],
   "source": [
    "a = [100, 200, 300]\n",
    "a.append(400)\n",
    "print(a)\n",
    "\n",
    "a.append([500, 600])\n",
    "print(a)"
   ]
  },
  {
   "cell_type": "code",
   "execution_count": 32,
   "metadata": {
    "colab": {
     "base_uri": "https://localhost:8080/"
    },
    "id": "MFvxMaOsoe0-",
    "outputId": "10e7fbe5-06e9-47a4-a354-3c1e6d7591a4"
   },
   "outputs": [
    {
     "name": "stdout",
     "output_type": "stream",
     "text": [
      "[100, 200, 300, 400]\n",
      "[100, 200, 300, 400, 400, 500]\n"
     ]
    }
   ],
   "source": [
    "a = [100, 200, 300]\n",
    "a.append(400)\n",
    "print(a)\n",
    "\n",
    "a.extend([400, 500])\n",
    "print(a)"
   ]
  },
  {
   "cell_type": "markdown",
   "metadata": {
    "id": "LiqRGbXLpCQH"
   },
   "source": [
    "- insert(인덱스 위치, 값)"
   ]
  },
  {
   "cell_type": "code",
   "execution_count": 33,
   "metadata": {
    "colab": {
     "base_uri": "https://localhost:8080/"
    },
    "id": "fYn4PqfGpLbv",
    "outputId": "c0e126ee-1fd2-4523-a5e8-cadf1a5631cd"
   },
   "outputs": [
    {
     "name": "stdout",
     "output_type": "stream",
     "text": [
      "[100, 1000, 200, 300]\n"
     ]
    }
   ],
   "source": [
    "a = [100, 200, 300]\n",
    "a.insert(1, 1000)\n",
    "print(a)"
   ]
  },
  {
   "cell_type": "markdown",
   "metadata": {
    "id": "2w6Z1XXdpbcX"
   },
   "source": [
    "### 리스트 값 삭제하기\n",
    "- remove(), del"
   ]
  },
  {
   "cell_type": "code",
   "execution_count": 38,
   "metadata": {
    "colab": {
     "base_uri": "https://localhost:8080/"
    },
    "id": "_eY-5c8mphSb",
    "outputId": "4ae6e59d-41b8-404d-c95b-17f8efcae0c2"
   },
   "outputs": [
    {
     "name": "stdout",
     "output_type": "stream",
     "text": [
      "[2, 1, 2, 10]\n",
      "[2, 1, 2]\n"
     ]
    }
   ],
   "source": [
    "a = [1, 2, 1, 2, 10]\n",
    "a.remove(1)\n",
    "print(a)\n",
    "\n",
    "a.remove(10)\n",
    "print(a)"
   ]
  },
  {
   "cell_type": "markdown",
   "metadata": {
    "id": "LMcdKpflqCNz"
   },
   "source": [
    "- del "
   ]
  },
  {
   "cell_type": "code",
   "execution_count": 43,
   "metadata": {
    "colab": {
     "base_uri": "https://localhost:8080/"
    },
    "id": "NNXc5rvzqDtz",
    "outputId": "f179ab18-671c-4e5a-beb1-f6b2b57de2ed"
   },
   "outputs": [
    {
     "name": "stdout",
     "output_type": "stream",
     "text": [
      "[0, 1, 2, 3, 4]\n",
      "[2, 3, 4]\n"
     ]
    }
   ],
   "source": [
    "a = [0, 0, 1, 2, 3, 4]\n",
    "del a[1]\n",
    "print(a)\n",
    "\n",
    "del a[0:2]\n",
    "print(a)"
   ]
  },
  {
   "cell_type": "markdown",
   "metadata": {
    "id": "Bahx7DkFuVZx"
   },
   "source": [
    "- pop() \n"
   ]
  },
  {
   "cell_type": "code",
   "execution_count": 46,
   "metadata": {
    "colab": {
     "base_uri": "https://localhost:8080/"
    },
    "id": "2C-6Jf_ouaJf",
    "outputId": "bdbc04e5-0f1d-4e98-e4da-3fd2a9f77aea"
   },
   "outputs": [
    {
     "name": "stdout",
     "output_type": "stream",
     "text": [
      "[1, 3, 4, 5]\n",
      "2\n",
      "[1, 3, 4]\n",
      "5\n"
     ]
    }
   ],
   "source": [
    "a = [1, 2, 3, 4, 5]\n",
    "rem = a.pop(1)\n",
    "print(a)\n",
    "print(rem)\n",
    "x = a.pop()\n",
    "print(a)\n",
    "print(x)"
   ]
  },
  {
   "cell_type": "markdown",
   "metadata": {
    "id": "75isVlGovc2j"
   },
   "source": [
    "- clear() : 리스트 내 모든 값 삭제\n",
    "- index(\"값\") : 값의 위치를 불러옴\n",
    " \n",
    "\n"
   ]
  },
  {
   "cell_type": "code",
   "execution_count": 48,
   "metadata": {
    "colab": {
     "base_uri": "https://localhost:8080/"
    },
    "id": "fIYLoGt3vrUt",
    "outputId": "2f1234f4-0ed7-41cb-fc5b-669a6f97dec6"
   },
   "outputs": [
    {
     "name": "stdout",
     "output_type": "stream",
     "text": [
      "1\n",
      "2\n"
     ]
    }
   ],
   "source": [
    "a = [1, 4, 5, 2, 3]\n",
    "b = [\"철수\", \"영희\", \"길동\"]\n",
    "print(a.index(4))\n",
    "print(b.index(\"길동\"))"
   ]
  },
  {
   "cell_type": "markdown",
   "metadata": {
    "id": "G_kriD86wAmm"
   },
   "source": [
    "- sort : 리스트의 정렬"
   ]
  },
  {
   "cell_type": "code",
   "execution_count": 55,
   "metadata": {
    "colab": {
     "base_uri": "https://localhost:8080/"
    },
    "id": "JNEx2m1BwC5V",
    "outputId": "2c86d726-c574-42c4-9ad4-6bea7947ea09"
   },
   "outputs": [
    {
     "name": "stdout",
     "output_type": "stream",
     "text": [
      "[5, 4, 3, 2, 1]\n",
      "Help on method_descriptor:\n",
      "\n",
      "index(self, value, start=0, stop=9223372036854775807, /)\n",
      "    Return first index of value.\n",
      "    \n",
      "    Raises ValueError if the value is not present.\n",
      "\n"
     ]
    }
   ],
   "source": [
    "a = [1, 4, 5, 2, 3]\n",
    "a.sort(reverse=True)\n",
    "print(a)\n",
    "\n",
    "# help(list.sort)\n",
    "help(list.index)"
   ]
  },
  {
   "cell_type": "markdown",
   "metadata": {
    "id": "aizjpPWGx0eM"
   },
   "source": [
    "## 튜플\n",
    "- 면접질문 : 리스트와 튜플의 차이가 뭐에요? \n",
    "- 리스트 : [] \n",
    "  + 수정, 삭제, 추가 \n",
    "- 튜플 : () \n",
    "  + 다 안됨\n"
   ]
  },
  {
   "cell_type": "code",
   "execution_count": 57,
   "metadata": {
    "colab": {
     "base_uri": "https://localhost:8080/"
    },
    "id": "HrER-W-ryl59",
    "outputId": "648bf7e1-f2b8-4801-8bd3-bab3f4dc8e50"
   },
   "outputs": [
    {
     "name": "stdout",
     "output_type": "stream",
     "text": [
      "<class 'int'>\n",
      "<class 'tuple'>\n",
      "<class 'tuple'>\n",
      "0\n",
      "(0,)\n",
      "(0, 1, 2)\n"
     ]
    }
   ],
   "source": [
    "tuple1 = (0)\n",
    "tuple2 = (0, )\n",
    "tuple3 = 0, 1, 2\n",
    "\n",
    "print(type(tuple1))\n",
    "print(type(tuple2))\n",
    "print(type(tuple3))\n",
    "\n",
    "print(tuple1)\n",
    "print(tuple2)\n",
    "print(tuple3)"
   ]
  },
  {
   "cell_type": "code",
   "execution_count": 58,
   "metadata": {
    "colab": {
     "base_uri": "https://localhost:8080/",
     "height": 190
    },
    "id": "eX2UaEOhzV7o",
    "outputId": "19d191f8-dc8d-496f-a1d1-b72a6644f057"
   },
   "outputs": [
    {
     "ename": "TypeError",
     "evalue": "ignored",
     "output_type": "error",
     "traceback": [
      "\u001b[0;31m---------------------------------------------------------------------------\u001b[0m",
      "\u001b[0;31mTypeError\u001b[0m                                 Traceback (most recent call last)",
      "\u001b[0;32m<ipython-input-58-3c8e6a62588a>\u001b[0m in \u001b[0;36m<module>\u001b[0;34m()\u001b[0m\n\u001b[1;32m      1\u001b[0m \u001b[0ma\u001b[0m \u001b[0;34m=\u001b[0m \u001b[0;34m(\u001b[0m\u001b[0;36m0\u001b[0m\u001b[0;34m,\u001b[0m \u001b[0;36m1\u001b[0m\u001b[0;34m,\u001b[0m \u001b[0;36m2\u001b[0m\u001b[0;34m,\u001b[0m \u001b[0;36m3\u001b[0m\u001b[0;34m,\u001b[0m \u001b[0;34m'a'\u001b[0m\u001b[0;34m)\u001b[0m\u001b[0;34m\u001b[0m\u001b[0;34m\u001b[0m\u001b[0m\n\u001b[0;32m----> 2\u001b[0;31m \u001b[0;32mdel\u001b[0m \u001b[0ma\u001b[0m\u001b[0;34m[\u001b[0m\u001b[0;36m4\u001b[0m\u001b[0;34m]\u001b[0m\u001b[0;34m\u001b[0m\u001b[0;34m\u001b[0m\u001b[0m\n\u001b[0m",
      "\u001b[0;31mTypeError\u001b[0m: 'tuple' object doesn't support item deletion"
     ]
    }
   ],
   "source": [
    "a = (0, 1, 2, 3, 'a')\n",
    "del a[4]"
   ]
  },
  {
   "cell_type": "code",
   "execution_count": 61,
   "metadata": {
    "colab": {
     "base_uri": "https://localhost:8080/",
     "height": 209
    },
    "id": "M87FlkqX0SNs",
    "outputId": "de40b6e5-9dd2-4c5a-dd44-e26128f9a003"
   },
   "outputs": [
    {
     "ename": "TypeError",
     "evalue": "ignored",
     "output_type": "error",
     "traceback": [
      "\u001b[0;31m---------------------------------------------------------------------------\u001b[0m",
      "\u001b[0;31mTypeError\u001b[0m                                 Traceback (most recent call last)",
      "\u001b[0;32m<ipython-input-61-fdbbdf9f616e>\u001b[0m in \u001b[0;36m<module>\u001b[0;34m()\u001b[0m\n\u001b[1;32m      1\u001b[0m \u001b[0ma\u001b[0m \u001b[0;34m=\u001b[0m \u001b[0;34m(\u001b[0m\u001b[0;36m0\u001b[0m\u001b[0;34m,\u001b[0m \u001b[0;36m1\u001b[0m\u001b[0;34m,\u001b[0m \u001b[0;36m2\u001b[0m\u001b[0;34m,\u001b[0m \u001b[0;36m3\u001b[0m\u001b[0;34m,\u001b[0m \u001b[0;34m'a'\u001b[0m\u001b[0;34m)\u001b[0m\u001b[0;34m\u001b[0m\u001b[0;34m\u001b[0m\u001b[0m\n\u001b[0;32m----> 2\u001b[0;31m \u001b[0ma\u001b[0m\u001b[0;34m[\u001b[0m\u001b[0;36m4\u001b[0m\u001b[0;34m]\u001b[0m \u001b[0;34m=\u001b[0m \u001b[0;36m4\u001b[0m\u001b[0;34m\u001b[0m\u001b[0;34m\u001b[0m\u001b[0m\n\u001b[0m\u001b[1;32m      3\u001b[0m \u001b[0mprint\u001b[0m\u001b[0;34m(\u001b[0m\u001b[0ma\u001b[0m\u001b[0;34m)\u001b[0m\u001b[0;34m\u001b[0m\u001b[0;34m\u001b[0m\u001b[0m\n",
      "\u001b[0;31mTypeError\u001b[0m: 'tuple' object does not support item assignment"
     ]
    }
   ],
   "source": [
    "a = (0, 1, 2, 3, 'a')\n",
    "a[4] = 4\n",
    "print(a)"
   ]
  },
  {
   "cell_type": "markdown",
   "metadata": {
    "id": "1qv2uK5a0u4a"
   },
   "source": [
    "## 튜플(=리스트) 연산자\n",
    "- 문자열 연산자\n",
    "- +, *"
   ]
  },
  {
   "cell_type": "code",
   "execution_count": 63,
   "metadata": {
    "colab": {
     "base_uri": "https://localhost:8080/"
    },
    "id": "wdya4Ls306SN",
    "outputId": "b20b4b43-1a85-48c8-9f68-00a637c6685e"
   },
   "outputs": [
    {
     "name": "stdout",
     "output_type": "stream",
     "text": [
      "[0, 1, 2, 3, 4, 5]\n"
     ]
    }
   ],
   "source": [
    "t1 = [0, 1, 2]\n",
    "t2 = [3, 4, 5]\n",
    "print(t1 + t2)"
   ]
  },
  {
   "cell_type": "markdown",
   "metadata": {
    "id": "FhGpDV6d1-xn"
   },
   "source": [
    "## 딕셔너리\n",
    "- Key(키)와 Value(값)으로 구성됨\n",
    "- 슬라이싱! = (값의 순서가 존재해야 함)\n",
    "- 순서라는 개념 자체가 존재 하지 않음\n"
   ]
  },
  {
   "cell_type": "code",
   "execution_count": 69,
   "metadata": {
    "colab": {
     "base_uri": "https://localhost:8080/"
    },
    "id": "DqZl-TGn2TDd",
    "outputId": "dc016309-64ce-4c2b-c532-e564c7e80d26"
   },
   "outputs": [
    {
     "name": "stdout",
     "output_type": "stream",
     "text": [
      "evan\n",
      "15\n",
      "['s1', 's2', 's3']\n"
     ]
    }
   ],
   "source": [
    "temp_dict = {\n",
    "    'teacher' : 'evan', \n",
    "    'class' : 15, \n",
    "    'students' : ['s1', 's2', 's3']\n",
    "}\n",
    "\n",
    "print(temp_dict[\"teacher\"])\n",
    "print(temp_dict['class'])\n",
    "print(temp_dict['students'])"
   ]
  },
  {
   "cell_type": "markdown",
   "metadata": {
    "id": "EJJIRQZh7ymi"
   },
   "source": [
    "- keys() 값만 출력"
   ]
  },
  {
   "cell_type": "code",
   "execution_count": 73,
   "metadata": {
    "colab": {
     "base_uri": "https://localhost:8080/"
    },
    "id": "DqmeNcBI73KG",
    "outputId": "e9817029-f830-4f72-8d01-161d5f37e4ed"
   },
   "outputs": [
    {
     "data": {
      "text/plain": [
       "['teacher', 'class', 'students']"
      ]
     },
     "execution_count": 73,
     "metadata": {},
     "output_type": "execute_result"
    }
   ],
   "source": [
    "list(temp_dict.keys())"
   ]
  },
  {
   "cell_type": "markdown",
   "metadata": {
    "id": "ocJFVrhU77NK"
   },
   "source": [
    "- values() 값만 출력"
   ]
  },
  {
   "cell_type": "code",
   "execution_count": 74,
   "metadata": {
    "colab": {
     "base_uri": "https://localhost:8080/"
    },
    "id": "MAjd8rnm8Xau",
    "outputId": "eef232c9-9a6b-49d6-974f-a66da69991d5"
   },
   "outputs": [
    {
     "data": {
      "text/plain": [
       "dict_values(['evan', 15, ['s1', 's2', 's3']])"
      ]
     },
     "execution_count": 74,
     "metadata": {},
     "output_type": "execute_result"
    }
   ],
   "source": [
    "temp_dict.values()"
   ]
  },
  {
   "cell_type": "markdown",
   "metadata": {
    "id": "lwWfU9wC8gSs"
   },
   "source": [
    "- items() key-value 쌍으로, list와 tuple 형태로 반환"
   ]
  },
  {
   "cell_type": "code",
   "execution_count": 75,
   "metadata": {
    "colab": {
     "base_uri": "https://localhost:8080/"
    },
    "id": "bAkqZMzp8on8",
    "outputId": "7b1dc381-6956-42d1-9f61-a5e73a5734fc"
   },
   "outputs": [
    {
     "data": {
      "text/plain": [
       "dict_items([('teacher', 'evan'), ('class', 15), ('students', ['s1', 's2', 's3'])])"
      ]
     },
     "execution_count": 75,
     "metadata": {},
     "output_type": "execute_result"
    }
   ],
   "source": [
    "temp_dict.items()"
   ]
  },
  {
   "cell_type": "markdown",
   "metadata": {
    "id": "9eYPXSKl9F2_"
   },
   "source": [
    "## 조건문\n",
    "- "
   ]
  },
  {
   "cell_type": "code",
   "execution_count": 80,
   "metadata": {
    "colab": {
     "base_uri": "https://localhost:8080/"
    },
    "id": "9DxlnNjv9Fvl",
    "outputId": "a3607353-c144-486d-9950-54405f08eefe"
   },
   "outputs": [
    {
     "name": "stdout",
     "output_type": "stream",
     "text": [
      "숫자를 입력하세요..!8\n",
      "a는 5보다 크다\n"
     ]
    }
   ],
   "source": [
    "a = int(input(\"숫자를 입력하세요..!\"))\n",
    "if a > 5:\n",
    "  print(\"a는 5보다 크다\")\n",
    "elif a > 0: \n",
    "  print(\"a는 0보다 크다\")\n",
    "elif a > -5:\n",
    "  print(\"a는 -5보다 크다\")\n",
    "else: \n",
    "  print(\"a는 매우 작다\") "
   ]
  },
  {
   "cell_type": "code",
   "execution_count": 91,
   "metadata": {
    "colab": {
     "base_uri": "https://localhost:8080/"
    },
    "id": "j_DVGuHC71cX",
    "outputId": "ae007214-951a-464e-92e9-193ee6ee82b2"
   },
   "outputs": [
    {
     "name": "stdout",
     "output_type": "stream",
     "text": [
      "Hello World\n",
      "Hello World\n",
      "Hello World\n"
     ]
    }
   ],
   "source": [
    "# Hello World 1000000번 출력하세요\n",
    "for idx in range(3):\n",
    "  # print(idx+1)\n",
    "  print(\"Hello World\")"
   ]
  },
  {
   "cell_type": "markdown",
   "metadata": {
    "id": "hi_WDuG0Cxge"
   },
   "source": [
    "- for loop if 조건문 사용\n",
    "- 문자열, 리스트 등 --> 시퀀스 데이터\n"
   ]
  },
  {
   "cell_type": "code",
   "execution_count": 95,
   "metadata": {
    "colab": {
     "base_uri": "https://localhost:8080/"
    },
    "id": "rDBsKAe7C2Sz",
    "outputId": "d100397f-52ca-4dbb-9ba0-7f7ea375fbeb"
   },
   "outputs": [
    {
     "name": "stdout",
     "output_type": "stream",
     "text": [
      "K\n",
      "a\n",
      "g\n"
     ]
    }
   ],
   "source": [
    "a = \"Kaggle\"\n",
    "# g가 시작하면 반복문을 멈추세요\n",
    "for x in a:\n",
    "  print(x)\n",
    "  if x == 'g':\n",
    "    break\n",
    "  # print(x)"
   ]
  },
  {
   "cell_type": "markdown",
   "metadata": {
    "id": "LYdk9cQ4EYTs"
   },
   "source": [
    "- enumerate()"
   ]
  },
  {
   "cell_type": "code",
   "execution_count": 97,
   "metadata": {
    "colab": {
     "base_uri": "https://localhost:8080/"
    },
    "id": "AuIlClqGEean",
    "outputId": "d9bdd1a2-ac00-40e7-bc94-311f2dd3d12f"
   },
   "outputs": [
    {
     "name": "stdout",
     "output_type": "stream",
     "text": [
      "0 A\n",
      "1 B\n",
      "2 C\n"
     ]
    }
   ],
   "source": [
    "alphabets = ['A', 'B', 'C']\n",
    "for index, value in enumerate(alphabets):\n",
    "  print(index, value)"
   ]
  },
  {
   "cell_type": "markdown",
   "metadata": {
    "id": "mTiraz1sFJWu"
   },
   "source": [
    "## 리스트 컴프리헨션\n",
    "list comprehension"
   ]
  },
  {
   "cell_type": "code",
   "execution_count": 100,
   "metadata": {
    "colab": {
     "base_uri": "https://localhost:8080/"
    },
    "id": "ACoSNeZwF1kL",
    "outputId": "d5a5aa7a-fa70-47c4-d5c0-6d90b4592fec"
   },
   "outputs": [
    {
     "data": {
      "text/plain": [
       "False"
      ]
     },
     "execution_count": 100,
     "metadata": {},
     "output_type": "execute_result"
    }
   ],
   "source": [
    "\"a\" in \"kiwi\""
   ]
  },
  {
   "cell_type": "code",
   "execution_count": 101,
   "metadata": {
    "colab": {
     "base_uri": "https://localhost:8080/"
    },
    "id": "_kFx1WGGFe4D",
    "outputId": "20b8412b-e094-4bd1-88da-a164bce2883b"
   },
   "outputs": [
    {
     "name": "stdout",
     "output_type": "stream",
     "text": [
      "['apple', 'mango']\n"
     ]
    }
   ],
   "source": [
    "fruits = ['apple', 'kiwi', 'mango']\n",
    "newlists = []\n",
    "\n",
    "# 알파벳 a가 있는 과일만 추출 후, 새로운 리스트에 담기\n",
    "for fruit in fruits:\n",
    "  # print(fruit)\n",
    "  if \"a\" in fruit:\n",
    "    newlists.append(fruit)\n",
    "print(newlists)"
   ]
  },
  {
   "cell_type": "code",
   "execution_count": 104,
   "metadata": {
    "colab": {
     "base_uri": "https://localhost:8080/"
    },
    "id": "ybp8qX14GG7u",
    "outputId": "1025cb22-b6e6-42b5-e30c-342374213504"
   },
   "outputs": [
    {
     "name": "stdout",
     "output_type": "stream",
     "text": [
      "['apple', 'mango']\n"
     ]
    }
   ],
   "source": [
    "# 리스트 컴프리헨션\n",
    "newlist = [fruit for fruit in fruits if 'a' in fruit]\n",
    "print(newlist)"
   ]
  }
 ],
 "metadata": {
  "colab": {
   "name": "day0627.ipynb",
   "provenance": []
  },
  "kernelspec": {
   "display_name": "Python 3 (ipykernel)",
   "language": "python",
   "name": "python3"
  },
  "language_info": {
   "codemirror_mode": {
    "name": "ipython",
    "version": 3
   },
   "file_extension": ".py",
   "mimetype": "text/x-python",
   "name": "python",
   "nbconvert_exporter": "python",
   "pygments_lexer": "ipython3",
   "version": "3.9.12"
  }
 },
 "nbformat": 4,
 "nbformat_minor": 4
}
