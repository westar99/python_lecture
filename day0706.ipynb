{
  "nbformat": 4,
  "nbformat_minor": 0,
  "metadata": {
    "colab": {
      "name": "day0706.ipynb",
      "provenance": [],
      "collapsed_sections": []
    },
    "kernelspec": {
      "name": "python3",
      "display_name": "Python 3"
    },
    "language_info": {
      "name": "python"
    }
  },
  "cells": [
    {
      "cell_type": "markdown",
      "source": [
        "---\n",
        "\n",
        "# **title: 'REVIEW-그래프와 머신러닝'**\n",
        "\n",
        "# **date: '2022-07-06 09:00'**\n",
        "\n",
        "---"
      ],
      "metadata": {
        "id": "2Xi-JTjyzbqD"
      }
    },
    {
      "cell_type": "markdown",
      "source": [
        "## 데이터 분석(머신러닝, 딥러닝) 프로세스\n",
        "- 데이터 불러오기\n",
        "  + CSV, 오라클, MySQL, PostgreSQL, 클라우드 DB연동\n",
        "- 탐색적 자료 분석\n",
        "  + 데이터 전처리 및 가공\n",
        "- 잠정적인 컬럼의 갯수를 지정\n",
        "- 머신러닝 모델(=통계 모델링, t.test, 분산분석, 교차분석)\n",
        "- 머신러닝 모델의 경우 배포(지금은 다루지 않음)\n",
        " + JSP-스프링 웹개발 시 배우게 됨.\n",
        "- 통계 모델링 경우 p-value값 기준으로 귀무가설 및 대립가설 검정\n",
        "\n",
        "- (공통) 결과보고서를 작성 필요.\n",
        " + .PPT준비"
      ],
      "metadata": {
        "id": "ejNPOwx_2ysh"
      }
    },
    {
      "cell_type": "markdown",
      "source": [
        "## 그래프 복습\n",
        "- 수치형 데이터 시각화\n",
        "- 범주형 데이터 시각화\n",
        "- 데이터 관계 시각화\n",
        " + matplotlib 라이브러리 방법(복잡)\n",
        " + seaborn 라이브러리 방법(단순)"
      ],
      "metadata": {
        "id": "nYVMD2tu6QED"
      }
    },
    {
      "cell_type": "markdown",
      "source": [
        "### 수치형 데이터 시각화"
      ],
      "metadata": {
        "id": "OUAArBbL6YlB"
      }
    },
    {
      "cell_type": "code",
      "source": [
        "import seaborn as sns\n",
        "titanic = sns.load_dataset('titanic')\n",
        "print(titanic.head(10))"
      ],
      "metadata": {
        "colab": {
          "base_uri": "https://localhost:8080/"
        },
        "id": "bE5Fpv9C62xg",
        "outputId": "bcc37f7b-dbcc-4623-f18e-53124357a4c6"
      },
      "execution_count": 76,
      "outputs": [
        {
          "output_type": "stream",
          "name": "stdout",
          "text": [
            "   survived  pclass     sex   age  sibsp  parch     fare embarked   class  \\\n",
            "0         0       3    male  22.0      1      0   7.2500        S   Third   \n",
            "1         1       1  female  38.0      1      0  71.2833        C   First   \n",
            "2         1       3  female  26.0      0      0   7.9250        S   Third   \n",
            "3         1       1  female  35.0      1      0  53.1000        S   First   \n",
            "4         0       3    male  35.0      0      0   8.0500        S   Third   \n",
            "5         0       3    male   NaN      0      0   8.4583        Q   Third   \n",
            "6         0       1    male  54.0      0      0  51.8625        S   First   \n",
            "7         0       3    male   2.0      3      1  21.0750        S   Third   \n",
            "8         1       3  female  27.0      0      2  11.1333        S   Third   \n",
            "9         1       2  female  14.0      1      0  30.0708        C  Second   \n",
            "\n",
            "     who  adult_male deck  embark_town alive  alone  \n",
            "0    man        True  NaN  Southampton    no  False  \n",
            "1  woman       False    C    Cherbourg   yes  False  \n",
            "2  woman       False  NaN  Southampton   yes   True  \n",
            "3  woman       False    C  Southampton   yes  False  \n",
            "4    man        True  NaN  Southampton    no   True  \n",
            "5    man        True  NaN   Queenstown    no   True  \n",
            "6    man        True    E  Southampton    no   True  \n",
            "7  child       False  NaN  Southampton    no  False  \n",
            "8  woman       False  NaN  Southampton   yes  False  \n",
            "9  child       False  NaN    Cherbourg   yes  False  \n"
          ]
        }
      ]
    },
    {
      "cell_type": "code",
      "source": [
        "# 히스토그램\n",
        "sns.histplot(data= titanic, x = 'age',bins=10, hue= 'alive',multiple='stack')"
      ],
      "metadata": {
        "colab": {
          "base_uri": "https://localhost:8080/",
          "height": 297
        },
        "id": "PeEPaJLp7QOI",
        "outputId": "15017073-968f-4813-a957-162168596e2c"
      },
      "execution_count": 77,
      "outputs": [
        {
          "output_type": "execute_result",
          "data": {
            "text/plain": [
              "<matplotlib.axes._subplots.AxesSubplot at 0x7faf86744d10>"
            ]
          },
          "metadata": {},
          "execution_count": 77
        },
        {
          "output_type": "display_data",
          "data": {
            "text/plain": [
              "<Figure size 432x288 with 1 Axes>"
            ],
            "image/png": "[encoded data removed]"
          },
          "metadata": {
            "needs_background": "light"
          }
        }
      ]
    },
    {
      "cell_type": "code",
      "source": [
        "# 확률밀도추정(KDE) 함수 그래프- 히스토그램을 부드러운 곡선 형태로 표현한다.\n",
        "# 연속형 데이터 1개만 쓸 때 사용, y축은 수량의 비율\n",
        "sns.kdeplot(data =titanic, x ='age',hue= 'alive',multiple='stack')"
      ],
      "metadata": {
        "colab": {
          "base_uri": "https://localhost:8080/",
          "height": 297
        },
        "id": "boKKuje78mmf",
        "outputId": "bb6b763d-8e82-463e-c569-d4e2d286a9d2"
      },
      "execution_count": 78,
      "outputs": [
        {
          "output_type": "execute_result",
          "data": {
            "text/plain": [
              "<matplotlib.axes._subplots.AxesSubplot at 0x7faf856ddf50>"
            ]
          },
          "metadata": {},
          "execution_count": 78
        },
        {
          "output_type": "display_data",
          "data": {
            "text/plain": [
              "<Figure size 432x288 with 1 Axes>"
            ],
            "image/png": "[encoded data removed]"
          },
          "metadata": {
            "needs_background": "light"
          }
        }
      ]
    },
    {
      "cell_type": "markdown",
      "source": [
        "- 분포도\n",
        " - 수치형 데이터 한개 컬럼의 분포를 나타내는 그래프\n",
        "  + 정규분포인가?\n",
        "- ditstplot()히스토그램에 kdeplot와,rugplot을 한번에 그림"
      ],
      "metadata": {
        "id": "HTKK_EYB81xi"
      }
    },
    {
      "cell_type": "code",
      "source": [
        "sns.displot(data =titanic, x ='age')"
      ],
      "metadata": {
        "colab": {
          "base_uri": "https://localhost:8080/",
          "height": 387
        },
        "id": "R8iplejl8aSv",
        "outputId": "367e4e15-5ed2-488c-916e-851ed3a4dbdc"
      },
      "execution_count": 79,
      "outputs": [
        {
          "output_type": "execute_result",
          "data": {
            "text/plain": [
              "<seaborn.axisgrid.FacetGrid at 0x7faf85734850>"
            ]
          },
          "metadata": {},
          "execution_count": 79
        },
        {
          "output_type": "display_data",
          "data": {
            "text/plain": [
              "<Figure size 360x360 with 1 Axes>"
            ],
            "image/png": "[encoded data removed]"
          },
          "metadata": {
            "needs_background": "light"
          }
        }
      ]
    },
    {
      "cell_type": "code",
      "source": [
        "sns.displot(data =titanic, x ='age',kind='kde')"
      ],
      "metadata": {
        "colab": {
          "base_uri": "https://localhost:8080/",
          "height": 387
        },
        "id": "wakN2kdv8QkH",
        "outputId": "9fb28bbd-06f0-4e91-8475-ea7cea24d23f"
      },
      "execution_count": 80,
      "outputs": [
        {
          "output_type": "execute_result",
          "data": {
            "text/plain": [
              "<seaborn.axisgrid.FacetGrid at 0x7faf85590050>"
            ]
          },
          "metadata": {},
          "execution_count": 80
        },
        {
          "output_type": "display_data",
          "data": {
            "text/plain": [
              "<Figure size 360x360 with 1 Axes>"
            ],
            "image/png": "[encoded data removed]"
          },
          "metadata": {
            "needs_background": "light"
          }
        }
      ]
    },
    {
      "cell_type": "code",
      "source": [
        "sns.displot(data =titanic, x ='age',kde =True)"
      ],
      "metadata": {
        "colab": {
          "base_uri": "https://localhost:8080/",
          "height": 387
        },
        "id": "MaaidoJi-bdY",
        "outputId": "27ecff53-cd01-4a2d-9adf-ff106369a5cf"
      },
      "execution_count": 81,
      "outputs": [
        {
          "output_type": "execute_result",
          "data": {
            "text/plain": [
              "<seaborn.axisgrid.FacetGrid at 0x7faf85621910>"
            ]
          },
          "metadata": {},
          "execution_count": 81
        },
        {
          "output_type": "display_data",
          "data": {
            "text/plain": [
              "<Figure size 360x360 with 1 Axes>"
            ],
            "image/png": "[encoded data removed]"
          },
          "metadata": {
            "needs_background": "light"
          }
        }
      ]
    },
    {
      "cell_type": "markdown",
      "source": [
        "## 범주형 데이터 시각화\n",
        "- x축 범주형, y축 수치 데이터"
      ],
      "metadata": {
        "id": "v5_4sY1176jQ"
      }
    },
    {
      "cell_type": "code",
      "source": [
        "# 막대 그래프-matplotlib은 개수를 세는 작업을 해줘야하지만 seaborn은 알아서 해준다.\n",
        "sns.barplot(x='class',y='fare',data= titanic)\n",
        "# 클래스 별로 가격을 표시했지만 그 가격은 평균치를 나타내고 에러바(오차막대)를 만들어줌"
      ],
      "metadata": {
        "colab": {
          "base_uri": "https://localhost:8080/",
          "height": 297
        },
        "id": "1Dsu4cVwCE6-",
        "outputId": "30d511ca-c25d-49cd-fc42-ebcaf310fa1f"
      },
      "execution_count": 82,
      "outputs": [
        {
          "output_type": "execute_result",
          "data": {
            "text/plain": [
              "<matplotlib.axes._subplots.AxesSubplot at 0x7faf8540f810>"
            ]
          },
          "metadata": {},
          "execution_count": 82
        },
        {
          "output_type": "display_data",
          "data": {
            "text/plain": [
              "<Figure size 432x288 with 1 Axes>"
            ],
            "image/png": "[encoded data removed]"
          },
          "metadata": {
            "needs_background": "light"
          }
        }
      ]
    },
    {
      "cell_type": "code",
      "source": [
        "# 포인트 플롯\n",
        "sns.pointplot(x='class',y='fare',data=titanic)"
      ],
      "metadata": {
        "colab": {
          "base_uri": "https://localhost:8080/",
          "height": 297
        },
        "id": "lueGS3DHCPj2",
        "outputId": "9cfa21da-792f-466b-ff7a-823b4bb87b88"
      },
      "execution_count": 83,
      "outputs": [
        {
          "output_type": "execute_result",
          "data": {
            "text/plain": [
              "<matplotlib.axes._subplots.AxesSubplot at 0x7faf853f1890>"
            ]
          },
          "metadata": {},
          "execution_count": 83
        },
        {
          "output_type": "display_data",
          "data": {
            "text/plain": [
              "<Figure size 432x288 with 1 Axes>"
            ],
            "image/png": "[encoded data removed]"
          },
          "metadata": {
            "needs_background": "light"
          }
        }
      ]
    },
    {
      "cell_type": "code",
      "source": [
        "# boxplot(박스플롯)\n",
        "sns.boxplot(x='class',y='age',data=titanic)"
      ],
      "metadata": {
        "colab": {
          "base_uri": "https://localhost:8080/",
          "height": 297
        },
        "id": "CnNFHYT4DGmm",
        "outputId": "c4f4b75e-7979-4610-9b45-ae9d3bdff154"
      },
      "execution_count": 84,
      "outputs": [
        {
          "output_type": "execute_result",
          "data": {
            "text/plain": [
              "<matplotlib.axes._subplots.AxesSubplot at 0x7faf8535b1d0>"
            ]
          },
          "metadata": {},
          "execution_count": 84
        },
        {
          "output_type": "display_data",
          "data": {
            "text/plain": [
              "<Figure size 432x288 with 1 Axes>"
            ],
            "image/png": "[encoded data removed]"
          },
          "metadata": {
            "needs_background": "light"
          }
        }
      ]
    },
    {
      "cell_type": "code",
      "source": [
        "#바이올린 플롯\n",
        "sns.violinplot(x= 'class', y='age', hue='sex',data=titanic,split =True)"
      ],
      "metadata": {
        "colab": {
          "base_uri": "https://localhost:8080/",
          "height": 297
        },
        "id": "chGof-cFD5KI",
        "outputId": "9e01b079-9d79-4274-ce51-ddc020ac842c"
      },
      "execution_count": 85,
      "outputs": [
        {
          "output_type": "execute_result",
          "data": {
            "text/plain": [
              "<matplotlib.axes._subplots.AxesSubplot at 0x7faf8527f590>"
            ]
          },
          "metadata": {},
          "execution_count": 85
        },
        {
          "output_type": "display_data",
          "data": {
            "text/plain": [
              "<Figure size 432x288 with 1 Axes>"
            ],
            "image/png": "[encoded data removed]"
          },
          "metadata": {
            "needs_background": "light"
          }
        }
      ]
    },
    {
      "cell_type": "code",
      "source": [
        "# 카운트 플롯\n",
        "# - 범주형데이터의 갯수 확인할 때 사용\n",
        "sns.countplot(x = 'alive', data= titanic)"
      ],
      "metadata": {
        "colab": {
          "base_uri": "https://localhost:8080/",
          "height": 297
        },
        "id": "kEzh9C_2EmdA",
        "outputId": "57dca99d-738e-4d65-eb9c-3db6675a3231"
      },
      "execution_count": 86,
      "outputs": [
        {
          "output_type": "execute_result",
          "data": {
            "text/plain": [
              "<matplotlib.axes._subplots.AxesSubplot at 0x7faf852701d0>"
            ]
          },
          "metadata": {},
          "execution_count": 86
        },
        {
          "output_type": "display_data",
          "data": {
            "text/plain": [
              "<Figure size 432x288 with 1 Axes>"
            ],
            "image/png": "[encoded data removed]"
          },
          "metadata": {
            "needs_background": "light"
          }
        }
      ]
    },
    {
      "cell_type": "markdown",
      "source": [
        "## 데이터 관계 시각화\n",
        "- 여러 데이터 사이의 관계도 파악을 위한 그래"
      ],
      "metadata": {
        "id": "z8BTxwa1FAU9"
      }
    },
    {
      "cell_type": "code",
      "source": [
        "# 히트맵\n",
        "flights =sns.load_dataset('flights')\n",
        "print(flights.head(7))\n"
      ],
      "metadata": {
        "colab": {
          "base_uri": "https://localhost:8080/"
        },
        "id": "gTeugO-xFPwH",
        "outputId": "57fb83f6-fa0c-49bb-a4b2-8d170ec2bb5d"
      },
      "execution_count": 87,
      "outputs": [
        {
          "output_type": "stream",
          "name": "stdout",
          "text": [
            "   year month  passengers\n",
            "0  1949   Jan         112\n",
            "1  1949   Feb         118\n",
            "2  1949   Mar         132\n",
            "3  1949   Apr         129\n",
            "4  1949   May         121\n",
            "5  1949   Jun         135\n",
            "6  1949   Jul         148\n"
          ]
        }
      ]
    },
    {
      "cell_type": "code",
      "source": [
        "#  각 연도별 월별 승객수 구하기\n",
        "# flights['year'].value_count()\n",
        "flights_pivot = flights.pivot(index='month', columns='year', values='passengers')\n",
        "print(flights_pivot)"
      ],
      "metadata": {
        "colab": {
          "base_uri": "https://localhost:8080/"
        },
        "id": "6eK0hVPwFdVp",
        "outputId": "a618e2e4-dca2-4814-a258-7ba600770496"
      },
      "execution_count": 88,
      "outputs": [
        {
          "output_type": "stream",
          "name": "stdout",
          "text": [
            "year   1949  1950  1951  1952  1953  1954  1955  1956  1957  1958  1959  1960\n",
            "month                                                                        \n",
            "Jan     112   115   145   171   196   204   242   284   315   340   360   417\n",
            "Feb     118   126   150   180   196   188   233   277   301   318   342   391\n",
            "Mar     132   141   178   193   236   235   267   317   356   362   406   419\n",
            "Apr     129   135   163   181   235   227   269   313   348   348   396   461\n",
            "May     121   125   172   183   229   234   270   318   355   363   420   472\n",
            "Jun     135   149   178   218   243   264   315   374   422   435   472   535\n",
            "Jul     148   170   199   230   264   302   364   413   465   491   548   622\n",
            "Aug     148   170   199   242   272   293   347   405   467   505   559   606\n",
            "Sep     136   158   184   209   237   259   312   355   404   404   463   508\n",
            "Oct     119   133   162   191   211   229   274   306   347   359   407   461\n",
            "Nov     104   114   146   172   180   203   237   271   305   310   362   390\n",
            "Dec     118   140   166   194   201   229   278   306   336   337   405   432\n"
          ]
        }
      ]
    },
    {
      "cell_type": "code",
      "source": [
        "sns.heatmap(data = flights_pivot)# 시각화를 통해 1960년대 8월에 가장 사람들 수가 많았다."
      ],
      "metadata": {
        "colab": {
          "base_uri": "https://localhost:8080/",
          "height": 313
        },
        "id": "Jk2s24hmHMod",
        "outputId": "d2b30e92-8cfd-43df-b8bf-b6f51513a314"
      },
      "execution_count": 89,
      "outputs": [
        {
          "output_type": "execute_result",
          "data": {
            "text/plain": [
              "<matplotlib.axes._subplots.AxesSubplot at 0x7faf851e8610>"
            ]
          },
          "metadata": {},
          "execution_count": 89
        },
        {
          "output_type": "display_data",
          "data": {
            "text/plain": [
              "<Figure size 432x288 with 2 Axes>"
            ],
            "image/png": "[encoded data removed]"
          },
          "metadata": {
            "needs_background": "light"
          }
        }
      ]
    },
    {
      "cell_type": "code",
      "source": [
        "# 라인플롯\n",
        "sns.lineplot(x='year',y='passengers',data=flights)"
      ],
      "metadata": {
        "colab": {
          "base_uri": "https://localhost:8080/",
          "height": 297
        },
        "id": "UIMCnBzOH2bt",
        "outputId": "f703697c-9e03-4479-d875-faa3651e28bf"
      },
      "execution_count": 90,
      "outputs": [
        {
          "output_type": "execute_result",
          "data": {
            "text/plain": [
              "<matplotlib.axes._subplots.AxesSubplot at 0x7faf85117f10>"
            ]
          },
          "metadata": {},
          "execution_count": 90
        },
        {
          "output_type": "display_data",
          "data": {
            "text/plain": [
              "<Figure size 432x288 with 1 Axes>"
            ],
            "image/png": "[encoded data removed]"
          },
          "metadata": {
            "needs_background": "light"
          }
        }
      ]
    },
    {
      "cell_type": "code",
      "source": [
        "# 산점도\n",
        "tips =sns.load_dataset('tips')\n",
        "tips.head(8)\n",
        "# 영수증금액/ 팁/ 성별/ 담배/ 요일/ 시간/ 같이먹은 사람의 수(카운트데이터)"
      ],
      "metadata": {
        "colab": {
          "base_uri": "https://localhost:8080/",
          "height": 300
        },
        "id": "BqxgrvDFILkF",
        "outputId": "945c7a81-47e2-45b6-f638-4e11e2de0285"
      },
      "execution_count": 91,
      "outputs": [
        {
          "output_type": "execute_result",
          "data": {
            "text/plain": [
              "   total_bill   tip     sex smoker  day    time  size\n",
              "0       16.99  1.01  Female     No  Sun  Dinner     2\n",
              "1       10.34  1.66    Male     No  Sun  Dinner     3\n",
              "2       21.01  3.50    Male     No  Sun  Dinner     3\n",
              "3       23.68  3.31    Male     No  Sun  Dinner     2\n",
              "4       24.59  3.61  Female     No  Sun  Dinner     4\n",
              "5       25.29  4.71    Male     No  Sun  Dinner     4\n",
              "6        8.77  2.00    Male     No  Sun  Dinner     2\n",
              "7       26.88  3.12    Male     No  Sun  Dinner     4"
            ],
            "text/html": [
              "\n",
              "  <div id=\"df-98401926-69e1-464f-9f4f-ce6a7afd0680\">\n",
              "    <div class=\"colab-df-container\">\n",
              "      <div>\n",
              "<style scoped>\n",
              "    .dataframe tbody tr th:only-of-type {\n",
              "        vertical-align: middle;\n",
              "    }\n",
              "\n",
              "    .dataframe tbody tr th {\n",
              "        vertical-align: top;\n",
              "    }\n",
              "\n",
              "    .dataframe thead th {\n",
              "        text-align: right;\n",
              "    }\n",
              "</style>\n",
              "<table border=\"1\" class=\"dataframe\">\n",
              "  <thead>\n",
              "    <tr style=\"text-align: right;\">\n",
              "      <th></th>\n",
              "      <th>total_bill</th>\n",
              "      <th>tip</th>\n",
              "      <th>sex</th>\n",
              "      <th>smoker</th>\n",
              "      <th>day</th>\n",
              "      <th>time</th>\n",
              "      <th>size</th>\n",
              "    </tr>\n",
              "  </thead>\n",
              "  <tbody>\n",
              "    <tr>\n",
              "      <th>0</th>\n",
              "      <td>16.99</td>\n",
              "      <td>1.01</td>\n",
              "      <td>Female</td>\n",
              "      <td>No</td>\n",
              "      <td>Sun</td>\n",
              "      <td>Dinner</td>\n",
              "      <td>2</td>\n",
              "    </tr>\n",
              "    <tr>\n",
              "      <th>1</th>\n",
              "      <td>10.34</td>\n",
              "      <td>1.66</td>\n",
              "      <td>Male</td>\n",
              "      <td>No</td>\n",
              "      <td>Sun</td>\n",
              "      <td>Dinner</td>\n",
              "      <td>3</td>\n",
              "    </tr>\n",
              "    <tr>\n",
              "      <th>2</th>\n",
              "      <td>21.01</td>\n",
              "      <td>3.50</td>\n",
              "      <td>Male</td>\n",
              "      <td>No</td>\n",
              "      <td>Sun</td>\n",
              "      <td>Dinner</td>\n",
              "      <td>3</td>\n",
              "    </tr>\n",
              "    <tr>\n",
              "      <th>3</th>\n",
              "      <td>23.68</td>\n",
              "      <td>3.31</td>\n",
              "      <td>Male</td>\n",
              "      <td>No</td>\n",
              "      <td>Sun</td>\n",
              "      <td>Dinner</td>\n",
              "      <td>2</td>\n",
              "    </tr>\n",
              "    <tr>\n",
              "      <th>4</th>\n",
              "      <td>24.59</td>\n",
              "      <td>3.61</td>\n",
              "      <td>Female</td>\n",
              "      <td>No</td>\n",
              "      <td>Sun</td>\n",
              "      <td>Dinner</td>\n",
              "      <td>4</td>\n",
              "    </tr>\n",
              "    <tr>\n",
              "      <th>5</th>\n",
              "      <td>25.29</td>\n",
              "      <td>4.71</td>\n",
              "      <td>Male</td>\n",
              "      <td>No</td>\n",
              "      <td>Sun</td>\n",
              "      <td>Dinner</td>\n",
              "      <td>4</td>\n",
              "    </tr>\n",
              "    <tr>\n",
              "      <th>6</th>\n",
              "      <td>8.77</td>\n",
              "      <td>2.00</td>\n",
              "      <td>Male</td>\n",
              "      <td>No</td>\n",
              "      <td>Sun</td>\n",
              "      <td>Dinner</td>\n",
              "      <td>2</td>\n",
              "    </tr>\n",
              "    <tr>\n",
              "      <th>7</th>\n",
              "      <td>26.88</td>\n",
              "      <td>3.12</td>\n",
              "      <td>Male</td>\n",
              "      <td>No</td>\n",
              "      <td>Sun</td>\n",
              "      <td>Dinner</td>\n",
              "      <td>4</td>\n",
              "    </tr>\n",
              "  </tbody>\n",
              "</table>\n",
              "</div>\n",
              "      <button class=\"colab-df-convert\" onclick=\"convertToInteractive('df-98401926-69e1-464f-9f4f-ce6a7afd0680')\"\n",
              "              title=\"Convert this dataframe to an interactive table.\"\n",
              "              style=\"display:none;\">\n",
              "        \n",
              "  <svg xmlns=\"http://www.w3.org/2000/svg\" height=\"24px\"viewBox=\"0 0 24 24\"\n",
              "       width=\"24px\">\n",
              "    <path d=\"M0 0h24v24H0V0z\" fill=\"none\"/>\n",
              "    <path d=\"M18.56 5.44l.94 2.06.94-2.06 2.06-.94-2.06-.94-.94-2.06-.94 2.06-2.06.94zm-11 1L8.5 8.5l.94-2.06 2.06-.94-2.06-.94L8.5 2.5l-.94 2.06-2.06.94zm10 10l.94 2.06.94-2.06 2.06-.94-2.06-.94-.94-2.06-.94 2.06-2.06.94z\"/><path d=\"M17.41 7.96l-1.37-1.37c-.4-.4-.92-.59-1.43-.59-.52 0-1.04.2-1.43.59L10.3 9.45l-7.72 7.72c-.78.78-.78 2.05 0 2.83L4 21.41c.39.39.9.59 1.41.59.51 0 1.02-.2 1.41-.59l7.78-7.78 2.81-2.81c.8-.78.8-2.07 0-2.86zM5.41 20L4 18.59l7.72-7.72 1.47 1.35L5.41 20z\"/>\n",
              "  </svg>\n",
              "      </button>\n",
              "      \n",
              "  <style>\n",
              "    .colab-df-container {\n",
              "      display:flex;\n",
              "      flex-wrap:wrap;\n",
              "      gap: 12px;\n",
              "    }\n",
              "\n",
              "    .colab-df-convert {\n",
              "      background-color: #E8F0FE;\n",
              "      border: none;\n",
              "      border-radius: 50%;\n",
              "      cursor: pointer;\n",
              "      display: none;\n",
              "      fill: #1967D2;\n",
              "      height: 32px;\n",
              "      padding: 0 0 0 0;\n",
              "      width: 32px;\n",
              "    }\n",
              "\n",
              "    .colab-df-convert:hover {\n",
              "      background-color: #E2EBFA;\n",
              "      box-shadow: 0px 1px 2px rgba(60, 64, 67, 0.3), 0px 1px 3px 1px rgba(60, 64, 67, 0.15);\n",
              "      fill: #174EA6;\n",
              "    }\n",
              "\n",
              "    [theme=dark] .colab-df-convert {\n",
              "      background-color: #3B4455;\n",
              "      fill: #D2E3FC;\n",
              "    }\n",
              "\n",
              "    [theme=dark] .colab-df-convert:hover {\n",
              "      background-color: #434B5C;\n",
              "      box-shadow: 0px 1px 3px 1px rgba(0, 0, 0, 0.15);\n",
              "      filter: drop-shadow(0px 1px 2px rgba(0, 0, 0, 0.3));\n",
              "      fill: #FFFFFF;\n",
              "    }\n",
              "  </style>\n",
              "\n",
              "      <script>\n",
              "        const buttonEl =\n",
              "          document.querySelector('#df-98401926-69e1-464f-9f4f-ce6a7afd0680 button.colab-df-convert');\n",
              "        buttonEl.style.display =\n",
              "          google.colab.kernel.accessAllowed ? 'block' : 'none';\n",
              "\n",
              "        async function convertToInteractive(key) {\n",
              "          const element = document.querySelector('#df-98401926-69e1-464f-9f4f-ce6a7afd0680');\n",
              "          const dataTable =\n",
              "            await google.colab.kernel.invokeFunction('convertToInteractive',\n",
              "                                                     [key], {});\n",
              "          if (!dataTable) return;\n",
              "\n",
              "          const docLinkHtml = 'Like what you see? Visit the ' +\n",
              "            '<a target=\"_blank\" href=https://colab.research.google.com/notebooks/data_table.ipynb>data table notebook</a>'\n",
              "            + ' to learn more about interactive tables.';\n",
              "          element.innerHTML = '';\n",
              "          dataTable['output_type'] = 'display_data';\n",
              "          await google.colab.output.renderOutput(dataTable, element);\n",
              "          const docLink = document.createElement('div');\n",
              "          docLink.innerHTML = docLinkHtml;\n",
              "          element.appendChild(docLink);\n",
              "        }\n",
              "      </script>\n",
              "    </div>\n",
              "  </div>\n",
              "  "
            ]
          },
          "metadata": {},
          "execution_count": 91
        }
      ]
    },
    {
      "cell_type": "code",
      "source": [
        "# 두개의 연속형 데이터\n",
        "sns.scatterplot(x='total_bill',y='tip',data= tips)"
      ],
      "metadata": {
        "colab": {
          "base_uri": "https://localhost:8080/",
          "height": 298
        },
        "id": "C7aqk3CZIZqk",
        "outputId": "65501f04-ea6b-47ab-9620-984877eedb90"
      },
      "execution_count": 92,
      "outputs": [
        {
          "output_type": "execute_result",
          "data": {
            "text/plain": [
              "<matplotlib.axes._subplots.AxesSubplot at 0x7faf8564f0d0>"
            ]
          },
          "metadata": {},
          "execution_count": 92
        },
        {
          "output_type": "display_data",
          "data": {
            "text/plain": [
              "<Figure size 432x288 with 1 Axes>"
            ],
            "image/png": "[encoded data removed]"
          },
          "metadata": {
            "needs_background": "light"
          }
        }
      ]
    },
    {
      "cell_type": "code",
      "source": [
        "sns.scatterplot(x='total_bill',y='tip',hue ='time',data= tips)\n",
        "# 저녁에 더 많은 팁을 준다."
      ],
      "metadata": {
        "colab": {
          "base_uri": "https://localhost:8080/",
          "height": 298
        },
        "id": "1LU9wsx1I8tt",
        "outputId": "f03da142-c095-4a4d-d370-a079e0712bfb"
      },
      "execution_count": 93,
      "outputs": [
        {
          "output_type": "execute_result",
          "data": {
            "text/plain": [
              "<matplotlib.axes._subplots.AxesSubplot at 0x7faf854beed0>"
            ]
          },
          "metadata": {},
          "execution_count": 93
        },
        {
          "output_type": "display_data",
          "data": {
            "text/plain": [
              "<Figure size 432x288 with 1 Axes>"
            ],
            "image/png": "[encoded data removed]"
          },
          "metadata": {
            "needs_background": "light"
          }
        }
      ]
    },
    {
      "cell_type": "code",
      "source": [
        "sns.scatterplot(x='total_bill',y='tip',hue ='sex',data= tips)\n",
        "# 남자들의 경우 영수증 금액이 클수록 팁의 양(+)에 상관관계가 있다."
      ],
      "metadata": {
        "colab": {
          "base_uri": "https://localhost:8080/",
          "height": 298
        },
        "id": "hsLx7crgJFmU",
        "outputId": "a4b0dd88-ccd3-4d70-e190-37559b30ffec"
      },
      "execution_count": 94,
      "outputs": [
        {
          "output_type": "execute_result",
          "data": {
            "text/plain": [
              "<matplotlib.axes._subplots.AxesSubplot at 0x7faf863f4750>"
            ]
          },
          "metadata": {},
          "execution_count": 94
        },
        {
          "output_type": "display_data",
          "data": {
            "text/plain": [
              "<Figure size 432x288 with 1 Axes>"
            ],
            "image/png": "[encoded data removed]"
          },
          "metadata": {
            "needs_background": "light"
          }
        }
      ]
    },
    {
      "cell_type": "code",
      "source": [
        "# 회귀선\n",
        "#선형회귀 적합선(상관관계를 표현한 선)을 포함한 산점도를 그리자.\n",
        "sns.regplot(x= 'total_bill',y= 'tip', data =tips)\n",
        "# 30달라를 냈을 때 4달러의 팁이 예상됨."
      ],
      "metadata": {
        "colab": {
          "base_uri": "https://localhost:8080/",
          "height": 298
        },
        "id": "LZHLO4-cE9BG",
        "outputId": "a77e548c-070c-47e1-fa22-9b3bcd26a456"
      },
      "execution_count": 95,
      "outputs": [
        {
          "output_type": "execute_result",
          "data": {
            "text/plain": [
              "<matplotlib.axes._subplots.AxesSubplot at 0x7faf866085d0>"
            ]
          },
          "metadata": {},
          "execution_count": 95
        },
        {
          "output_type": "display_data",
          "data": {
            "text/plain": [
              "<Figure size 432x288 with 1 Axes>"
            ],
            "image/png": "[encoded data removed]"
          },
          "metadata": {
            "needs_background": "light"
          }
        }
      ]
    },
    {
      "cell_type": "code",
      "source": [
        "sns.countplot(x='sex',data =tips)\n",
        "# 남자와 여자를 비교할 때 남자들이 자주 팁을 준다."
      ],
      "metadata": {
        "colab": {
          "base_uri": "https://localhost:8080/",
          "height": 297
        },
        "id": "EwKljk_PKna_",
        "outputId": "e84031ea-6061-4a96-89f6-5c5da8376f0d"
      },
      "execution_count": 96,
      "outputs": [
        {
          "output_type": "execute_result",
          "data": {
            "text/plain": [
              "<matplotlib.axes._subplots.AxesSubplot at 0x7faf867a81d0>"
            ]
          },
          "metadata": {},
          "execution_count": 96
        },
        {
          "output_type": "display_data",
          "data": {
            "text/plain": [
              "<Figure size 432x288 with 1 Axes>"
            ],
            "image/png": "[encoded data removed]"
          },
          "metadata": {
            "needs_background": "light"
          }
        }
      ]
    },
    {
      "cell_type": "code",
      "source": [
        "sns.countplot(x='sex',hue='time',data=tips)\n",
        "# 남자가 여자보다 저녁시간에 팁주는 횟수가 많다."
      ],
      "metadata": {
        "colab": {
          "base_uri": "https://localhost:8080/",
          "height": 297
        },
        "id": "yp-iYFhFLmJs",
        "outputId": "78dcc3dd-1c49-4185-9881-9f3d56c8d17a"
      },
      "execution_count": 97,
      "outputs": [
        {
          "output_type": "execute_result",
          "data": {
            "text/plain": [
              "<matplotlib.axes._subplots.AxesSubplot at 0x7faf86796b10>"
            ]
          },
          "metadata": {},
          "execution_count": 97
        },
        {
          "output_type": "display_data",
          "data": {
            "text/plain": [
              "<Figure size 432x288 with 1 Axes>"
            ],
            "image/png": "[encoded data removed]"
          },
          "metadata": {
            "needs_background": "light"
          }
        }
      ]
    },
    {
      "cell_type": "code",
      "source": [
        "sns.relplot(x=\"total_bill\",y=\"tip\",hue='size',data=tips)"
      ],
      "metadata": {
        "colab": {
          "base_uri": "https://localhost:8080/",
          "height": 388
        },
        "id": "W-G4JuhwL6pm",
        "outputId": "4c7eb8ed-961d-4827-cde1-23fb61cee278"
      },
      "execution_count": 98,
      "outputs": [
        {
          "output_type": "execute_result",
          "data": {
            "text/plain": [
              "<seaborn.axisgrid.FacetGrid at 0x7faf8692f450>"
            ]
          },
          "metadata": {},
          "execution_count": 98
        },
        {
          "output_type": "display_data",
          "data": {
            "text/plain": [
              "<Figure size 402.375x360 with 1 Axes>"
            ],
            "image/png": "[encoded data removed]"
          },
          "metadata": {
            "needs_background": "light"
          }
        }
      ]
    },
    {
      "cell_type": "markdown",
      "source": [
        "## 머신러닝 리뷰\n",
        "- 가장 인기 있는 모델\n",
        " + lightGBM, XGBoost"
      ],
      "metadata": {
        "id": "PMuX_GSlOXc7"
      }
    },
    {
      "cell_type": "markdown",
      "source": [
        "###  선형회귀\n",
        "- 선형회귀식을 찾는 것이 중요\n",
        "- $y =3 x +4$ 에 근사한 데이터 50개 생성"
      ],
      "metadata": {
        "id": "2vb07TzVOU4b"
      }
    },
    {
      "cell_type": "code",
      "source": [
        "import numpy as np \n",
        "import pandas as pd\n",
        "\n",
        "# 시드값 고정- 랜덤한 내용이 다른 사람들과 같은 결과를 얻기 위해\n",
        "np.random.seed(0)\n",
        "intercept = 4 # 절편, 상수\n",
        "slope = 3 # 기울기\n",
        "\n",
        "# 변동성 주기 위해 노이즈 생성\n",
        "noise = np.random.randn(50, 1)\n",
        "x = 5 * np.random.rand(50, 1) # 0과 5사이의 실숫값 50개 생성\n",
        "y = slope * x + intercept + noise\n",
        "\n",
        "# 데이터 프레임 생성\n",
        "data = pd.DataFrame({'X' : x[:, 0], 'Y' : y[:, 0]})\n",
        "print(data)"
      ],
      "metadata": {
        "colab": {
          "base_uri": "https://localhost:8080/"
        },
        "id": "L7JEBhs_RXO6",
        "outputId": "22693517-56be-4817-e483-529afccd5a1d"
      },
      "execution_count": 99,
      "outputs": [
        {
          "output_type": "stream",
          "name": "stdout",
          "text": [
            "           X          Y\n",
            "0   0.794848   8.148596\n",
            "1   0.551876   6.055784\n",
            "2   3.281648  14.823682\n",
            "3   0.690915   8.313637\n",
            "4   0.982912   8.816293\n",
            "5   1.843626   8.553600\n",
            "6   4.104966  17.264987\n",
            "7   0.485506   5.305162\n",
            "8   4.189725  16.465955\n",
            "9   0.480492   5.852075\n",
            "10  4.882297  18.790936\n",
            "11  2.343256  12.484042\n",
            "12  4.883805  19.412454\n",
            "13  3.024228  13.194358\n",
            "14  3.696318  15.532817\n",
            "15  0.195939   4.921491\n",
            "16  1.414035   9.736184\n",
            "17  0.600983   5.597790\n",
            "18  1.480701   8.755171\n",
            "19  0.593639   4.926820\n",
            "20  1.589916   6.216758\n",
            "21  2.071315  10.867564\n",
            "22  0.320737   5.826649\n",
            "23  3.462361  13.644917\n",
            "24  2.833007  14.768776\n",
            "25  1.326947   6.526477\n",
            "26  2.616240  11.894479\n",
            "27  0.469703   5.221924\n",
            "28  2.879732  14.171977\n",
            "29  4.646481  19.408802\n",
            "30  1.592845   8.933482\n",
            "31  3.337052  14.389318\n",
            "32  0.658989   5.089182\n",
            "33  3.581636  12.764112\n",
            "34  1.447030   7.993179\n",
            "35  0.915957   6.904219\n",
            "36  2.932565  14.027985\n",
            "37  0.100538   5.503993\n",
            "38  4.144700  16.046774\n",
            "39  0.023477   3.768129\n",
            "40  3.389083  13.118695\n",
            "41  1.350040   6.630102\n",
            "42  3.675970  13.321640\n",
            "43  4.810943  20.383604\n",
            "44  1.243766   7.221645\n",
            "45  2.880787  12.204286\n",
            "46  2.960210  11.627834\n",
            "47  2.861260  13.361269\n",
            "48  1.115408   5.732327\n",
            "49  4.763745  18.078495\n"
          ]
        }
      ]
    },
    {
      "cell_type": "code",
      "source": [
        "import matplotlib.pyplot as plt\n",
        "fig, ax = plt.subplots()\n",
        "ax.scatter(data['X'], data['Y'])\n",
        "plt.show()"
      ],
      "metadata": {
        "colab": {
          "base_uri": "https://localhost:8080/",
          "height": 265
        },
        "id": "xwvwdqVR73wQ",
        "outputId": "a59fb34a-161f-4b9b-d765-9659c7306423"
      },
      "execution_count": 101,
      "outputs": [
        {
          "output_type": "display_data",
          "data": {
            "text/plain": [
              "<Figure size 432x288 with 1 Axes>"
            ],
            "image/png": "[encoded data removed]"
          },
          "metadata": {
            "needs_background": "light"
          }
        }
      ]
    },
    {
      "cell_type": "code",
      "source": [
        "import seaborn as sns \n",
        "sns.scatterplot(x = 'X', y = 'Y', data = data)"
      ],
      "metadata": {
        "colab": {
          "base_uri": "https://localhost:8080/",
          "height": 297
        },
        "id": "WnGv0-AH7Ls6",
        "outputId": "c99754d2-a6ba-40a1-b86e-9e6d0d2c9d96"
      },
      "execution_count": 102,
      "outputs": [
        {
          "output_type": "execute_result",
          "data": {
            "text/plain": [
              "<matplotlib.axes._subplots.AxesSubplot at 0x7faf85003c10>"
            ]
          },
          "metadata": {},
          "execution_count": 102
        },
        {
          "output_type": "display_data",
          "data": {
            "text/plain": [
              "<Figure size 432x288 with 1 Axes>"
            ],
            "image/png": "[encoded data removed]"
          },
          "metadata": {
            "needs_background": "light"
          }
        }
      ]
    },
    {
      "cell_type": "markdown",
      "source": [
        "#### 선형회귀 모형 훈련\n",
        "- 모형 생성 후, 회귀계수 3과 y절편 4에 근사한 값이 나와야 함\n"
      ],
      "metadata": {
        "id": "J7IU6UE4SvvS"
      }
    },
    {
      "cell_type": "code",
      "source": [
        "from sklearn import linear_model\n",
        "from sklearn.linear_model import LinearRegression\n",
        "lr_model = LinearRegression()#,선형회귀 모델\n",
        "lr_model.fit(x,y)##모델훈련\n",
        "\n",
        "print('y절편:', lr_model.intercept_)\n",
        "print('회귀계수:', lr_model.coef_)"
      ],
      "metadata": {
        "colab": {
          "base_uri": "https://localhost:8080/"
        },
        "id": "qWpRnKanS4xS",
        "outputId": "fa74e8ff-598b-4368-cfe0-8ffed4774568"
      },
      "execution_count": 103,
      "outputs": [
        {
          "output_type": "stream",
          "name": "stdout",
          "text": [
            "y절편: [4.05757639]\n",
            "회귀계수: [[3.03754061]]\n"
          ]
        }
      ]
    },
    {
      "cell_type": "code",
      "source": [
        "# 예측값\n",
        "y_pred = lr_model.predict(x)\n",
        "fig, ax = plt.subplots()\n",
        "ax.scatter(x, y)\n",
        "ax.plot(x, y_pred, color='green')\n",
        "\n",
        "# slope, intercept \n",
        "label = 'slope: {}\\nintercept: {}'.format(round(lr_model.coef_[0][0], 2), round(lr_model.intercept_[0], 2))\n",
        "ax.text(3.5, 4, label, style ='italic', \n",
        "        fontsize = 10, color =\"green\")\n",
        "plt.show()"
      ],
      "metadata": {
        "colab": {
          "base_uri": "https://localhost:8080/",
          "height": 265
        },
        "id": "Izg4cMfNTiSq",
        "outputId": "0462d3bd-2d55-418c-b320-ac86514d4b2c"
      },
      "execution_count": 104,
      "outputs": [
        {
          "output_type": "display_data",
          "data": {
            "text/plain": [
              "<Figure size 432x288 with 1 Axes>"
            ],
            "image/png": "[encoded data removed]"
          },
          "metadata": {
            "needs_background": "light"
          }
        }
      ]
    },
    {
      "cell_type": "markdown",
      "source": [
        "### 로지스틱 회귀\n",
        "- "
      ],
      "metadata": {
        "id": "R8x7J2mIV84s"
      }
    },
    {
      "cell_type": "code",
      "source": [
        "import numpy as np\n",
        "import matplotlib.pyplot as plt\n",
        "\n",
        "def sigmoid(arr, scale=1):\n",
        "    arr = np.asarray(arr)\n",
        "    result = 1/(1 + np.exp(-arr*scale))\n",
        "    return result\n",
        "\n",
        "x = np.linspace(-6, 6)\n",
        "y = sigmoid(x)\n",
        "\n",
        "fig, ax = plt.subplots()\n",
        "ax.plot(x, y)\n",
        "ax.grid(which='major', axis='y', linestyle='--')\n",
        "ax.axvline(x=0, color='r', linestyle='--', linewidth=1)\n",
        "ax.set_ylim(0,1)\n",
        "ax.set_yticks([0, 1, 0.5])\n",
        "ax.text(0-0.1, 0.5, '0.5', ha='right')\n",
        "ax.set_title('Sigmoid Graph')\n",
        "plt.show()\n"
      ],
      "metadata": {
        "colab": {
          "base_uri": "https://localhost:8080/",
          "height": 281
        },
        "id": "NrTNsCk4WCZD",
        "outputId": "c7ef1617-d224-4f27-93e0-49726fe94634"
      },
      "execution_count": 105,
      "outputs": [
        {
          "output_type": "display_data",
          "data": {
            "text/plain": [
              "<Figure size 432x288 with 1 Axes>"
            ],
            "image/png": "[encoded data removed]"
          },
          "metadata": {
            "needs_background": "light"
          }
        }
      ]
    },
    {
      "cell_type": "code",
      "source": [
        "# 라이브러리 불러오기\n",
        "import matplotlib.pyplot as plt\n",
        "import numpy as np\n",
        "from sklearn.linear_model import LogisticRegression\n",
        "from sklearn.metrics import classification_report, confusion_matrix\n",
        "\n",
        "# 데이터 가져오기\n",
        "x = np.arange(10).reshape(-1, 1)\n",
        "y = np.array([0, 0, 0, 0, 0, 1, 1, 1, 1, 1])\n",
        "\n",
        "# 모델 생성 및 학습\n",
        "model = LogisticRegression(solver='liblinear', C=10.0, random_state=0)\n",
        "model.fit(x, y)"
      ],
      "metadata": {
        "colab": {
          "base_uri": "https://localhost:8080/"
        },
        "id": "ib-DisPTWXlR",
        "outputId": "48637f5f-d0d6-47f5-e655-3844c28b5baf"
      },
      "execution_count": 106,
      "outputs": [
        {
          "output_type": "execute_result",
          "data": {
            "text/plain": [
              "LogisticRegression(C=10.0, random_state=0, solver='liblinear')"
            ]
          },
          "metadata": {},
          "execution_count": 106
        }
      ]
    },
    {
      "cell_type": "code",
      "source": [
        "# 모형 평가\n",
        "p_pred =model.predict_proba(x)\n",
        "print('p_pred',p_pred,sep ='\\n')"
      ],
      "metadata": {
        "colab": {
          "base_uri": "https://localhost:8080/"
        },
        "id": "LIPXNyinWoEY",
        "outputId": "1799558d-3702-4f52-eaff-9720a926c203"
      },
      "execution_count": 107,
      "outputs": [
        {
          "output_type": "stream",
          "name": "stdout",
          "text": [
            "p_pred\n",
            "[[0.97979027 0.02020973]\n",
            " [0.94958202 0.05041798]\n",
            " [0.87976149 0.12023851]\n",
            " [0.73975066 0.26024934]\n",
            " [0.52477284 0.47522716]\n",
            " [0.30020373 0.69979627]\n",
            " [0.1428487  0.8571513 ]\n",
            " [0.06080627 0.93919373]\n",
            " [0.02453462 0.97546538]\n",
            " [0.00967652 0.99032348]]\n"
          ]
        }
      ]
    },
    {
      "cell_type": "code",
      "source": [
        "y_pred = model.predict(x)\n",
        "print('y_pred',y_pred)"
      ],
      "metadata": {
        "colab": {
          "base_uri": "https://localhost:8080/"
        },
        "id": "1vkHwCNTW6Ix",
        "outputId": "c7d7aa38-7e67-47df-97e1-3d5241a92aaf"
      },
      "execution_count": 108,
      "outputs": [
        {
          "output_type": "stream",
          "name": "stdout",
          "text": [
            "y_pred [0 0 0 0 0 1 1 1 1 1]\n"
          ]
        }
      ]
    },
    {
      "cell_type": "code",
      "source": [
        "fig, ax = plt.subplots()\n",
        "ax.scatter(x, y)\n",
        "ax.plot(x, p_pred[:, 1], color = 'black',  marker='o', markersize=6)\n",
        "ax.plot()\n",
        "\n",
        "ax.set_xticks(x)\n",
        "ax.set_yticks(np.arange(0, 1.1, 0.1))\n",
        "\n",
        "ax.grid(which='major', alpha=0.5)\n",
        "plt.show()"
      ],
      "metadata": {
        "colab": {
          "base_uri": "https://localhost:8080/",
          "height": 265
        },
        "id": "ZDqQYvl0XDSh",
        "outputId": "82dfe8d0-de7e-493e-f636-fb314d959927"
      },
      "execution_count": 109,
      "outputs": [
        {
          "output_type": "display_data",
          "data": {
            "text/plain": [
              "<Figure size 432x288 with 1 Axes>"
            ],
            "image/png": "[encoded data removed]"
          },
          "metadata": {
            "needs_background": "light"
          }
        }
      ]
    },
    {
      "cell_type": "code",
      "source": [
        "conf_m = confusion_matrix(y,y_pred)\n",
        "print(conf_m)"
      ],
      "metadata": {
        "colab": {
          "base_uri": "https://localhost:8080/"
        },
        "id": "pD5iFYZNXtUQ",
        "outputId": "d87d003a-9ec4-40da-a05f-59f5f3b09b9a"
      },
      "execution_count": 110,
      "outputs": [
        {
          "output_type": "stream",
          "name": "stdout",
          "text": [
            "[[5 0]\n",
            " [0 5]]\n"
          ]
        }
      ]
    },
    {
      "cell_type": "code",
      "source": [
        "cm = confusion_matrix(y, y_pred)\n",
        "\n",
        "fig, ax = plt.subplots(figsize=(8, 8))\n",
        "ax.imshow(cm, cmap = 'Pastel1')# pastel2는 색깔임 'GnBu'\n",
        "ax.grid(False)\n",
        "ax.xaxis.set(ticks=(0, 1), ticklabels=('Predicted 0', 'Predicted 1'))\n",
        "ax.yaxis.set(ticks=(0, 1), ticklabels=('Actual 0', 'Actual 1'))\n",
        "ax.set_ylim(1.5, -0.5)\n",
        "for i in range(2):\n",
        "    for j in range(2):\n",
        "        ax.text(j, i, cm[i, j], ha='center', va='center', color='black', fontsize=20)\n",
        "plt.show()"
      ],
      "metadata": {
        "colab": {
          "base_uri": "https://localhost:8080/",
          "height": 483
        },
        "id": "g929couNX9aS",
        "outputId": "69efc648-a969-49a6-f674-d14bad3b84c7"
      },
      "execution_count": 111,
      "outputs": [
        {
          "output_type": "display_data",
          "data": {
            "text/plain": [
              "<Figure size 576x576 with 1 Axes>"
            ],
            "image/png": "[encoded data removed]"
          },
          "metadata": {
            "needs_background": "light"
          }
        }
      ]
    },
    {
      "cell_type": "markdown",
      "source": [
        "### 결정 트리\n",
        "- 분류와 회귀 문제에 모두 사용가능"
      ],
      "metadata": {
        "id": "_xp2URkpYnT3"
      }
    },
    {
      "cell_type": "markdown",
      "source": [
        "### 주요 개념\n",
        "- 작동 원리\n",
        "  + 데이터를 가장 잘 구분하는 조건을 정함.\n",
        "  + 조건을 기준으로 데이터를 두 범주로 나눔\n",
        "  + 나뉜 각 범주의 데이터를 구분하는 조건을 정함\n",
        "  + 각 조건을 기준으로 데이터를 두 범주로 나눔\n",
        "  + 언제까지 계속 분할할지 정한 후, 최종 결정 값을 구함.\n",
        "- 불순도(Impurity)\n",
        "  + 한 범주 안에 서로 다른 데이터가 얼마나 섞여 있는지 나타냄\n",
        "  + 흰색과 검은색이 50:50으로 섞여 있다. (불순도 최대)\n",
        "  + 흰색과 검은색으로 완전 분리 되었다. (불순도 최소)\n",
        "- 엔트로피(Entropy)\n",
        "  + 불확실한 정도를 의미함. 0 ~ 1로 정함.\n",
        "  + 흰색과 검은색이 50:50으로 섞여 있다. 엔트로피 1\n",
        "  + 흰색과 검은색으로 완전 분리 되었다. 엔트로피 0\n",
        "- 정보이득(Information Gain)\n",
        "  + 1에서 엔트로피를 뺀 수치\n",
        "  + 정보 이득을 최대화하는 방향(엔트로피를 최소화 하는 방향)으로 노드를 분할함\n",
        "- 지니 불순도(Gini Impurity)\n",
        "  + 지니 불순도 값이 클수록 불순도도 높고, 작을수록 불순도도 낮음. 엔트로피와 마찬가지로 지니 불순도가 낮아지는 방향으로 노드 분할함."
      ],
      "metadata": {
        "id": "AG4mrD0_YwTI"
      }
    },
    {
      "cell_type": "code",
      "source": [
        "from sklearn.tree import DecisionTreeClassifier\n",
        "from sklearn.model_selection import train_test_split \n",
        "import seaborn as sns \n",
        "\n",
        "# tips 데이터셋 \n",
        "titanic = sns.load_dataset('titanic')\n",
        "titanic.info()"
      ],
      "metadata": {
        "colab": {
          "base_uri": "https://localhost:8080/"
        },
        "id": "yloUA_nOX4H4",
        "outputId": "9a5013e5-77eb-49d4-8565-957c98c22797"
      },
      "execution_count": 112,
      "outputs": [
        {
          "output_type": "stream",
          "name": "stdout",
          "text": [
            "<class 'pandas.core.frame.DataFrame'>\n",
            "RangeIndex: 891 entries, 0 to 890\n",
            "Data columns (total 15 columns):\n",
            " #   Column       Non-Null Count  Dtype   \n",
            "---  ------       --------------  -----   \n",
            " 0   survived     891 non-null    int64   \n",
            " 1   pclass       891 non-null    int64   \n",
            " 2   sex          891 non-null    object  \n",
            " 3   age          714 non-null    float64 \n",
            " 4   sibsp        891 non-null    int64   \n",
            " 5   parch        891 non-null    int64   \n",
            " 6   fare         891 non-null    float64 \n",
            " 7   embarked     889 non-null    object  \n",
            " 8   class        891 non-null    category\n",
            " 9   who          891 non-null    object  \n",
            " 10  adult_male   891 non-null    bool    \n",
            " 11  deck         203 non-null    category\n",
            " 12  embark_town  889 non-null    object  \n",
            " 13  alive        891 non-null    object  \n",
            " 14  alone        891 non-null    bool    \n",
            "dtypes: bool(2), category(2), float64(2), int64(4), object(5)\n",
            "memory usage: 80.7+ KB\n"
          ]
        }
      ]
    },
    {
      "cell_type": "markdown",
      "source": [
        "- suvived의 비율을 구한다\n",
        " + 0: 사망자\n",
        " + 1: 생존"
      ],
      "metadata": {
        "id": "G8YuuBSZY_gP"
      }
    },
    {
      "cell_type": "code",
      "source": [
        "titanic['survived'].value_counts()"
      ],
      "metadata": {
        "colab": {
          "base_uri": "https://localhost:8080/"
        },
        "id": "JwX1XquRZIr3",
        "outputId": "c95d95c7-810e-4098-bd0d-aeb11919492e"
      },
      "execution_count": 113,
      "outputs": [
        {
          "output_type": "execute_result",
          "data": {
            "text/plain": [
              "0    549\n",
              "1    342\n",
              "Name: survived, dtype: int64"
            ]
          },
          "metadata": {},
          "execution_count": 113
        }
      ]
    },
    {
      "cell_type": "code",
      "source": [
        "X = titanic[['pclass', 'parch', 'fare']]\n",
        "y = titanic['survived']\n",
        "\n",
        "# 훈련데이터, 테스트 데이터 분리\n",
        "X_train, X_test, y_train, y_test = train_test_split(X, y, stratify = y, test_size = 0.3, random_state=42)\n",
        "X_train.shape, X_test.shape, y_train.shape, y_test.shape"
      ],
      "metadata": {
        "colab": {
          "base_uri": "https://localhost:8080/"
        },
        "id": "eN2KEErJZOmw",
        "outputId": "49d2a226-31cc-453a-a050-62d19fa5128f"
      },
      "execution_count": 114,
      "outputs": [
        {
          "output_type": "execute_result",
          "data": {
            "text/plain": [
              "((623, 3), (268, 3), (623,), (268,))"
            ]
          },
          "metadata": {},
          "execution_count": 114
        }
      ]
    },
    {
      "cell_type": "code",
      "source": [
        "tree_model = DecisionTreeClassifier()\n",
        "tree_model.fit(X_train, y_train)\n",
        "\n",
        "acc = tree_model.score(X_test, y_test)\n",
        "print(f'모형 정확도 : {acc:.3f}') # 정확도 측정"
      ],
      "metadata": {
        "colab": {
          "base_uri": "https://localhost:8080/"
        },
        "id": "A1JfGInrY8va",
        "outputId": "a8c9f95e-b683-4a37-987c-0be550b4e2d6"
      },
      "execution_count": 115,
      "outputs": [
        {
          "output_type": "stream",
          "name": "stdout",
          "text": [
            "모형 정확도 : 0.675\n"
          ]
        }
      ]
    },
    {
      "cell_type": "markdown",
      "source": [
        "## 랜덤 포레스"
      ],
      "metadata": {
        "id": "OdENHFLeZozg"
      }
    },
    {
      "cell_type": "code",
      "source": [
        "from sklearn.ensemble import RandomForestClassifier\n",
        "from sklearn.model_selection import train_test_split \n",
        "import seaborn as sns \n",
        "\n",
        "# tips 데이터셋 \n",
        "titanic = sns.load_dataset('titanic')\n",
        "\n",
        "X = titanic[['pclass', 'parch', 'fare']]\n",
        "y = titanic['survived']\n",
        "\n",
        "# 훈련데이터, 테스트 데이터 분리\n",
        "X_train, X_test, y_train, y_test = train_test_split(X, y, stratify = y, test_size = 0.3, random_state=42)\n",
        "\n",
        "# 모델 훈련\n",
        "rf_model = RandomForestClassifier(random_state=42) # 랜덤 포레스트 정의\n",
        "rf_model.fit(X_train, y_train)\n",
        "\n",
        "acc = rf_model.score(X_test, y_test)\n",
        "print(f'모형 정확도 : {acc:.3f}') # 정확도 측정"
      ],
      "metadata": {
        "colab": {
          "base_uri": "https://localhost:8080/"
        },
        "id": "SjzCV4XJZrkP",
        "outputId": "6d8a9033-38a3-455e-a20f-21fe81c20ba5"
      },
      "execution_count": 116,
      "outputs": [
        {
          "output_type": "stream",
          "name": "stdout",
          "text": [
            "모형 정확도 : 0.675\n"
          ]
        }
      ]
    },
    {
      "cell_type": "markdown",
      "source": [
        "## XGBoost(2016) & LightGBM\n",
        "- 전통적인 머신러닝 알고리즘의 융합\n",
        "  - 선형회귀 릿지 라쏘, 과적합 방지를 위한 규제\n",
        "  + 결정트리의 핵심적인 알고리즘\n",
        "  + 경사 하강법\n",
        "  + 부스팅 기법\n",
        "- 문제점 : 파라미터의 개수가 매우 많음\n",
        "- 왜 많이 사용할까?\n",
        " + 모델 학습 속도\n",
        " + 성능\n",
        " + 가장 좋은 모델이란 학습속도는 빠르고 성능이 좋음.(기준: 지금까지 나온 알고리즘과 비교해서)\n",
        "- 언어를 Python,Java에서 시작했어도 C,C++로 가야만 됨.\n",
        "- 개발 초기: 자체 사용 용도로 개발 --> Python Wrapper \n",
        "  - R, 머신러닝 프레임워크 종류가 다양.\n",
        "  - 파이썬 머신러닝 중 Scikit-Learn이 대세로 떠오름\n",
        "- 개발 중기: 파이썬 머신러닝 Scikit-Learn에서 API를 사용해 XGBoost을 사용\n"
      ],
      "metadata": {
        "id": "6dtK8Q7B3ASX"
      }
    },
    {
      "cell_type": "markdown",
      "source": [
        "### XGBoost-Python Wrapper 방식\n",
        "- X_train, Y_train\n",
        "- 각 모듈에 맞도록 행렬을 재변환해야 함.\n",
        "\n"
      ],
      "metadata": {
        "id": "AF9xGURk7i3l"
      }
    },
    {
      "cell_type": "code",
      "source": [
        "import xgboost as xgb # 엑스지부스터를 사용->파이썬래퍼 방식\n",
        "from sklearn.model_selection import train_test_split\n",
        "import seaborn as sns"
      ],
      "metadata": {
        "id": "m4xXIYEg7xd2"
      },
      "execution_count": 117,
      "outputs": []
    },
    {
      "cell_type": "code",
      "source": [
        "# 데이터 분리\n",
        "titanic = sns.load_dataset('titanic')\n",
        "titanic.info()\n",
        "\n",
        "#x,독립변수 y종속변수\n",
        "X = titanic[['pclass', 'parch', 'fare']]\n",
        "y = titanic['survived']\n",
        "\n",
        "# 훈련데이터, 테스트 데이터 분리\n",
        "X_train, X_test, y_train, y_test = train_test_split(X, \n",
        "                                                    y, \n",
        "                                                    stratify = y, \n",
        "                                                    test_size = 0.3, \n",
        "                                                    random_state=42)\n",
        "\n",
        "X_train.shape, X_test.shape, y_train.shape, y_test.shape"
      ],
      "metadata": {
        "colab": {
          "base_uri": "https://localhost:8080/"
        },
        "id": "AXgbq61Q7_xl",
        "outputId": "274edf8b-bcd5-4547-e9fe-14dbe4129d2a"
      },
      "execution_count": 119,
      "outputs": [
        {
          "output_type": "stream",
          "name": "stdout",
          "text": [
            "<class 'pandas.core.frame.DataFrame'>\n",
            "RangeIndex: 891 entries, 0 to 890\n",
            "Data columns (total 15 columns):\n",
            " #   Column       Non-Null Count  Dtype   \n",
            "---  ------       --------------  -----   \n",
            " 0   survived     891 non-null    int64   \n",
            " 1   pclass       891 non-null    int64   \n",
            " 2   sex          891 non-null    object  \n",
            " 3   age          714 non-null    float64 \n",
            " 4   sibsp        891 non-null    int64   \n",
            " 5   parch        891 non-null    int64   \n",
            " 6   fare         891 non-null    float64 \n",
            " 7   embarked     889 non-null    object  \n",
            " 8   class        891 non-null    category\n",
            " 9   who          891 non-null    object  \n",
            " 10  adult_male   891 non-null    bool    \n",
            " 11  deck         203 non-null    category\n",
            " 12  embark_town  889 non-null    object  \n",
            " 13  alive        891 non-null    object  \n",
            " 14  alone        891 non-null    bool    \n",
            "dtypes: bool(2), category(2), float64(2), int64(4), object(5)\n",
            "memory usage: 80.7+ KB\n"
          ]
        },
        {
          "output_type": "execute_result",
          "data": {
            "text/plain": [
              "((623, 3), (268, 3), (623,), (268,))"
            ]
          },
          "metadata": {},
          "execution_count": 119
        }
      ]
    },
    {
      "cell_type": "markdown",
      "source": [
        "- **여기가 핵심**\n",
        "\n",
        "   + 다른 데이터로 변신\n",
        "\n"
      ],
      "metadata": {
        "id": "c1Bc-Y2T8_-l"
      }
    },
    {
      "cell_type": "code",
      "source": [
        "dtrain = xgb.DMatrix(data = X_train, label = y_train)\n",
        "dtest = xgb.DMatrix(data= X_test, label= y_test)\n",
        "\n",
        "print(dtrain)"
      ],
      "metadata": {
        "colab": {
          "base_uri": "https://localhost:8080/"
        },
        "id": "TXOASlVi9RJV",
        "outputId": "134eee09-20b1-4666-e164-1362544cba4b"
      },
      "execution_count": 126,
      "outputs": [
        {
          "output_type": "stream",
          "name": "stdout",
          "text": [
            "<xgboost.core.DMatrix object at 0x7faf7bee2490>\n"
          ]
        }
      ]
    },
    {
      "cell_type": "code",
      "source": [
        "params = {\n",
        "    'max_depth':3,#트리 깊이는 3\n",
        "    'n_estimator':100,#100번 심기->결정트리갯수\n",
        "    'eta':0.1,\n",
        "    'objectice' : 'binary:logistic'\n",
        "}\n",
        "num_rounds = 400\n",
        "\n",
        "w_list = [(dtrain, 'train'), (dtest, 'test')]\n",
        "xgb_ml = xgb.train(params = params, \n",
        "                   dtrain = dtrain, \n",
        "                   num_boost_round = 400, #경사하강법의 에포크(가중치를 계속 줌)\n",
        "                   early_stopping_rounds = 100, # 100번하고 효과 없으면 멈춰라\n",
        "                   evals = w_list)"
      ],
      "metadata": {
        "colab": {
          "base_uri": "https://localhost:8080/"
        },
        "id": "9Mc80qwJ9pc9",
        "outputId": "de9b64c5-e72f-4591-c559-7740398f3988"
      },
      "execution_count": 134,
      "outputs": [
        {
          "output_type": "stream",
          "name": "stdout",
          "text": [
            "[0]\ttrain-rmse:0.487916\ttest-rmse:0.490147\n",
            "Multiple eval metrics have been passed: 'test-rmse' will be used for early stopping.\n",
            "\n",
            "Will train until test-rmse hasn't improved in 100 rounds.\n",
            "[1]\ttrain-rmse:0.477856\ttest-rmse:0.482183\n",
            "[2]\ttrain-rmse:0.470061\ttest-rmse:0.47532\n",
            "[3]\ttrain-rmse:0.462181\ttest-rmse:0.470924\n",
            "[4]\ttrain-rmse:0.455721\ttest-rmse:0.466351\n",
            "[5]\ttrain-rmse:0.450355\ttest-rmse:0.462927\n",
            "[6]\ttrain-rmse:0.445684\ttest-rmse:0.459554\n",
            "[7]\ttrain-rmse:0.441298\ttest-rmse:0.458577\n",
            "[8]\ttrain-rmse:0.437792\ttest-rmse:0.456831\n",
            "[9]\ttrain-rmse:0.434393\ttest-rmse:0.456526\n",
            "[10]\ttrain-rmse:0.431725\ttest-rmse:0.455362\n",
            "[11]\ttrain-rmse:0.428592\ttest-rmse:0.454746\n",
            "[12]\ttrain-rmse:0.426484\ttest-rmse:0.454121\n",
            "[13]\ttrain-rmse:0.423993\ttest-rmse:0.453891\n",
            "[14]\ttrain-rmse:0.421947\ttest-rmse:0.453115\n",
            "[15]\ttrain-rmse:0.42036\ttest-rmse:0.452995\n",
            "[16]\ttrain-rmse:0.418511\ttest-rmse:0.452991\n",
            "[17]\ttrain-rmse:0.417025\ttest-rmse:0.452558\n",
            "[18]\ttrain-rmse:0.415955\ttest-rmse:0.45293\n",
            "[19]\ttrain-rmse:0.41396\ttest-rmse:0.453367\n",
            "[20]\ttrain-rmse:0.413199\ttest-rmse:0.453852\n",
            "[21]\ttrain-rmse:0.412091\ttest-rmse:0.453547\n",
            "[22]\ttrain-rmse:0.410501\ttest-rmse:0.454099\n",
            "[23]\ttrain-rmse:0.409461\ttest-rmse:0.453524\n",
            "[24]\ttrain-rmse:0.408469\ttest-rmse:0.453724\n",
            "[25]\ttrain-rmse:0.407781\ttest-rmse:0.454117\n",
            "[26]\ttrain-rmse:0.406954\ttest-rmse:0.454325\n",
            "[27]\ttrain-rmse:0.405709\ttest-rmse:0.454997\n",
            "[28]\ttrain-rmse:0.405121\ttest-rmse:0.455544\n",
            "[29]\ttrain-rmse:0.40445\ttest-rmse:0.455746\n",
            "[30]\ttrain-rmse:0.403643\ttest-rmse:0.45576\n",
            "[31]\ttrain-rmse:0.403092\ttest-rmse:0.45603\n",
            "[32]\ttrain-rmse:0.40252\ttest-rmse:0.456502\n",
            "[33]\ttrain-rmse:0.401617\ttest-rmse:0.456903\n",
            "[34]\ttrain-rmse:0.401175\ttest-rmse:0.457341\n",
            "[35]\ttrain-rmse:0.400151\ttest-rmse:0.458455\n",
            "[36]\ttrain-rmse:0.399748\ttest-rmse:0.458725\n",
            "[37]\ttrain-rmse:0.398984\ttest-rmse:0.45933\n",
            "[38]\ttrain-rmse:0.3982\ttest-rmse:0.459086\n",
            "[39]\ttrain-rmse:0.397529\ttest-rmse:0.459736\n",
            "[40]\ttrain-rmse:0.39734\ttest-rmse:0.460037\n",
            "[41]\ttrain-rmse:0.396627\ttest-rmse:0.460473\n",
            "[42]\ttrain-rmse:0.396461\ttest-rmse:0.460603\n",
            "[43]\ttrain-rmse:0.395536\ttest-rmse:0.460408\n",
            "[44]\ttrain-rmse:0.395255\ttest-rmse:0.460791\n",
            "[45]\ttrain-rmse:0.394568\ttest-rmse:0.461165\n",
            "[46]\ttrain-rmse:0.39406\ttest-rmse:0.461553\n",
            "[47]\ttrain-rmse:0.39335\ttest-rmse:0.461595\n",
            "[48]\ttrain-rmse:0.393206\ttest-rmse:0.461718\n",
            "[49]\ttrain-rmse:0.392991\ttest-rmse:0.462002\n",
            "[50]\ttrain-rmse:0.392352\ttest-rmse:0.461921\n",
            "[51]\ttrain-rmse:0.391973\ttest-rmse:0.462235\n",
            "[52]\ttrain-rmse:0.391844\ttest-rmse:0.462413\n",
            "[53]\ttrain-rmse:0.391345\ttest-rmse:0.462504\n",
            "[54]\ttrain-rmse:0.391184\ttest-rmse:0.462824\n",
            "[55]\ttrain-rmse:0.391068\ttest-rmse:0.462939\n",
            "[56]\ttrain-rmse:0.390596\ttest-rmse:0.462162\n",
            "[57]\ttrain-rmse:0.390164\ttest-rmse:0.462743\n",
            "[58]\ttrain-rmse:0.389861\ttest-rmse:0.463045\n",
            "[59]\ttrain-rmse:0.389441\ttest-rmse:0.462628\n",
            "[60]\ttrain-rmse:0.389338\ttest-rmse:0.462737\n",
            "[61]\ttrain-rmse:0.388745\ttest-rmse:0.462943\n",
            "[62]\ttrain-rmse:0.388405\ttest-rmse:0.462691\n",
            "[63]\ttrain-rmse:0.388277\ttest-rmse:0.463041\n",
            "[64]\ttrain-rmse:0.387828\ttest-rmse:0.463243\n",
            "[65]\ttrain-rmse:0.387614\ttest-rmse:0.463214\n",
            "[66]\ttrain-rmse:0.387088\ttest-rmse:0.463584\n",
            "[67]\ttrain-rmse:0.386906\ttest-rmse:0.463627\n",
            "[68]\ttrain-rmse:0.386444\ttest-rmse:0.463517\n",
            "[69]\ttrain-rmse:0.385685\ttest-rmse:0.463735\n",
            "[70]\ttrain-rmse:0.385353\ttest-rmse:0.463113\n",
            "[71]\ttrain-rmse:0.384828\ttest-rmse:0.463005\n",
            "[72]\ttrain-rmse:0.38444\ttest-rmse:0.462966\n",
            "[73]\ttrain-rmse:0.383198\ttest-rmse:0.462825\n",
            "[74]\ttrain-rmse:0.382841\ttest-rmse:0.462947\n",
            "[75]\ttrain-rmse:0.382416\ttest-rmse:0.463253\n",
            "[76]\ttrain-rmse:0.381966\ttest-rmse:0.462963\n",
            "[77]\ttrain-rmse:0.381655\ttest-rmse:0.463399\n",
            "[78]\ttrain-rmse:0.381399\ttest-rmse:0.463326\n",
            "[79]\ttrain-rmse:0.380593\ttest-rmse:0.463278\n",
            "[80]\ttrain-rmse:0.380329\ttest-rmse:0.463051\n",
            "[81]\ttrain-rmse:0.380233\ttest-rmse:0.46316\n",
            "[82]\ttrain-rmse:0.379942\ttest-rmse:0.463234\n",
            "[83]\ttrain-rmse:0.379686\ttest-rmse:0.463517\n",
            "[84]\ttrain-rmse:0.37893\ttest-rmse:0.463051\n",
            "[85]\ttrain-rmse:0.37884\ttest-rmse:0.463287\n",
            "[86]\ttrain-rmse:0.378756\ttest-rmse:0.463389\n",
            "[87]\ttrain-rmse:0.378501\ttest-rmse:0.463446\n",
            "[88]\ttrain-rmse:0.378011\ttest-rmse:0.463085\n",
            "[89]\ttrain-rmse:0.377178\ttest-rmse:0.46281\n",
            "[90]\ttrain-rmse:0.376872\ttest-rmse:0.462851\n",
            "[91]\ttrain-rmse:0.376563\ttest-rmse:0.46331\n",
            "[92]\ttrain-rmse:0.376317\ttest-rmse:0.463088\n",
            "[93]\ttrain-rmse:0.376049\ttest-rmse:0.463515\n",
            "[94]\ttrain-rmse:0.375914\ttest-rmse:0.463486\n",
            "[95]\ttrain-rmse:0.375643\ttest-rmse:0.463194\n",
            "[96]\ttrain-rmse:0.375378\ttest-rmse:0.463459\n",
            "[97]\ttrain-rmse:0.375145\ttest-rmse:0.46375\n",
            "[98]\ttrain-rmse:0.37453\ttest-rmse:0.463309\n",
            "[99]\ttrain-rmse:0.374021\ttest-rmse:0.463431\n",
            "[100]\ttrain-rmse:0.373289\ttest-rmse:0.463593\n",
            "[101]\ttrain-rmse:0.373032\ttest-rmse:0.463798\n",
            "[102]\ttrain-rmse:0.372814\ttest-rmse:0.464226\n",
            "[103]\ttrain-rmse:0.372443\ttest-rmse:0.464454\n",
            "[104]\ttrain-rmse:0.372217\ttest-rmse:0.464417\n",
            "[105]\ttrain-rmse:0.372146\ttest-rmse:0.464435\n",
            "[106]\ttrain-rmse:0.371726\ttest-rmse:0.464241\n",
            "[107]\ttrain-rmse:0.37158\ttest-rmse:0.464172\n",
            "[108]\ttrain-rmse:0.371396\ttest-rmse:0.464582\n",
            "[109]\ttrain-rmse:0.371335\ttest-rmse:0.4646\n",
            "[110]\ttrain-rmse:0.371127\ttest-rmse:0.464403\n",
            "[111]\ttrain-rmse:0.371001\ttest-rmse:0.464328\n",
            "[112]\ttrain-rmse:0.370928\ttest-rmse:0.464546\n",
            "[113]\ttrain-rmse:0.370688\ttest-rmse:0.464457\n",
            "[114]\ttrain-rmse:0.370634\ttest-rmse:0.464475\n",
            "[115]\ttrain-rmse:0.370421\ttest-rmse:0.464819\n",
            "[116]\ttrain-rmse:0.37007\ttest-rmse:0.46479\n",
            "[117]\ttrain-rmse:0.369922\ttest-rmse:0.464798\n",
            "Stopping. Best iteration:\n",
            "[17]\ttrain-rmse:0.417025\ttest-rmse:0.452558\n",
            "\n"
          ]
        }
      ]
    },
    {
      "cell_type": "code",
      "source": [
        "#평가\n",
        "from sklearn.metrics import accuracy_score\n",
        "pred_probs = xgb_ml.predict(dtest)\n",
        "y_pred = [1 if x > 0.5 else 0 for x in pred_probs]\n",
        "\n",
        "# 예측 라벨과 실제 라벨 사이의 정확도 측정\n",
        "accuracy_score(y_pred,y_test)"
      ],
      "metadata": {
        "colab": {
          "base_uri": "https://localhost:8080/"
        },
        "id": "bT2aLYc1-7Z1",
        "outputId": "80530ecb-3b14-4402-a580-d5c0441d7058"
      },
      "execution_count": 133,
      "outputs": [
        {
          "output_type": "execute_result",
          "data": {
            "text/plain": [
              "0.6977611940298507"
            ]
          },
          "metadata": {},
          "execution_count": 133
        }
      ]
    },
    {
      "cell_type": "markdown",
      "source": [
        "### XGBoost Scikit-Learn API방식\n",
        "- application programming interface"
      ],
      "metadata": {
        "id": "-3WNUTXCFLm7"
      }
    },
    {
      "cell_type": "code",
      "source": [
        "#xgb를 사용하지 않음(파이썬라이브러리를 가져오지 않고 사이킥런인공지능 사용)\n",
        "#from sklearn.tree import DecisionTreeClassifier\n",
        "from xgboost import XGBClassifier # 사이킥런 API\n",
        "\n",
        "#dt = DecisionTreeClassifier()\n",
        "params = {\n",
        "    'max_depth':3,#트리 깊이는 3\n",
        "    'n_estimator':100,#100번 심기->결정트리갯수\n",
        "    'eta':0.1,\n",
        "    'objectice' : 'binary:logistic'\n",
        "}\n",
        "num_rounds = 400\n",
        "\n",
        "xgb_model = XGBClassifier(objective= 'binary:logistic',\n",
        "                          n_estimators=100,\n",
        "                          max_depth=3,\n",
        "                          learning_rate =0.1,\n",
        "                          num_rounds = 400,#이건 엑스지부스터랑 같은내용이지만 양식이 다름\n",
        "                          random_state = 42)\n",
        "\n",
        "w_list = [(X_train, y_train), (X_test, y_test)]\n",
        "\n",
        "xgb_model.fit(X_train, y_train, eval_set = w_list, eval_metric='error', verbose=True)\n",
        "\n",
        "y_probas = xgb_model.predict_proba(X_test)\n",
        "y_pred = [1 if x > 0.5 else 0 for x in pred_probs]\n",
        "\n",
        "# 예측 라벨과 실제 라벨 사이의 정확도 측정\n",
        "accuracy_score(y_pred, y_test)\n"
      ],
      "metadata": {
        "colab": {
          "base_uri": "https://localhost:8080/"
        },
        "id": "fLrToSf4Aj2r",
        "outputId": "30769d8e-1f81-40c3-b67f-227b1e950e2f"
      },
      "execution_count": 135,
      "outputs": [
        {
          "output_type": "stream",
          "name": "stdout",
          "text": [
            "[0]\tvalidation_0-error:0.260032\tvalidation_1-error:0.302239\n",
            "[1]\tvalidation_0-error:0.260032\tvalidation_1-error:0.302239\n",
            "[2]\tvalidation_0-error:0.260032\tvalidation_1-error:0.302239\n",
            "[3]\tvalidation_0-error:0.260032\tvalidation_1-error:0.302239\n",
            "[4]\tvalidation_0-error:0.260032\tvalidation_1-error:0.302239\n",
            "[5]\tvalidation_0-error:0.260032\tvalidation_1-error:0.302239\n",
            "[6]\tvalidation_0-error:0.260032\tvalidation_1-error:0.302239\n",
            "[7]\tvalidation_0-error:0.260032\tvalidation_1-error:0.302239\n",
            "[8]\tvalidation_0-error:0.260032\tvalidation_1-error:0.302239\n",
            "[9]\tvalidation_0-error:0.260032\tvalidation_1-error:0.302239\n",
            "[10]\tvalidation_0-error:0.260032\tvalidation_1-error:0.302239\n",
            "[11]\tvalidation_0-error:0.260032\tvalidation_1-error:0.302239\n",
            "[12]\tvalidation_0-error:0.260032\tvalidation_1-error:0.302239\n",
            "[13]\tvalidation_0-error:0.247191\tvalidation_1-error:0.298507\n",
            "[14]\tvalidation_0-error:0.247191\tvalidation_1-error:0.298507\n",
            "[15]\tvalidation_0-error:0.248796\tvalidation_1-error:0.302239\n",
            "[16]\tvalidation_0-error:0.248796\tvalidation_1-error:0.302239\n",
            "[17]\tvalidation_0-error:0.248796\tvalidation_1-error:0.302239\n",
            "[18]\tvalidation_0-error:0.248796\tvalidation_1-error:0.302239\n",
            "[19]\tvalidation_0-error:0.248796\tvalidation_1-error:0.302239\n",
            "[20]\tvalidation_0-error:0.248796\tvalidation_1-error:0.302239\n",
            "[21]\tvalidation_0-error:0.248796\tvalidation_1-error:0.302239\n",
            "[22]\tvalidation_0-error:0.248796\tvalidation_1-error:0.302239\n",
            "[23]\tvalidation_0-error:0.248796\tvalidation_1-error:0.302239\n",
            "[24]\tvalidation_0-error:0.248796\tvalidation_1-error:0.302239\n",
            "[25]\tvalidation_0-error:0.248796\tvalidation_1-error:0.302239\n",
            "[26]\tvalidation_0-error:0.248796\tvalidation_1-error:0.302239\n",
            "[27]\tvalidation_0-error:0.248796\tvalidation_1-error:0.302239\n",
            "[28]\tvalidation_0-error:0.247191\tvalidation_1-error:0.302239\n",
            "[29]\tvalidation_0-error:0.247191\tvalidation_1-error:0.302239\n",
            "[30]\tvalidation_0-error:0.247191\tvalidation_1-error:0.302239\n",
            "[31]\tvalidation_0-error:0.243981\tvalidation_1-error:0.298507\n",
            "[32]\tvalidation_0-error:0.247191\tvalidation_1-error:0.302239\n",
            "[33]\tvalidation_0-error:0.243981\tvalidation_1-error:0.298507\n",
            "[34]\tvalidation_0-error:0.243981\tvalidation_1-error:0.298507\n",
            "[35]\tvalidation_0-error:0.242376\tvalidation_1-error:0.294776\n",
            "[36]\tvalidation_0-error:0.24077\tvalidation_1-error:0.294776\n",
            "[37]\tvalidation_0-error:0.24077\tvalidation_1-error:0.294776\n",
            "[38]\tvalidation_0-error:0.24077\tvalidation_1-error:0.294776\n",
            "[39]\tvalidation_0-error:0.24077\tvalidation_1-error:0.294776\n",
            "[40]\tvalidation_0-error:0.24077\tvalidation_1-error:0.294776\n",
            "[41]\tvalidation_0-error:0.24077\tvalidation_1-error:0.294776\n",
            "[42]\tvalidation_0-error:0.24077\tvalidation_1-error:0.294776\n",
            "[43]\tvalidation_0-error:0.24077\tvalidation_1-error:0.294776\n",
            "[44]\tvalidation_0-error:0.24077\tvalidation_1-error:0.302239\n",
            "[45]\tvalidation_0-error:0.24077\tvalidation_1-error:0.302239\n",
            "[46]\tvalidation_0-error:0.24077\tvalidation_1-error:0.302239\n",
            "[47]\tvalidation_0-error:0.24077\tvalidation_1-error:0.302239\n",
            "[48]\tvalidation_0-error:0.24077\tvalidation_1-error:0.302239\n",
            "[49]\tvalidation_0-error:0.24077\tvalidation_1-error:0.302239\n",
            "[50]\tvalidation_0-error:0.24077\tvalidation_1-error:0.302239\n",
            "[51]\tvalidation_0-error:0.24077\tvalidation_1-error:0.302239\n",
            "[52]\tvalidation_0-error:0.23435\tvalidation_1-error:0.302239\n",
            "[53]\tvalidation_0-error:0.23435\tvalidation_1-error:0.302239\n",
            "[54]\tvalidation_0-error:0.232745\tvalidation_1-error:0.298507\n",
            "[55]\tvalidation_0-error:0.229535\tvalidation_1-error:0.298507\n",
            "[56]\tvalidation_0-error:0.229535\tvalidation_1-error:0.298507\n",
            "[57]\tvalidation_0-error:0.229535\tvalidation_1-error:0.298507\n",
            "[58]\tvalidation_0-error:0.229535\tvalidation_1-error:0.298507\n",
            "[59]\tvalidation_0-error:0.227929\tvalidation_1-error:0.294776\n",
            "[60]\tvalidation_0-error:0.227929\tvalidation_1-error:0.298507\n",
            "[61]\tvalidation_0-error:0.227929\tvalidation_1-error:0.298507\n",
            "[62]\tvalidation_0-error:0.227929\tvalidation_1-error:0.298507\n",
            "[63]\tvalidation_0-error:0.227929\tvalidation_1-error:0.298507\n",
            "[64]\tvalidation_0-error:0.227929\tvalidation_1-error:0.298507\n",
            "[65]\tvalidation_0-error:0.227929\tvalidation_1-error:0.298507\n",
            "[66]\tvalidation_0-error:0.227929\tvalidation_1-error:0.298507\n",
            "[67]\tvalidation_0-error:0.227929\tvalidation_1-error:0.298507\n",
            "[68]\tvalidation_0-error:0.227929\tvalidation_1-error:0.298507\n",
            "[69]\tvalidation_0-error:0.227929\tvalidation_1-error:0.298507\n",
            "[70]\tvalidation_0-error:0.227929\tvalidation_1-error:0.298507\n",
            "[71]\tvalidation_0-error:0.227929\tvalidation_1-error:0.298507\n",
            "[72]\tvalidation_0-error:0.227929\tvalidation_1-error:0.302239\n",
            "[73]\tvalidation_0-error:0.227929\tvalidation_1-error:0.302239\n",
            "[74]\tvalidation_0-error:0.229535\tvalidation_1-error:0.30597\n",
            "[75]\tvalidation_0-error:0.229535\tvalidation_1-error:0.30597\n",
            "[76]\tvalidation_0-error:0.229535\tvalidation_1-error:0.30597\n",
            "[77]\tvalidation_0-error:0.229535\tvalidation_1-error:0.30597\n",
            "[78]\tvalidation_0-error:0.229535\tvalidation_1-error:0.30597\n",
            "[79]\tvalidation_0-error:0.229535\tvalidation_1-error:0.30597\n",
            "[80]\tvalidation_0-error:0.229535\tvalidation_1-error:0.30597\n",
            "[81]\tvalidation_0-error:0.229535\tvalidation_1-error:0.30597\n",
            "[82]\tvalidation_0-error:0.229535\tvalidation_1-error:0.30597\n",
            "[83]\tvalidation_0-error:0.229535\tvalidation_1-error:0.30597\n",
            "[84]\tvalidation_0-error:0.229535\tvalidation_1-error:0.30597\n",
            "[85]\tvalidation_0-error:0.229535\tvalidation_1-error:0.30597\n",
            "[86]\tvalidation_0-error:0.229535\tvalidation_1-error:0.30597\n",
            "[87]\tvalidation_0-error:0.229535\tvalidation_1-error:0.30597\n",
            "[88]\tvalidation_0-error:0.229535\tvalidation_1-error:0.30597\n",
            "[89]\tvalidation_0-error:0.229535\tvalidation_1-error:0.30597\n",
            "[90]\tvalidation_0-error:0.229535\tvalidation_1-error:0.30597\n",
            "[91]\tvalidation_0-error:0.229535\tvalidation_1-error:0.30597\n",
            "[92]\tvalidation_0-error:0.229535\tvalidation_1-error:0.30597\n",
            "[93]\tvalidation_0-error:0.229535\tvalidation_1-error:0.30597\n",
            "[94]\tvalidation_0-error:0.227929\tvalidation_1-error:0.313433\n",
            "[95]\tvalidation_0-error:0.226324\tvalidation_1-error:0.313433\n",
            "[96]\tvalidation_0-error:0.223114\tvalidation_1-error:0.317164\n",
            "[97]\tvalidation_0-error:0.223114\tvalidation_1-error:0.317164\n",
            "[98]\tvalidation_0-error:0.223114\tvalidation_1-error:0.317164\n",
            "[99]\tvalidation_0-error:0.223114\tvalidation_1-error:0.317164\n"
          ]
        },
        {
          "output_type": "execute_result",
          "data": {
            "text/plain": [
              "0.6977611940298507"
            ]
          },
          "metadata": {},
          "execution_count": 135
        }
      ]
    },
    {
      "cell_type": "markdown",
      "source": [
        "### LightGBM Rython Wrapper방식\n"
      ],
      "metadata": {
        "id": "lrNAmtLT_yBV"
      }
    },
    {
      "cell_type": "code",
      "source": [
        "import lightgbm as lgb \n",
        "from sklearn.model_selection import train_test_split \n",
        "from sklearn.metrics import accuracy_score\n",
        "import seaborn as sns \n",
        "\n",
        "# tips 데이터셋 \n",
        "titanic = sns.load_dataset('titanic')\n",
        "\n",
        "X = titanic[['pclass', 'parch', 'fare']]\n",
        "y = titanic['survived']\n",
        "\n",
        "# 훈련데이터, 테스트 데이터 분리\n",
        "X_train, X_test, y_train, y_test = train_test_split(X, y, stratify = y, test_size = 0.3, random_state=42)\n",
        "\n",
        "# XGBoost 코드와 유사하다. \n",
        "dtrain = lgb.Dataset(data = X_train, label = y_train)\n",
        "dtest = lgb.Dataset(data = X_test, label = y_test)\n",
        "\n",
        "params = {'max_depth':3,\n",
        "          'n_estimators':100,\n",
        "          'learning_rate': 0.1, #xgbooost eta\n",
        "          'objective':'binary',# xgboost objectice' : 'binary:logistic'\n",
        "          'metric' : 'binary_error', \n",
        "          'num_boost_round' : 400, \n",
        "          'verbose' : 1} \n",
        "\n",
        "w_list = [dtrain, dtest]\n",
        "lgb_ml = lgb.train(params=params, train_set = dtrain,\\\n",
        "                  early_stopping_rounds=100, valid_sets= w_list)\n",
        "\n",
        "pred_probs = lgb_ml.predict(X_test)\n",
        "y_pred=[1 if x > 0.5 else 0 for x in pred_probs]\n",
        "\n",
        "# 예측 라벨과 실제 라벨 사이의 정확도 측정\n",
        "accuracy_score(y_pred, y_test)"
      ],
      "metadata": {
        "colab": {
          "base_uri": "https://localhost:8080/"
        },
        "id": "9qEFj1XH-3v1",
        "outputId": "a0b69673-6d7a-4cab-db23-f87ea70f3379"
      },
      "execution_count": 136,
      "outputs": [
        {
          "output_type": "stream",
          "name": "stderr",
          "text": [
            "/usr/local/lib/python3.7/dist-packages/lightgbm/engine.py:118: UserWarning: Found `num_boost_round` in params. Will use it instead of argument\n",
            "  warnings.warn(\"Found `{}` in params. Will use it instead of argument\".format(alias))\n"
          ]
        },
        {
          "output_type": "stream",
          "name": "stdout",
          "text": [
            "[1]\ttraining's binary_error: 0.383628\tvalid_1's binary_error: 0.384328\n",
            "Training until validation scores don't improve for 100 rounds.\n",
            "[2]\ttraining's binary_error: 0.383628\tvalid_1's binary_error: 0.384328\n",
            "[3]\ttraining's binary_error: 0.354735\tvalid_1's binary_error: 0.369403\n",
            "[4]\ttraining's binary_error: 0.29695\tvalid_1's binary_error: 0.354478\n",
            "[5]\ttraining's binary_error: 0.272873\tvalid_1's binary_error: 0.33209\n",
            "[6]\ttraining's binary_error: 0.272873\tvalid_1's binary_error: 0.33209\n",
            "[7]\ttraining's binary_error: 0.269663\tvalid_1's binary_error: 0.317164\n",
            "[8]\ttraining's binary_error: 0.269663\tvalid_1's binary_error: 0.317164\n",
            "[9]\ttraining's binary_error: 0.264848\tvalid_1's binary_error: 0.309701\n",
            "[10]\ttraining's binary_error: 0.269663\tvalid_1's binary_error: 0.309701\n",
            "[11]\ttraining's binary_error: 0.264848\tvalid_1's binary_error: 0.309701\n",
            "[12]\ttraining's binary_error: 0.264848\tvalid_1's binary_error: 0.309701\n",
            "[13]\ttraining's binary_error: 0.264848\tvalid_1's binary_error: 0.309701\n",
            "[14]\ttraining's binary_error: 0.264848\tvalid_1's binary_error: 0.309701\n",
            "[15]\ttraining's binary_error: 0.264848\tvalid_1's binary_error: 0.309701\n",
            "[16]\ttraining's binary_error: 0.266453\tvalid_1's binary_error: 0.313433\n",
            "[17]\ttraining's binary_error: 0.266453\tvalid_1's binary_error: 0.313433\n",
            "[18]\ttraining's binary_error: 0.266453\tvalid_1's binary_error: 0.313433\n",
            "[19]\ttraining's binary_error: 0.266453\tvalid_1's binary_error: 0.313433\n",
            "[20]\ttraining's binary_error: 0.266453\tvalid_1's binary_error: 0.313433\n",
            "[21]\ttraining's binary_error: 0.266453\tvalid_1's binary_error: 0.313433\n",
            "[22]\ttraining's binary_error: 0.266453\tvalid_1's binary_error: 0.313433\n",
            "[23]\ttraining's binary_error: 0.271268\tvalid_1's binary_error: 0.313433\n",
            "[24]\ttraining's binary_error: 0.258427\tvalid_1's binary_error: 0.309701\n",
            "[25]\ttraining's binary_error: 0.258427\tvalid_1's binary_error: 0.309701\n",
            "[26]\ttraining's binary_error: 0.258427\tvalid_1's binary_error: 0.309701\n",
            "[27]\ttraining's binary_error: 0.258427\tvalid_1's binary_error: 0.309701\n",
            "[28]\ttraining's binary_error: 0.258427\tvalid_1's binary_error: 0.309701\n",
            "[29]\ttraining's binary_error: 0.255217\tvalid_1's binary_error: 0.309701\n",
            "[30]\ttraining's binary_error: 0.255217\tvalid_1's binary_error: 0.309701\n",
            "[31]\ttraining's binary_error: 0.255217\tvalid_1's binary_error: 0.309701\n",
            "[32]\ttraining's binary_error: 0.255217\tvalid_1's binary_error: 0.309701\n",
            "[33]\ttraining's binary_error: 0.255217\tvalid_1's binary_error: 0.317164\n",
            "[34]\ttraining's binary_error: 0.255217\tvalid_1's binary_error: 0.317164\n",
            "[35]\ttraining's binary_error: 0.255217\tvalid_1's binary_error: 0.317164\n",
            "[36]\ttraining's binary_error: 0.255217\tvalid_1's binary_error: 0.309701\n",
            "[37]\ttraining's binary_error: 0.255217\tvalid_1's binary_error: 0.317164\n",
            "[38]\ttraining's binary_error: 0.255217\tvalid_1's binary_error: 0.317164\n",
            "[39]\ttraining's binary_error: 0.248796\tvalid_1's binary_error: 0.309701\n",
            "[40]\ttraining's binary_error: 0.248796\tvalid_1's binary_error: 0.313433\n",
            "[41]\ttraining's binary_error: 0.248796\tvalid_1's binary_error: 0.313433\n",
            "[42]\ttraining's binary_error: 0.248796\tvalid_1's binary_error: 0.313433\n",
            "[43]\ttraining's binary_error: 0.248796\tvalid_1's binary_error: 0.313433\n",
            "[44]\ttraining's binary_error: 0.248796\tvalid_1's binary_error: 0.313433\n",
            "[45]\ttraining's binary_error: 0.247191\tvalid_1's binary_error: 0.313433\n",
            "[46]\ttraining's binary_error: 0.247191\tvalid_1's binary_error: 0.313433\n",
            "[47]\ttraining's binary_error: 0.247191\tvalid_1's binary_error: 0.313433\n",
            "[48]\ttraining's binary_error: 0.247191\tvalid_1's binary_error: 0.313433\n",
            "[49]\ttraining's binary_error: 0.247191\tvalid_1's binary_error: 0.313433\n",
            "[50]\ttraining's binary_error: 0.247191\tvalid_1's binary_error: 0.313433\n",
            "[51]\ttraining's binary_error: 0.247191\tvalid_1's binary_error: 0.313433\n",
            "[52]\ttraining's binary_error: 0.247191\tvalid_1's binary_error: 0.313433\n",
            "[53]\ttraining's binary_error: 0.247191\tvalid_1's binary_error: 0.313433\n",
            "[54]\ttraining's binary_error: 0.247191\tvalid_1's binary_error: 0.313433\n",
            "[55]\ttraining's binary_error: 0.247191\tvalid_1's binary_error: 0.313433\n",
            "[56]\ttraining's binary_error: 0.247191\tvalid_1's binary_error: 0.313433\n",
            "[57]\ttraining's binary_error: 0.247191\tvalid_1's binary_error: 0.313433\n",
            "[58]\ttraining's binary_error: 0.247191\tvalid_1's binary_error: 0.313433\n",
            "[59]\ttraining's binary_error: 0.247191\tvalid_1's binary_error: 0.313433\n",
            "[60]\ttraining's binary_error: 0.247191\tvalid_1's binary_error: 0.313433\n",
            "[61]\ttraining's binary_error: 0.247191\tvalid_1's binary_error: 0.313433\n",
            "[62]\ttraining's binary_error: 0.247191\tvalid_1's binary_error: 0.313433\n",
            "[63]\ttraining's binary_error: 0.247191\tvalid_1's binary_error: 0.313433\n",
            "[64]\ttraining's binary_error: 0.247191\tvalid_1's binary_error: 0.313433\n",
            "[65]\ttraining's binary_error: 0.247191\tvalid_1's binary_error: 0.313433\n",
            "[66]\ttraining's binary_error: 0.243981\tvalid_1's binary_error: 0.309701\n",
            "[67]\ttraining's binary_error: 0.23435\tvalid_1's binary_error: 0.309701\n",
            "[68]\ttraining's binary_error: 0.23435\tvalid_1's binary_error: 0.309701\n",
            "[69]\ttraining's binary_error: 0.23435\tvalid_1's binary_error: 0.309701\n",
            "[70]\ttraining's binary_error: 0.229535\tvalid_1's binary_error: 0.309701\n",
            "[71]\ttraining's binary_error: 0.229535\tvalid_1's binary_error: 0.309701\n",
            "[72]\ttraining's binary_error: 0.229535\tvalid_1's binary_error: 0.309701\n",
            "[73]\ttraining's binary_error: 0.229535\tvalid_1's binary_error: 0.309701\n",
            "[74]\ttraining's binary_error: 0.229535\tvalid_1's binary_error: 0.309701\n",
            "[75]\ttraining's binary_error: 0.229535\tvalid_1's binary_error: 0.309701\n",
            "[76]\ttraining's binary_error: 0.229535\tvalid_1's binary_error: 0.309701\n",
            "[77]\ttraining's binary_error: 0.229535\tvalid_1's binary_error: 0.309701\n",
            "[78]\ttraining's binary_error: 0.232745\tvalid_1's binary_error: 0.313433\n",
            "[79]\ttraining's binary_error: 0.232745\tvalid_1's binary_error: 0.313433\n",
            "[80]\ttraining's binary_error: 0.232745\tvalid_1's binary_error: 0.313433\n",
            "[81]\ttraining's binary_error: 0.229535\tvalid_1's binary_error: 0.309701\n",
            "[82]\ttraining's binary_error: 0.229535\tvalid_1's binary_error: 0.309701\n",
            "[83]\ttraining's binary_error: 0.229535\tvalid_1's binary_error: 0.309701\n",
            "[84]\ttraining's binary_error: 0.229535\tvalid_1's binary_error: 0.309701\n",
            "[85]\ttraining's binary_error: 0.229535\tvalid_1's binary_error: 0.309701\n",
            "[86]\ttraining's binary_error: 0.229535\tvalid_1's binary_error: 0.309701\n",
            "[87]\ttraining's binary_error: 0.229535\tvalid_1's binary_error: 0.309701\n",
            "[88]\ttraining's binary_error: 0.229535\tvalid_1's binary_error: 0.309701\n",
            "[89]\ttraining's binary_error: 0.229535\tvalid_1's binary_error: 0.309701\n",
            "[90]\ttraining's binary_error: 0.229535\tvalid_1's binary_error: 0.309701\n",
            "[91]\ttraining's binary_error: 0.229535\tvalid_1's binary_error: 0.309701\n",
            "[92]\ttraining's binary_error: 0.229535\tvalid_1's binary_error: 0.309701\n",
            "[93]\ttraining's binary_error: 0.227929\tvalid_1's binary_error: 0.309701\n",
            "[94]\ttraining's binary_error: 0.227929\tvalid_1's binary_error: 0.309701\n",
            "[95]\ttraining's binary_error: 0.227929\tvalid_1's binary_error: 0.309701\n",
            "[96]\ttraining's binary_error: 0.227929\tvalid_1's binary_error: 0.309701\n",
            "[97]\ttraining's binary_error: 0.227929\tvalid_1's binary_error: 0.309701\n",
            "[98]\ttraining's binary_error: 0.227929\tvalid_1's binary_error: 0.309701\n",
            "[99]\ttraining's binary_error: 0.221509\tvalid_1's binary_error: 0.317164\n",
            "[100]\ttraining's binary_error: 0.227929\tvalid_1's binary_error: 0.309701\n",
            "[101]\ttraining's binary_error: 0.23114\tvalid_1's binary_error: 0.30597\n",
            "[102]\ttraining's binary_error: 0.23114\tvalid_1's binary_error: 0.30597\n",
            "[103]\ttraining's binary_error: 0.227929\tvalid_1's binary_error: 0.309701\n",
            "[104]\ttraining's binary_error: 0.221509\tvalid_1's binary_error: 0.317164\n",
            "[105]\ttraining's binary_error: 0.221509\tvalid_1's binary_error: 0.317164\n",
            "[106]\ttraining's binary_error: 0.224719\tvalid_1's binary_error: 0.313433\n",
            "[107]\ttraining's binary_error: 0.224719\tvalid_1's binary_error: 0.317164\n",
            "[108]\ttraining's binary_error: 0.224719\tvalid_1's binary_error: 0.317164\n",
            "[109]\ttraining's binary_error: 0.224719\tvalid_1's binary_error: 0.317164\n",
            "[110]\ttraining's binary_error: 0.224719\tvalid_1's binary_error: 0.317164\n",
            "[111]\ttraining's binary_error: 0.223114\tvalid_1's binary_error: 0.313433\n",
            "[112]\ttraining's binary_error: 0.223114\tvalid_1's binary_error: 0.313433\n",
            "[113]\ttraining's binary_error: 0.223114\tvalid_1's binary_error: 0.313433\n",
            "[114]\ttraining's binary_error: 0.223114\tvalid_1's binary_error: 0.313433\n",
            "[115]\ttraining's binary_error: 0.223114\tvalid_1's binary_error: 0.313433\n",
            "[116]\ttraining's binary_error: 0.223114\tvalid_1's binary_error: 0.313433\n",
            "[117]\ttraining's binary_error: 0.223114\tvalid_1's binary_error: 0.313433\n",
            "[118]\ttraining's binary_error: 0.223114\tvalid_1's binary_error: 0.313433\n",
            "[119]\ttraining's binary_error: 0.223114\tvalid_1's binary_error: 0.313433\n",
            "[120]\ttraining's binary_error: 0.223114\tvalid_1's binary_error: 0.309701\n",
            "[121]\ttraining's binary_error: 0.223114\tvalid_1's binary_error: 0.309701\n",
            "[122]\ttraining's binary_error: 0.223114\tvalid_1's binary_error: 0.309701\n",
            "[123]\ttraining's binary_error: 0.223114\tvalid_1's binary_error: 0.309701\n",
            "[124]\ttraining's binary_error: 0.223114\tvalid_1's binary_error: 0.309701\n",
            "[125]\ttraining's binary_error: 0.223114\tvalid_1's binary_error: 0.309701\n",
            "[126]\ttraining's binary_error: 0.223114\tvalid_1's binary_error: 0.309701\n",
            "[127]\ttraining's binary_error: 0.223114\tvalid_1's binary_error: 0.309701\n",
            "[128]\ttraining's binary_error: 0.223114\tvalid_1's binary_error: 0.309701\n",
            "[129]\ttraining's binary_error: 0.223114\tvalid_1's binary_error: 0.309701\n",
            "[130]\ttraining's binary_error: 0.223114\tvalid_1's binary_error: 0.309701\n",
            "[131]\ttraining's binary_error: 0.223114\tvalid_1's binary_error: 0.309701\n",
            "[132]\ttraining's binary_error: 0.223114\tvalid_1's binary_error: 0.309701\n",
            "[133]\ttraining's binary_error: 0.223114\tvalid_1's binary_error: 0.309701\n",
            "[134]\ttraining's binary_error: 0.223114\tvalid_1's binary_error: 0.309701\n",
            "[135]\ttraining's binary_error: 0.223114\tvalid_1's binary_error: 0.309701\n",
            "[136]\ttraining's binary_error: 0.223114\tvalid_1's binary_error: 0.309701\n",
            "[137]\ttraining's binary_error: 0.219904\tvalid_1's binary_error: 0.309701\n",
            "[138]\ttraining's binary_error: 0.219904\tvalid_1's binary_error: 0.309701\n",
            "[139]\ttraining's binary_error: 0.223114\tvalid_1's binary_error: 0.309701\n",
            "[140]\ttraining's binary_error: 0.223114\tvalid_1's binary_error: 0.309701\n",
            "[141]\ttraining's binary_error: 0.223114\tvalid_1's binary_error: 0.309701\n",
            "[142]\ttraining's binary_error: 0.223114\tvalid_1's binary_error: 0.309701\n",
            "[143]\ttraining's binary_error: 0.223114\tvalid_1's binary_error: 0.309701\n",
            "[144]\ttraining's binary_error: 0.221509\tvalid_1's binary_error: 0.320896\n",
            "[145]\ttraining's binary_error: 0.223114\tvalid_1's binary_error: 0.313433\n",
            "[146]\ttraining's binary_error: 0.221509\tvalid_1's binary_error: 0.313433\n",
            "[147]\ttraining's binary_error: 0.221509\tvalid_1's binary_error: 0.313433\n",
            "[148]\ttraining's binary_error: 0.221509\tvalid_1's binary_error: 0.313433\n",
            "[149]\ttraining's binary_error: 0.221509\tvalid_1's binary_error: 0.313433\n",
            "[150]\ttraining's binary_error: 0.219904\tvalid_1's binary_error: 0.324627\n",
            "[151]\ttraining's binary_error: 0.219904\tvalid_1's binary_error: 0.324627\n",
            "[152]\ttraining's binary_error: 0.221509\tvalid_1's binary_error: 0.313433\n",
            "[153]\ttraining's binary_error: 0.219904\tvalid_1's binary_error: 0.324627\n",
            "[154]\ttraining's binary_error: 0.219904\tvalid_1's binary_error: 0.324627\n",
            "[155]\ttraining's binary_error: 0.219904\tvalid_1's binary_error: 0.324627\n",
            "[156]\ttraining's binary_error: 0.219904\tvalid_1's binary_error: 0.324627\n",
            "[157]\ttraining's binary_error: 0.219904\tvalid_1's binary_error: 0.324627\n",
            "[158]\ttraining's binary_error: 0.219904\tvalid_1's binary_error: 0.324627\n",
            "[159]\ttraining's binary_error: 0.219904\tvalid_1's binary_error: 0.324627\n",
            "[160]\ttraining's binary_error: 0.219904\tvalid_1's binary_error: 0.324627\n",
            "[161]\ttraining's binary_error: 0.219904\tvalid_1's binary_error: 0.324627\n",
            "[162]\ttraining's binary_error: 0.219904\tvalid_1's binary_error: 0.324627\n",
            "[163]\ttraining's binary_error: 0.219904\tvalid_1's binary_error: 0.324627\n",
            "[164]\ttraining's binary_error: 0.219904\tvalid_1's binary_error: 0.324627\n",
            "[165]\ttraining's binary_error: 0.219904\tvalid_1's binary_error: 0.324627\n",
            "[166]\ttraining's binary_error: 0.219904\tvalid_1's binary_error: 0.324627\n",
            "[167]\ttraining's binary_error: 0.219904\tvalid_1's binary_error: 0.324627\n",
            "[168]\ttraining's binary_error: 0.219904\tvalid_1's binary_error: 0.324627\n",
            "[169]\ttraining's binary_error: 0.219904\tvalid_1's binary_error: 0.324627\n",
            "[170]\ttraining's binary_error: 0.215088\tvalid_1's binary_error: 0.317164\n",
            "[171]\ttraining's binary_error: 0.215088\tvalid_1's binary_error: 0.317164\n",
            "[172]\ttraining's binary_error: 0.215088\tvalid_1's binary_error: 0.317164\n",
            "[173]\ttraining's binary_error: 0.215088\tvalid_1's binary_error: 0.317164\n",
            "[174]\ttraining's binary_error: 0.215088\tvalid_1's binary_error: 0.317164\n",
            "[175]\ttraining's binary_error: 0.216693\tvalid_1's binary_error: 0.320896\n",
            "[176]\ttraining's binary_error: 0.216693\tvalid_1's binary_error: 0.320896\n",
            "[177]\ttraining's binary_error: 0.221509\tvalid_1's binary_error: 0.328358\n",
            "[178]\ttraining's binary_error: 0.221509\tvalid_1's binary_error: 0.328358\n",
            "[179]\ttraining's binary_error: 0.221509\tvalid_1's binary_error: 0.328358\n",
            "[180]\ttraining's binary_error: 0.221509\tvalid_1's binary_error: 0.328358\n",
            "[181]\ttraining's binary_error: 0.221509\tvalid_1's binary_error: 0.328358\n",
            "[182]\ttraining's binary_error: 0.216693\tvalid_1's binary_error: 0.320896\n",
            "[183]\ttraining's binary_error: 0.216693\tvalid_1's binary_error: 0.320896\n",
            "[184]\ttraining's binary_error: 0.216693\tvalid_1's binary_error: 0.320896\n",
            "[185]\ttraining's binary_error: 0.216693\tvalid_1's binary_error: 0.320896\n",
            "[186]\ttraining's binary_error: 0.216693\tvalid_1's binary_error: 0.320896\n",
            "[187]\ttraining's binary_error: 0.216693\tvalid_1's binary_error: 0.320896\n",
            "[188]\ttraining's binary_error: 0.216693\tvalid_1's binary_error: 0.320896\n",
            "[189]\ttraining's binary_error: 0.216693\tvalid_1's binary_error: 0.320896\n",
            "[190]\ttraining's binary_error: 0.216693\tvalid_1's binary_error: 0.320896\n",
            "[191]\ttraining's binary_error: 0.216693\tvalid_1's binary_error: 0.320896\n",
            "[192]\ttraining's binary_error: 0.216693\tvalid_1's binary_error: 0.320896\n",
            "[193]\ttraining's binary_error: 0.216693\tvalid_1's binary_error: 0.320896\n",
            "[194]\ttraining's binary_error: 0.216693\tvalid_1's binary_error: 0.320896\n",
            "[195]\ttraining's binary_error: 0.216693\tvalid_1's binary_error: 0.320896\n",
            "[196]\ttraining's binary_error: 0.216693\tvalid_1's binary_error: 0.320896\n",
            "[197]\ttraining's binary_error: 0.215088\tvalid_1's binary_error: 0.317164\n",
            "[198]\ttraining's binary_error: 0.215088\tvalid_1's binary_error: 0.317164\n",
            "[199]\ttraining's binary_error: 0.215088\tvalid_1's binary_error: 0.317164\n",
            "[200]\ttraining's binary_error: 0.215088\tvalid_1's binary_error: 0.317164\n",
            "[201]\ttraining's binary_error: 0.215088\tvalid_1's binary_error: 0.317164\n",
            "Early stopping, best iteration is:\n",
            "[101]\ttraining's binary_error: 0.23114\tvalid_1's binary_error: 0.30597\n"
          ]
        },
        {
          "output_type": "execute_result",
          "data": {
            "text/plain": [
              "0.6940298507462687"
            ]
          },
          "metadata": {},
          "execution_count": 136
        }
      ]
    },
    {
      "cell_type": "markdown",
      "source": [
        "-  https://lightgbm.readthedocs.io/en/latest/Parameters.html\n",
        "-  파라메터를 보고 할 것"
      ],
      "metadata": {
        "id": "Kjp9usYmLxXJ"
      }
    },
    {
      "cell_type": "markdown",
      "source": [
        "### LightGBM Scikit-Learn API방식\n",
        "- application programming interface"
      ],
      "metadata": {
        "id": "efsyf9RCMJ3K"
      }
    },
    {
      "cell_type": "code",
      "source": [
        "from lightgbm import LGBMClassifier\n",
        "from sklearn.metrics import accuracy_score\n",
        "\n",
        "# model \n",
        "w_list = [dtrain, dtest]\n",
        "model = LGBMClassifier(objective = 'binary', \n",
        "                       metric = 'binary_error',\n",
        "                       n_estimators=100, \n",
        "                       learning_rate=0.1, \n",
        "                       max_depth=3, \n",
        "                       num_boost_round = 400,\n",
        "                       random_state = 32)\n",
        "model.fit(X_train, \n",
        "          y_train, \n",
        "          eval_set = [(X_train, y_train), (X_test, y_test)], \n",
        "          verbose=1,\n",
        "          early_stopping_rounds = 100)\n",
        "y_probas = model.predict_proba(X_test) \n",
        "y_pred=[1 if x > 0.5 else 0 for x in y_probas[:, 1]] # 예측 라벨(0과 1로 예측)\n",
        "\n",
        "# 예측 라벨과 실제 라벨 사이의 정확도 측정\n",
        "accuracy_score(y_pred, y_test)"
      ],
      "metadata": {
        "colab": {
          "base_uri": "https://localhost:8080/"
        },
        "id": "eGLhdAyiLv0R",
        "outputId": "79f00026-4a8e-4428-bd06-8f902fa9bf74"
      },
      "execution_count": 137,
      "outputs": [
        {
          "output_type": "stream",
          "name": "stdout",
          "text": [
            "[1]\ttraining's binary_error: 0.383628\tvalid_1's binary_error: 0.384328\n",
            "Training until validation scores don't improve for 100 rounds.\n",
            "[2]\ttraining's binary_error: 0.383628\tvalid_1's binary_error: 0.384328\n",
            "[3]\ttraining's binary_error: 0.354735\tvalid_1's binary_error: 0.369403\n",
            "[4]\ttraining's binary_error: 0.29695\tvalid_1's binary_error: 0.354478\n",
            "[5]\ttraining's binary_error: 0.272873\tvalid_1's binary_error: 0.33209\n",
            "[6]\ttraining's binary_error: 0.272873\tvalid_1's binary_error: 0.33209\n",
            "[7]\ttraining's binary_error: 0.269663\tvalid_1's binary_error: 0.317164\n",
            "[8]\ttraining's binary_error: 0.269663\tvalid_1's binary_error: 0.317164\n",
            "[9]\ttraining's binary_error: 0.264848\tvalid_1's binary_error: 0.309701\n",
            "[10]\ttraining's binary_error: 0.269663\tvalid_1's binary_error: 0.309701\n",
            "[11]\ttraining's binary_error: 0.264848\tvalid_1's binary_error: 0.309701\n",
            "[12]\ttraining's binary_error: 0.264848\tvalid_1's binary_error: 0.309701\n",
            "[13]\ttraining's binary_error: 0.264848\tvalid_1's binary_error: 0.309701\n",
            "[14]\ttraining's binary_error: 0.264848\tvalid_1's binary_error: 0.309701\n",
            "[15]\ttraining's binary_error: 0.264848\tvalid_1's binary_error: 0.309701\n",
            "[16]\ttraining's binary_error: 0.266453\tvalid_1's binary_error: 0.313433\n",
            "[17]\ttraining's binary_error: 0.266453\tvalid_1's binary_error: 0.313433\n",
            "[18]\ttraining's binary_error: 0.266453\tvalid_1's binary_error: 0.313433\n",
            "[19]\ttraining's binary_error: 0.266453\tvalid_1's binary_error: 0.313433\n",
            "[20]\ttraining's binary_error: 0.266453\tvalid_1's binary_error: 0.313433\n",
            "[21]\ttraining's binary_error: 0.266453\tvalid_1's binary_error: 0.313433\n",
            "[22]\ttraining's binary_error: 0.266453\tvalid_1's binary_error: 0.313433\n",
            "[23]\ttraining's binary_error: 0.271268\tvalid_1's binary_error: 0.313433\n",
            "[24]\ttraining's binary_error: 0.258427\tvalid_1's binary_error: 0.309701\n",
            "[25]\ttraining's binary_error: 0.258427\tvalid_1's binary_error: 0.309701\n",
            "[26]\ttraining's binary_error: 0.258427\tvalid_1's binary_error: 0.309701\n",
            "[27]\ttraining's binary_error: 0.258427\tvalid_1's binary_error: 0.309701\n",
            "[28]\ttraining's binary_error: 0.258427\tvalid_1's binary_error: 0.309701\n",
            "[29]\ttraining's binary_error: 0.255217\tvalid_1's binary_error: 0.309701\n",
            "[30]\ttraining's binary_error: 0.255217\tvalid_1's binary_error: 0.309701\n",
            "[31]\ttraining's binary_error: 0.255217\tvalid_1's binary_error: 0.309701\n",
            "[32]\ttraining's binary_error: 0.255217\tvalid_1's binary_error: 0.309701\n",
            "[33]\ttraining's binary_error: 0.255217\tvalid_1's binary_error: 0.317164\n",
            "[34]\ttraining's binary_error: 0.255217\tvalid_1's binary_error: 0.317164\n",
            "[35]\ttraining's binary_error: 0.255217\tvalid_1's binary_error: 0.317164\n",
            "[36]\ttraining's binary_error: 0.255217\tvalid_1's binary_error: 0.309701\n",
            "[37]\ttraining's binary_error: 0.255217\tvalid_1's binary_error: 0.317164\n",
            "[38]\ttraining's binary_error: 0.255217\tvalid_1's binary_error: 0.317164\n",
            "[39]\ttraining's binary_error: 0.248796\tvalid_1's binary_error: 0.309701\n",
            "[40]\ttraining's binary_error: 0.248796\tvalid_1's binary_error: 0.313433\n",
            "[41]\ttraining's binary_error: 0.248796\tvalid_1's binary_error: 0.313433\n",
            "[42]\ttraining's binary_error: 0.248796\tvalid_1's binary_error: 0.313433\n",
            "[43]\ttraining's binary_error: 0.248796\tvalid_1's binary_error: 0.313433\n",
            "[44]\ttraining's binary_error: 0.248796\tvalid_1's binary_error: 0.313433\n",
            "[45]\ttraining's binary_error: 0.247191\tvalid_1's binary_error: 0.313433\n",
            "[46]\ttraining's binary_error: 0.247191\tvalid_1's binary_error: 0.313433\n",
            "[47]\ttraining's binary_error: 0.247191\tvalid_1's binary_error: 0.313433\n",
            "[48]\ttraining's binary_error: 0.247191\tvalid_1's binary_error: 0.313433\n",
            "[49]\ttraining's binary_error: 0.247191\tvalid_1's binary_error: 0.313433\n",
            "[50]\ttraining's binary_error: 0.247191\tvalid_1's binary_error: 0.313433\n",
            "[51]\ttraining's binary_error: 0.247191\tvalid_1's binary_error: 0.313433\n",
            "[52]\ttraining's binary_error: 0.247191\tvalid_1's binary_error: 0.313433\n",
            "[53]\ttraining's binary_error: 0.247191\tvalid_1's binary_error: 0.313433\n",
            "[54]\ttraining's binary_error: 0.247191\tvalid_1's binary_error: 0.313433\n",
            "[55]\ttraining's binary_error: 0.247191\tvalid_1's binary_error: 0.313433\n",
            "[56]\ttraining's binary_error: 0.247191\tvalid_1's binary_error: 0.313433\n",
            "[57]\ttraining's binary_error: 0.247191\tvalid_1's binary_error: 0.313433\n",
            "[58]\ttraining's binary_error: 0.247191\tvalid_1's binary_error: 0.313433\n",
            "[59]\ttraining's binary_error: 0.247191\tvalid_1's binary_error: 0.313433\n",
            "[60]\ttraining's binary_error: 0.247191\tvalid_1's binary_error: 0.313433\n",
            "[61]\ttraining's binary_error: 0.247191\tvalid_1's binary_error: 0.313433\n",
            "[62]\ttraining's binary_error: 0.247191\tvalid_1's binary_error: 0.313433\n",
            "[63]\ttraining's binary_error: 0.247191\tvalid_1's binary_error: 0.313433\n",
            "[64]\ttraining's binary_error: 0.247191\tvalid_1's binary_error: 0.313433\n",
            "[65]\ttraining's binary_error: 0.247191\tvalid_1's binary_error: 0.313433\n",
            "[66]\ttraining's binary_error: 0.243981\tvalid_1's binary_error: 0.309701\n",
            "[67]\ttraining's binary_error: 0.23435\tvalid_1's binary_error: 0.309701\n",
            "[68]\ttraining's binary_error: 0.23435\tvalid_1's binary_error: 0.309701\n",
            "[69]\ttraining's binary_error: 0.23435\tvalid_1's binary_error: 0.309701\n",
            "[70]\ttraining's binary_error: 0.229535\tvalid_1's binary_error: 0.309701\n",
            "[71]\ttraining's binary_error: 0.229535\tvalid_1's binary_error: 0.309701\n",
            "[72]\ttraining's binary_error: 0.229535\tvalid_1's binary_error: 0.309701\n",
            "[73]\ttraining's binary_error: 0.229535\tvalid_1's binary_error: 0.309701\n",
            "[74]\ttraining's binary_error: 0.229535\tvalid_1's binary_error: 0.309701\n",
            "[75]\ttraining's binary_error: 0.229535\tvalid_1's binary_error: 0.309701\n",
            "[76]\ttraining's binary_error: 0.229535\tvalid_1's binary_error: 0.309701\n",
            "[77]\ttraining's binary_error: 0.229535\tvalid_1's binary_error: 0.309701\n",
            "[78]\ttraining's binary_error: 0.232745\tvalid_1's binary_error: 0.313433\n",
            "[79]\ttraining's binary_error: 0.232745\tvalid_1's binary_error: 0.313433\n",
            "[80]\ttraining's binary_error: 0.232745\tvalid_1's binary_error: 0.313433\n",
            "[81]\ttraining's binary_error: 0.229535\tvalid_1's binary_error: 0.309701\n",
            "[82]\ttraining's binary_error: 0.229535\tvalid_1's binary_error: 0.309701\n",
            "[83]\ttraining's binary_error: 0.229535\tvalid_1's binary_error: 0.309701\n",
            "[84]\ttraining's binary_error: 0.229535\tvalid_1's binary_error: 0.309701\n",
            "[85]\ttraining's binary_error: 0.229535\tvalid_1's binary_error: 0.309701\n",
            "[86]\ttraining's binary_error: 0.229535\tvalid_1's binary_error: 0.309701\n",
            "[87]\ttraining's binary_error: 0.229535\tvalid_1's binary_error: 0.309701\n",
            "[88]\ttraining's binary_error: 0.229535\tvalid_1's binary_error: 0.309701\n",
            "[89]\ttraining's binary_error: 0.229535\tvalid_1's binary_error: 0.309701\n",
            "[90]\ttraining's binary_error: 0.229535\tvalid_1's binary_error: 0.309701\n",
            "[91]\ttraining's binary_error: 0.229535\tvalid_1's binary_error: 0.309701\n",
            "[92]\ttraining's binary_error: 0.229535\tvalid_1's binary_error: 0.309701\n",
            "[93]\ttraining's binary_error: 0.227929\tvalid_1's binary_error: 0.309701\n",
            "[94]\ttraining's binary_error: 0.227929\tvalid_1's binary_error: 0.309701\n",
            "[95]\ttraining's binary_error: 0.227929\tvalid_1's binary_error: 0.309701\n",
            "[96]\ttraining's binary_error: 0.227929\tvalid_1's binary_error: 0.309701\n",
            "[97]\ttraining's binary_error: 0.227929\tvalid_1's binary_error: 0.309701\n",
            "[98]\ttraining's binary_error: 0.227929\tvalid_1's binary_error: 0.309701\n",
            "[99]\ttraining's binary_error: 0.221509\tvalid_1's binary_error: 0.317164\n",
            "[100]\ttraining's binary_error: 0.227929\tvalid_1's binary_error: 0.309701\n",
            "[101]\ttraining's binary_error: 0.23114\tvalid_1's binary_error: 0.30597\n",
            "[102]\ttraining's binary_error: 0.23114\tvalid_1's binary_error: 0.30597\n",
            "[103]\ttraining's binary_error: 0.227929\tvalid_1's binary_error: 0.309701\n",
            "[104]\ttraining's binary_error: 0.221509\tvalid_1's binary_error: 0.317164\n",
            "[105]\ttraining's binary_error: 0.221509\tvalid_1's binary_error: 0.317164\n",
            "[106]\ttraining's binary_error: 0.224719\tvalid_1's binary_error: 0.313433\n",
            "[107]\ttraining's binary_error: 0.224719\tvalid_1's binary_error: 0.317164\n",
            "[108]\ttraining's binary_error: 0.224719\tvalid_1's binary_error: 0.317164\n",
            "[109]\ttraining's binary_error: 0.224719\tvalid_1's binary_error: 0.317164\n",
            "[110]\ttraining's binary_error: 0.224719\tvalid_1's binary_error: 0.317164\n",
            "[111]\ttraining's binary_error: 0.223114\tvalid_1's binary_error: 0.313433\n",
            "[112]\ttraining's binary_error: 0.223114\tvalid_1's binary_error: 0.313433\n",
            "[113]\ttraining's binary_error: 0.223114\tvalid_1's binary_error: 0.313433\n",
            "[114]\ttraining's binary_error: 0.223114\tvalid_1's binary_error: 0.313433\n",
            "[115]\ttraining's binary_error: 0.223114\tvalid_1's binary_error: 0.313433\n",
            "[116]\ttraining's binary_error: 0.223114\tvalid_1's binary_error: 0.313433\n",
            "[117]\ttraining's binary_error: 0.223114\tvalid_1's binary_error: 0.313433\n",
            "[118]\ttraining's binary_error: 0.223114\tvalid_1's binary_error: 0.313433\n",
            "[119]\ttraining's binary_error: 0.223114\tvalid_1's binary_error: 0.313433\n",
            "[120]\ttraining's binary_error: 0.223114\tvalid_1's binary_error: 0.309701\n",
            "[121]\ttraining's binary_error: 0.223114\tvalid_1's binary_error: 0.309701\n",
            "[122]\ttraining's binary_error: 0.223114\tvalid_1's binary_error: 0.309701\n",
            "[123]\ttraining's binary_error: 0.223114\tvalid_1's binary_error: 0.309701\n",
            "[124]\ttraining's binary_error: 0.223114\tvalid_1's binary_error: 0.309701\n",
            "[125]\ttraining's binary_error: 0.223114\tvalid_1's binary_error: 0.309701\n",
            "[126]\ttraining's binary_error: 0.223114\tvalid_1's binary_error: 0.309701\n",
            "[127]\ttraining's binary_error: 0.223114\tvalid_1's binary_error: 0.309701\n",
            "[128]\ttraining's binary_error: 0.223114\tvalid_1's binary_error: 0.309701\n",
            "[129]\ttraining's binary_error: 0.223114\tvalid_1's binary_error: 0.309701\n",
            "[130]\ttraining's binary_error: 0.223114\tvalid_1's binary_error: 0.309701\n",
            "[131]\ttraining's binary_error: 0.223114\tvalid_1's binary_error: 0.309701\n",
            "[132]\ttraining's binary_error: 0.223114\tvalid_1's binary_error: 0.309701\n",
            "[133]\ttraining's binary_error: 0.223114\tvalid_1's binary_error: 0.309701\n",
            "[134]\ttraining's binary_error: 0.223114\tvalid_1's binary_error: 0.309701\n",
            "[135]\ttraining's binary_error: 0.223114\tvalid_1's binary_error: 0.309701\n",
            "[136]\ttraining's binary_error: 0.223114\tvalid_1's binary_error: 0.309701\n",
            "[137]\ttraining's binary_error: 0.219904\tvalid_1's binary_error: 0.309701\n",
            "[138]\ttraining's binary_error: 0.219904\tvalid_1's binary_error: 0.309701\n",
            "[139]\ttraining's binary_error: 0.223114\tvalid_1's binary_error: 0.309701\n",
            "[140]\ttraining's binary_error: 0.223114\tvalid_1's binary_error: 0.309701\n",
            "[141]\ttraining's binary_error: 0.223114\tvalid_1's binary_error: 0.309701\n",
            "[142]\ttraining's binary_error: 0.223114\tvalid_1's binary_error: 0.309701\n",
            "[143]\ttraining's binary_error: 0.223114\tvalid_1's binary_error: 0.309701\n",
            "[144]\ttraining's binary_error: 0.221509\tvalid_1's binary_error: 0.320896\n",
            "[145]\ttraining's binary_error: 0.223114\tvalid_1's binary_error: 0.313433\n",
            "[146]\ttraining's binary_error: 0.221509\tvalid_1's binary_error: 0.313433\n",
            "[147]\ttraining's binary_error: 0.221509\tvalid_1's binary_error: 0.313433\n",
            "[148]\ttraining's binary_error: 0.221509\tvalid_1's binary_error: 0.313433\n",
            "[149]\ttraining's binary_error: 0.221509\tvalid_1's binary_error: 0.313433\n",
            "[150]\ttraining's binary_error: 0.219904\tvalid_1's binary_error: 0.324627\n",
            "[151]\ttraining's binary_error: 0.219904\tvalid_1's binary_error: 0.324627\n",
            "[152]\ttraining's binary_error: 0.221509\tvalid_1's binary_error: 0.313433\n",
            "[153]\ttraining's binary_error: 0.219904\tvalid_1's binary_error: 0.324627\n",
            "[154]\ttraining's binary_error: 0.219904\tvalid_1's binary_error: 0.324627\n",
            "[155]\ttraining's binary_error: 0.219904\tvalid_1's binary_error: 0.324627\n",
            "[156]\ttraining's binary_error: 0.219904\tvalid_1's binary_error: 0.324627\n",
            "[157]\ttraining's binary_error: 0.219904\tvalid_1's binary_error: 0.324627\n",
            "[158]\ttraining's binary_error: 0.219904\tvalid_1's binary_error: 0.324627\n",
            "[159]\ttraining's binary_error: 0.219904\tvalid_1's binary_error: 0.324627\n",
            "[160]\ttraining's binary_error: 0.219904\tvalid_1's binary_error: 0.324627\n",
            "[161]\ttraining's binary_error: 0.219904\tvalid_1's binary_error: 0.324627\n",
            "[162]\ttraining's binary_error: 0.219904\tvalid_1's binary_error: 0.324627\n",
            "[163]\ttraining's binary_error: 0.219904\tvalid_1's binary_error: 0.324627\n",
            "[164]\ttraining's binary_error: 0.219904\tvalid_1's binary_error: 0.324627\n",
            "[165]\ttraining's binary_error: 0.219904\tvalid_1's binary_error: 0.324627\n",
            "[166]\ttraining's binary_error: 0.219904\tvalid_1's binary_error: 0.324627\n",
            "[167]\ttraining's binary_error: 0.219904\tvalid_1's binary_error: 0.324627\n",
            "[168]\ttraining's binary_error: 0.219904\tvalid_1's binary_error: 0.324627\n",
            "[169]\ttraining's binary_error: 0.219904\tvalid_1's binary_error: 0.324627\n",
            "[170]\ttraining's binary_error: 0.215088\tvalid_1's binary_error: 0.317164\n",
            "[171]\ttraining's binary_error: 0.215088\tvalid_1's binary_error: 0.317164\n",
            "[172]\ttraining's binary_error: 0.215088\tvalid_1's binary_error: 0.317164\n",
            "[173]\ttraining's binary_error: 0.215088\tvalid_1's binary_error: 0.317164\n",
            "[174]\ttraining's binary_error: 0.215088\tvalid_1's binary_error: 0.317164\n",
            "[175]\ttraining's binary_error: 0.216693\tvalid_1's binary_error: 0.320896\n",
            "[176]\ttraining's binary_error: 0.216693\tvalid_1's binary_error: 0.320896\n",
            "[177]\ttraining's binary_error: 0.221509\tvalid_1's binary_error: 0.328358\n",
            "[178]\ttraining's binary_error: 0.221509\tvalid_1's binary_error: 0.328358\n",
            "[179]\ttraining's binary_error: 0.221509\tvalid_1's binary_error: 0.328358\n",
            "[180]\ttraining's binary_error: 0.221509\tvalid_1's binary_error: 0.328358\n",
            "[181]\ttraining's binary_error: 0.221509\tvalid_1's binary_error: 0.328358\n",
            "[182]\ttraining's binary_error: 0.216693\tvalid_1's binary_error: 0.320896\n",
            "[183]\ttraining's binary_error: 0.216693\tvalid_1's binary_error: 0.320896\n",
            "[184]\ttraining's binary_error: 0.216693\tvalid_1's binary_error: 0.320896\n",
            "[185]\ttraining's binary_error: 0.216693\tvalid_1's binary_error: 0.320896\n",
            "[186]\ttraining's binary_error: 0.216693\tvalid_1's binary_error: 0.320896\n",
            "[187]\ttraining's binary_error: 0.216693\tvalid_1's binary_error: 0.320896\n",
            "[188]\ttraining's binary_error: 0.216693\tvalid_1's binary_error: 0.320896\n",
            "[189]\ttraining's binary_error: 0.216693\tvalid_1's binary_error: 0.320896\n",
            "[190]\ttraining's binary_error: 0.216693\tvalid_1's binary_error: 0.320896\n",
            "[191]\ttraining's binary_error: 0.216693\tvalid_1's binary_error: 0.320896\n",
            "[192]\ttraining's binary_error: 0.216693\tvalid_1's binary_error: 0.320896\n",
            "[193]\ttraining's binary_error: 0.216693\tvalid_1's binary_error: 0.320896\n",
            "[194]\ttraining's binary_error: 0.216693\tvalid_1's binary_error: 0.320896\n",
            "[195]\ttraining's binary_error: 0.216693\tvalid_1's binary_error: 0.320896\n",
            "[196]\ttraining's binary_error: 0.216693\tvalid_1's binary_error: 0.320896\n",
            "[197]\ttraining's binary_error: 0.215088\tvalid_1's binary_error: 0.317164\n",
            "[198]\ttraining's binary_error: 0.215088\tvalid_1's binary_error: 0.317164\n",
            "[199]\ttraining's binary_error: 0.215088\tvalid_1's binary_error: 0.317164\n",
            "[200]\ttraining's binary_error: 0.215088\tvalid_1's binary_error: 0.317164\n",
            "[201]\ttraining's binary_error: 0.215088\tvalid_1's binary_error: 0.317164\n",
            "Early stopping, best iteration is:\n",
            "[101]\ttraining's binary_error: 0.23114\tvalid_1's binary_error: 0.30597\n"
          ]
        },
        {
          "output_type": "stream",
          "name": "stderr",
          "text": [
            "/usr/local/lib/python3.7/dist-packages/lightgbm/engine.py:118: UserWarning: Found `num_boost_round` in params. Will use it instead of argument\n",
            "  warnings.warn(\"Found `{}` in params. Will use it instead of argument\".format(alias))\n"
          ]
        },
        {
          "output_type": "execute_result",
          "data": {
            "text/plain": [
              "0.6940298507462687"
            ]
          },
          "metadata": {},
          "execution_count": 137
        }
      ]
    }
  ]
}