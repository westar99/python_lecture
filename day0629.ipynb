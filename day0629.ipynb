{
 "cells": [
  {
   "cell_type": "markdown",
   "metadata": {
    "id": "DpR0IRr5KYhI"
   },
   "source": [
    "---\n",
    "title: '판다스'\n",
    "\n",
    "date: '2022-06-29'\n",
    "\n",
    "---"
   ]
  },
  {
   "cell_type": "markdown",
   "metadata": {
    "id": "5d7RQOatnw8C"
   },
   "source": [
    "## 라이브러리 불러오기\n"
   ]
  },
  {
   "cell_type": "code",
   "execution_count": 10,
   "metadata": {
    "colab": {
     "base_uri": "https://localhost:8080/"
    },
    "id": "befOwIUKAQ6T",
    "outputId": "6a2c806a-267a-4ffb-c5ac-61af817e8c05"
   },
   "outputs": [
    {
     "name": "stdout",
     "output_type": "stream",
     "text": [
      "pandas version: 1.3.5\n",
      "numpy verson: 1.21.6\n"
     ]
    }
   ],
   "source": [
    "import pandas as pd\n",
    "import numpy as np\n",
    "print(\"pandas version:\",pd.__version__)\n",
    "print(\"numpy verson:\",np.__version__)"
   ]
  },
  {
   "cell_type": "markdown",
   "metadata": {
    "id": "FIRoYowlAygr"
   },
   "source": [
    "## 데이터 불러오기\n",
    "- 구글 드라이브에 있는 데이터를 불러올 때 데이터는 존재해야 함\n"
   ]
  },
  {
   "cell_type": "code",
   "execution_count": 8,
   "metadata": {
    "colab": {
     "base_uri": "https://localhost:8080/"
    },
    "id": "7FL-bvuzA75S",
    "outputId": "9b5672d4-2d7b-4583-db76-93e705ef74e4"
   },
   "outputs": [
    {
     "name": "stdout",
     "output_type": "stream",
     "text": [
      "Drive already mounted at /content/drive; to attempt to forcibly remount, call drive.mount(\"/content/drive\", force_remount=True).\n"
     ]
    }
   ],
   "source": [
    "from google.colab import drive\n",
    "drive.mount('/content/drive')"
   ]
  },
  {
   "cell_type": "markdown",
   "metadata": {
    "id": "J0dko4YLCW-K"
   },
   "source": [
    "- 레모네이드 데이터를 불렀는데 결측치가 있음."
   ]
  },
  {
   "cell_type": "code",
   "execution_count": 11,
   "metadata": {
    "colab": {
     "base_uri": "https://localhost:8080/"
    },
    "id": "hKj3HPPTCPMc",
    "outputId": "93da05a1-7df4-48e6-987f-7ef6ca10c344"
   },
   "outputs": [
    {
     "name": "stdout",
     "output_type": "stream",
     "text": [
      "/content/drive/MyDrive/Colab Notebooks/Human_ai/Basic/Chapter 3. pandas/data/Lemonade2016.csv\n",
      "<class 'pandas.core.frame.DataFrame'>\n",
      "RangeIndex: 32 entries, 0 to 31\n",
      "Data columns (total 7 columns):\n",
      " #   Column       Non-Null Count  Dtype  \n",
      "---  ------       --------------  -----  \n",
      " 0   Date         31 non-null     object \n",
      " 1   Location     32 non-null     object \n",
      " 2   Lemon        32 non-null     int64  \n",
      " 3   Orange       32 non-null     int64  \n",
      " 4   Temperature  32 non-null     int64  \n",
      " 5   Leaflets     31 non-null     float64\n",
      " 6   Price        32 non-null     float64\n",
      "dtypes: float64(2), int64(3), object(2)\n",
      "memory usage: 1.9+ KB\n"
     ]
    }
   ],
   "source": [
    "DATA_PATH= '/content/drive/MyDrive/Colab Notebooks/Human_ai/Basic/Chapter 3. pandas/data/Lemonade2016.csv'\n",
    "print(DATA_PATH)\n",
    "\n",
    "lemonade  = pd.read_csv(DATA_PATH)\n",
    "\n",
    "lemonade.info()"
   ]
  },
  {
   "cell_type": "markdown",
   "metadata": {
    "id": "onpSO9WnEtZh"
   },
   "source": [
    "- 데이터 맛보기 \n",
    " + 헤드 테일은 숫자를 안넣어주면 5개만 보임"
   ]
  },
  {
   "cell_type": "code",
   "execution_count": 12,
   "metadata": {
    "colab": {
     "base_uri": "https://localhost:8080/"
    },
    "id": "dr5FQYolExxx",
    "outputId": "20cea72f-ad14-4667-d7fa-282d04b4c768"
   },
   "outputs": [
    {
     "name": "stdout",
     "output_type": "stream",
     "text": [
      "       Date Location  Lemon  Orange  Temperature  Leaflets  Price\n",
      "0  7/1/2016     Park     97      67           70      90.0   0.25\n",
      "1  7/2/2016     Park     98      67           72      90.0   0.25\n",
      "2  7/3/2016     Park    110      77           71     104.0   0.25\n",
      "3  7/4/2016    Beach    134      99           76      98.0   0.25\n",
      "4  7/5/2016    Beach    159     118           78     135.0   0.25\n"
     ]
    }
   ],
   "source": [
    "print(lemonade.head())"
   ]
  },
  {
   "cell_type": "code",
   "execution_count": 13,
   "metadata": {
    "colab": {
     "base_uri": "https://localhost:8080/"
    },
    "id": "61om0T_RE4Kp",
    "outputId": "9370bce4-f224-44a9-e413-7379fb1e6a08"
   },
   "outputs": [
    {
     "name": "stdout",
     "output_type": "stream",
     "text": [
      "         Date Location  Lemon  Orange  Temperature  Leaflets  Price\n",
      "27  7/27/2016     Park    104      68           80      99.0   0.35\n",
      "28  7/28/2016     Park     96      63           82      90.0   0.35\n",
      "29  7/29/2016     Park    100      66           81      95.0   0.35\n",
      "30  7/30/2016    Beach     88      57           82      81.0   0.35\n",
      "31  7/31/2016    Beach     76      47           82      68.0   0.35\n"
     ]
    }
   ],
   "source": [
    "print(lemonade. tail())"
   ]
  },
  {
   "cell_type": "markdown",
   "metadata": {
    "id": "5Z2o2l02FNRY"
   },
   "source": [
    "- 기술통계량 보는 함수\n",
    " + describe()"
   ]
  },
  {
   "cell_type": "code",
   "execution_count": 14,
   "metadata": {
    "colab": {
     "base_uri": "https://localhost:8080/"
    },
    "id": "mCDSrg-OFfKw",
    "outputId": "218853ae-0ccc-4e2f-84c0-e36c6a65c757"
   },
   "outputs": [
    {
     "name": "stdout",
     "output_type": "stream",
     "text": [
      "            Lemon      Orange  Temperature    Leaflets      Price\n",
      "count   32.000000   32.000000    32.000000   31.000000  32.000000\n",
      "mean   116.156250   80.000000    78.968750  108.548387   0.354688\n",
      "std     25.823357   21.863211     4.067847   20.117718   0.113137\n",
      "min     71.000000   42.000000    70.000000   68.000000   0.250000\n",
      "25%     98.000000   66.750000    77.000000   90.000000   0.250000\n",
      "50%    113.500000   76.500000    80.500000  108.000000   0.350000\n",
      "75%    131.750000   95.000000    82.000000  124.000000   0.500000\n",
      "max    176.000000  129.000000    84.000000  158.000000   0.500000\n"
     ]
    }
   ],
   "source": [
    "print(lemonade.describe())"
   ]
  },
  {
   "cell_type": "markdown",
   "metadata": {
    "id": "BollRywkFyrg"
   },
   "source": [
    "  - + 레몬보다 오랜지가 표준편차가 작으니 판매차가 거의 없다.(leaflets전단지)"
   ]
  },
  {
   "cell_type": "markdown",
   "metadata": {
    "id": "snOgRAZ0Gq48"
   },
   "source": [
    "- 범주형 데이터 빈도수 구하기\n",
    " +  데이터['컬럼'].갯수함수 -> 시리즈 함수였다!!"
   ]
  },
  {
   "cell_type": "code",
   "execution_count": 15,
   "metadata": {
    "colab": {
     "base_uri": "https://localhost:8080/"
    },
    "id": "e79xNsDiG6GY",
    "outputId": "1c4e3280-50e3-4b94-f369-cbbf5ee4edd5"
   },
   "outputs": [
    {
     "data": {
      "text/plain": [
       "Beach    17\n",
       "Park     15\n",
       "Name: Location, dtype: int64"
      ]
     },
     "execution_count": 15,
     "metadata": {},
     "output_type": "execute_result"
    }
   ],
   "source": [
    "lemonade['Location'].value_counts()"
   ]
  },
  {
   "cell_type": "code",
   "execution_count": 16,
   "metadata": {
    "colab": {
     "base_uri": "https://localhost:8080/"
    },
    "id": "AEIZp9TKFkcS",
    "outputId": "58634cf3-8d07-40dd-e92c-74bcdeedf236"
   },
   "outputs": [
    {
     "name": "stdout",
     "output_type": "stream",
     "text": [
      "<class 'pandas.core.series.Series'>\n"
     ]
    }
   ],
   "source": [
    "print(type(lemonade['Location']))"
   ]
  },
  {
   "cell_type": "markdown",
   "metadata": {
    "id": "f1qK4vcKEvBS"
   },
   "source": [
    "## 행과 열 다루기\n",
    "- sold(판매량) 컬럼(=피처=feature)을 추가 "
   ]
  },
  {
   "cell_type": "code",
   "execution_count": 17,
   "metadata": {
    "colab": {
     "base_uri": "https://localhost:8080/"
    },
    "id": "15ZSTcb6IfNm",
    "outputId": "a96ccfd2-3067-41f0-cbd2-d3718d9cd7d4"
   },
   "outputs": [
    {
     "name": "stdout",
     "output_type": "stream",
     "text": [
      "       Date Location  Lemon  Orange  Temperature  Leaflets  Price  Sold\n",
      "0  7/1/2016     Park     97      67           70      90.0   0.25     0\n",
      "1  7/2/2016     Park     98      67           72      90.0   0.25     0\n",
      "2  7/3/2016     Park    110      77           71     104.0   0.25     0\n"
     ]
    }
   ],
   "source": [
    "lemonade['Sold'] = 0\n",
    "print(lemonade.head(3))"
   ]
  },
  {
   "cell_type": "code",
   "execution_count": 18,
   "metadata": {
    "colab": {
     "base_uri": "https://localhost:8080/"
    },
    "id": "URt16kGjIrYg",
    "outputId": "4bb52638-e164-4359-9dd9-35be887e02ae"
   },
   "outputs": [
    {
     "name": "stdout",
     "output_type": "stream",
     "text": [
      "       Date Location  Lemon  Orange  Temperature  Leaflets  Price  Sold\n",
      "0  7/1/2016     Park     97      67           70      90.0   0.25   164\n",
      "1  7/2/2016     Park     98      67           72      90.0   0.25   165\n",
      "2  7/3/2016     Park    110      77           71     104.0   0.25   187\n"
     ]
    }
   ],
   "source": [
    "lemonade['Sold'] = lemonade['Lemon'] + lemonade['Orange']\n",
    "print(lemonade.head(3))"
   ]
  },
  {
   "cell_type": "markdown",
   "metadata": {
    "id": "b4f7uPEXJJw_"
   },
   "source": [
    "- Revenue = 단가 x 판매량 "
   ]
  },
  {
   "cell_type": "code",
   "execution_count": 19,
   "metadata": {
    "colab": {
     "base_uri": "https://localhost:8080/"
    },
    "id": "CQDA80_ZJPtH",
    "outputId": "df097e70-0d7a-444a-a98a-aae14a475574"
   },
   "outputs": [
    {
     "name": "stdout",
     "output_type": "stream",
     "text": [
      "   Sold  Price\n",
      "0   164   0.25\n",
      "1   165   0.25\n",
      "2   187   0.25\n"
     ]
    }
   ],
   "source": [
    "lemonade['Revenue'] = 0\n",
    "print(lemonade[['Sold','Price']].head(3))"
   ]
  },
  {
   "cell_type": "code",
   "execution_count": 20,
   "metadata": {
    "colab": {
     "base_uri": "https://localhost:8080/"
    },
    "id": "XN8xUFkYJa3I",
    "outputId": "72aaf379-780b-40ce-a331-12075431b111"
   },
   "outputs": [
    {
     "name": "stdout",
     "output_type": "stream",
     "text": [
      "   Revenue  Price  Sold\n",
      "0    41.00   0.25   164\n",
      "1    41.25   0.25   165\n",
      "2    46.75   0.25   187\n",
      "3    58.25   0.25   233\n",
      "4    69.25   0.25   277\n"
     ]
    }
   ],
   "source": [
    "lemonade['Revenue'] = lemonade['Price'] * lemonade['Sold']\n",
    "print(lemonade[['Revenue', 'Price', 'Sold']].head())"
   ]
  },
  {
   "cell_type": "markdown",
   "metadata": {
    "id": "_KAFBZ4HJ72w"
   },
   "source": [
    "- drop 함수\n",
    " + 행은 axis=1 열은 axis=0 을 넣어줘야 한다"
   ]
  },
  {
   "cell_type": "code",
   "execution_count": 21,
   "metadata": {
    "colab": {
     "base_uri": "https://localhost:8080/"
    },
    "id": "50wl9gIWOPWu",
    "outputId": "7642aa5b-d253-40a9-a2c2-1cb04b678ec7"
   },
   "outputs": [
    {
     "name": "stdout",
     "output_type": "stream",
     "text": [
      "       Date Location  Lemon  Orange  Temperature  Leaflets  Price  Revenue\n",
      "0  7/1/2016     Park     97      67           70      90.0   0.25    41.00\n",
      "1  7/2/2016     Park     98      67           72      90.0   0.25    41.25\n",
      "2  7/3/2016     Park    110      77           71     104.0   0.25    46.75\n",
      "3  7/4/2016    Beach    134      99           76      98.0   0.25    58.25\n",
      "4  7/5/2016    Beach    159     118           78     135.0   0.25    69.25\n"
     ]
    }
   ],
   "source": [
    "#컬럼 제거\n",
    "col_drop = lemonade.drop('Sold', axis=1)\n",
    "\n",
    "print(col_drop.head())"
   ]
  },
  {
   "cell_type": "code",
   "execution_count": 22,
   "metadata": {
    "colab": {
     "base_uri": "https://localhost:8080/"
    },
    "id": "KfNWqALqOkKG",
    "outputId": "ca581fe5-6450-4c16-a53c-d1b5df4e8924"
   },
   "outputs": [
    {
     "name": "stdout",
     "output_type": "stream",
     "text": [
      "       Date Location  Lemon  Orange  Temperature  Leaflets  Price  Sold  \\\n",
      "1  7/2/2016     Park     98      67           72      90.0   0.25   165   \n",
      "3  7/4/2016    Beach    134      99           76      98.0   0.25   233   \n",
      "4  7/5/2016    Beach    159     118           78     135.0   0.25   277   \n",
      "5  7/6/2016    Beach    103      69           82      90.0   0.25   172   \n",
      "6  7/6/2016    Beach    103      69           82      90.0   0.25   172   \n",
      "\n",
      "   Revenue  \n",
      "1    41.25  \n",
      "3    58.25  \n",
      "4    69.25  \n",
      "5    43.00  \n",
      "6    43.00  \n"
     ]
    }
   ],
   "source": [
    "#행 제거\n",
    "row_drop = lemonade.drop([0,2], axis =0)\n",
    "print(row_drop.head())"
   ]
  },
  {
   "cell_type": "markdown",
   "metadata": {
    "id": "NGfa70cGOGDs"
   },
   "source": [
    "## 데이터 인덱싱"
   ]
  },
  {
   "cell_type": "code",
   "execution_count": 23,
   "metadata": {
    "colab": {
     "base_uri": "https://localhost:8080/"
    },
    "id": "_R84tw4POLtk",
    "outputId": "4827adfa-4047-45be-e021-b60cd4370aa2"
   },
   "outputs": [
    {
     "name": "stdout",
     "output_type": "stream",
     "text": [
      "       Date Location  Lemon  Orange  Temperature  Leaflets  Price  Sold  \\\n",
      "4  7/5/2016    Beach    159     118           78     135.0   0.25   277   \n",
      "5  7/6/2016    Beach    103      69           82      90.0   0.25   172   \n",
      "6  7/6/2016    Beach    103      69           82      90.0   0.25   172   \n",
      "\n",
      "   Revenue  \n",
      "4    69.25  \n",
      "5    43.00  \n",
      "6    43.00  \n"
     ]
    }
   ],
   "source": [
    "print(lemonade[4:7])"
   ]
  },
  {
   "cell_type": "markdown",
   "metadata": {
    "id": "quq0c68LO5fO"
   },
   "source": [
    "- + 행의 인덱스자체가 제거됨"
   ]
  },
  {
   "cell_type": "markdown",
   "metadata": {
    "id": "09m104lEO3jf"
   },
   "source": [
    "- 특정 값만 추출하는데 함수filter를 사용할 수 있지만 조건식을 이용하는 것이 더 편하다.\n",
    "- 참 거짓으로 구분한 뒤 참만을 뽑도록 한다."
   ]
  },
  {
   "cell_type": "markdown",
   "metadata": {
    "id": "5n5NIT14Oj4_"
   },
   "source": [
    "lemonade[조건식]\n"
   ]
  },
  {
   "cell_type": "code",
   "execution_count": 24,
   "metadata": {
    "colab": {
     "base_uri": "https://localhost:8080/"
    },
    "id": "AyUS55U4QHz_",
    "outputId": "9652b643-3e1f-4fe0-c2b2-89c782e0a76b"
   },
   "outputs": [
    {
     "name": "stdout",
     "output_type": "stream",
     "text": [
      "         Date Location  Lemon  Orange  Temperature  Leaflets  Price  Sold  \\\n",
      "3    7/4/2016    Beach    134      99           76      98.0   0.25   233   \n",
      "4    7/5/2016    Beach    159     118           78     135.0   0.25   277   \n",
      "5    7/6/2016    Beach    103      69           82      90.0   0.25   172   \n",
      "6    7/6/2016    Beach    103      69           82      90.0   0.25   172   \n",
      "7    7/7/2016    Beach    143     101           81     135.0   0.25   244   \n",
      "8         NaN    Beach    123      86           82     113.0   0.25   209   \n",
      "9    7/9/2016    Beach    134      95           80     126.0   0.25   229   \n",
      "10  7/10/2016    Beach    140      98           82     131.0   0.25   238   \n",
      "11  7/11/2016    Beach    162     120           83     135.0   0.25   282   \n",
      "12  7/12/2016    Beach    130      95           84      99.0   0.25   225   \n",
      "13  7/13/2016    Beach    109      75           77      99.0   0.25   184   \n",
      "14  7/14/2016    Beach    122      85           78     113.0   0.25   207   \n",
      "15  7/15/2016    Beach     98      62           75     108.0   0.50   160   \n",
      "16  7/16/2016    Beach     81      50           74      90.0   0.50   131   \n",
      "17  7/17/2016    Beach    115      76           77     126.0   0.50   191   \n",
      "30  7/30/2016    Beach     88      57           82      81.0   0.35   145   \n",
      "31  7/31/2016    Beach     76      47           82      68.0   0.35   123   \n",
      "\n",
      "    Revenue  \n",
      "3     58.25  \n",
      "4     69.25  \n",
      "5     43.00  \n",
      "6     43.00  \n",
      "7     61.00  \n",
      "8     52.25  \n",
      "9     57.25  \n",
      "10    59.50  \n",
      "11    70.50  \n",
      "12    56.25  \n",
      "13    46.00  \n",
      "14    51.75  \n",
      "15    80.00  \n",
      "16    65.50  \n",
      "17    95.50  \n",
      "30    50.75  \n",
      "31    43.05  \n"
     ]
    }
   ],
   "source": [
    "#데이터 [데이터 컬럼 == 특정값]\n",
    "lemonade_L=lemonade[lemonade['Location'] == 'Beach']\n",
    "print(lemonade_L)\n",
    "#lemonade['Location'] == 'Beach'->참 거짓으로 구분한 뒤 참인 그 값(Beach)을 불러내면 lemonade[lemonade['Location'] == 'Beach'] 그값(Beach)만 나옴"
   ]
  },
  {
   "cell_type": "code",
   "execution_count": 26,
   "metadata": {
    "colab": {
     "base_uri": "https://localhost:8080/"
    },
    "id": "zBrWex4rQ1PG",
    "outputId": "1efcff02-abd6-4deb-8c3b-4d5df0fea863"
   },
   "outputs": [
    {
     "name": "stdout",
     "output_type": "stream",
     "text": [
      "         Date Location  Lemon  Orange  Temperature  Leaflets  Price  Sold  \\\n",
      "5    7/6/2016    Beach    103      69           82      90.0   0.25   172   \n",
      "6    7/6/2016    Beach    103      69           82      90.0   0.25   172   \n",
      "7    7/7/2016    Beach    143     101           81     135.0   0.25   244   \n",
      "8         NaN    Beach    123      86           82     113.0   0.25   209   \n",
      "9    7/9/2016    Beach    134      95           80     126.0   0.25   229   \n",
      "10  7/10/2016    Beach    140      98           82     131.0   0.25   238   \n",
      "11  7/11/2016    Beach    162     120           83     135.0   0.25   282   \n",
      "12  7/12/2016    Beach    130      95           84      99.0   0.25   225   \n",
      "18  7/18/2016     Park    131      92           81     122.0   0.50   223   \n",
      "22  7/22/2016     Park    112      75           80     108.0   0.50   187   \n",
      "23  7/23/2016     Park    120      82           81     117.0   0.50   202   \n",
      "24  7/24/2016     Park    121      82           82     117.0   0.50   203   \n",
      "25  7/25/2016     Park    156     113           84     135.0   0.50   269   \n",
      "26  7/26/2016     Park    176     129           83     158.0   0.35   305   \n",
      "27  7/27/2016     Park    104      68           80      99.0   0.35   172   \n",
      "28  7/28/2016     Park     96      63           82      90.0   0.35   159   \n",
      "29  7/29/2016     Park    100      66           81      95.0   0.35   166   \n",
      "30  7/30/2016    Beach     88      57           82      81.0   0.35   145   \n",
      "31  7/31/2016    Beach     76      47           82      68.0   0.35   123   \n",
      "\n",
      "    Revenue  \n",
      "5     43.00  \n",
      "6     43.00  \n",
      "7     61.00  \n",
      "8     52.25  \n",
      "9     57.25  \n",
      "10    59.50  \n",
      "11    70.50  \n",
      "12    56.25  \n",
      "18   111.50  \n",
      "22    93.50  \n",
      "23   101.00  \n",
      "24   101.50  \n",
      "25   134.50  \n",
      "26   106.75  \n",
      "27    60.20  \n",
      "28    55.65  \n",
      "29    58.10  \n",
      "30    50.75  \n",
      "31    43.05  \n"
     ]
    }
   ],
   "source": [
    "print(lemonade[lemonade['Temperature'] >= 80])#온도가 80이 넘는 것을 뽑아내라"
   ]
  },
  {
   "cell_type": "code",
   "execution_count": 27,
   "metadata": {
    "colab": {
     "base_uri": "https://localhost:8080/"
    },
    "id": "ZQL3dHxxSu10",
    "outputId": "5998ac32-4977-4e9e-eaab-f98ea990b02f"
   },
   "outputs": [
    {
     "name": "stdout",
     "output_type": "stream",
     "text": [
      "         Date Location  Lemon  Orange  Temperature  Leaflets  Price  Sold  \\\n",
      "7    7/7/2016    Beach    143     101           81     135.0   0.25   244   \n",
      "11  7/11/2016    Beach    162     120           83     135.0   0.25   282   \n",
      "25  7/25/2016     Park    156     113           84     135.0   0.50   269   \n",
      "26  7/26/2016     Park    176     129           83     158.0   0.35   305   \n",
      "\n",
      "    Revenue  \n",
      "7     61.00  \n",
      "11    70.50  \n",
      "25   134.50  \n",
      "26   106.75  \n"
     ]
    }
   ],
   "source": [
    "print(lemonade[(lemonade['Temperature'] >= 80) & (lemonade['Orange'] >= 100)]) #lemonade[(조건식)&(조건식2)]온도가 80넘고 오랜지가100이상인 것"
   ]
  },
  {
   "cell_type": "code",
   "execution_count": 28,
   "metadata": {
    "colab": {
     "base_uri": "https://localhost:8080/"
    },
    "id": "nV3RLQdASyg-",
    "outputId": "e16c3cf2-4cfe-47d3-ab14-ef6323e822c4"
   },
   "outputs": [
    {
     "name": "stdout",
     "output_type": "stream",
     "text": [
      "         Date Location  Lemon  Orange  Temperature  Leaflets  Price  Sold  \\\n",
      "25  7/25/2016     Park    156     113           84     135.0   0.50   269   \n",
      "26  7/26/2016     Park    176     129           83     158.0   0.35   305   \n",
      "\n",
      "    Revenue  \n",
      "25   134.50  \n",
      "26   106.75  \n"
     ]
    }
   ],
   "source": [
    "print(lemonade[(lemonade['Temperature'] >= 80) & (lemonade['Orange'] >= 100) & (lemonade['Location'] == \"Park\")])"
   ]
  },
  {
   "cell_type": "markdown",
   "metadata": {
    "id": "xZhXVcLSOj2I"
   },
   "source": [
    "## iloc와 loc의 차이\n",
    "- iloc는 인덱스의 \"숫자\"로 loc는 라벨의 \"이름\"으로 내용을 선택한다.\n",
    "- loc가 사용하기 편하다."
   ]
  },
  {
   "cell_type": "code",
   "execution_count": 29,
   "metadata": {
    "colab": {
     "base_uri": "https://localhost:8080/"
    },
    "id": "59u4ZoIEVSX0",
    "outputId": "be136192-5dee-41d7-b50c-c3b293d6dd10"
   },
   "outputs": [
    {
     "name": "stdout",
     "output_type": "stream",
     "text": [
      "         Date  Sold\n",
      "5    7/6/2016   172\n",
      "6    7/6/2016   172\n",
      "7    7/7/2016   244\n",
      "8         NaN   209\n",
      "9    7/9/2016   229\n",
      "10  7/10/2016   238\n",
      "11  7/11/2016   282\n",
      "12  7/12/2016   225\n",
      "18  7/18/2016   223\n",
      "22  7/22/2016   187\n",
      "23  7/23/2016   202\n",
      "24  7/24/2016   203\n",
      "25  7/25/2016   269\n",
      "26  7/26/2016   305\n",
      "27  7/27/2016   172\n",
      "28  7/28/2016   159\n",
      "29  7/29/2016   166\n",
      "30  7/30/2016   145\n",
      "31  7/31/2016   123\n"
     ]
    }
   ],
   "source": [
    "print(lemonade.loc[lemonade['Temperature'] >= 80,['Date','Sold']]) #온도가 80이 넘는 것 중 라벨명이 날자와 판매량을 찾아라(중요)"
   ]
  },
  {
   "cell_type": "markdown",
   "metadata": {
    "id": "4fIFwnvrZl7q"
   },
   "source": [
    "- 문법상의 차이 확인 \n",
    " + 숫자(ilot)\n",
    " + 라벨(lot)=글자 숫자 문자 동시"
   ]
  },
  {
   "cell_type": "code",
   "execution_count": null,
   "metadata": {
    "colab": {
     "base_uri": "https://localhost:8080/"
    },
    "id": "hLpKMjG50Fb0",
    "outputId": "f56f8520-b32e-46ae-f9f3-2d7d1997f3aa"
   },
   "outputs": [
    {
     "name": "stdout",
     "output_type": "stream",
     "text": [
      "       Date Location\n",
      "0  7/1/2016     Park\n",
      "1  7/2/2016     Park\n",
      "2  7/3/2016     Park\n"
     ]
    }
   ],
   "source": [
    "print(lemonade.iloc[0:3,0:2]) # [행-인덱스번호부터 시작, 열]"
   ]
  },
  {
   "cell_type": "code",
   "execution_count": null,
   "metadata": {
    "colab": {
     "base_uri": "https://localhost:8080/"
    },
    "id": "xm_-fp1T0dBz",
    "outputId": "316bf51d-a6f7-4828-aafa-7515227ff054"
   },
   "outputs": [
    {
     "name": "stdout",
     "output_type": "stream",
     "text": [
      "       Date Location\n",
      "0  7/1/2016     Park\n",
      "1  7/2/2016     Park\n",
      "2  7/3/2016     Park\n"
     ]
    }
   ],
   "source": [
    "print(lemonade.loc[0:2,['Date','Location']])# 똑같은 결과이지만 라벨은 행의 시작 위치 컬럼부터 시작"
   ]
  },
  {
   "cell_type": "markdown",
   "metadata": {
    "id": "1qitbLeN1NQb"
   },
   "source": [
    "## 데이터 정렬\n",
    "- sort_values()"
   ]
  },
  {
   "cell_type": "code",
   "execution_count": null,
   "metadata": {
    "colab": {
     "base_uri": "https://localhost:8080/"
    },
    "id": "l5sDQr8n3K6c",
    "outputId": "c288940e-781d-4cad-c249-44c86e098296"
   },
   "outputs": [
    {
     "name": "stdout",
     "output_type": "stream",
     "text": [
      "         Date Location  Lemon  Orange  Temperature  Leaflets  Price  Sold  \\\n",
      "0    7/1/2016     Park     97      67           70      90.0   0.25   164   \n",
      "1    7/2/2016     Park     98      67           72      90.0   0.25   165   \n",
      "6    7/6/2016    Beach    103      69           82      90.0   0.25   172   \n",
      "5    7/6/2016    Beach    103      69           82      90.0   0.25   172   \n",
      "31  7/31/2016    Beach     76      47           82      68.0   0.35   123   \n",
      "\n",
      "    Revenue  \n",
      "0     41.00  \n",
      "1     41.25  \n",
      "6     43.00  \n",
      "5     43.00  \n",
      "31    43.05  \n"
     ]
    }
   ],
   "source": [
    "#lemonade.head()\n",
    "print(lemonade.sort_values(by=['Revenue']).head(5))"
   ]
  },
  {
   "cell_type": "code",
   "execution_count": null,
   "metadata": {
    "colab": {
     "base_uri": "https://localhost:8080/"
    },
    "id": "uZ0q6yzb3mni",
    "outputId": "81bdd0a4-d3c8-4667-c91c-cd2a3fd659c4"
   },
   "outputs": [
    {
     "name": "stdout",
     "output_type": "stream",
     "text": [
      "         Date  Temperature  Revenue\n",
      "0    7/1/2016           70    41.00\n",
      "20  7/20/2016           70    56.50\n",
      "2    7/3/2016           71    46.75\n",
      "1    7/2/2016           72    41.25\n",
      "16  7/16/2016           74    65.50\n"
     ]
    }
   ],
   "source": [
    "print(lemonade[['Date','Temperature','Revenue']].sort_values(by=['Temperature','Revenue']).head(5))"
   ]
  },
  {
   "cell_type": "code",
   "execution_count": null,
   "metadata": {
    "colab": {
     "base_uri": "https://localhost:8080/"
    },
    "id": "uEcH0s0R4kN7",
    "outputId": "6fdb07f4-1b20-409d-fd61-38a9a5160bf4"
   },
   "outputs": [
    {
     "name": "stdout",
     "output_type": "stream",
     "text": [
      "         Date  Temperature  Revenue\n",
      "20  7/20/2016           70    56.50\n",
      "0    7/1/2016           70    41.00\n",
      "2    7/3/2016           71    46.75\n",
      "1    7/2/2016           72    41.25\n",
      "16  7/16/2016           74    65.50\n"
     ]
    }
   ],
   "source": [
    "print(lemonade[['Date','Temperature','Revenue']].sort_values(by=['Temperature','Revenue'],ascending=[True,False]).head(5))"
   ]
  },
  {
   "cell_type": "code",
   "execution_count": null,
   "metadata": {
    "colab": {
     "base_uri": "https://localhost:8080/"
    },
    "id": "PyOD9vwd5tCa",
    "outputId": "1e320244-e417-41fa-eeae-df309a647253"
   },
   "outputs": [
    {
     "name": "stdout",
     "output_type": "stream",
     "text": [
      "         Date  Temperature  Revenue\n",
      "12  7/12/2016           84    56.25\n",
      "25  7/25/2016           84   134.50\n",
      "11  7/11/2016           83    70.50\n",
      "26  7/26/2016           83   106.75\n",
      "5    7/6/2016           82    43.00\n"
     ]
    }
   ],
   "source": [
    "print(lemonade[['Date','Temperature','Revenue']].sort_values(by=['Temperature','Revenue'],ascending=[False,True]).head(5))"
   ]
  },
  {
   "cell_type": "markdown",
   "metadata": {
    "id": "8U42-ffVgohz"
   },
   "source": [
    "## Group by\n",
    " - cf)인덱스가 숫자에서 라벨로 바뀜"
   ]
  },
  {
   "cell_type": "code",
   "execution_count": null,
   "metadata": {
    "colab": {
     "base_uri": "https://localhost:8080/"
    },
    "id": "7jpD8qOh55bx",
    "outputId": "9edc866e-e00e-4dd0-ce9c-fd8275e59091"
   },
   "outputs": [
    {
     "name": "stdout",
     "output_type": "stream",
     "text": [
      "          Date  Lemon  Orange  Temperature  Leaflets  Price  Sold  Revenue\n",
      "Location                                                                  \n",
      "Beach       16     17      17           17        17     17    17       17\n",
      "Park        15     15      15           15        14     15    15       15\n",
      "\n",
      "<class 'pandas.core.frame.DataFrame'>\n"
     ]
    }
   ],
   "source": [
    "df = lemonade.groupby(by='Location').count()\n",
    "print(df)\n",
    "print(\"\")\n",
    "print(type(df))"
   ]
  },
  {
   "cell_type": "code",
   "execution_count": null,
   "metadata": {
    "colab": {
     "base_uri": "https://localhost:8080/"
    },
    "id": "z_V_AdWt7HwR",
    "outputId": "8e635e69-badc-493b-9c4e-f4b2b664ffa9"
   },
   "outputs": [
    {
     "name": "stdout",
     "output_type": "stream",
     "text": [
      "          Date  Lemon\n",
      "Location             \n",
      "Beach       16     17\n",
      "Park        15     15\n"
     ]
    }
   ],
   "source": [
    "df[['Date','Lemon']]\n",
    "print(df[['Date','Lemon']])"
   ]
  },
  {
   "cell_type": "code",
   "execution_count": null,
   "metadata": {
    "colab": {
     "base_uri": "https://localhost:8080/"
    },
    "id": "vo7QhvDR9P5h",
    "outputId": "fb998a3c-65d5-4ac5-8f2f-1cdc98376217"
   },
   "outputs": [
    {
     "name": "stdout",
     "output_type": "stream",
     "text": [
      "          Date  Lemon\n",
      "Location             \n",
      "Beach       16     17\n"
     ]
    }
   ],
   "source": [
    "print(df.iloc[0:1,0:2])"
   ]
  },
  {
   "cell_type": "code",
   "execution_count": null,
   "metadata": {
    "colab": {
     "base_uri": "https://localhost:8080/"
    },
    "id": "t5HaHgeb8WYR",
    "outputId": "a9f1ce6b-17a5-4f47-ebb3-4bc5b10da1d5"
   },
   "outputs": [
    {
     "name": "stdout",
     "output_type": "stream",
     "text": [
      "Date     15\n",
      "Lemon    15\n",
      "Name: Park, dtype: int64\n"
     ]
    }
   ],
   "source": [
    "print(df.loc['Park', ['Date', 'Lemon']])"
   ]
  },
  {
   "cell_type": "markdown",
   "metadata": {
    "id": "spuF99wSZlqa"
   },
   "source": [
    "- 간단한 피벗 테이블 만들기"
   ]
  },
  {
   "cell_type": "code",
   "execution_count": 30,
   "metadata": {
    "colab": {
     "base_uri": "https://localhost:8080/"
    },
    "id": "1a56AsQX8BkZ",
    "outputId": "11768aae-1e9c-4712-c465-ed15e0ac7a04"
   },
   "outputs": [
    {
     "name": "stdout",
     "output_type": "stream",
     "text": [
      "            max   min     sum       mean\n",
      "Location                                \n",
      "Beach      95.5  43.0  1002.8  58.988235\n",
      "Park      134.5  41.0  1178.2  78.546667\n"
     ]
    }
   ],
   "source": [
    "print(lemonade.groupby('Location')['Revenue'].agg([max,min,sum,np.mean]))"
   ]
  },
  {
   "cell_type": "markdown",
   "metadata": {
    "id": "k4FVzr-YAv1p"
   },
   "source": [
    "- 지역별로 매출액의 최대값, 최소값, 합계, 평균을 구한다."
   ]
  },
  {
   "cell_type": "code",
   "execution_count": 31,
   "metadata": {
    "colab": {
     "base_uri": "https://localhost:8080/"
    },
    "id": "obmqoc_A8pVZ",
    "outputId": "ae2d8c8e-b32e-4f63-ea17-f1eedaf65042"
   },
   "outputs": [
    {
     "name": "stdout",
     "output_type": "stream",
     "text": [
      "         Revenue                          Sold                         \\\n",
      "             max   min     sum       mean  max  min   sum        mean   \n",
      "Location                                                                \n",
      "Beach       95.5  43.0  1002.8  58.988235  282  123  3422  201.294118   \n",
      "Park       134.5  41.0  1178.2  78.546667  305  113  2855  190.333333   \n",
      "\n",
      "         Temperature                       \n",
      "                 max min   sum       mean  \n",
      "Location                                   \n",
      "Beach             84  74  1355  79.705882  \n",
      "Park              84  70  1172  78.133333  \n"
     ]
    },
    {
     "name": "stderr",
     "output_type": "stream",
     "text": [
      "/usr/local/lib/python3.7/dist-packages/ipykernel_launcher.py:1: FutureWarning: Indexing with multiple keys (implicitly converted to a tuple of keys) will be deprecated, use a list instead.\n",
      "  \"\"\"Entry point for launching an IPython kernel.\n"
     ]
    }
   ],
   "source": [
    "print(lemonade.groupby('Location')['Revenue','Sold','Temperature'].agg([max,min,sum,np.mean]))"
   ]
  },
  {
   "cell_type": "code",
   "execution_count": 32,
   "metadata": {
    "colab": {
     "base_uri": "https://localhost:8080/"
    },
    "id": "A_M_19YX-IWq",
    "outputId": "3d7cf9be-8858-4b76-a5c7-bf6e49bbac08"
   },
   "outputs": [
    {
     "name": "stdout",
     "output_type": "stream",
     "text": [
      "                max  min   sum       mean\n",
      "Location Price                           \n",
      "Beach    0.25   120   69  1110  92.500000\n",
      "         0.35    57   47   104  52.000000\n",
      "         0.50    76   50   188  62.666667\n",
      "Park     0.25    77   67   211  70.333333\n",
      "         0.35   129   63   326  81.500000\n",
      "         0.50   113   42   621  77.625000\n"
     ]
    }
   ],
   "source": [
    "print(lemonade.groupby(['Location', 'Price'])['Orange'].agg([max, min, sum, np.mean]))"
   ]
  },
  {
   "cell_type": "markdown",
   "metadata": {
    "id": "ZnWTTyRI-O_B"
   },
   "source": [
    "<--지역에 따라 오렌지의 단가별 최대판매량, 최소판매량, 총합, 평균"
   ]
  }
 ],
 "metadata": {
  "colab": {
   "collapsed_sections": [],
   "name": "day0629.ipynb",
   "provenance": [],
   "toc_visible": true
  },
  "kernelspec": {
   "display_name": "Python 3 (ipykernel)",
   "language": "python",
   "name": "python3"
  },
  "language_info": {
   "codemirror_mode": {
    "name": "ipython",
    "version": 3
   },
   "file_extension": ".py",
   "mimetype": "text/x-python",
   "name": "python",
   "nbconvert_exporter": "python",
   "pygments_lexer": "ipython3",
   "version": "3.9.12"
  }
 },
 "nbformat": 4,
 "nbformat_minor": 1
}
