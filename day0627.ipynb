{
 "cells": [
  {
   "cell_type": "markdown",
   "metadata": {
    "id": "cdWQ_W5HzVnS",
    "tags": []
   },
   "source": [
    "---\n",
    "title: \"파이선 기초문법:::\"\n",
    "\n",
    "date: '2022-06-27 09:00:00'\n",
    "---\n"
   ]
  },
  {
   "cell_type": "markdown",
   "metadata": {
    "id": "iHkh6IM0zoGR"
   },
   "source": [
    "- Hello World"
   ]
  },
  {
   "cell_type": "code",
   "execution_count": 2,
   "metadata": {
    "colab": {
     "base_uri": "https://localhost:8080/"
    },
    "id": "fxJLRwUl0GG6",
    "outputId": "eacf490e-276c-4484-b401-869347d6b2ef"
   },
   "outputs": [
    {
     "name": "stdout",
     "output_type": "stream",
     "text": [
      "Hello World\n"
     ]
    }
   ],
   "source": [
    "print (\"Hello World\")"
   ]
  },
  {
   "cell_type": "markdown",
   "metadata": {
    "id": "59Kf6Nb80Qln"
   },
   "source": [
    "## 주석처리\n",
    "- 1줄 주석, 여러줄 주석처리:\n",
    "- 여러줄 주석 처리\n",
    " + 함수 또는 클래스를 문서화 할때 주로 사용\n",
    "- 프로잭트 할 때\n",
    " + 전체 공정100\n",
    " + 코드 / 코드 문서화 / 한글작업 문서화\n"
   ]
  },
  {
   "cell_type": "code",
   "execution_count": 3,
   "metadata": {
    "colab": {
     "base_uri": "https://localhost:8080/"
    },
    "id": "sqniqZQD0Y4X",
    "outputId": "a21a4d74-5751-463c-a9e9-de4fc1dbbe56"
   },
   "outputs": [
    {
     "name": "stdout",
     "output_type": "stream",
     "text": [
      "1줄주석\n",
      "여러줄 주석\n"
     ]
    }
   ],
   "source": [
    "# print()함수 사용\n",
    "print(\"1줄주석\")\n",
    "\n",
    "\"\"\"\"\n",
    "여러 줄의 주석에는 \n",
    "쌍따옴표 3개를 입력해주세요\n",
    "앞과 뒤로\n",
    "\"\"\"\n",
    "\n",
    "print(\"여러줄 주석\")"
   ]
  },
  {
   "cell_type": "markdown",
   "metadata": {
    "id": "5nKrTRha5W6O"
   },
   "source": [
    "## 변수 (Scalar)\n",
    "- 자료형\n",
    "- Scalar형 Non-Scalar형\n"
   ]
  },
  {
   "cell_type": "markdown",
   "metadata": {
    "id": "AHs9X-FT5ndm"
   },
   "source": [
    "### 수치형 자료형\n",
    " - int, float\n",
    " "
   ]
  },
  {
   "cell_type": "code",
   "execution_count": 4,
   "metadata": {
    "colab": {
     "base_uri": "https://localhost:8080/"
    },
    "id": "SBRV6Bew5kUv",
    "outputId": "8fea12d8-2ece-4c1e-b1e2-0bb2170489b8"
   },
   "outputs": [
    {
     "name": "stdout",
     "output_type": "stream",
     "text": [
      "1\n",
      "<class 'int'>\n"
     ]
    }
   ],
   "source": [
    "num_int =1\n",
    "print(num_int)\n",
    "print(type(num_int))\n"
   ]
  },
  {
   "cell_type": "code",
   "execution_count": 5,
   "metadata": {
    "colab": {
     "base_uri": "https://localhost:8080/"
    },
    "id": "HggTTuKm6Lv8",
    "outputId": "25c09caf-a4db-4a43-a187-678f44a6e9c9"
   },
   "outputs": [
    {
     "name": "stdout",
     "output_type": "stream",
     "text": [
      "0.1\n",
      "<class 'float'>\n"
     ]
    }
   ],
   "source": [
    "num_float =0.1\n",
    "print(num_float)\n",
    "print(type(num_float))\n"
   ]
  },
  {
   "cell_type": "markdown",
   "metadata": {
    "id": "ndgDz3dj6Jus"
   },
   "source": [
    "### Bool형\n",
    " + True,False\n",
    " + cf)R: TRUE, FALSE"
   ]
  },
  {
   "cell_type": "code",
   "execution_count": 6,
   "metadata": {
    "colab": {
     "base_uri": "https://localhost:8080/"
    },
    "id": "3pYeAT1R6JKb",
    "outputId": "520ca917-c79f-414a-fd11-2f5f9557722f"
   },
   "outputs": [
    {
     "name": "stdout",
     "output_type": "stream",
     "text": [
      "True\n",
      "<class 'bool'>\n"
     ]
    }
   ],
   "source": [
    "bool_true =True\n",
    "print(bool_true)\n",
    "print(type(bool_true))"
   ]
  },
  {
   "cell_type": "markdown",
   "metadata": {
    "id": "jb9Xt2--69vG"
   },
   "source": [
    "### None 자료형\n",
    " - Null값- 값이 정해지지 않은 자료형"
   ]
  },
  {
   "cell_type": "code",
   "execution_count": 8,
   "metadata": {
    "colab": {
     "base_uri": "https://localhost:8080/"
    },
    "id": "uGLHLHVH7Hnt",
    "outputId": "c667b77a-840e-4512-d83d-a398f6a16b6f"
   },
   "outputs": [
    {
     "name": "stdout",
     "output_type": "stream",
     "text": [
      "None\n",
      "<class 'NoneType'>\n"
     ]
    }
   ],
   "source": [
    "none_x= None\n",
    "print(none_x)\n",
    "print(type(none_x))"
   ]
  },
  {
   "cell_type": "markdown",
   "metadata": {
    "id": "m9jMgBDt7aVG"
   },
   "source": [
    "## 사칙연산\n",
    " - 정수형 사칙연산, 실수형 사칙연산\n",
    " - 결괏값의 자료형"
   ]
  },
  {
   "cell_type": "markdown",
   "metadata": {
    "id": "sf7VvP1V7nKd"
   },
   "source": [
    "### 정수형 사칙연산\n",
    " +.-,*,/\n",
    "- 단 정수형 나누기는 **실수형**으로 바뀐다"
   ]
  },
  {
   "cell_type": "code",
   "execution_count": 21,
   "metadata": {
    "colab": {
     "base_uri": "https://localhost:8080/"
    },
    "id": "e6oR6kVt7mV2",
    "outputId": "7a89048a-3409-4a63-d842-0efa25056751"
   },
   "outputs": [
    {
     "name": "stdout",
     "output_type": "stream",
     "text": [
      "a+b= 5\n",
      "a-b= 1\n",
      "a*b= 6\n",
      "a/b= 1.5\n"
     ]
    }
   ],
   "source": [
    "a = 3\n",
    "b = 2\n",
    "print('a+b=',a+b)\n",
    "print('a-b=',a-b)\n",
    "print('a*b=',a*b)\n",
    "print('a/b=',a/b)"
   ]
  },
  {
   "cell_type": "markdown",
   "metadata": {
    "id": "WHdDQarD73tn"
   },
   "source": [
    "### 실수형 사칙연산\n"
   ]
  },
  {
   "cell_type": "code",
   "execution_count": 22,
   "metadata": {
    "colab": {
     "base_uri": "https://localhost:8080/"
    },
    "id": "JTkPiUtW769P",
    "outputId": "0dcb7ab0-fc4e-4712-af53-90d17b05f774"
   },
   "outputs": [
    {
     "name": "stdout",
     "output_type": "stream",
     "text": [
      "a+b= 4.0\n",
      "a-b= -1.0\n",
      "a*b= 3.75\n",
      "a/b= 0.6\n"
     ]
    }
   ],
   "source": [
    "a = 1.5\n",
    "b = 2.5\n",
    "print('a+b=', a+b)\n",
    "print('a-b=',a-b)\n",
    "print('a*b=',a*b)\n",
    "print('a/b=',a/b)"
   ]
  },
  {
   "cell_type": "markdown",
   "metadata": {
    "id": "lD3-_YK19coO"
   },
   "source": [
    "## 논리형 연산자\n",
    " - bool형\n",
    " - True와 False 값으로 정의\n",
    " - 조건식\n",
    "  + 교집합(=and), 합집합(=or)"
   ]
  },
  {
   "cell_type": "code",
   "execution_count": 23,
   "metadata": {
    "colab": {
     "base_uri": "https://localhost:8080/"
    },
    "id": "Jjd4B35o9vi9",
    "outputId": "f89d21ef-98ad-4bd2-9cc6-d356e02a6a83"
   },
   "outputs": [
    {
     "name": "stdout",
     "output_type": "stream",
     "text": [
      "True\n",
      "False\n",
      "False\n",
      "False\n"
     ]
    }
   ],
   "source": [
    "print(True and True)\n",
    "print(True and False)\n",
    "print(False and True)\n",
    "print(False and False)"
   ]
  },
  {
   "cell_type": "code",
   "execution_count": 24,
   "metadata": {
    "colab": {
     "base_uri": "https://localhost:8080/"
    },
    "id": "U5wtWZxI-HdZ",
    "outputId": "9a29d5df-50f9-4c65-ce3b-814488a52bb6"
   },
   "outputs": [
    {
     "name": "stdout",
     "output_type": "stream",
     "text": [
      "True\n",
      "True\n",
      "True\n",
      "False\n"
     ]
    }
   ],
   "source": [
    "print(True or True)\n",
    "print(True or False)\n",
    "print(False or True)\n",
    "print(False or False)"
   ]
  },
  {
   "cell_type": "markdown",
   "metadata": {
    "id": "cEdLwtj9-M-u"
   },
   "source": [
    "## 비교 연산자\n",
    " - 비교연산자는 부등호를 의미한다."
   ]
  },
  {
   "cell_type": "code",
   "execution_count": 25,
   "metadata": {
    "colab": {
     "base_uri": "https://localhost:8080/"
    },
    "id": "DnDlEMT6-VCN",
    "outputId": "200942b8-2303-488c-eb16-43b48b3f66a4"
   },
   "outputs": [
    {
     "name": "stdout",
     "output_type": "stream",
     "text": [
      "True\n",
      "False\n",
      "True\n"
     ]
    }
   ],
   "source": [
    "print(4>3) #참 = True\n",
    "print(4<3) #거짓 = False\n",
    "\n",
    "print(4>3 or 4<3) # False"
   ]
  },
  {
   "cell_type": "markdown",
   "metadata": {
    "id": "WTKBv0cj-z4N"
   },
   "source": [
    "## 논리형 & 비교 연산자 응용\n",
    " - input()\n",
    " - 형변환\n",
    " - 데이터 타입을 바꾸는 것"
   ]
  },
  {
   "cell_type": "code",
   "execution_count": 27,
   "metadata": {
    "colab": {
     "base_uri": "https://localhost:8080/"
    },
    "id": "mVGwOdfs-8ut",
    "outputId": "186d7705-1045-4145-b5e0-e67e0822fec8"
   },
   "outputs": [
    {
     "name": "stdout",
     "output_type": "stream",
     "text": [
      "숫자를 입력하세요!3\n",
      "3\n",
      "<class 'str'>\n"
     ]
    }
   ],
   "source": [
    "var = input(\"숫자를 입력하세요!\")\n",
    "print(var)\n",
    "print(type(var))"
   ]
  },
  {
   "cell_type": "code",
   "execution_count": 28,
   "metadata": {
    "colab": {
     "base_uri": "https://localhost:8080/"
    },
    "id": "OT4hVhqC_Xil",
    "outputId": "08b06604-a62a-41a0-b042-6235e47cd7ca"
   },
   "outputs": [
    {
     "name": "stdout",
     "output_type": "stream",
     "text": [
      "숫자를 입력하세요!1\n",
      "1\n",
      "<class 'int'>\n"
     ]
    }
   ],
   "source": [
    "var = int(input(\"숫자를 입력하세요!\"))\n",
    "print(var)\n",
    "print(type(var))"
   ]
  },
  {
   "cell_type": "markdown",
   "metadata": {
    "id": "bxAhXgQ7_o22"
   },
   "source": [
    "--계산이 안될 때 타입을 확인해보고 숫자로 형변환 해주세요"
   ]
  },
  {
   "cell_type": "code",
   "execution_count": 61,
   "metadata": {
    "colab": {
     "base_uri": "https://localhost:8080/"
    },
    "id": "XjvFSXUd_1w0",
    "outputId": "e382e4b3-355d-4512-9a0d-d0f618a1af0c"
   },
   "outputs": [
    {
     "name": "stdout",
     "output_type": "stream",
     "text": [
      "첫번째 숫자를 입력하세요.40\n",
      "두번째 숫자를 입력하세요.50\n",
      "세번째 숫자를 입력하세요.60\n",
      "네번째 숫자를 입력하세요.70\n"
     ]
    }
   ],
   "source": [
    "num1 = int(input(\"첫번째 숫자를 입력하세요.\"))\n",
    "num2 = int(input(\"두번째 숫자를 입력하세요.\"))\n",
    "num3 = int(input(\"세번째 숫자를 입력하세요.\"))\n",
    "num4 = int(input(\"네번째 숫자를 입력하세요.\"))"
   ]
  },
  {
   "cell_type": "code",
   "execution_count": 67,
   "metadata": {
    "id": "8nWWBy7lAQoH"
   },
   "outputs": [],
   "source": [
    "var1 = num1 <= num2 \n",
    "var2 = num3 > num4 "
   ]
  },
  {
   "cell_type": "code",
   "execution_count": 68,
   "metadata": {
    "colab": {
     "base_uri": "https://localhost:8080/"
    },
    "id": "OVpbyIz7Alct",
    "outputId": "9500fdda-f570-4457-895c-779fec473545"
   },
   "outputs": [
    {
     "name": "stdout",
     "output_type": "stream",
     "text": [
      "False\n"
     ]
    }
   ],
   "source": [
    "print( var1 and var2) \n"
   ]
  },
  {
   "cell_type": "markdown",
   "metadata": {
    "id": "c-pAalAqBwlr"
   },
   "source": [
    "## String\n",
    " - Non Scalar\n",
    " "
   ]
  },
  {
   "cell_type": "code",
   "execution_count": 39,
   "metadata": {
    "colab": {
     "base_uri": "https://localhost:8080/"
    },
    "id": "zf1EaN3DBv0j",
    "outputId": "37c7ab64-0ef6-4a5f-a648-80a445e05ad7"
   },
   "outputs": [
    {
     "name": "stdout",
     "output_type": "stream",
     "text": [
      "hello World\n",
      "hello World\n",
      "'hello World'\n",
      "\"hello World\"\n"
     ]
    }
   ],
   "source": [
    "print('hello World')\n",
    "print(\"hello World\")\n",
    "\n",
    "print(\"'hello World'\")\n",
    "print('\"hello World\"')"
   ]
  },
  {
   "cell_type": "markdown",
   "metadata": {
    "id": "ZeUtCSCuCbWd"
   },
   "source": [
    "## String Operators\n",
    "- 문자열 연산자\n",
    "- +, * 가능"
   ]
  },
  {
   "cell_type": "code",
   "execution_count": 44,
   "metadata": {
    "colab": {
     "base_uri": "https://localhost:8080/"
    },
    "id": "ayzfZT1OCotG",
    "outputId": "a3767c0d-4d0d-4eda-bc32-fb31ac13db8c"
   },
   "outputs": [
    {
     "name": "stdout",
     "output_type": "stream",
     "text": [
      "Hello World \n"
     ]
    }
   ],
   "source": [
    "str1 = \"Hello \"\n",
    "str2 = \"World \"\n",
    "print(str1 + str2)"
   ]
  },
  {
   "cell_type": "code",
   "execution_count": 45,
   "metadata": {
    "colab": {
     "base_uri": "https://localhost:8080/"
    },
    "id": "CQbbLFlAC7kT",
    "outputId": "f372a0f7-ef52-4b6e-83ad-59db9bb706a6"
   },
   "outputs": [
    {
     "name": "stdout",
     "output_type": "stream",
     "text": [
      "Hello World Hello World \n"
     ]
    }
   ],
   "source": [
    "greet = str1 + str2\n",
    "print(greet * 2)"
   ]
  },
  {
   "cell_type": "markdown",
   "metadata": {
    "id": "sraiHdgThttL"
   },
   "source": [
    "## 문자열 인덱싱\n",
    "- 인덱싱은 0번째부터 시작"
   ]
  },
  {
   "cell_type": "code",
   "execution_count": 72,
   "metadata": {
    "colab": {
     "base_uri": "https://localhost:8080/"
    },
    "id": "yvprTiI5h2tT",
    "outputId": "eb396fd7-dc55-4097-b710-9b100b1110af"
   },
   "outputs": [
    {
     "name": "stdout",
     "output_type": "stream",
     "text": [
      "hello kaggle\n",
      "h\n"
     ]
    }
   ],
   "source": [
    "greeting='hello kaggle'\n",
    "print(greeting)\n",
    "print(greeting[0])"
   ]
  },
  {
   "cell_type": "code",
   "execution_count": 73,
   "metadata": {
    "colab": {
     "base_uri": "https://localhost:8080/"
    },
    "id": "fnhVxi2giMXT",
    "outputId": "627cfd9c-b764-45d1-cdb3-9c5e98c31f42"
   },
   "outputs": [
    {
     "name": "stdout",
     "output_type": "stream",
     "text": [
      "숫자를 입력하세요3\n",
      "l\n"
     ]
    }
   ],
   "source": [
    "greeting= \"hello kabble\"\n",
    "i=int(input(\"숫자를 입력하세요\"))\n",
    "print(greeting[i])"
   ]
  },
  {
   "cell_type": "markdown",
   "metadata": {
    "id": "IobkwqOoizL2"
   },
   "source": [
    "## 슬라이싱\n"
   ]
  },
  {
   "cell_type": "code",
   "execution_count": 79,
   "metadata": {
    "colab": {
     "base_uri": "https://localhost:8080/"
    },
    "id": "PkXGD7yqi2uE",
    "outputId": "0577f829-9e6d-44f6-fc26-1610d8e8fe18"
   },
   "outputs": [
    {
     "name": "stdout",
     "output_type": "stream",
     "text": [
      "he\n",
      "hello ka\n",
      "hello ka\n",
      "ka\n",
      "hlokg\n",
      "hlkg\n",
      "hog\n"
     ]
    }
   ],
   "source": [
    "greeting = \"hello kaggle\"\n",
    "#print(greeting[시작인덱스:끝인덱스-1])\n",
    "print(greeting[0:2])\n",
    "print(greeting[0:8])\n",
    "print(greeting[:8])\n",
    "print(greeting[6:8])\n",
    "print(greeting[0:10:2])\n",
    "print(greeting[0:10:3])\n",
    "print(greeting[0:10:4])"
   ]
  },
  {
   "cell_type": "code",
   "execution_count": 83,
   "metadata": {
    "colab": {
     "base_uri": "https://localhost:8080/"
    },
    "id": "6fIVM7e_k3zc",
    "outputId": "536e9039-2ed8-4f78-a178-d9557d1d33f0"
   },
   "outputs": [
    {
     "name": "stdout",
     "output_type": "stream",
     "text": [
      "13579qc\n",
      "1470c\n"
     ]
    }
   ],
   "source": [
    "alphabet_letter = \"1234567890qbcde\"\n",
    "print(alphabet_letter[0:14:2])\n",
    "print(alphabet_letter[0:14:3])"
   ]
  },
  {
   "cell_type": "markdown",
   "metadata": {
    "id": "k0_fSJDYl1sN"
   },
   "source": [
    " + 인덱스가 넘어갈때 뜨는 에러 메세지"
   ]
  },
  {
   "cell_type": "code",
   "execution_count": 84,
   "metadata": {
    "colab": {
     "base_uri": "https://localhost:8080/",
     "height": 193
    },
    "id": "BqVZn81blXy_",
    "outputId": "82dc6519-2d7c-42a4-850d-0ad1975f436a"
   },
   "outputs": [
    {
     "ename": "IndexError",
     "evalue": "ignored",
     "output_type": "error",
     "traceback": [
      "\u001b[0;31m---------------------------------------------------------------------------\u001b[0m",
      "\u001b[0;31mIndexError\u001b[0m                                Traceback (most recent call last)",
      "\u001b[0;32m<ipython-input-84-40fb216685e4>\u001b[0m in \u001b[0;36m<module>\u001b[0;34m()\u001b[0m\n\u001b[1;32m      1\u001b[0m \u001b[0mgreeting\u001b[0m \u001b[0;34m=\u001b[0m \u001b[0;34m\"hello Kabble\"\u001b[0m\u001b[0;34m\u001b[0m\u001b[0;34m\u001b[0m\u001b[0m\n\u001b[0;32m----> 2\u001b[0;31m \u001b[0mprint\u001b[0m\u001b[0;34m(\u001b[0m\u001b[0mgreeting\u001b[0m\u001b[0;34m[\u001b[0m\u001b[0;36m100\u001b[0m\u001b[0;34m]\u001b[0m\u001b[0;34m)\u001b[0m\u001b[0;34m\u001b[0m\u001b[0;34m\u001b[0m\u001b[0m\n\u001b[0m",
      "\u001b[0;31mIndexError\u001b[0m: string index out of range"
     ]
    }
   ],
   "source": [
    "greeting = \"hello Kabble\"\n",
    "print(greeting[100])"
   ]
  },
  {
   "cell_type": "markdown",
   "metadata": {
    "id": "5XQXIAYyl-pU"
   },
   "source": [
    "- 문자열 관련 메서드\n",
    " + split()\n",
    " + sort()\n",
    " + etc\n",
    " "
   ]
  },
  {
   "cell_type": "markdown",
   "metadata": {
    "id": "MEwCkwCumLtK"
   },
   "source": [
    "## 리스트\n",
    "- [] (대괄호)로 표시\n",
    "- [item1, item2, item3..]\n"
   ]
  },
  {
   "cell_type": "code",
   "execution_count": 102,
   "metadata": {
    "colab": {
     "base_uri": "https://localhost:8080/"
    },
    "id": "pwshoq4DmsK6",
    "outputId": "62ff6f28-04c2-4f59-8eaa-58199ac0fddf"
   },
   "outputs": [
    {
     "name": "stdout",
     "output_type": "stream",
     "text": [
      "[] [1] ['apple']\n",
      "[1, 2, ['apple'], 'apple']\n"
     ]
    }
   ],
   "source": [
    "a = []#빈 리스트\n",
    "a_func = list() # 빈 리스트 생성\n",
    "b= [1] #숫자요소\n",
    "c=['apple'] #문자요소\n",
    "d = [1,2,['apple'],'apple']#리스트 자체를 리스트 요소로 만들 수도 있다\n",
    "print(a,b,c)\n",
    "print(d)"
   ]
  },
  {
   "cell_type": "markdown",
   "metadata": {
    "id": "yaXdMcVmnMKa"
   },
   "source": [
    "### 리스트 값 수정하기\n",
    " - 리스트 값 수정"
   ]
  },
  {
   "cell_type": "code",
   "execution_count": 87,
   "metadata": {
    "colab": {
     "base_uri": "https://localhost:8080/"
    },
    "id": "1HNOaWWvngIC",
    "outputId": "58d5c254-333d-4d9d-9c71-3725179aa0b4"
   },
   "outputs": [
    {
     "name": "stdout",
     "output_type": "stream",
     "text": [
      "['아무값', 1, 2]\n"
     ]
    }
   ],
   "source": [
    "a =[ 0,1,2]\n",
    "a[0] = \"아무값\"\n",
    "print (a)"
   ]
  },
  {
   "cell_type": "markdown",
   "metadata": {
    "id": "u6zzzOmEnyew"
   },
   "source": [
    " - 메서드 사용"
   ]
  },
  {
   "cell_type": "code",
   "execution_count": 93,
   "metadata": {
    "colab": {
     "base_uri": "https://localhost:8080/"
    },
    "id": "kTY1fPgvn3aZ",
    "outputId": "3fab5d8b-46cc-453a-8866-f202570ef7cf"
   },
   "outputs": [
    {
     "name": "stdout",
     "output_type": "stream",
     "text": [
      "[100, 200, 300, 400]\n",
      "[100, 200, 300, 400, [500, 600]]\n",
      "[100, 200, 300, 400, [500, 600], 700, 800]\n"
     ]
    }
   ],
   "source": [
    "a = [100, 200, 300]\n",
    "a.append(400)\n",
    "print(a)\n",
    "\n",
    "a.append([500,600])\n",
    "print(a)\n",
    "\n",
    "a.extend([700,800])\n",
    "print(a)"
   ]
  },
  {
   "cell_type": "markdown",
   "metadata": {
    "id": "4s0DFd8SpORD"
   },
   "source": [
    "  + insert(인덱스 위치, 값)"
   ]
  },
  {
   "cell_type": "code",
   "execution_count": 96,
   "metadata": {
    "colab": {
     "base_uri": "https://localhost:8080/"
    },
    "id": "zHoxm_fPpTjp",
    "outputId": "d8545929-7877-42e6-fc11-8c2df6c465d8"
   },
   "outputs": [
    {
     "name": "stdout",
     "output_type": "stream",
     "text": [
      "[100, 1000, 200, 300]\n"
     ]
    }
   ],
   "source": [
    "a = [100,200,300 ]\n",
    "a.insert(1,1000)\n",
    "print(a)"
   ]
  },
  {
   "cell_type": "markdown",
   "metadata": {
    "id": "An-Y2Kkwpf43"
   },
   "source": [
    "\n",
    "\n",
    "  + remover()\n",
    "   - 리스트에서 첫 번째로 나오는 x를 삭제하는 함수이다\n",
    "\n"
   ]
  },
  {
   "cell_type": "code",
   "execution_count": 97,
   "metadata": {
    "colab": {
     "base_uri": "https://localhost:8080/"
    },
    "id": "qW2IYxG0plw3",
    "outputId": "23df1b3e-d2da-4ed4-8e59-fdfa588305fa"
   },
   "outputs": [
    {
     "name": "stdout",
     "output_type": "stream",
     "text": [
      "[2, 1, 2]\n"
     ]
    }
   ],
   "source": [
    "a = [1,2,1,2]\n",
    "a.remove(1)\n",
    "print(a)"
   ]
  },
  {
   "cell_type": "markdown",
   "metadata": {
    "id": "gB5qFv9RqEM4"
   },
   "source": [
    "  + del"
   ]
  },
  {
   "cell_type": "code",
   "execution_count": 101,
   "metadata": {
    "colab": {
     "base_uri": "https://localhost:8080/"
    },
    "id": "zDRqpZBSqHAQ",
    "outputId": "71ccea19-2fbd-4f46-bef7-e1a74651d2cf"
   },
   "outputs": [
    {
     "name": "stdout",
     "output_type": "stream",
     "text": [
      "[0, 2, 3, 4, 5, 6, 7, 8, 9]\n",
      "[3, 4, 5, 6, 7, 8, 9]\n"
     ]
    }
   ],
   "source": [
    "a = [0,1,2,3,4,5,6,7,8,9]\n",
    "del a[1]\n",
    "print(a)\n",
    "\n",
    "del a[0:2]\n",
    "print(a)"
   ]
  },
  {
   "cell_type": "markdown",
   "metadata": {
    "id": "Ua1YGNWWuV1h"
   },
   "source": [
    "- pop() : pop()은 리스트의 맨 마지막 요소를 돌려주고 그 요소는 삭제한다"
   ]
  },
  {
   "cell_type": "code",
   "execution_count": 104,
   "metadata": {
    "colab": {
     "base_uri": "https://localhost:8080/"
    },
    "id": "WEdzpcbcuZ-X",
    "outputId": "99b28164-c752-4e32-ba9d-72acd09a5093"
   },
   "outputs": [
    {
     "name": "stdout",
     "output_type": "stream",
     "text": [
      "[1, 3, 4, 5]\n",
      "2\n",
      "[1, 3, 4]\n",
      "5\n"
     ]
    }
   ],
   "source": [
    "a = [1,2,3,4,5]\n",
    "rem = a.pop(1)\n",
    "print(a)\n",
    "print(rem)\n",
    "x = a.pop()\n",
    "print(a)\n",
    "print(x)"
   ]
  },
  {
   "cell_type": "markdown",
   "metadata": {
    "id": "IbxO2vjhvfHZ"
   },
   "source": [
    " - clear() :  리스트 내 모든 값 삭제\n",
    " - index(\"값\") : 값의 위치를 불러옴"
   ]
  },
  {
   "cell_type": "code",
   "execution_count": 108,
   "metadata": {
    "colab": {
     "base_uri": "https://localhost:8080/"
    },
    "id": "2zzDGFrOv2fY",
    "outputId": "e6852c60-8fca-4191-8874-1ebca75433d7"
   },
   "outputs": [
    {
     "name": "stdout",
     "output_type": "stream",
     "text": [
      "4\n",
      "1\n"
     ]
    }
   ],
   "source": [
    "a= [1,4,5,2,3]\n",
    "b= [\"철수\",\"영희\",\"길동\"]\n",
    "print(a.index(3))\n",
    "print(b.index(\"영희\"))"
   ]
  },
  {
   "cell_type": "markdown",
   "metadata": {
    "id": "YfUStPFUwKhf"
   },
   "source": [
    "- sort : 리스트의 정렬"
   ]
  },
  {
   "cell_type": "code",
   "execution_count": 109,
   "metadata": {
    "colab": {
     "base_uri": "https://localhost:8080/"
    },
    "id": "_Fg-4oQvwOnv",
    "outputId": "fb2a67d6-8d82-4aae-c9f1-68eebac188d9"
   },
   "outputs": [
    {
     "name": "stdout",
     "output_type": "stream",
     "text": [
      "[1, 2, 3, 4, 5]\n",
      "Help on method_descriptor:\n",
      "\n",
      "sort(self, /, *, key=None, reverse=False)\n",
      "    Stable sort *IN PLACE*.\n",
      "\n"
     ]
    }
   ],
   "source": [
    "a= [1,4,5,2,3]\n",
    "a.sort()\n",
    "print(a)\n",
    "\n",
    "help(list.sort)\n",
    "#help(list.index)"
   ]
  },
  {
   "cell_type": "markdown",
   "metadata": {
    "id": "6tZ9_9jUCoJd"
   },
   "source": [
    "## 튜플\n",
    "- 면접질문 :리스트와 튜플의 차이가 뭔가요?\n",
    "- 형태로 리스트는 [ ]으로 둘러싸지만 튜플은 ( )으로 둘러싼다.\n",
    "- 리스트는 그 값의 생성, 삭제, 수정이 가능하지만 튜플은 그 값을 바꿀 수 없다"
   ]
  },
  {
   "cell_type": "code",
   "execution_count": 111,
   "metadata": {
    "colab": {
     "base_uri": "https://localhost:8080/"
    },
    "id": "fAY6aUW0ylT2",
    "outputId": "154a5cd1-ec13-4b93-d333-767b2494ff84"
   },
   "outputs": [
    {
     "name": "stdout",
     "output_type": "stream",
     "text": [
      "<class 'int'>\n",
      "<class 'tuple'>\n",
      "<class 'tuple'>\n",
      "0\n",
      "(0,)\n",
      "(0, 1, 2)\n"
     ]
    }
   ],
   "source": [
    "tuple1 = (0)\n",
    "tuple2 = (0,)\n",
    "tuple3 = 0, 1, 2\n",
    "\n",
    "print(type(tuple1))\n",
    "print(type(tuple2))\n",
    "print(type(tuple2))\n",
    "\n",
    "print(tuple1)\n",
    "print(tuple2)\n",
    "print(tuple3)"
   ]
  },
  {
   "cell_type": "markdown",
   "metadata": {
    "id": "AfmpmNmEzVPm"
   },
   "source": [
    "- 튜플은 소가로()가 있고 ,(쉼표)가 있다. 정수는 숫자만 있다."
   ]
  },
  {
   "cell_type": "code",
   "execution_count": 114,
   "metadata": {
    "id": "fcqycOZXziSH"
   },
   "outputs": [],
   "source": [
    "a = (0,1,2,3,'a')\n",
    "#del a[4]\n",
    "#print(a)->에러가 뜨며 tuple' object doesn't support item deletion"
   ]
  },
  {
   "cell_type": "markdown",
   "metadata": {
    "id": "288W-5FB0zwX"
   },
   "source": [
    "## 튜플(=리스트)연산자\n",
    "- 문자열 연산자\n",
    "- +, *"
   ]
  },
  {
   "cell_type": "code",
   "execution_count": 116,
   "metadata": {
    "colab": {
     "base_uri": "https://localhost:8080/"
    },
    "id": "jpaRV16407_X",
    "outputId": "2bf33971-58ea-47d7-a64d-1b6c1f921081"
   },
   "outputs": [
    {
     "name": "stdout",
     "output_type": "stream",
     "text": [
      "(0, 1, 2, 3, 4, 5)\n",
      "(0, 1, 2, 0, 1, 2)\n"
     ]
    }
   ],
   "source": [
    "t1 = (0,1,2)\n",
    "t2 = (3,4,5)\n",
    "print(t1 +t2)\n",
    "print(t1 * 2)"
   ]
  },
  {
   "cell_type": "markdown",
   "metadata": {
    "id": "otMBNmZe1YUn"
   },
   "source": [
    "## 딕셔너리 Dictionary\n",
    "- 키(Key)와 값(value)으로 구성됨\n",
    "- 슬라이싱!= (값의 순서가 존재해야 됨) 그러나 딕셔너리는 순서라는 개념자체가 존재하지 않기에 슬라이싱이 안됨(cf.0부터 시작된다는 개념 자체도 없으니 조심)\n"
   ]
  },
  {
   "cell_type": "code",
   "execution_count": 123,
   "metadata": {
    "colab": {
     "base_uri": "https://localhost:8080/"
    },
    "id": "QC39-lU31XyF",
    "outputId": "8781e7fe-9431-4fce-fc52-7332ad65ed6a"
   },
   "outputs": [
    {
     "name": "stdout",
     "output_type": "stream",
     "text": [
      "evan\n",
      "15\n",
      "['s1', 's2', 's3']\n"
     ]
    }
   ],
   "source": [
    "temp_dict = {\n",
    "    #'키' : '값'\n",
    "    'teacher' : 'evan',\n",
    "    'class' : 15,\n",
    "    'students' : ['s1', 's2','s3']\n",
    "}\n",
    "\n",
    "print(temp_dict[\"teacher\"])\n",
    "print(temp_dict['class'])\n",
    "print(temp_dict['students'])\n"
   ]
  },
  {
   "cell_type": "markdown",
   "metadata": {
    "id": "o1i-Zwsh2Wk2"
   },
   "source": [
    "- key()값만 출"
   ]
  },
  {
   "cell_type": "code",
   "execution_count": 125,
   "metadata": {
    "colab": {
     "base_uri": "https://localhost:8080/"
    },
    "id": "5CZLolsV79kz",
    "outputId": "20124681-3177-4459-f5df-b5033019a06c"
   },
   "outputs": [
    {
     "data": {
      "text/plain": [
       "['teacher', 'class', 'students']"
      ]
     },
     "execution_count": 125,
     "metadata": {},
     "output_type": "execute_result"
    }
   ],
   "source": [
    "list(temp_dict.keys())"
   ]
  },
  {
   "cell_type": "markdown",
   "metadata": {
    "id": "R9Rb-bV98dAW"
   },
   "source": [
    "- values()값만 출"
   ]
  },
  {
   "cell_type": "code",
   "execution_count": 126,
   "metadata": {
    "colab": {
     "base_uri": "https://localhost:8080/"
    },
    "id": "Zwpuj-Po8g5T",
    "outputId": "370731e7-ab9f-47e3-e3a2-af73ab3eaa98"
   },
   "outputs": [
    {
     "data": {
      "text/plain": [
       "dict_values(['evan', 15, ['s1', 's2', 's3']])"
      ]
     },
     "execution_count": 126,
     "metadata": {},
     "output_type": "execute_result"
    }
   ],
   "source": [
    "temp_dict.values()"
   ]
  },
  {
   "cell_type": "markdown",
   "metadata": {
    "id": "6bkq8O5d8plb"
   },
   "source": [
    "- items() key-value 쌍으로, list와 tuple 형태로 반환"
   ]
  },
  {
   "cell_type": "code",
   "execution_count": 127,
   "metadata": {
    "colab": {
     "base_uri": "https://localhost:8080/"
    },
    "id": "m9bRYNEx8uzT",
    "outputId": "96b59e92-4ec5-4c13-915b-7a2febe25fe0"
   },
   "outputs": [
    {
     "data": {
      "text/plain": [
       "dict_items([('teacher', 'evan'), ('class', 15), ('students', ['s1', 's2', 's3'])])"
      ]
     },
     "execution_count": 127,
     "metadata": {},
     "output_type": "execute_result"
    }
   ],
   "source": [
    "temp_dict.items()"
   ]
  },
  {
   "cell_type": "markdown",
   "metadata": {
    "id": "r1no1p0J9FYH"
   },
   "source": [
    "## 조건문\n",
    "- 잊지말고 :를 찍으세요"
   ]
  },
  {
   "cell_type": "code",
   "execution_count": 133,
   "metadata": {
    "colab": {
     "base_uri": "https://localhost:8080/"
    },
    "id": "QM71ndKJ9Vcb",
    "outputId": "3a7b1f9d-610b-4cb1-8a3e-9fb9f7112eeb"
   },
   "outputs": [
    {
     "name": "stdout",
     "output_type": "stream",
     "text": [
      "숫자를 입력하세요2\n",
      "a는 0보다 크다\n"
     ]
    }
   ],
   "source": [
    "a = int(input(\"숫자를 입력하세요\"))\n",
    "if a>5:\n",
    "  print(\"a는 5보다 크다\")\n",
    "elif a>0:\n",
    "  print(\"a는 0보다 크다\")\n",
    "elif a>-5:\n",
    "  print(\"a는 -5보다 크다\")\n",
    "else:\n",
    "  print(\"a는 매우 작다\")"
   ]
  },
  {
   "cell_type": "markdown",
   "metadata": {
    "id": "tiF-V3bOA_1l"
   },
   "source": [
    "## 반복문"
   ]
  },
  {
   "cell_type": "code",
   "execution_count": 140,
   "metadata": {
    "colab": {
     "base_uri": "https://localhost:8080/"
    },
    "id": "SxISkIIN_edC",
    "outputId": "713b4123-2f4c-41d1-aaa9-b9ebe480be55"
   },
   "outputs": [
    {
     "name": "stdout",
     "output_type": "stream",
     "text": [
      "1\n",
      "Hello World, \n",
      "2\n",
      "Hello World, \n",
      "3\n",
      "Hello World, \n"
     ]
    }
   ],
   "source": [
    "#Hello World 3번 출력하세요\n",
    "for idx in range(3):\n",
    "  print(idx+1)\n",
    "  print(\"Hello World, \")"
   ]
  },
  {
   "cell_type": "code",
   "execution_count": 141,
   "metadata": {
    "colab": {
     "base_uri": "https://localhost:8080/"
    },
    "id": "dvN8MKmEB4hc",
    "outputId": "727a69a0-0286-4e87-a669-d9cad13f959c"
   },
   "outputs": [
    {
     "name": "stdout",
     "output_type": "stream",
     "text": [
      "1 Hello World, \n",
      "2 Hello World, \n",
      "3 Hello World, \n"
     ]
    }
   ],
   "source": [
    "#가독성이 좋게 하려고 인덱스의 숫자를 앞에 넣을 수도 있다.\n",
    "for idx in range(3):\n",
    "    print(idx+1,\"Hello World, \")"
   ]
  },
  {
   "cell_type": "markdown",
   "metadata": {
    "id": "HPE_ssI2_koz"
   },
   "source": [
    "- for loop if 조건문 사용\n",
    "- 문자열 ,리스트 등-->시퀀스 데이터(반복문 사용가능)"
   ]
  },
  {
   "cell_type": "code",
   "execution_count": 145,
   "metadata": {
    "colab": {
     "base_uri": "https://localhost:8080/"
    },
    "id": "EWDS479OC12B",
    "outputId": "8e6267cf-af61-4a99-c844-5d623b8a4770"
   },
   "outputs": [
    {
     "name": "stdout",
     "output_type": "stream",
     "text": [
      "k\n",
      "a\n",
      "g\n"
     ]
    }
   ],
   "source": [
    "a= \"kaggle\"\n",
    "# g가 시작하면 반복문을 멈추세요\"\n",
    "for x in a:\n",
    "  print(x)\n",
    "  if x== 'g':\n",
    "    break"
   ]
  },
  {
   "cell_type": "code",
   "execution_count": 155,
   "metadata": {
    "colab": {
     "base_uri": "https://localhost:8080/"
    },
    "id": "xG752DWCD22Y",
    "outputId": "c0ec6106-3bcd-495c-c897-f0d89703f619"
   },
   "outputs": [
    {
     "name": "stdout",
     "output_type": "stream",
     "text": [
      "g\n"
     ]
    }
   ],
   "source": [
    "a= \"kaggle\"\n",
    "# print(x)의 위치에 따라 출력이 달라진다\"\n",
    "for x in a:\n",
    "   if x== 'g': \n",
    "    break\n",
    "print(x)"
   ]
  },
  {
   "cell_type": "markdown",
   "metadata": {
    "id": "fL6gSnOrEqvZ"
   },
   "source": [
    "- enumerate()"
   ]
  },
  {
   "cell_type": "code",
   "execution_count": 156,
   "metadata": {
    "colab": {
     "base_uri": "https://localhost:8080/"
    },
    "id": "hrfi8ehkEodo",
    "outputId": "c1db8031-d033-4189-aff2-37f81aa53e0d"
   },
   "outputs": [
    {
     "name": "stdout",
     "output_type": "stream",
     "text": [
      "0 A\n",
      "1 B\n",
      "2 c\n"
     ]
    }
   ],
   "source": [
    "alphabets = ['A','B','c']\n",
    "for index, value in enumerate(alphabets):\n",
    "  print(index,value)"
   ]
  },
  {
   "cell_type": "markdown",
   "metadata": {
    "id": "ihBEOQa4FTzi"
   },
   "source": [
    "- 리스트 컴프리헨션(list comprehension)"
   ]
  },
  {
   "cell_type": "code",
   "execution_count": 158,
   "metadata": {
    "colab": {
     "base_uri": "https://localhost:8080/"
    },
    "id": "ecK_Xw7UF47T",
    "outputId": "ec314b7e-30b4-4bb7-b6ee-25ab98a02992"
   },
   "outputs": [
    {
     "data": {
      "text/plain": [
       "False"
      ]
     },
     "execution_count": 158,
     "metadata": {},
     "output_type": "execute_result"
    }
   ],
   "source": [
    "\"a\" in \"kiwi\""
   ]
  },
  {
   "cell_type": "code",
   "execution_count": 159,
   "metadata": {
    "colab": {
     "base_uri": "https://localhost:8080/"
    },
    "id": "0u3dNfCUFku5",
    "outputId": "ce40cabc-e7f6-4a42-d6ed-03e9389f6afb"
   },
   "outputs": [
    {
     "name": "stdout",
     "output_type": "stream",
     "text": [
      "['apple', 'mango']\n"
     ]
    }
   ],
   "source": [
    "fruits = ['apple','kiwi','mango']\n",
    "newlists= []\n",
    "#알파벳 a가 있는 과일만 추출 후 새로운 리스트에 담기\n",
    "for fruit in fruits:\n",
    "  #print(fruit)\n",
    "  if \"a\" in fruit :\n",
    "    newlists.append(fruit)\n",
    "print(newlists)\n"
   ]
  },
  {
   "cell_type": "code",
   "execution_count": 163,
   "metadata": {
    "colab": {
     "base_uri": "https://localhost:8080/"
    },
    "id": "O_X-nEHTGvHh",
    "outputId": "91663774-e847-444d-8c0b-664c39538411"
   },
   "outputs": [
    {
     "name": "stdout",
     "output_type": "stream",
     "text": [
      "['apple', 'mango']\n"
     ]
    }
   ],
   "source": [
    "#리스트 컴프리헨션으로 표현하면\n",
    "newlist = [fruit for fruit in fruits if 'a' in fruit]\n",
    "print(newlist)"
   ]
  }
 ],
 "metadata": {
  "colab": {
   "collapsed_sections": [],
   "name": "day0627.ipynb",
   "provenance": [],
   "toc_visible": true
  },
  "kernelspec": {
   "display_name": "Python 3 (ipykernel)",
   "language": "python",
   "name": "python3"
  },
  "language_info": {
   "codemirror_mode": {
    "name": "ipython",
    "version": 3
   },
   "file_extension": ".py",
   "mimetype": "text/x-python",
   "name": "python",
   "nbconvert_exporter": "python",
   "pygments_lexer": "ipython3",
   "version": "3.9.12"
  }
 },
 "nbformat": 4,
 "nbformat_minor": 4
}
