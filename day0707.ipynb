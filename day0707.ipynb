{
 "cells": [
  {
   "cell_type": "markdown",
   "id": "7XQKh5Pvmkvp",
   "metadata": {
    "id": "7XQKh5Pvmkvp"
   },
   "source": [
    "---\n",
    "\n",
    "# **title: '데이터분석-하우스'**\n",
    "\n",
    "# **date: '2022-07-07 09:00'**\n",
    "\n",
    "---"
   ]
  },
  {
   "cell_type": "code",
   "execution_count": null,
   "id": "a4f2da58",
   "metadata": {},
   "outputs": [],
   "source": [
    "## 구글 드라이브 연동"
   ]
  },
  {
   "cell_type": "code",
   "execution_count": null,
   "id": "ChH5jT_ZmpE_",
   "metadata": {
    "colab": {
     "base_uri": "https://localhost:8080/"
    },
    "id": "ChH5jT_ZmpE_",
    "outputId": "66f4d699-7c54-4a2e-9013-ac7a15094279"
   },
   "outputs": [
    {
     "name": "stdout",
     "output_type": "stream",
     "text": [
      "Drive already mounted at /content/drive; to attempt to forcibly remount, call drive.mount(\"/content/drive\", force_remount=True).\n"
     ]
    }
   ],
   "source": [
    "from google.colab import drive \n",
    "drive.mount(\"/content/drive\")"
   ]
  },
  {
   "cell_type": "code",
   "execution_count": null,
   "id": "d13c7be8",
   "metadata": {
    "_cell_guid": "b1076dfc-b9ad-4769-8c92-a6c4dae69d19",
    "_uuid": "8f2839f25d086af736a60e9eeb907d3b93b6e0e5",
    "execution": {
     "iopub.execute_input": "2022-07-07T02:42:08.035383Z",
     "iopub.status.busy": "2022-07-07T02:42:08.034008Z",
     "iopub.status.idle": "2022-07-07T02:42:08.050146Z",
     "shell.execute_reply": "2022-07-07T02:42:08.048859Z"
    },
    "id": "d13c7be8",
    "papermill": {
     "duration": 0.030885,
     "end_time": "2022-07-07T02:42:08.052490",
     "exception": false,
     "start_time": "2022-07-07T02:42:08.021605",
     "status": "completed"
    },
    "tags": []
   },
   "outputs": [],
   "source": [
    "# This Python 3 environment comes with many helpful analytics libraries installed\n",
    "# It is defined by the kaggle/python Docker image: https://github.com/kaggle/docker-python\n",
    "# For example, here's several helpful packages to load\n",
    "\n",
    "import numpy as np # linear algebra\n",
    "import pandas as pd # data processing, CSV file I/O (e.g. pd.read_csv)\n",
    "\n",
    "# Input data files are available in the read-only \"../input/\" directory\n",
    "# For example, running this (by clicking run or pressing Shift+Enter) will list all files under the input directory\n",
    "\n",
    "import os\n",
    "for dirname, _, filenames in os.walk('/kaggle/input'):\n",
    "    for filename in filenames:\n",
    "        print(os.path.join(dirname, filename))\n",
    "\n",
    "# You can write up to 20GB to the current directory (/kaggle/working/) that gets preserved as output when you create a version using \"Save & Run All\" \n",
    "# You can also write temporary files to /kaggle/temp/, but they won't be saved outside of the current session"
   ]
  },
  {
   "cell_type": "markdown",
   "id": "cb4bce13",
   "metadata": {
    "id": "cb4bce13",
    "papermill": {
     "duration": 0.009007,
     "end_time": "2022-07-07T02:42:08.071457",
     "exception": false,
     "start_time": "2022-07-07T02:42:08.062450",
     "status": "completed"
    },
    "tags": []
   },
   "source": [
    "## 라이브러리 불러오기\n",
    "- 주요 라이브러리 버전을 확인한다. "
   ]
  },
  {
   "cell_type": "code",
   "execution_count": null,
   "id": "38680424",
   "metadata": {
    "colab": {
     "base_uri": "https://localhost:8080/"
    },
    "execution": {
     "iopub.execute_input": "2022-07-07T02:42:08.091368Z",
     "iopub.status.busy": "2022-07-07T02:42:08.090925Z",
     "iopub.status.idle": "2022-07-07T02:42:10.382329Z",
     "shell.execute_reply": "2022-07-07T02:42:10.381097Z"
    },
    "id": "38680424",
    "outputId": "ffc14541-5cbb-4139-9038-464d839fea6d",
    "papermill": {
     "duration": 2.304355,
     "end_time": "2022-07-07T02:42:10.384750",
     "exception": false,
     "start_time": "2022-07-07T02:42:08.080395",
     "status": "completed"
    },
    "tags": []
   },
   "outputs": [
    {
     "name": "stdout",
     "output_type": "stream",
     "text": [
      "pandas version : 1.3.5\n",
      "numpy version : 1.21.6\n",
      "matplotlib version : 3.2.2\n",
      "seaborn version : 0.11.2\n",
      "scikit-learn version : 1.0.2\n",
      "xgboost version : 0.90\n",
      "lightgbm version : 2.2.3\n"
     ]
    }
   ],
   "source": [
    "import pandas as pd \n",
    "import numpy as np \n",
    "import matplotlib as mpl \n",
    "import seaborn as sns \n",
    "import sklearn\n",
    "import xgboost as xgb \n",
    "import lightgbm as lgb\n",
    "\n",
    "print(\"pandas version :\", pd.__version__)\n",
    "print(\"numpy version :\", np.__version__)\n",
    "print(\"matplotlib version :\", mpl.__version__)\n",
    "print(\"seaborn version :\", sns.__version__)\n",
    "print(\"scikit-learn version :\", sklearn.__version__)\n",
    "print(\"xgboost version :\", xgb.__version__)\n",
    "print(\"lightgbm version :\", lgb.__version__)"
   ]
  },
  {
   "cell_type": "markdown",
   "id": "5d9fc52d",
   "metadata": {
    "id": "5d9fc52d",
    "papermill": {
     "duration": 0.010869,
     "end_time": "2022-07-07T02:42:10.405410",
     "exception": false,
     "start_time": "2022-07-07T02:42:10.394541",
     "status": "completed"
    },
    "tags": []
   },
   "source": [
    "## 데이터 불러오기\n",
    "- pandas 활용"
   ]
  },
  {
   "cell_type": "code",
   "execution_count": null,
   "id": "62d94df9",
   "metadata": {
    "colab": {
     "base_uri": "https://localhost:8080/"
    },
    "execution": {
     "iopub.execute_input": "2022-07-07T02:42:10.427278Z",
     "iopub.status.busy": "2022-07-07T02:42:10.426578Z",
     "iopub.status.idle": "2022-07-07T02:42:10.492385Z",
     "shell.execute_reply": "2022-07-07T02:42:10.491034Z"
    },
    "id": "62d94df9",
    "outputId": "ef4adc6f-76c0-495b-9e53-c2244c3c1bcf",
    "papermill": {
     "duration": 0.080548,
     "end_time": "2022-07-07T02:42:10.496089",
     "exception": false,
     "start_time": "2022-07-07T02:42:10.415541",
     "status": "completed"
    },
    "tags": []
   },
   "outputs": [
    {
     "name": "stdout",
     "output_type": "stream",
     "text": [
      "데이터 불러오기 완료!\n"
     ]
    }
   ],
   "source": [
    "DATA_PATH = '/content/drive/MyDrive/Colab Notebooks/Human_ai/lecture/house/'\n",
    "train = pd.read_csv(DATA_PATH + \"train.csv\")\n",
    "test = pd.read_csv(DATA_PATH + \"test.csv\")\n",
    "\n",
    "print(\"데이터 불러오기 완료!\")"
   ]
  },
  {
   "cell_type": "markdown",
   "id": "af15b511",
   "metadata": {
    "id": "af15b511",
    "papermill": {
     "duration": 0.00916,
     "end_time": "2022-07-07T02:42:10.515411",
     "exception": false,
     "start_time": "2022-07-07T02:42:10.506251",
     "status": "completed"
    },
    "tags": []
   },
   "source": [
    "## 데이터 둘러보기\n",
    "- 데이터를 둘러봅니다. \n",
    "- train : 행 갯수 1460 열 갯수 81 (SalePrice 존재)\n",
    "- test : 행 갯수 1459, 열 갯수 80 (SalePrice 컬럼 미 존재)"
   ]
  },
  {
   "cell_type": "code",
   "execution_count": null,
   "id": "91bccf10",
   "metadata": {
    "colab": {
     "base_uri": "https://localhost:8080/"
    },
    "execution": {
     "iopub.execute_input": "2022-07-07T02:42:10.536974Z",
     "iopub.status.busy": "2022-07-07T02:42:10.535429Z",
     "iopub.status.idle": "2022-07-07T02:42:10.543923Z",
     "shell.execute_reply": "2022-07-07T02:42:10.542693Z"
    },
    "id": "91bccf10",
    "outputId": "ccc4eee7-47d0-4831-c1c8-e538a16056ff",
    "papermill": {
     "duration": 0.021545,
     "end_time": "2022-07-07T02:42:10.546286",
     "exception": false,
     "start_time": "2022-07-07T02:42:10.524741",
     "status": "completed"
    },
    "tags": []
   },
   "outputs": [
    {
     "data": {
      "text/plain": [
       "((1460, 81), (1459, 80))"
      ]
     },
     "execution_count": 87,
     "metadata": {},
     "output_type": "execute_result"
    }
   ],
   "source": [
    "train.shape, test.shape"
   ]
  },
  {
   "cell_type": "code",
   "execution_count": null,
   "id": "869c094a",
   "metadata": {
    "colab": {
     "base_uri": "https://localhost:8080/"
    },
    "execution": {
     "iopub.execute_input": "2022-07-07T02:42:10.569760Z",
     "iopub.status.busy": "2022-07-07T02:42:10.568582Z",
     "iopub.status.idle": "2022-07-07T02:42:10.603687Z",
     "shell.execute_reply": "2022-07-07T02:42:10.601996Z"
    },
    "id": "869c094a",
    "outputId": "db544748-8d79-49fc-afbe-00e6917136cd",
    "papermill": {
     "duration": 0.050615,
     "end_time": "2022-07-07T02:42:10.606753",
     "exception": false,
     "start_time": "2022-07-07T02:42:10.556138",
     "status": "completed"
    },
    "tags": []
   },
   "outputs": [
    {
     "name": "stdout",
     "output_type": "stream",
     "text": [
      "<class 'pandas.core.frame.DataFrame'>\n",
      "RangeIndex: 1460 entries, 0 to 1459\n",
      "Data columns (total 81 columns):\n",
      " #   Column         Non-Null Count  Dtype  \n",
      "---  ------         --------------  -----  \n",
      " 0   Id             1460 non-null   int64  \n",
      " 1   MSSubClass     1460 non-null   int64  \n",
      " 2   MSZoning       1460 non-null   object \n",
      " 3   LotFrontage    1201 non-null   float64\n",
      " 4   LotArea        1460 non-null   int64  \n",
      " 5   Street         1460 non-null   object \n",
      " 6   Alley          91 non-null     object \n",
      " 7   LotShape       1460 non-null   object \n",
      " 8   LandContour    1460 non-null   object \n",
      " 9   Utilities      1460 non-null   object \n",
      " 10  LotConfig      1460 non-null   object \n",
      " 11  LandSlope      1460 non-null   object \n",
      " 12  Neighborhood   1460 non-null   object \n",
      " 13  Condition1     1460 non-null   object \n",
      " 14  Condition2     1460 non-null   object \n",
      " 15  BldgType       1460 non-null   object \n",
      " 16  HouseStyle     1460 non-null   object \n",
      " 17  OverallQual    1460 non-null   int64  \n",
      " 18  OverallCond    1460 non-null   int64  \n",
      " 19  YearBuilt      1460 non-null   int64  \n",
      " 20  YearRemodAdd   1460 non-null   int64  \n",
      " 21  RoofStyle      1460 non-null   object \n",
      " 22  RoofMatl       1460 non-null   object \n",
      " 23  Exterior1st    1460 non-null   object \n",
      " 24  Exterior2nd    1460 non-null   object \n",
      " 25  MasVnrType     1452 non-null   object \n",
      " 26  MasVnrArea     1452 non-null   float64\n",
      " 27  ExterQual      1460 non-null   object \n",
      " 28  ExterCond      1460 non-null   object \n",
      " 29  Foundation     1460 non-null   object \n",
      " 30  BsmtQual       1423 non-null   object \n",
      " 31  BsmtCond       1423 non-null   object \n",
      " 32  BsmtExposure   1422 non-null   object \n",
      " 33  BsmtFinType1   1423 non-null   object \n",
      " 34  BsmtFinSF1     1460 non-null   int64  \n",
      " 35  BsmtFinType2   1422 non-null   object \n",
      " 36  BsmtFinSF2     1460 non-null   int64  \n",
      " 37  BsmtUnfSF      1460 non-null   int64  \n",
      " 38  TotalBsmtSF    1460 non-null   int64  \n",
      " 39  Heating        1460 non-null   object \n",
      " 40  HeatingQC      1460 non-null   object \n",
      " 41  CentralAir     1460 non-null   object \n",
      " 42  Electrical     1459 non-null   object \n",
      " 43  1stFlrSF       1460 non-null   int64  \n",
      " 44  2ndFlrSF       1460 non-null   int64  \n",
      " 45  LowQualFinSF   1460 non-null   int64  \n",
      " 46  GrLivArea      1460 non-null   int64  \n",
      " 47  BsmtFullBath   1460 non-null   int64  \n",
      " 48  BsmtHalfBath   1460 non-null   int64  \n",
      " 49  FullBath       1460 non-null   int64  \n",
      " 50  HalfBath       1460 non-null   int64  \n",
      " 51  BedroomAbvGr   1460 non-null   int64  \n",
      " 52  KitchenAbvGr   1460 non-null   int64  \n",
      " 53  KitchenQual    1460 non-null   object \n",
      " 54  TotRmsAbvGrd   1460 non-null   int64  \n",
      " 55  Functional     1460 non-null   object \n",
      " 56  Fireplaces     1460 non-null   int64  \n",
      " 57  FireplaceQu    770 non-null    object \n",
      " 58  GarageType     1379 non-null   object \n",
      " 59  GarageYrBlt    1379 non-null   float64\n",
      " 60  GarageFinish   1379 non-null   object \n",
      " 61  GarageCars     1460 non-null   int64  \n",
      " 62  GarageArea     1460 non-null   int64  \n",
      " 63  GarageQual     1379 non-null   object \n",
      " 64  GarageCond     1379 non-null   object \n",
      " 65  PavedDrive     1460 non-null   object \n",
      " 66  WoodDeckSF     1460 non-null   int64  \n",
      " 67  OpenPorchSF    1460 non-null   int64  \n",
      " 68  EnclosedPorch  1460 non-null   int64  \n",
      " 69  3SsnPorch      1460 non-null   int64  \n",
      " 70  ScreenPorch    1460 non-null   int64  \n",
      " 71  PoolArea       1460 non-null   int64  \n",
      " 72  PoolQC         7 non-null      object \n",
      " 73  Fence          281 non-null    object \n",
      " 74  MiscFeature    54 non-null     object \n",
      " 75  MiscVal        1460 non-null   int64  \n",
      " 76  MoSold         1460 non-null   int64  \n",
      " 77  YrSold         1460 non-null   int64  \n",
      " 78  SaleType       1460 non-null   object \n",
      " 79  SaleCondition  1460 non-null   object \n",
      " 80  SalePrice      1460 non-null   int64  \n",
      "dtypes: float64(3), int64(35), object(43)\n",
      "memory usage: 924.0+ KB\n"
     ]
    }
   ],
   "source": [
    "train.info()"
   ]
  },
  {
   "cell_type": "code",
   "execution_count": null,
   "id": "718d3da8",
   "metadata": {
    "colab": {
     "base_uri": "https://localhost:8080/"
    },
    "execution": {
     "iopub.execute_input": "2022-07-07T02:42:10.629970Z",
     "iopub.status.busy": "2022-07-07T02:42:10.628887Z",
     "iopub.status.idle": "2022-07-07T02:42:10.648493Z",
     "shell.execute_reply": "2022-07-07T02:42:10.647267Z"
    },
    "id": "718d3da8",
    "outputId": "a6570cdd-0413-4090-a58d-248d549ec371",
    "papermill": {
     "duration": 0.035147,
     "end_time": "2022-07-07T02:42:10.652409",
     "exception": false,
     "start_time": "2022-07-07T02:42:10.617262",
     "status": "completed"
    },
    "tags": []
   },
   "outputs": [
    {
     "name": "stdout",
     "output_type": "stream",
     "text": [
      "<class 'pandas.core.frame.DataFrame'>\n",
      "RangeIndex: 1459 entries, 0 to 1458\n",
      "Data columns (total 80 columns):\n",
      " #   Column         Non-Null Count  Dtype  \n",
      "---  ------         --------------  -----  \n",
      " 0   Id             1459 non-null   int64  \n",
      " 1   MSSubClass     1459 non-null   int64  \n",
      " 2   MSZoning       1455 non-null   object \n",
      " 3   LotFrontage    1232 non-null   float64\n",
      " 4   LotArea        1459 non-null   int64  \n",
      " 5   Street         1459 non-null   object \n",
      " 6   Alley          107 non-null    object \n",
      " 7   LotShape       1459 non-null   object \n",
      " 8   LandContour    1459 non-null   object \n",
      " 9   Utilities      1457 non-null   object \n",
      " 10  LotConfig      1459 non-null   object \n",
      " 11  LandSlope      1459 non-null   object \n",
      " 12  Neighborhood   1459 non-null   object \n",
      " 13  Condition1     1459 non-null   object \n",
      " 14  Condition2     1459 non-null   object \n",
      " 15  BldgType       1459 non-null   object \n",
      " 16  HouseStyle     1459 non-null   object \n",
      " 17  OverallQual    1459 non-null   int64  \n",
      " 18  OverallCond    1459 non-null   int64  \n",
      " 19  YearBuilt      1459 non-null   int64  \n",
      " 20  YearRemodAdd   1459 non-null   int64  \n",
      " 21  RoofStyle      1459 non-null   object \n",
      " 22  RoofMatl       1459 non-null   object \n",
      " 23  Exterior1st    1458 non-null   object \n",
      " 24  Exterior2nd    1458 non-null   object \n",
      " 25  MasVnrType     1443 non-null   object \n",
      " 26  MasVnrArea     1444 non-null   float64\n",
      " 27  ExterQual      1459 non-null   object \n",
      " 28  ExterCond      1459 non-null   object \n",
      " 29  Foundation     1459 non-null   object \n",
      " 30  BsmtQual       1415 non-null   object \n",
      " 31  BsmtCond       1414 non-null   object \n",
      " 32  BsmtExposure   1415 non-null   object \n",
      " 33  BsmtFinType1   1417 non-null   object \n",
      " 34  BsmtFinSF1     1458 non-null   float64\n",
      " 35  BsmtFinType2   1417 non-null   object \n",
      " 36  BsmtFinSF2     1458 non-null   float64\n",
      " 37  BsmtUnfSF      1458 non-null   float64\n",
      " 38  TotalBsmtSF    1458 non-null   float64\n",
      " 39  Heating        1459 non-null   object \n",
      " 40  HeatingQC      1459 non-null   object \n",
      " 41  CentralAir     1459 non-null   object \n",
      " 42  Electrical     1459 non-null   object \n",
      " 43  1stFlrSF       1459 non-null   int64  \n",
      " 44  2ndFlrSF       1459 non-null   int64  \n",
      " 45  LowQualFinSF   1459 non-null   int64  \n",
      " 46  GrLivArea      1459 non-null   int64  \n",
      " 47  BsmtFullBath   1457 non-null   float64\n",
      " 48  BsmtHalfBath   1457 non-null   float64\n",
      " 49  FullBath       1459 non-null   int64  \n",
      " 50  HalfBath       1459 non-null   int64  \n",
      " 51  BedroomAbvGr   1459 non-null   int64  \n",
      " 52  KitchenAbvGr   1459 non-null   int64  \n",
      " 53  KitchenQual    1458 non-null   object \n",
      " 54  TotRmsAbvGrd   1459 non-null   int64  \n",
      " 55  Functional     1457 non-null   object \n",
      " 56  Fireplaces     1459 non-null   int64  \n",
      " 57  FireplaceQu    729 non-null    object \n",
      " 58  GarageType     1383 non-null   object \n",
      " 59  GarageYrBlt    1381 non-null   float64\n",
      " 60  GarageFinish   1381 non-null   object \n",
      " 61  GarageCars     1458 non-null   float64\n",
      " 62  GarageArea     1458 non-null   float64\n",
      " 63  GarageQual     1381 non-null   object \n",
      " 64  GarageCond     1381 non-null   object \n",
      " 65  PavedDrive     1459 non-null   object \n",
      " 66  WoodDeckSF     1459 non-null   int64  \n",
      " 67  OpenPorchSF    1459 non-null   int64  \n",
      " 68  EnclosedPorch  1459 non-null   int64  \n",
      " 69  3SsnPorch      1459 non-null   int64  \n",
      " 70  ScreenPorch    1459 non-null   int64  \n",
      " 71  PoolArea       1459 non-null   int64  \n",
      " 72  PoolQC         3 non-null      object \n",
      " 73  Fence          290 non-null    object \n",
      " 74  MiscFeature    51 non-null     object \n",
      " 75  MiscVal        1459 non-null   int64  \n",
      " 76  MoSold         1459 non-null   int64  \n",
      " 77  YrSold         1459 non-null   int64  \n",
      " 78  SaleType       1458 non-null   object \n",
      " 79  SaleCondition  1459 non-null   object \n",
      "dtypes: float64(11), int64(26), object(43)\n",
      "memory usage: 912.0+ KB\n"
     ]
    }
   ],
   "source": [
    "test.info()"
   ]
  },
  {
   "cell_type": "markdown",
   "id": "db1d1c25",
   "metadata": {
    "id": "db1d1c25",
    "papermill": {
     "duration": 0.009614,
     "end_time": "2022-07-07T02:42:10.672933",
     "exception": false,
     "start_time": "2022-07-07T02:42:10.663319",
     "status": "completed"
    },
    "tags": []
   },
   "source": [
    "## 데이터 시각화\n",
    "- 여기에서는 생략\n",
    "- 종속변수 분포 확인"
   ]
  },
  {
   "cell_type": "markdown",
   "id": "ad0b91c6",
   "metadata": {
    "id": "ad0b91c6",
    "papermill": {
     "duration": 0.00955,
     "end_time": "2022-07-07T02:42:10.692153",
     "exception": false,
     "start_time": "2022-07-07T02:42:10.682603",
     "status": "completed"
    },
    "tags": []
   },
   "source": [
    "- 샤피로 검정\n",
    "- 정규분포인가요? \n",
    "    + 정규분포가 아님! --> 로그변환, 박스콕스 변환 등등\n",
    "    + 정규분포로 만들어 줘야 함. \n",
    "- 선형모델의 성능을 올리기 위해서는 "
   ]
  },
  {
   "cell_type": "code",
   "execution_count": null,
   "id": "40e535bc",
   "metadata": {
    "colab": {
     "base_uri": "https://localhost:8080/",
     "height": 441
    },
    "execution": {
     "iopub.execute_input": "2022-07-07T02:42:10.713354Z",
     "iopub.status.busy": "2022-07-07T02:42:10.712917Z",
     "iopub.status.idle": "2022-07-07T02:42:11.064679Z",
     "shell.execute_reply": "2022-07-07T02:42:11.063189Z"
    },
    "id": "40e535bc",
    "outputId": "96ae3fd4-2b9a-4fa2-defc-7ca7d55a7bc1",
    "papermill": {
     "duration": 0.367314,
     "end_time": "2022-07-07T02:42:11.069109",
     "exception": false,
     "start_time": "2022-07-07T02:42:10.701795",
     "status": "completed"
    },
    "tags": []
   },
   "outputs": [
    {
     "name": "stdout",
     "output_type": "stream",
     "text": [
      "평균: 180921.19589041095\n",
      "표준편차: 79415.29188606751\n"
     ]
    },
    {
     "data": {
      "image/png": "[encoded data removed]",
      "text/plain": [
       "<Figure size 720x432 with 1 Axes>"
      ]
     },
     "metadata": {
      "needs_background": "light"
     },
     "output_type": "display_data"
    }
   ],
   "source": [
    "import matplotlib.pyplot as plt \n",
    "from scipy.stats import norm \n",
    "(mu, sigma) = norm.fit(train['SalePrice'])\n",
    "print(\"평균:\", mu)\n",
    "print(\"표준편차:\", sigma)\n",
    "\n",
    "fig, ax = plt.subplots(figsize=(10, 6))\n",
    "sns.histplot(train['SalePrice'])\n",
    "ax.set(title=\"SalePrice Distribution\")\n",
    "ax.axvline(mu, color = 'r', linestyle = '--')\n",
    "ax.text(mu + 10000, 160, 'Mean of SalePrice', color = 'r')\n",
    "plt.show()"
   ]
  },
  {
   "cell_type": "markdown",
   "id": "3a934b45",
   "metadata": {
    "id": "3a934b45",
    "papermill": {
     "duration": 0.010291,
     "end_time": "2022-07-07T02:42:11.090819",
     "exception": false,
     "start_time": "2022-07-07T02:42:11.080528",
     "status": "completed"
    },
    "tags": []
   },
   "source": [
    "- 로그변환을 해서 정규분포로 변환해준다. "
   ]
  },
  {
   "cell_type": "code",
   "execution_count": null,
   "id": "ab7b028b",
   "metadata": {
    "colab": {
     "base_uri": "https://localhost:8080/",
     "height": 441
    },
    "execution": {
     "iopub.execute_input": "2022-07-07T02:42:11.114220Z",
     "iopub.status.busy": "2022-07-07T02:42:11.113117Z",
     "iopub.status.idle": "2022-07-07T02:42:11.410373Z",
     "shell.execute_reply": "2022-07-07T02:42:11.409231Z"
    },
    "id": "ab7b028b",
    "outputId": "fae820b6-a2d1-41fe-d6c3-873de5f325bb",
    "papermill": {
     "duration": 0.311973,
     "end_time": "2022-07-07T02:42:11.413096",
     "exception": false,
     "start_time": "2022-07-07T02:42:11.101123",
     "status": "completed"
    },
    "tags": []
   },
   "outputs": [
    {
     "name": "stdout",
     "output_type": "stream",
     "text": [
      "평균: 12.024057394918406\n",
      "표준편차: 0.39931245219387496\n"
     ]
    },
    {
     "data": {
      "image/png": "[encoded data removed]",
      "text/plain": [
       "<Figure size 720x432 with 1 Axes>"
      ]
     },
     "metadata": {
      "needs_background": "light"
     },
     "output_type": "display_data"
    }
   ],
   "source": [
    "# 로그변환을 함. \n",
    "train['SalePrice'] = np.log1p(train['SalePrice'])\n",
    "\n",
    "(mu, sigma) = norm.fit(train['SalePrice'])\n",
    "print(\"평균:\", mu)\n",
    "print(\"표준편차:\", sigma)\n",
    "\n",
    "fig, ax = plt.subplots(figsize=(10, 6))\n",
    "sns.histplot(train['SalePrice'])\n",
    "ax.set(title=\"SalePrice Distribution\")\n",
    "ax.axvline(mu, color = 'r', linestyle = '--')\n",
    "ax.text(mu + 0.0001, 160, 'Mean of SalePrice', color = 'r')\n",
    "ax.set_ylim(0, 170)\n",
    "plt.show()"
   ]
  },
  {
   "cell_type": "markdown",
   "id": "78dbb925",
   "metadata": {
    "id": "78dbb925",
    "papermill": {
     "duration": 0.011094,
     "end_time": "2022-07-07T02:42:11.435940",
     "exception": false,
     "start_time": "2022-07-07T02:42:11.424846",
     "status": "completed"
    },
    "tags": []
   },
   "source": [
    "## 데이터 전처리\n",
    "- 컬럼 갯수가 많다?, 어떤 컬럼을 없앨 것인가? \n",
    "- 머신러닝 연산 속도부터 높여야 함. \n"
   ]
  },
  {
   "cell_type": "markdown",
   "id": "abaaf1c3",
   "metadata": {
    "id": "abaaf1c3",
    "papermill": {
     "duration": 0.010463,
     "end_time": "2022-07-07T02:42:11.457419",
     "exception": false,
     "start_time": "2022-07-07T02:42:11.446956",
     "status": "completed"
    },
    "tags": []
   },
   "source": [
    "### 데이터 ID값 제거\n"
   ]
  },
  {
   "cell_type": "code",
   "execution_count": null,
   "id": "72d1596f",
   "metadata": {
    "colab": {
     "base_uri": "https://localhost:8080/"
    },
    "execution": {
     "iopub.execute_input": "2022-07-07T02:42:11.483231Z",
     "iopub.status.busy": "2022-07-07T02:42:11.481717Z",
     "iopub.status.idle": "2022-07-07T02:42:11.493422Z",
     "shell.execute_reply": "2022-07-07T02:42:11.492343Z"
    },
    "id": "72d1596f",
    "outputId": "7e31ce1c-801e-4239-dcdb-42442a1a3b60",
    "papermill": {
     "duration": 0.026705,
     "end_time": "2022-07-07T02:42:11.495747",
     "exception": false,
     "start_time": "2022-07-07T02:42:11.469042",
     "status": "completed"
    },
    "tags": []
   },
   "outputs": [
    {
     "data": {
      "text/plain": [
       "(1460, 80)"
      ]
     },
     "execution_count": 92,
     "metadata": {},
     "output_type": "execute_result"
    }
   ],
   "source": [
    "train_ID = train['Id']\n",
    "test_ID = test['Id']\n",
    "\n",
    "train = train.drop(['Id'], axis = 1)\n",
    "train.shape"
   ]
  },
  {
   "cell_type": "code",
   "execution_count": null,
   "id": "4008343e",
   "metadata": {
    "colab": {
     "base_uri": "https://localhost:8080/"
    },
    "execution": {
     "iopub.execute_input": "2022-07-07T02:42:11.518974Z",
     "iopub.status.busy": "2022-07-07T02:42:11.518514Z",
     "iopub.status.idle": "2022-07-07T02:42:11.527364Z",
     "shell.execute_reply": "2022-07-07T02:42:11.526597Z"
    },
    "id": "4008343e",
    "outputId": "6f26d4f5-bef4-401e-cc80-ef512764f348",
    "papermill": {
     "duration": 0.022598,
     "end_time": "2022-07-07T02:42:11.529118",
     "exception": false,
     "start_time": "2022-07-07T02:42:11.506520",
     "status": "completed"
    },
    "tags": []
   },
   "outputs": [
    {
     "data": {
      "text/plain": [
       "(1459, 79)"
      ]
     },
     "execution_count": 93,
     "metadata": {},
     "output_type": "execute_result"
    }
   ],
   "source": [
    "test = test.drop(['Id'], axis = 1)\n",
    "test.shape "
   ]
  },
  {
   "cell_type": "markdown",
   "id": "d6036b0d",
   "metadata": {
    "id": "d6036b0d",
    "papermill": {
     "duration": 0.010107,
     "end_time": "2022-07-07T02:42:11.549486",
     "exception": false,
     "start_time": "2022-07-07T02:42:11.539379",
     "status": "completed"
    },
    "tags": []
   },
   "source": [
    "### Y값 추출\n",
    "- train데이터에 SalePrice만 따로 저장한다."
   ]
  },
  {
   "cell_type": "code",
   "execution_count": null,
   "id": "6ab6c4e0",
   "metadata": {
    "colab": {
     "base_uri": "https://localhost:8080/"
    },
    "execution": {
     "iopub.execute_input": "2022-07-07T02:42:11.572794Z",
     "iopub.status.busy": "2022-07-07T02:42:11.571675Z",
     "iopub.status.idle": "2022-07-07T02:42:11.580916Z",
     "shell.execute_reply": "2022-07-07T02:42:11.580120Z"
    },
    "id": "6ab6c4e0",
    "outputId": "30670914-2a4d-4b02-c959-2b614d925e85",
    "papermill": {
     "duration": 0.023429,
     "end_time": "2022-07-07T02:42:11.583246",
     "exception": false,
     "start_time": "2022-07-07T02:42:11.559817",
     "status": "completed"
    },
    "tags": []
   },
   "outputs": [
    {
     "data": {
      "text/plain": [
       "(1460, 79)"
      ]
     },
     "execution_count": 94,
     "metadata": {},
     "output_type": "execute_result"
    }
   ],
   "source": [
    "y = train['SalePrice']\n",
    "train = train.drop('SalePrice', axis = 1)\n",
    "train.shape"
   ]
  },
  {
   "cell_type": "code",
   "execution_count": null,
   "id": "ab70c0d3",
   "metadata": {
    "colab": {
     "base_uri": "https://localhost:8080/"
    },
    "execution": {
     "iopub.execute_input": "2022-07-07T02:42:11.607860Z",
     "iopub.status.busy": "2022-07-07T02:42:11.607120Z",
     "iopub.status.idle": "2022-07-07T02:42:11.613991Z",
     "shell.execute_reply": "2022-07-07T02:42:11.613103Z"
    },
    "id": "ab70c0d3",
    "outputId": "0dce447b-7829-4ae9-b9bd-35622e1091e3",
    "papermill": {
     "duration": 0.021541,
     "end_time": "2022-07-07T02:42:11.615898",
     "exception": false,
     "start_time": "2022-07-07T02:42:11.594357",
     "status": "completed"
    },
    "tags": []
   },
   "outputs": [
    {
     "data": {
      "text/plain": [
       "(1459, 79)"
      ]
     },
     "execution_count": 95,
     "metadata": {},
     "output_type": "execute_result"
    }
   ],
   "source": [
    "test.shape"
   ]
  },
  {
   "cell_type": "markdown",
   "id": "388a7e1c",
   "metadata": {
    "id": "388a7e1c",
    "papermill": {
     "duration": 0.010608,
     "end_time": "2022-07-07T02:42:11.637537",
     "exception": false,
     "start_time": "2022-07-07T02:42:11.626929",
     "status": "completed"
    },
    "tags": []
   },
   "source": [
    "### 데이터 합치기\n",
    "- 강의 목적\n",
    "- 원칙\n",
    "    + train, 따로 정리\n",
    "    + test, 따로 정리\n",
    "- Data Leakage 오류를 범할 가능성이 높음. "
   ]
  },
  {
   "cell_type": "code",
   "execution_count": null,
   "id": "3e8a4cbd",
   "metadata": {
    "colab": {
     "base_uri": "https://localhost:8080/"
    },
    "execution": {
     "iopub.execute_input": "2022-07-07T02:42:11.662503Z",
     "iopub.status.busy": "2022-07-07T02:42:11.661860Z",
     "iopub.status.idle": "2022-07-07T02:42:11.685621Z",
     "shell.execute_reply": "2022-07-07T02:42:11.684525Z"
    },
    "id": "3e8a4cbd",
    "outputId": "6bf12db3-12c2-4eb1-8cba-5b0f5567ab97",
    "papermill": {
     "duration": 0.039391,
     "end_time": "2022-07-07T02:42:11.688211",
     "exception": false,
     "start_time": "2022-07-07T02:42:11.648820",
     "status": "completed"
    },
    "tags": []
   },
   "outputs": [
    {
     "data": {
      "text/plain": [
       "(2919, 79)"
      ]
     },
     "execution_count": 96,
     "metadata": {},
     "output_type": "execute_result"
    }
   ],
   "source": [
    "all_df = pd.concat([train, test]).reset_index(drop=True)\n",
    "all_df.shape"
   ]
  },
  {
   "cell_type": "markdown",
   "id": "374d2438",
   "metadata": {
    "id": "374d2438",
    "papermill": {
     "duration": 0.01056,
     "end_time": "2022-07-07T02:42:11.709767",
     "exception": false,
     "start_time": "2022-07-07T02:42:11.699207",
     "status": "completed"
    },
    "tags": []
   },
   "source": [
    "## 결측치 확인\n",
    "- 결측치의 비율 확인하는 사용자 정의 함수 작성"
   ]
  },
  {
   "cell_type": "code",
   "execution_count": null,
   "id": "05de6028",
   "metadata": {
    "colab": {
     "base_uri": "https://localhost:8080/"
    },
    "execution": {
     "iopub.execute_input": "2022-07-07T02:42:11.733853Z",
     "iopub.status.busy": "2022-07-07T02:42:11.732556Z",
     "iopub.status.idle": "2022-07-07T02:42:11.752551Z",
     "shell.execute_reply": "2022-07-07T02:42:11.751288Z"
    },
    "id": "05de6028",
    "outputId": "f24f402e-ccd4-4a2f-f5a5-868fd28c308c",
    "papermill": {
     "duration": 0.035137,
     "end_time": "2022-07-07T02:42:11.755646",
     "exception": false,
     "start_time": "2022-07-07T02:42:11.720509",
     "status": "completed"
    },
    "tags": []
   },
   "outputs": [
    {
     "name": "stdout",
     "output_type": "stream",
     "text": [
      "<class 'pandas.core.frame.DataFrame'>\n",
      "RangeIndex: 1460 entries, 0 to 1459\n",
      "Data columns (total 79 columns):\n",
      " #   Column         Non-Null Count  Dtype  \n",
      "---  ------         --------------  -----  \n",
      " 0   MSSubClass     1460 non-null   int64  \n",
      " 1   MSZoning       1460 non-null   object \n",
      " 2   LotFrontage    1201 non-null   float64\n",
      " 3   LotArea        1460 non-null   int64  \n",
      " 4   Street         1460 non-null   object \n",
      " 5   Alley          91 non-null     object \n",
      " 6   LotShape       1460 non-null   object \n",
      " 7   LandContour    1460 non-null   object \n",
      " 8   Utilities      1460 non-null   object \n",
      " 9   LotConfig      1460 non-null   object \n",
      " 10  LandSlope      1460 non-null   object \n",
      " 11  Neighborhood   1460 non-null   object \n",
      " 12  Condition1     1460 non-null   object \n",
      " 13  Condition2     1460 non-null   object \n",
      " 14  BldgType       1460 non-null   object \n",
      " 15  HouseStyle     1460 non-null   object \n",
      " 16  OverallQual    1460 non-null   int64  \n",
      " 17  OverallCond    1460 non-null   int64  \n",
      " 18  YearBuilt      1460 non-null   int64  \n",
      " 19  YearRemodAdd   1460 non-null   int64  \n",
      " 20  RoofStyle      1460 non-null   object \n",
      " 21  RoofMatl       1460 non-null   object \n",
      " 22  Exterior1st    1460 non-null   object \n",
      " 23  Exterior2nd    1460 non-null   object \n",
      " 24  MasVnrType     1452 non-null   object \n",
      " 25  MasVnrArea     1452 non-null   float64\n",
      " 26  ExterQual      1460 non-null   object \n",
      " 27  ExterCond      1460 non-null   object \n",
      " 28  Foundation     1460 non-null   object \n",
      " 29  BsmtQual       1423 non-null   object \n",
      " 30  BsmtCond       1423 non-null   object \n",
      " 31  BsmtExposure   1422 non-null   object \n",
      " 32  BsmtFinType1   1423 non-null   object \n",
      " 33  BsmtFinSF1     1460 non-null   int64  \n",
      " 34  BsmtFinType2   1422 non-null   object \n",
      " 35  BsmtFinSF2     1460 non-null   int64  \n",
      " 36  BsmtUnfSF      1460 non-null   int64  \n",
      " 37  TotalBsmtSF    1460 non-null   int64  \n",
      " 38  Heating        1460 non-null   object \n",
      " 39  HeatingQC      1460 non-null   object \n",
      " 40  CentralAir     1460 non-null   object \n",
      " 41  Electrical     1459 non-null   object \n",
      " 42  1stFlrSF       1460 non-null   int64  \n",
      " 43  2ndFlrSF       1460 non-null   int64  \n",
      " 44  LowQualFinSF   1460 non-null   int64  \n",
      " 45  GrLivArea      1460 non-null   int64  \n",
      " 46  BsmtFullBath   1460 non-null   int64  \n",
      " 47  BsmtHalfBath   1460 non-null   int64  \n",
      " 48  FullBath       1460 non-null   int64  \n",
      " 49  HalfBath       1460 non-null   int64  \n",
      " 50  BedroomAbvGr   1460 non-null   int64  \n",
      " 51  KitchenAbvGr   1460 non-null   int64  \n",
      " 52  KitchenQual    1460 non-null   object \n",
      " 53  TotRmsAbvGrd   1460 non-null   int64  \n",
      " 54  Functional     1460 non-null   object \n",
      " 55  Fireplaces     1460 non-null   int64  \n",
      " 56  FireplaceQu    770 non-null    object \n",
      " 57  GarageType     1379 non-null   object \n",
      " 58  GarageYrBlt    1379 non-null   float64\n",
      " 59  GarageFinish   1379 non-null   object \n",
      " 60  GarageCars     1460 non-null   int64  \n",
      " 61  GarageArea     1460 non-null   int64  \n",
      " 62  GarageQual     1379 non-null   object \n",
      " 63  GarageCond     1379 non-null   object \n",
      " 64  PavedDrive     1460 non-null   object \n",
      " 65  WoodDeckSF     1460 non-null   int64  \n",
      " 66  OpenPorchSF    1460 non-null   int64  \n",
      " 67  EnclosedPorch  1460 non-null   int64  \n",
      " 68  3SsnPorch      1460 non-null   int64  \n",
      " 69  ScreenPorch    1460 non-null   int64  \n",
      " 70  PoolArea       1460 non-null   int64  \n",
      " 71  PoolQC         7 non-null      object \n",
      " 72  Fence          281 non-null    object \n",
      " 73  MiscFeature    54 non-null     object \n",
      " 74  MiscVal        1460 non-null   int64  \n",
      " 75  MoSold         1460 non-null   int64  \n",
      " 76  YrSold         1460 non-null   int64  \n",
      " 77  SaleType       1460 non-null   object \n",
      " 78  SaleCondition  1460 non-null   object \n",
      "dtypes: float64(3), int64(33), object(43)\n",
      "memory usage: 901.2+ KB\n"
     ]
    }
   ],
   "source": [
    "train.info()"
   ]
  },
  {
   "cell_type": "code",
   "execution_count": null,
   "id": "93b10f43",
   "metadata": {
    "colab": {
     "base_uri": "https://localhost:8080/"
    },
    "execution": {
     "iopub.execute_input": "2022-07-07T02:42:11.780409Z",
     "iopub.status.busy": "2022-07-07T02:42:11.779689Z",
     "iopub.status.idle": "2022-07-07T02:42:11.801064Z",
     "shell.execute_reply": "2022-07-07T02:42:11.799761Z"
    },
    "id": "93b10f43",
    "outputId": "b17d87a3-cc04-4e4e-a254-88a5477da98a",
    "papermill": {
     "duration": 0.036359,
     "end_time": "2022-07-07T02:42:11.803423",
     "exception": false,
     "start_time": "2022-07-07T02:42:11.767064",
     "status": "completed"
    },
    "tags": []
   },
   "outputs": [
    {
     "name": "stdout",
     "output_type": "stream",
     "text": [
      "결측치 데이터 컬럼과 건수:\n",
      "               Missing Ratio Data Type\n",
      "PoolQC            99.657417    object\n",
      "MiscFeature       96.402878    object\n",
      "Alley             93.216855    object\n",
      "Fence             80.438506    object\n",
      "FireplaceQu       48.646797    object\n",
      "LotFrontage       16.649538   float64\n",
      "GarageFinish       5.447071    object\n",
      "GarageQual         5.447071    object\n",
      "GarageCond         5.447071    object\n",
      "GarageYrBlt        5.447071   float64\n",
      "GarageType         5.378554    object\n",
      "BsmtExposure       2.809181    object\n",
      "BsmtCond           2.809181    object\n",
      "BsmtQual           2.774923    object\n",
      "BsmtFinType2       2.740665    object\n",
      "BsmtFinType1       2.706406    object\n",
      "MasVnrType         0.822199    object\n",
      "MasVnrArea         0.787941   float64\n",
      "MSZoning           0.137033    object\n",
      "BsmtFullBath       0.068517   float64\n"
     ]
    }
   ],
   "source": [
    "def check_na(data, head_num = 6):\n",
    "  isnull_na = (data.isnull().sum() / len(data)) * 100\n",
    "  data_na = isnull_na.drop(isnull_na[isnull_na == 0].index).sort_values(ascending=False)\n",
    "  missing_data = pd.DataFrame({'Missing Ratio' :data_na, \n",
    "                               'Data Type': data.dtypes[data_na.index]})\n",
    "  print(\"결측치 데이터 컬럼과 건수:\\n\", missing_data.head(head_num))\n",
    "\n",
    "check_na(all_df, 20)"
   ]
  },
  {
   "cell_type": "markdown",
   "id": "726e509d",
   "metadata": {
    "id": "726e509d",
    "papermill": {
     "duration": 0.010591,
     "end_time": "2022-07-07T02:42:11.824999",
     "exception": false,
     "start_time": "2022-07-07T02:42:11.814408",
     "status": "completed"
    },
    "tags": []
   },
   "source": [
    "- 결측치 제거\n",
    "- 결측치 비율이 높은 변수들을 모두 제거하기로 했다. "
   ]
  },
  {
   "cell_type": "code",
   "execution_count": null,
   "id": "78136567",
   "metadata": {
    "colab": {
     "base_uri": "https://localhost:8080/"
    },
    "execution": {
     "iopub.execute_input": "2022-07-07T02:42:11.848601Z",
     "iopub.status.busy": "2022-07-07T02:42:11.847913Z",
     "iopub.status.idle": "2022-07-07T02:42:11.867247Z",
     "shell.execute_reply": "2022-07-07T02:42:11.865855Z"
    },
    "id": "78136567",
    "outputId": "7795bc79-5d82-4a66-eaba-a9555dfb2048",
    "papermill": {
     "duration": 0.033835,
     "end_time": "2022-07-07T02:42:11.869555",
     "exception": false,
     "start_time": "2022-07-07T02:42:11.835720",
     "status": "completed"
    },
    "tags": []
   },
   "outputs": [
    {
     "name": "stdout",
     "output_type": "stream",
     "text": [
      "(2919, 73)\n",
      "결측치 데이터 컬럼과 건수:\n",
      "               Missing Ratio Data Type\n",
      "GarageCond         5.447071    object\n",
      "GarageQual         5.447071    object\n",
      "GarageYrBlt        5.447071   float64\n",
      "GarageFinish       5.447071    object\n",
      "GarageType         5.378554    object\n",
      "BsmtCond           2.809181    object\n",
      "BsmtExposure       2.809181    object\n",
      "BsmtQual           2.774923    object\n",
      "BsmtFinType2       2.740665    object\n",
      "BsmtFinType1       2.706406    object\n",
      "MasVnrType         0.822199    object\n",
      "MasVnrArea         0.787941   float64\n",
      "MSZoning           0.137033    object\n",
      "Functional         0.068517    object\n",
      "Utilities          0.068517    object\n",
      "BsmtFullBath       0.068517   float64\n",
      "BsmtHalfBath       0.068517   float64\n",
      "GarageArea         0.034258   float64\n",
      "GarageCars         0.034258   float64\n",
      "TotalBsmtSF        0.034258   float64\n",
      "KitchenQual        0.034258    object\n",
      "Electrical         0.034258    object\n",
      "BsmtUnfSF          0.034258   float64\n",
      "BsmtFinSF2         0.034258   float64\n",
      "BsmtFinSF1         0.034258   float64\n",
      "Exterior2nd        0.034258    object\n",
      "Exterior1st        0.034258    object\n",
      "SaleType           0.034258    object\n"
     ]
    }
   ],
   "source": [
    "all_df = all_df.drop(['PoolQC', 'MiscFeature', 'Alley', 'Fence', 'FireplaceQu', 'LotFrontage'], axis = 1)\n",
    "print(all_df.shape)\n",
    "check_na(all_df, 40)"
   ]
  },
  {
   "cell_type": "markdown",
   "id": "ae2ea404",
   "metadata": {
    "id": "ae2ea404",
    "papermill": {
     "duration": 0.010939,
     "end_time": "2022-07-07T02:42:11.891394",
     "exception": false,
     "start_time": "2022-07-07T02:42:11.880455",
     "status": "completed"
    },
    "tags": []
   },
   "source": [
    "## 결측치 채우기\n",
    "- train 데이터와 test 데이터가 섞이면 안됨. \n",
    "- train / test 분리해서 진행해야 함. \n",
    "- 문자데이터 : 자주 등장하는 빈도 값으로 채움\n",
    "- 숫자데이터 : 평균이 아니라, 중간값으로 채울 예정"
   ]
  },
  {
   "cell_type": "code",
   "execution_count": null,
   "id": "be28f3a7",
   "metadata": {
    "colab": {
     "base_uri": "https://localhost:8080/",
     "height": 35
    },
    "execution": {
     "iopub.execute_input": "2022-07-07T02:42:11.915734Z",
     "iopub.status.busy": "2022-07-07T02:42:11.915312Z",
     "iopub.status.idle": "2022-07-07T02:42:11.923544Z",
     "shell.execute_reply": "2022-07-07T02:42:11.922306Z"
    },
    "id": "be28f3a7",
    "outputId": "98254284-e843-4a76-d0f5-e454aa575e5f",
    "papermill": {
     "duration": 0.023517,
     "end_time": "2022-07-07T02:42:11.925877",
     "exception": false,
     "start_time": "2022-07-07T02:42:11.902360",
     "status": "completed"
    },
    "tags": []
   },
   "outputs": [
    {
     "data": {
      "application/vnd.google.colaboratory.intrinsic+json": {
       "type": "string"
      },
      "text/plain": [
       "'WD'"
      ]
     },
     "execution_count": 100,
     "metadata": {},
     "output_type": "execute_result"
    }
   ],
   "source": [
    "# all_df['SaleType'].value_counts()\n",
    "all_df['SaleType'].mode()[0]"
   ]
  },
  {
   "cell_type": "code",
   "execution_count": null,
   "id": "3b4db011",
   "metadata": {
    "colab": {
     "base_uri": "https://localhost:8080/"
    },
    "execution": {
     "iopub.execute_input": "2022-07-07T02:42:11.949822Z",
     "iopub.status.busy": "2022-07-07T02:42:11.949379Z",
     "iopub.status.idle": "2022-07-07T02:42:11.967100Z",
     "shell.execute_reply": "2022-07-07T02:42:11.965642Z"
    },
    "id": "3b4db011",
    "outputId": "51875bc6-219b-4bbb-f456-3eab65822a0c",
    "papermill": {
     "duration": 0.032406,
     "end_time": "2022-07-07T02:42:11.969343",
     "exception": false,
     "start_time": "2022-07-07T02:42:11.936937",
     "status": "completed"
    },
    "tags": []
   },
   "outputs": [
    {
     "name": "stdout",
     "output_type": "stream",
     "text": [
      "결측치 데이터 컬럼과 건수:\n",
      "               Missing Ratio Data Type\n",
      "GarageCond         5.447071    object\n",
      "GarageQual         5.447071    object\n",
      "GarageYrBlt        5.447071   float64\n",
      "GarageFinish       5.447071    object\n",
      "GarageType         5.378554    object\n",
      "BsmtCond           2.809181    object\n",
      "BsmtExposure       2.809181    object\n",
      "BsmtQual           2.774923    object\n",
      "BsmtFinType2       2.740665    object\n",
      "BsmtFinType1       2.706406    object\n",
      "MasVnrType         0.822199    object\n",
      "MasVnrArea         0.787941   float64\n",
      "MSZoning           0.137033    object\n",
      "Functional         0.068517    object\n",
      "Utilities          0.068517    object\n",
      "BsmtFullBath       0.068517   float64\n",
      "BsmtHalfBath       0.068517   float64\n",
      "GarageArea         0.034258   float64\n",
      "GarageCars         0.034258   float64\n",
      "TotalBsmtSF        0.034258   float64\n",
      "KitchenQual        0.034258    object\n",
      "Electrical         0.034258    object\n",
      "BsmtUnfSF          0.034258   float64\n",
      "BsmtFinSF2         0.034258   float64\n",
      "BsmtFinSF1         0.034258   float64\n",
      "Exterior2nd        0.034258    object\n",
      "Exterior1st        0.034258    object\n",
      "SaleType           0.034258    object\n"
     ]
    }
   ],
   "source": [
    "check_na(all_df, 40)"
   ]
  },
  {
   "cell_type": "code",
   "execution_count": null,
   "id": "b9d5f30f",
   "metadata": {
    "colab": {
     "base_uri": "https://localhost:8080/"
    },
    "execution": {
     "iopub.execute_input": "2022-07-07T02:42:11.993991Z",
     "iopub.status.busy": "2022-07-07T02:42:11.993295Z",
     "iopub.status.idle": "2022-07-07T02:42:12.048300Z",
     "shell.execute_reply": "2022-07-07T02:42:12.046511Z"
    },
    "id": "b9d5f30f",
    "outputId": "e8d0b302-5b3d-46d8-bc71-792a557e2267",
    "papermill": {
     "duration": 0.070617,
     "end_time": "2022-07-07T02:42:12.051030",
     "exception": false,
     "start_time": "2022-07-07T02:42:11.980413",
     "status": "completed"
    },
    "tags": []
   },
   "outputs": [
    {
     "name": "stdout",
     "output_type": "stream",
     "text": [
      "The whole number of all_vars 43\n",
      "The whole number of final_cat_vars 38\n",
      "결측치 데이터 컬럼과 건수:\n",
      "               Missing Ratio Data Type\n",
      "GarageYrBlt        5.447071   float64\n",
      "MasVnrArea         0.787941   float64\n",
      "BsmtFullBath       0.068517   float64\n",
      "BsmtHalfBath       0.068517   float64\n",
      "BsmtFinSF1         0.034258   float64\n",
      "BsmtFinSF2         0.034258   float64\n",
      "BsmtUnfSF          0.034258   float64\n",
      "TotalBsmtSF        0.034258   float64\n",
      "GarageCars         0.034258   float64\n",
      "GarageArea         0.034258   float64\n"
     ]
    }
   ],
   "source": [
    "import numpy as np\n",
    "\n",
    "# 문자열 데이터만 추출\n",
    "cat_all_vars = train.select_dtypes(exclude=[np.number])\n",
    "print(\"The whole number of all_vars\", len(list(cat_all_vars)))\n",
    "\n",
    "# 문자열 데이터 중에서 이미 기 삭제했던 Feature들이 있었기 때문에, \n",
    "# 한번 더 Feature를 정리하는 코드를 작성한다. \n",
    "# 따라서 38개의 Feature만 추출했다. \n",
    "final_cat_vars = []\n",
    "for v in cat_all_vars:\n",
    "    if v not in ['PoolQC', 'MiscFeature', 'Alley', 'Fence', 'FireplaceQu']:\n",
    "        final_cat_vars.append(v)\n",
    "\n",
    "print(\"The whole number of final_cat_vars\", len(final_cat_vars))\n",
    "\n",
    "# 이제 각 Feature 마다 빈도수가 가장 많이 나타나는 값을 추가하는 코드를 작성한다. \n",
    "for i in final_cat_vars:\n",
    "  all_df[i] = all_df[i].fillna(all_df[i].mode()[0])\n",
    "\n",
    "# 이제 수치형 데이터만 남은 것을 확인한다. \n",
    "check_na(all_df, 20)"
   ]
  },
  {
   "cell_type": "markdown",
   "id": "e3e98b97",
   "metadata": {
    "id": "e3e98b97",
    "papermill": {
     "duration": 0.011674,
     "end_time": "2022-07-07T02:42:12.074540",
     "exception": false,
     "start_time": "2022-07-07T02:42:12.062866",
     "status": "completed"
    },
    "tags": []
   },
   "source": [
    "- 수치형 데이터의 결측치를 추가할 수 있다. \n",
    "- 평균이 아닌 중간값으로 진행한다. "
   ]
  },
  {
   "cell_type": "code",
   "execution_count": null,
   "id": "16f94cc2",
   "metadata": {
    "colab": {
     "base_uri": "https://localhost:8080/"
    },
    "execution": {
     "iopub.execute_input": "2022-07-07T02:42:12.101424Z",
     "iopub.status.busy": "2022-07-07T02:42:12.100716Z",
     "iopub.status.idle": "2022-07-07T02:42:12.134673Z",
     "shell.execute_reply": "2022-07-07T02:42:12.133097Z"
    },
    "id": "16f94cc2",
    "outputId": "8671fe97-5432-4ead-fe35-4fe8f1e3ca4e",
    "papermill": {
     "duration": 0.050679,
     "end_time": "2022-07-07T02:42:12.137488",
     "exception": false,
     "start_time": "2022-07-07T02:42:12.086809",
     "status": "completed"
    },
    "tags": []
   },
   "outputs": [
    {
     "name": "stdout",
     "output_type": "stream",
     "text": [
      "The whole number of all_vars 36\n",
      "The whole number of final_cat_vars 35\n",
      "결측치 데이터 컬럼과 건수:\n",
      " Empty DataFrame\n",
      "Columns: [Missing Ratio, Data Type]\n",
      "Index: []\n"
     ]
    }
   ],
   "source": [
    "import numpy as np\n",
    "\n",
    "# 방법은 기존과 동일하다. \n",
    "# 이번에는 수치형 데이터만 추출한다. \n",
    "num_all_vars = list(train.select_dtypes(include=[np.number]))\n",
    "print(\"The whole number of all_vars\", len(num_all_vars))\n",
    "\n",
    "# 수치형 데이터 중, 결측치가 많았던 `LotFrontage`만 처리한다. \n",
    "num_all_vars.remove('LotFrontage')\n",
    "print(\"The whole number of final_cat_vars\", len(num_all_vars))\n",
    "\n",
    "# 이번에는 수치형 데이터의 평균이 아닌 중간값을 지정했다. \n",
    "for i in num_all_vars:\n",
    "  all_df[i].fillna(value=all_df[i].median(), inplace=True)\n",
    "\n",
    "check_na(all_df, 20)"
   ]
  },
  {
   "cell_type": "markdown",
   "id": "742a9d53",
   "metadata": {
    "id": "742a9d53",
    "papermill": {
     "duration": 0.011425,
     "end_time": "2022-07-07T02:42:12.161097",
     "exception": false,
     "start_time": "2022-07-07T02:42:12.149672",
     "status": "completed"
    },
    "tags": []
   },
   "source": [
    "## 도출 변수\n",
    "- 새로운 도출 변수를 작성 (기존 변수 활용)\n",
    "- 기존 변수 제거 "
   ]
  },
  {
   "cell_type": "markdown",
   "id": "eed459e5",
   "metadata": {
    "id": "eed459e5",
    "papermill": {
     "duration": 0.011361,
     "end_time": "2022-07-07T02:42:12.184176",
     "exception": false,
     "start_time": "2022-07-07T02:42:12.172815",
     "status": "completed"
    },
    "tags": []
   },
   "source": [
    "- 각 층의 면적으로 모두 더해 전체 면적으로 계산한 새로운 변수를 작성한다. "
   ]
  },
  {
   "cell_type": "code",
   "execution_count": null,
   "id": "e8ba602a",
   "metadata": {
    "colab": {
     "base_uri": "https://localhost:8080/"
    },
    "execution": {
     "iopub.execute_input": "2022-07-07T02:42:12.210282Z",
     "iopub.status.busy": "2022-07-07T02:42:12.209473Z",
     "iopub.status.idle": "2022-07-07T02:42:12.218006Z",
     "shell.execute_reply": "2022-07-07T02:42:12.217189Z"
    },
    "id": "e8ba602a",
    "outputId": "f4193278-b500-4314-d656-1a4820a0b5ab",
    "papermill": {
     "duration": 0.024205,
     "end_time": "2022-07-07T02:42:12.220151",
     "exception": false,
     "start_time": "2022-07-07T02:42:12.195946",
     "status": "completed"
    },
    "tags": []
   },
   "outputs": [
    {
     "name": "stdout",
     "output_type": "stream",
     "text": [
      "(2919, 71)\n"
     ]
    }
   ],
   "source": [
    "all_df['TotalSF'] = all_df['TotalBsmtSF'] + all_df['1stFlrSF'] + all_df['2ndFlrSF']\n",
    "all_df = all_df.drop(['TotalBsmtSF', '1stFlrSF', '2ndFlrSF'], axis=1)\n",
    "print(all_df.shape)"
   ]
  },
  {
   "cell_type": "code",
   "execution_count": null,
   "id": "6c35be5c",
   "metadata": {
    "colab": {
     "base_uri": "https://localhost:8080/"
    },
    "execution": {
     "iopub.execute_input": "2022-07-07T02:42:12.248032Z",
     "iopub.status.busy": "2022-07-07T02:42:12.246879Z",
     "iopub.status.idle": "2022-07-07T02:42:12.260517Z",
     "shell.execute_reply": "2022-07-07T02:42:12.259143Z"
    },
    "id": "6c35be5c",
    "outputId": "e938a952-8856-4fc4-d68d-c7786019baf8",
    "papermill": {
     "duration": 0.030008,
     "end_time": "2022-07-07T02:42:12.263158",
     "exception": false,
     "start_time": "2022-07-07T02:42:12.233150",
     "status": "completed"
    },
    "tags": []
   },
   "outputs": [
    {
     "name": "stdout",
     "output_type": "stream",
     "text": [
      "(2919, 65)\n"
     ]
    }
   ],
   "source": [
    "all_df['Total_Bathrooms'] = (all_df['FullBath'] + (0.5 * all_df['HalfBath']) + all_df['BsmtFullBath'] + (0.5 * all_df['BsmtHalfBath']))\n",
    "all_df['Total_porch_sf'] = (all_df['OpenPorchSF'] + all_df['3SsnPorch'] + all_df['EnclosedPorch'] + all_df['ScreenPorch'])\n",
    "all_df = all_df.drop(['FullBath', 'HalfBath', 'BsmtFullBath', 'BsmtHalfBath', 'OpenPorchSF', '3SsnPorch', 'EnclosedPorch', 'ScreenPorch'], axis=1)\n",
    "print(all_df.shape)"
   ]
  },
  {
   "cell_type": "markdown",
   "id": "da605ac9",
   "metadata": {
    "id": "da605ac9",
    "papermill": {
     "duration": 0.011667,
     "end_time": "2022-07-07T02:42:12.287056",
     "exception": false,
     "start_time": "2022-07-07T02:42:12.275389",
     "status": "completed"
    },
    "tags": []
   },
   "source": [
    "- 연도와 관련된 변수를 추출하는 코드 작성. "
   ]
  },
  {
   "cell_type": "code",
   "execution_count": null,
   "id": "b1b7bdf6",
   "metadata": {
    "colab": {
     "base_uri": "https://localhost:8080/"
    },
    "execution": {
     "iopub.execute_input": "2022-07-07T02:42:12.313276Z",
     "iopub.status.busy": "2022-07-07T02:42:12.311970Z",
     "iopub.status.idle": "2022-07-07T02:42:12.322671Z",
     "shell.execute_reply": "2022-07-07T02:42:12.321004Z"
    },
    "id": "b1b7bdf6",
    "outputId": "40d6706d-7211-40bb-d175-2e281b989ea8",
    "papermill": {
     "duration": 0.026404,
     "end_time": "2022-07-07T02:42:12.325136",
     "exception": false,
     "start_time": "2022-07-07T02:42:12.298732",
     "status": "completed"
    },
    "tags": []
   },
   "outputs": [
    {
     "name": "stdout",
     "output_type": "stream",
     "text": [
      "MSSubClass is not related with Year\n",
      "LotFrontage is not related with Year\n",
      "LotArea is not related with Year\n",
      "OverallQual is not related with Year\n",
      "OverallCond is not related with Year\n",
      "MasVnrArea is not related with Year\n",
      "BsmtFinSF1 is not related with Year\n",
      "BsmtFinSF2 is not related with Year\n",
      "BsmtUnfSF is not related with Year\n",
      "TotalBsmtSF is not related with Year\n",
      "1stFlrSF is not related with Year\n",
      "2ndFlrSF is not related with Year\n",
      "LowQualFinSF is not related with Year\n",
      "GrLivArea is not related with Year\n",
      "BsmtFullBath is not related with Year\n",
      "BsmtHalfBath is not related with Year\n",
      "FullBath is not related with Year\n",
      "HalfBath is not related with Year\n",
      "BedroomAbvGr is not related with Year\n",
      "KitchenAbvGr is not related with Year\n",
      "TotRmsAbvGrd is not related with Year\n",
      "Fireplaces is not related with Year\n",
      "GarageCars is not related with Year\n",
      "GarageArea is not related with Year\n",
      "WoodDeckSF is not related with Year\n",
      "OpenPorchSF is not related with Year\n",
      "EnclosedPorch is not related with Year\n",
      "3SsnPorch is not related with Year\n",
      "ScreenPorch is not related with Year\n",
      "PoolArea is not related with Year\n",
      "MiscVal is not related with Year\n",
      "MoSold is not related with Year\n",
      "['YearBuilt', 'YearRemodAdd', 'GarageYrBlt', 'YrSold']\n"
     ]
    }
   ],
   "source": [
    "num_all_vars = list(train.select_dtypes(include=[np.number]))\n",
    "year_feature = []\n",
    "for var in num_all_vars:\n",
    "  if 'Yr' in var:\n",
    "    year_feature.append(var)\n",
    "  elif 'Year' in var:\n",
    "    year_feature.append(var)\n",
    "  else:  \n",
    "    print(var, \"is not related with Year\")\n",
    "print(year_feature)"
   ]
  },
  {
   "cell_type": "code",
   "execution_count": null,
   "id": "05f52485",
   "metadata": {
    "colab": {
     "base_uri": "https://localhost:8080/",
     "height": 441
    },
    "execution": {
     "iopub.execute_input": "2022-07-07T02:42:12.351728Z",
     "iopub.status.busy": "2022-07-07T02:42:12.350543Z",
     "iopub.status.idle": "2022-07-07T02:42:12.809893Z",
     "shell.execute_reply": "2022-07-07T02:42:12.809022Z"
    },
    "id": "05f52485",
    "outputId": "06b3d180-8a96-4b7a-b42c-1a90a16cbaff",
    "papermill": {
     "duration": 0.475185,
     "end_time": "2022-07-07T02:42:12.812339",
     "exception": false,
     "start_time": "2022-07-07T02:42:12.337154",
     "status": "completed"
    },
    "tags": []
   },
   "outputs": [
    {
     "data": {
      "image/png": "[encoded data removed]",
      "text/plain": [
       "<Figure size 720x432 with 3 Axes>"
      ]
     },
     "metadata": {
      "needs_background": "light"
     },
     "output_type": "display_data"
    }
   ],
   "source": [
    "fig, ax = plt.subplots(3, 1, figsize=(10, 6), sharex=True, sharey=True)\n",
    "for i, var in enumerate(year_feature):\n",
    "  if var != 'YrSold':\n",
    "    ax[i].scatter(train[var], y, alpha=0.3)\n",
    "    ax[i].set_title('{}'.format(var), size=15)\n",
    "    ax[i].set_ylabel('SalePrice', size=15, labelpad=12.5)\n",
    "plt.tight_layout()\n",
    "plt.show()"
   ]
  },
  {
   "cell_type": "code",
   "execution_count": null,
   "id": "64ed4416",
   "metadata": {
    "colab": {
     "base_uri": "https://localhost:8080/"
    },
    "execution": {
     "iopub.execute_input": "2022-07-07T02:42:12.842763Z",
     "iopub.status.busy": "2022-07-07T02:42:12.842183Z",
     "iopub.status.idle": "2022-07-07T02:42:12.849657Z",
     "shell.execute_reply": "2022-07-07T02:42:12.848358Z"
    },
    "id": "64ed4416",
    "outputId": "75571fda-014d-4d60-e8fd-2c5d7ba1c516",
    "papermill": {
     "duration": 0.026147,
     "end_time": "2022-07-07T02:42:12.852650",
     "exception": false,
     "start_time": "2022-07-07T02:42:12.826503",
     "status": "completed"
    },
    "tags": []
   },
   "outputs": [
    {
     "name": "stdout",
     "output_type": "stream",
     "text": [
      "(2919, 63)\n"
     ]
    }
   ],
   "source": [
    "all_df = all_df.drop(['YearBuilt', 'GarageYrBlt'], axis=1)\n",
    "print(all_df.shape)"
   ]
  },
  {
   "cell_type": "code",
   "execution_count": null,
   "id": "0b60d5c7",
   "metadata": {
    "colab": {
     "base_uri": "https://localhost:8080/",
     "height": 374
    },
    "execution": {
     "iopub.execute_input": "2022-07-07T02:42:12.883177Z",
     "iopub.status.busy": "2022-07-07T02:42:12.882727Z",
     "iopub.status.idle": "2022-07-07T02:42:13.091055Z",
     "shell.execute_reply": "2022-07-07T02:42:13.089528Z"
    },
    "id": "0b60d5c7",
    "outputId": "8dbde56b-cfe4-4ec8-f665-ebedf912a1c3",
    "papermill": {
     "duration": 0.226261,
     "end_time": "2022-07-07T02:42:13.093660",
     "exception": false,
     "start_time": "2022-07-07T02:42:12.867399",
     "status": "completed"
    },
    "tags": []
   },
   "outputs": [
    {
     "data": {
      "image/png": "[encoded data removed]",
      "text/plain": [
       "<Figure size 720x432 with 1 Axes>"
      ]
     },
     "metadata": {
      "needs_background": "light"
     },
     "output_type": "display_data"
    }
   ],
   "source": [
    "YearsSinceRemodel = train['YrSold'].astype(int) - train['YearRemodAdd'].astype(int)\n",
    "\n",
    "fig, ax = plt.subplots(figsize=(10, 6))\n",
    "ax.scatter(YearsSinceRemodel, y, alpha=0.3)\n",
    "plt.show()"
   ]
  },
  {
   "cell_type": "code",
   "execution_count": null,
   "id": "0b9eea59",
   "metadata": {
    "colab": {
     "base_uri": "https://localhost:8080/"
    },
    "execution": {
     "iopub.execute_input": "2022-07-07T02:42:13.138615Z",
     "iopub.status.busy": "2022-07-07T02:42:13.137868Z",
     "iopub.status.idle": "2022-07-07T02:42:13.148667Z",
     "shell.execute_reply": "2022-07-07T02:42:13.147714Z"
    },
    "id": "0b9eea59",
    "outputId": "3dd57e78-89a6-40d0-c8db-55fd8d348f8c",
    "papermill": {
     "duration": 0.042334,
     "end_time": "2022-07-07T02:42:13.151569",
     "exception": false,
     "start_time": "2022-07-07T02:42:13.109235",
     "status": "completed"
    },
    "tags": []
   },
   "outputs": [
    {
     "name": "stdout",
     "output_type": "stream",
     "text": [
      "(2919, 62)\n"
     ]
    }
   ],
   "source": [
    "all_df['YearsSinceRemodel'] = all_df['YrSold'].astype(int) - all_df['YearRemodAdd'].astype(int)\n",
    "all_df = all_df.drop(['YrSold', 'YearRemodAdd'], axis=1)\n",
    "print(all_df.shape)"
   ]
  },
  {
   "cell_type": "markdown",
   "id": "13430edf",
   "metadata": {
    "id": "13430edf",
    "papermill": {
     "duration": 0.015119,
     "end_time": "2022-07-07T02:42:13.183111",
     "exception": false,
     "start_time": "2022-07-07T02:42:13.167992",
     "status": "completed"
    },
    "tags": []
   },
   "source": [
    "## 더미변수\n",
    "- 더미변수란 원 데이터 독립변수를 0과 1로 변환하는 변수를 말함. "
   ]
  },
  {
   "cell_type": "code",
   "execution_count": null,
   "id": "780f340e",
   "metadata": {
    "colab": {
     "base_uri": "https://localhost:8080/"
    },
    "execution": {
     "iopub.execute_input": "2022-07-07T02:42:13.215498Z",
     "iopub.status.busy": "2022-07-07T02:42:13.214749Z",
     "iopub.status.idle": "2022-07-07T02:42:13.222648Z",
     "shell.execute_reply": "2022-07-07T02:42:13.221942Z"
    },
    "id": "780f340e",
    "outputId": "21fa9dda-42ab-4a40-85cf-e03011d48f21",
    "papermill": {
     "duration": 0.026293,
     "end_time": "2022-07-07T02:42:13.224528",
     "exception": false,
     "start_time": "2022-07-07T02:42:13.198235",
     "status": "completed"
    },
    "tags": []
   },
   "outputs": [
    {
     "data": {
      "text/plain": [
       "0      2906\n",
       "512       1\n",
       "648       1\n",
       "576       1\n",
       "555       1\n",
       "480       1\n",
       "519       1\n",
       "738       1\n",
       "144       1\n",
       "368       1\n",
       "444       1\n",
       "228       1\n",
       "561       1\n",
       "800       1\n",
       "Name: PoolArea, dtype: int64"
      ]
     },
     "execution_count": 111,
     "metadata": {},
     "output_type": "execute_result"
    }
   ],
   "source": [
    "all_df['PoolArea'].value_counts() "
   ]
  },
  {
   "cell_type": "markdown",
   "id": "0a18ffea",
   "metadata": {
    "id": "0a18ffea",
    "papermill": {
     "duration": 0.014792,
     "end_time": "2022-07-07T02:42:13.254482",
     "exception": false,
     "start_time": "2022-07-07T02:42:13.239690",
     "status": "completed"
    },
    "tags": []
   },
   "source": [
    "- 사용자 정의 함수 만들기"
   ]
  },
  {
   "cell_type": "code",
   "execution_count": null,
   "id": "beae7bf8",
   "metadata": {
    "execution": {
     "iopub.execute_input": "2022-07-07T02:42:13.286876Z",
     "iopub.status.busy": "2022-07-07T02:42:13.286143Z",
     "iopub.status.idle": "2022-07-07T02:42:13.290559Z",
     "shell.execute_reply": "2022-07-07T02:42:13.289684Z"
    },
    "id": "beae7bf8",
    "papermill": {
     "duration": 0.023015,
     "end_time": "2022-07-07T02:42:13.292533",
     "exception": false,
     "start_time": "2022-07-07T02:42:13.269518",
     "status": "completed"
    },
    "tags": []
   },
   "outputs": [],
   "source": [
    "def count_dummy(x):\n",
    "    if x > 0:\n",
    "        return 1\n",
    "    else:\n",
    "        return 0"
   ]
  },
  {
   "cell_type": "code",
   "execution_count": null,
   "id": "70d27077",
   "metadata": {
    "colab": {
     "base_uri": "https://localhost:8080/"
    },
    "execution": {
     "iopub.execute_input": "2022-07-07T02:42:13.325454Z",
     "iopub.status.busy": "2022-07-07T02:42:13.324748Z",
     "iopub.status.idle": "2022-07-07T02:42:13.333877Z",
     "shell.execute_reply": "2022-07-07T02:42:13.332748Z"
    },
    "id": "70d27077",
    "outputId": "52c42d4d-2110-4c6c-bf41-63a2443cfd3f",
    "papermill": {
     "duration": 0.0284,
     "end_time": "2022-07-07T02:42:13.336127",
     "exception": false,
     "start_time": "2022-07-07T02:42:13.307727",
     "status": "completed"
    },
    "tags": []
   },
   "outputs": [
    {
     "data": {
      "text/plain": [
       "0    2906\n",
       "1      13\n",
       "Name: PoolArea, dtype: int64"
      ]
     },
     "execution_count": 113,
     "metadata": {},
     "output_type": "execute_result"
    }
   ],
   "source": [
    "all_df['PoolArea'] = all_df['PoolArea'].apply(count_dummy) \n",
    "all_df['PoolArea'].value_counts()"
   ]
  },
  {
   "cell_type": "code",
   "execution_count": null,
   "id": "7c5ffc09",
   "metadata": {
    "colab": {
     "base_uri": "https://localhost:8080/"
    },
    "execution": {
     "iopub.execute_input": "2022-07-07T02:42:13.368563Z",
     "iopub.status.busy": "2022-07-07T02:42:13.368191Z",
     "iopub.status.idle": "2022-07-07T02:42:13.378488Z",
     "shell.execute_reply": "2022-07-07T02:42:13.377750Z"
    },
    "id": "7c5ffc09",
    "outputId": "63f81f5f-01ef-45b2-9209-1600aae2d63e",
    "papermill": {
     "duration": 0.029165,
     "end_time": "2022-07-07T02:42:13.380493",
     "exception": false,
     "start_time": "2022-07-07T02:42:13.351328",
     "status": "completed"
    },
    "tags": []
   },
   "outputs": [
    {
     "data": {
      "text/plain": [
       "1    2762\n",
       "0     157\n",
       "Name: GarageArea, dtype: int64"
      ]
     },
     "execution_count": 114,
     "metadata": {},
     "output_type": "execute_result"
    }
   ],
   "source": [
    "all_df['GarageArea'] = all_df['GarageArea'].apply(count_dummy)\n",
    "all_df['GarageArea'].value_counts()"
   ]
  },
  {
   "cell_type": "code",
   "execution_count": null,
   "id": "5c5bdf42",
   "metadata": {
    "colab": {
     "base_uri": "https://localhost:8080/"
    },
    "execution": {
     "iopub.execute_input": "2022-07-07T02:42:13.414184Z",
     "iopub.status.busy": "2022-07-07T02:42:13.413353Z",
     "iopub.status.idle": "2022-07-07T02:42:13.421809Z",
     "shell.execute_reply": "2022-07-07T02:42:13.421057Z"
    },
    "id": "5c5bdf42",
    "outputId": "ef88329f-7c09-4c4c-9d8c-eda6ae09c063",
    "papermill": {
     "duration": 0.027612,
     "end_time": "2022-07-07T02:42:13.424041",
     "exception": false,
     "start_time": "2022-07-07T02:42:13.396429",
     "status": "completed"
    },
    "tags": []
   },
   "outputs": [
    {
     "data": {
      "text/plain": [
       "1    1499\n",
       "0    1420\n",
       "Name: Fireplaces, dtype: int64"
      ]
     },
     "execution_count": 115,
     "metadata": {},
     "output_type": "execute_result"
    }
   ],
   "source": [
    "all_df['Fireplaces'] = all_df['Fireplaces'].apply(count_dummy)\n",
    "all_df['Fireplaces'].value_counts()"
   ]
  },
  {
   "cell_type": "markdown",
   "id": "678d3e3e",
   "metadata": {
    "id": "678d3e3e",
    "papermill": {
     "duration": 0.015975,
     "end_time": "2022-07-07T02:42:13.456152",
     "exception": false,
     "start_time": "2022-07-07T02:42:13.440177",
     "status": "completed"
    },
    "tags": []
   },
   "source": [
    "## 인코딩\n",
    "- 문자를 숫자로 변환해주는 코드를 인코딩 변환\n"
   ]
  },
  {
   "cell_type": "code",
   "execution_count": null,
   "id": "ac2ab039",
   "metadata": {
    "colab": {
     "base_uri": "https://localhost:8080/"
    },
    "execution": {
     "iopub.execute_input": "2022-07-07T02:42:13.490303Z",
     "iopub.status.busy": "2022-07-07T02:42:13.489670Z",
     "iopub.status.idle": "2022-07-07T02:42:13.637820Z",
     "shell.execute_reply": "2022-07-07T02:42:13.636952Z"
    },
    "id": "ac2ab039",
    "outputId": "cc0834b0-7329-49ff-b9c9-687c9a7bfa89",
    "papermill": {
     "duration": 0.168738,
     "end_time": "2022-07-07T02:42:13.640867",
     "exception": false,
     "start_time": "2022-07-07T02:42:13.472129",
     "status": "completed"
    },
    "tags": []
   },
   "outputs": [
    {
     "name": "stdout",
     "output_type": "stream",
     "text": [
      "<class 'pandas.core.frame.DataFrame'>\n",
      "RangeIndex: 2919 entries, 0 to 2918\n",
      "Data columns (total 62 columns):\n",
      " #   Column             Non-Null Count  Dtype  \n",
      "---  ------             --------------  -----  \n",
      " 0   MSSubClass         2919 non-null   int64  \n",
      " 1   MSZoning           2919 non-null   object \n",
      " 2   LotArea            2919 non-null   int64  \n",
      " 3   Street             2919 non-null   object \n",
      " 4   LotShape           2919 non-null   object \n",
      " 5   LandContour        2919 non-null   object \n",
      " 6   Utilities          2919 non-null   object \n",
      " 7   LotConfig          2919 non-null   object \n",
      " 8   LandSlope          2919 non-null   object \n",
      " 9   Neighborhood       2919 non-null   object \n",
      " 10  Condition1         2919 non-null   object \n",
      " 11  Condition2         2919 non-null   object \n",
      " 12  BldgType           2919 non-null   object \n",
      " 13  HouseStyle         2919 non-null   object \n",
      " 14  OverallQual        2919 non-null   int64  \n",
      " 15  OverallCond        2919 non-null   int64  \n",
      " 16  RoofStyle          2919 non-null   object \n",
      " 17  RoofMatl           2919 non-null   object \n",
      " 18  Exterior1st        2919 non-null   object \n",
      " 19  Exterior2nd        2919 non-null   object \n",
      " 20  MasVnrType         2919 non-null   object \n",
      " 21  MasVnrArea         2919 non-null   float64\n",
      " 22  ExterQual          2919 non-null   object \n",
      " 23  ExterCond          2919 non-null   object \n",
      " 24  Foundation         2919 non-null   object \n",
      " 25  BsmtQual           2919 non-null   object \n",
      " 26  BsmtCond           2919 non-null   object \n",
      " 27  BsmtExposure       2919 non-null   object \n",
      " 28  BsmtFinType1       2919 non-null   object \n",
      " 29  BsmtFinSF1         2919 non-null   float64\n",
      " 30  BsmtFinType2       2919 non-null   object \n",
      " 31  BsmtFinSF2         2919 non-null   float64\n",
      " 32  BsmtUnfSF          2919 non-null   float64\n",
      " 33  Heating            2919 non-null   object \n",
      " 34  HeatingQC          2919 non-null   object \n",
      " 35  CentralAir         2919 non-null   object \n",
      " 36  Electrical         2919 non-null   object \n",
      " 37  LowQualFinSF       2919 non-null   int64  \n",
      " 38  GrLivArea          2919 non-null   int64  \n",
      " 39  BedroomAbvGr       2919 non-null   int64  \n",
      " 40  KitchenAbvGr       2919 non-null   int64  \n",
      " 41  KitchenQual        2919 non-null   object \n",
      " 42  TotRmsAbvGrd       2919 non-null   int64  \n",
      " 43  Functional         2919 non-null   object \n",
      " 44  Fireplaces         2919 non-null   int64  \n",
      " 45  GarageType         2919 non-null   object \n",
      " 46  GarageFinish       2919 non-null   object \n",
      " 47  GarageCars         2919 non-null   float64\n",
      " 48  GarageArea         2919 non-null   int64  \n",
      " 49  GarageQual         2919 non-null   object \n",
      " 50  GarageCond         2919 non-null   object \n",
      " 51  PavedDrive         2919 non-null   object \n",
      " 52  WoodDeckSF         2919 non-null   int64  \n",
      " 53  PoolArea           2919 non-null   int64  \n",
      " 54  MiscVal            2919 non-null   int64  \n",
      " 55  MoSold             2919 non-null   int64  \n",
      " 56  SaleType           2919 non-null   object \n",
      " 57  SaleCondition      2919 non-null   object \n",
      " 58  TotalSF            2919 non-null   float64\n",
      " 59  Total_Bathrooms    2919 non-null   float64\n",
      " 60  Total_porch_sf     2919 non-null   int64  \n",
      " 61  YearsSinceRemodel  2919 non-null   int64  \n",
      "dtypes: float64(7), int64(17), object(38)\n",
      "memory usage: 1.4+ MB\n",
      "None\n"
     ]
    }
   ],
   "source": [
    "print(all_df.info())"
   ]
  },
  {
   "cell_type": "markdown",
   "id": "257c293f",
   "metadata": {
    "id": "257c293f",
    "papermill": {
     "duration": 0.015823,
     "end_time": "2022-07-07T02:42:13.672870",
     "exception": false,
     "start_time": "2022-07-07T02:42:13.657047",
     "status": "completed"
    },
    "tags": []
   },
   "source": [
    "## Label Encoding ,Ordinal Encoding,One-Hot Encoding\n",
    "- 인코딩은 문자 데이터를 수치로 변환하는 방법론 중의 하나이다."
   ]
  },
  {
   "cell_type": "code",
   "execution_count": null,
   "id": "GPqEUQsxs-Sj",
   "metadata": {
    "colab": {
     "base_uri": "https://localhost:8080/"
    },
    "id": "GPqEUQsxs-Sj",
    "outputId": "a9df50df-9a29-4e4f-c4df-fed534d14de8"
   },
   "outputs": [
    {
     "name": "stdout",
     "output_type": "stream",
     "text": [
      "['Apple', 'Chicken', 'Broccoli'] ==> [0 2 1]\n"
     ]
    }
   ],
   "source": [
    "# 분류모형\n",
    "# 종속변수(양성,음성)\n",
    "from sklearn.preprocessing import LabelEncoder\n",
    "import pandas as pd\n",
    "\n",
    "temp = pd.DataFrame({'Food_Name': ['Apple', 'Chicken', 'Broccoli'], \n",
    "                     'Calories': [95, 231, 50]})\n",
    "\n",
    "encoder = LabelEncoder()\n",
    "encoder.fit(temp['Food_Name'])\n",
    "labels = encoder.transform(temp['Food_Name'])\n",
    "print(list(temp['Food_Name']), \"==>\", labels)"
   ]
  },
  {
   "cell_type": "code",
   "execution_count": null,
   "id": "7lXqaHPVtP6w",
   "metadata": {
    "colab": {
     "base_uri": "https://localhost:8080/"
    },
    "id": "7lXqaHPVtP6w",
    "outputId": "4c6e2bc9-709c-4bc0-d66d-f90d6ad3f986"
   },
   "outputs": [
    {
     "name": "stdout",
     "output_type": "stream",
     "text": [
      "['Apple', 'Chicken', 'Broccoli'] ==> [[0.0], [2.0], [1.0]]\n"
     ]
    }
   ],
   "source": [
    "# Ordinal Encoding은 독립변수로만 사용\n",
    "from sklearn.preprocessing import OrdinalEncoder\n",
    "import pandas as pd\n",
    "\n",
    "temp = pd.DataFrame({'Food_Name': ['Apple', 'Chicken', 'Broccoli'], \n",
    "                     'Calories': [95, 231, 50]})\n",
    "\n",
    "encoder = OrdinalEncoder()\n",
    "labels = encoder.fit_transform(temp[['Food_Name']])\n",
    "print(list(temp['Food_Name']), \"==>\", labels.tolist())"
   ]
  },
  {
   "cell_type": "code",
   "execution_count": null,
   "id": "z3XpFYybtZgH",
   "metadata": {
    "colab": {
     "base_uri": "https://localhost:8080/"
    },
    "id": "z3XpFYybtZgH",
    "outputId": "eff9f5fd-fb85-4a9f-dbab-ca039e0fbcb5"
   },
   "outputs": [
    {
     "name": "stdout",
     "output_type": "stream",
     "text": [
      "  Food_Name  Food_No\n",
      "0     Apple        1\n",
      "1   Chicken        2\n",
      "2  Broccoli        3\n"
     ]
    }
   ],
   "source": [
    "temp = pd.DataFrame({'Food_Name': ['Apple', 'Chicken', 'Broccoli'],\n",
    "                     'Calories': [95, 231, 50]})\n",
    "\n",
    "temp['Food_No'] = temp.Food_Name.replace(to_replace = ['Apple', 'Chicken', 'Broccoli'], value = [1, 2, 3])\n",
    "print(temp[['Food_Name', 'Food_No']])"
   ]
  },
  {
   "cell_type": "code",
   "execution_count": null,
   "id": "5zQVt72ztbO_",
   "metadata": {
    "colab": {
     "base_uri": "https://localhost:8080/"
    },
    "id": "5zQVt72ztbO_",
    "outputId": "3246866a-1988-4be0-c922-cced54864751"
   },
   "outputs": [
    {
     "name": "stdout",
     "output_type": "stream",
     "text": [
      "   Calories  Food_Name_Apple  Food_Name_Broccoli  Food_Name_Chicken\n",
      "0        95                1                   0                  0\n",
      "1       231                0                   0                  1\n",
      "2        50                0                   1                  0\n",
      "(3, 4)\n"
     ]
    }
   ],
   "source": [
    "#One-Hot Encoding\n",
    "import pandas as pd\n",
    "from sklearn.preprocessing import LabelBinarizer\n",
    "\n",
    "temp = pd.DataFrame({'Food_Name': ['Apple', 'Chicken', 'Broccoli'], \n",
    "                     'Calories': [95, 231, 50]})\n",
    "\n",
    "encoder = LabelBinarizer()\n",
    "encoder.fit(temp['Food_Name'])\n",
    "transformed = encoder.transform(temp['Food_Name'])\n",
    "ohe_df = pd.DataFrame(transformed)\n",
    "temp = pd.concat([temp, ohe_df], axis=1).drop(['Food_Name'], axis=1)\n",
    "temp.columns = ['Calories', 'Food_Name_Apple', 'Food_Name_Broccoli', 'Food_Name_Chicken']\n",
    "print(temp)\n",
    "print(temp.shape)"
   ]
  },
  {
   "cell_type": "code",
   "execution_count": null,
   "id": "MxZ3lhxDtvng",
   "metadata": {
    "colab": {
     "base_uri": "https://localhost:8080/"
    },
    "id": "MxZ3lhxDtvng",
    "outputId": "69a17cba-8850-48f4-d7b0-98e50755c7ae"
   },
   "outputs": [
    {
     "name": "stdout",
     "output_type": "stream",
     "text": [
      "   Calories  Food_Name_Apple  Food_Name_Broccoli  Food_Name_Chicken\n",
      "0        95                1                   0                  0\n",
      "1       231                0                   0                  1\n",
      "2        50                0                   1                  0\n",
      "(3, 4)\n"
     ]
    }
   ],
   "source": [
    "import pandas as pd\n",
    "\n",
    "temp = pd.DataFrame({'Food_Name': ['Apple', 'Chicken', 'Broccoli'], \n",
    "                     'Calories': [95, 231, 50]})\n",
    "\n",
    "temp = pd.get_dummies(temp)\n",
    "print(temp)\n",
    "print(temp.shape)"
   ]
  },
  {
   "cell_type": "markdown",
   "id": "AB8RXgy5t1C5",
   "metadata": {
    "id": "AB8RXgy5t1C5"
   },
   "source": [
    "- 본 데이터 적용\n",
    "  + 여기서는 Ordinal Encoding적용 안함(실전에는 필요)\n",
    "- 원 핫 인코딩 적용"
   ]
  },
  {
   "cell_type": "code",
   "execution_count": null,
   "id": "w4NeXNOvt3CX",
   "metadata": {
    "colab": {
     "base_uri": "https://localhost:8080/"
    },
    "id": "w4NeXNOvt3CX",
    "outputId": "d81d71c5-22b4-4061-c136-af8333ca223e"
   },
   "outputs": [
    {
     "data": {
      "text/plain": [
       "(2919, 258)"
      ]
     },
     "execution_count": 122,
     "metadata": {},
     "output_type": "execute_result"
    }
   ],
   "source": [
    "all_df = pd.get_dummies(all_df).reset_index(drop=True)\n",
    "all_df.shape"
   ]
  },
  {
   "cell_type": "markdown",
   "id": "QcHsS5PYt669",
   "metadata": {
    "id": "QcHsS5PYt669"
   },
   "source": [
    "- train,test 데이터 합쳐서 진행\n",
    "- train,test 데이터 재분리"
   ]
  },
  {
   "cell_type": "code",
   "execution_count": null,
   "id": "hIX8gaFZt8rs",
   "metadata": {
    "colab": {
     "base_uri": "https://localhost:8080/"
    },
    "id": "hIX8gaFZt8rs",
    "outputId": "fed8cea5-c9e6-491e-d098-b153c38911ab"
   },
   "outputs": [
    {
     "data": {
      "text/plain": [
       "((1460, 258), (1460,), (1459, 258))"
      ]
     },
     "execution_count": 123,
     "metadata": {},
     "output_type": "execute_result"
    }
   ],
   "source": [
    "X = all_df.iloc[:len(y), :]\n",
    "test = all_df.iloc[len(y):, :]\n",
    "\n",
    "X.shape, y.shape, test.shape"
   ]
  },
  {
   "cell_type": "markdown",
   "id": "3PUcp3ZHuAv8",
   "metadata": {
    "id": "3PUcp3ZHuAv8"
   },
   "source": [
    "- 머신러닝을 위한 데이터 전처리가 끝남"
   ]
  },
  {
   "cell_type": "markdown",
   "id": "EbiuF1YxuCg0",
   "metadata": {
    "id": "EbiuF1YxuCg0"
   },
   "source": [
    "## 과제\n",
    "- 남은 시간동안 교제를 모고 머신러닝 학습 및 RMSE 구하세요.\n",
    "- 데이터셋 분리\n",
    " + X데이터를 X-train, X_test, y_train, y_test로 분리"
   ]
  },
  {
   "cell_type": "code",
   "execution_count": null,
   "id": "obZALlu-C5xP",
   "metadata": {
    "colab": {
     "base_uri": "https://localhost:8080/"
    },
    "id": "obZALlu-C5xP",
    "outputId": "5e3ffa89-b280-463c-84c9-0399581c34d4"
   },
   "outputs": [
    {
     "data": {
      "text/plain": [
       "((1022, 258), (438, 258), (1022,), (438,))"
      ]
     },
     "execution_count": 124,
     "metadata": {},
     "output_type": "execute_result"
    }
   ],
   "source": [
    "from sklearn.model_selection import train_test_split\n",
    "X_train, X_test, y_train, y_test = train_test_split(\n",
    "    #독립변수, 종속변수\n",
    "    X, y, test_size = 0.3, random_state = 0 \n",
    ")\n",
    "\n",
    "X_train.shape, X_test.shape, y_train.shape, y_test.shape"
   ]
  },
  {
   "cell_type": "code",
   "execution_count": null,
   "id": "UT-yOK2aDj9v",
   "metadata": {
    "colab": {
     "base_uri": "https://localhost:8080/"
    },
    "id": "UT-yOK2aDj9v",
    "outputId": "6b8041d7-9382-4ce3-e487-96a4088f7ec6"
   },
   "outputs": [
    {
     "name": "stdout",
     "output_type": "stream",
     "text": [
      "0.9513387660720953\n",
      "-52492042.95698945\n"
     ]
    }
   ],
   "source": [
    "from sklearn.linear_model import  LinearRegression\n",
    "lr_model = LinearRegression()\n",
    "lr_model.fit(X_train, y_train)\n",
    "print(lr_model.score(X_train,y_train))\n",
    "print(lr_model.score(X_test,y_test))"
   ]
  },
  {
   "cell_type": "markdown",
   "id": "bHlkaZKFKSCe",
   "metadata": {
    "id": "bHlkaZKFKSCe"
   },
   "source": [
    "https://scikit-learn.org/stable/modules/generated/sklearn.model_selection.cross_val_score.html\n"
   ]
  },
  {
   "cell_type": "code",
   "execution_count": null,
   "id": "O4THJGwyIuCP",
   "metadata": {
    "id": "O4THJGwyIuCP"
   },
   "outputs": [],
   "source": [
    "from sklearn.metrics import mean_squared_error\n",
    "def rmse(y_true, y_pred):\n",
    "    return np.sqrt(mean_squared_error(y_true, y_pred))"
   ]
  },
  {
   "cell_type": "markdown",
   "id": "i8EIDFriJXru",
   "metadata": {
    "id": "i8EIDFriJXru"
   },
   "source": [
    "### 머신러닝 모형 정의, 검증평가\n",
    "- 교차검증함수 만들기 \n"
   ]
  },
  {
   "cell_type": "code",
   "execution_count": null,
   "id": "-yhDvEMEdiMY",
   "metadata": {
    "id": "-yhDvEMEdiMY"
   },
   "outputs": [],
   "source": [
    "#다양한 모형\n",
    "from sklearn.metrics import mean_squared_error\n",
    "from sklearn.model_selection import KFold, cross_val_score\n",
    "from sklearn.linear_model import LinearRegression\n",
    "from sklearn.ensemble import RandomForestRegressor \n",
    "from lightgbm import LGBMRegressor\n",
    "from xgboost import XGBRegressor"
   ]
  },
  {
   "cell_type": "code",
   "execution_count": null,
   "id": "kbRgfZJjJkEt",
   "metadata": {
    "id": "kbRgfZJjJkEt"
   },
   "outputs": [],
   "source": [
    "# 교차 검증\n",
    "from sklearn.model_selection import KFold, cross_val_score \n",
    "\n",
    "# 모형 정의\n",
    "from sklearn.linear_model import LinearRegression \n",
    "\n",
    "def cv_rmse(model, n_folds=5):\n",
    "    cv = KFold(n_splits = n_folds, random_state=42, shuffle=True)\n",
    "    rmse_list = np.sqrt(-cross_val_score(model, X, y, scoring='neg_mean_squared_error', cv=cv))\n",
    "    print('CV RMSE Value List:', np.round(rmse_list, 4))\n",
    "    print('CV RMSE mean List:', np.round(np.mean(rmse_list), 4))\n",
    "    return rmse_list"
   ]
  },
  {
   "cell_type": "code",
   "execution_count": null,
   "id": "8sY6Yg_AKvJl",
   "metadata": {
    "colab": {
     "base_uri": "https://localhost:8080/"
    },
    "id": "8sY6Yg_AKvJl",
    "outputId": "04e16ac9-1097-49a1-ba7a-e0b78827910c"
   },
   "outputs": [
    {
     "name": "stdout",
     "output_type": "stream",
     "text": [
      "CV RMSE Value List: [1.2790000e-01 1.2580000e-01 1.1136811e+03 1.5580000e-01 9.2491152e+03]\n",
      "CV RMSE mean List: 2072.6412\n",
      "linear regression - mean : 2072.6412 (std: 3614.0617)\n"
     ]
    }
   ],
   "source": [
    "rmse_scores = {} \n",
    "lr_model = LinearRegression()\n",
    "\n",
    "score = cv_rmse(lr_model, n_folds=5)\n",
    "print('linear regression - mean : {:.4f} (std: {:.4f})'.format(score.mean(), score.std()))\n",
    "\n",
    "rmse_scores['Linear Regression'] = (score.mean(), score.std())"
   ]
  },
  {
   "cell_type": "markdown",
   "id": "pIR0hENyOYtF",
   "metadata": {
    "id": "pIR0hENyOYtF"
   },
   "source": [
    "### 제출방법\n",
    "-"
   ]
  },
  {
   "cell_type": "code",
   "execution_count": null,
   "id": "qcSAnyhbOT4l",
   "metadata": {
    "colab": {
     "base_uri": "https://localhost:8080/"
    },
    "id": "qcSAnyhbOT4l",
    "outputId": "167c9d1a-9917-464b-d704-85b194ed44d3"
   },
   "outputs": [
    {
     "name": "stdout",
     "output_type": "stream",
     "text": [
      "[109089. 160608. 181348. ... 167207. 109945. 204485.]\n"
     ]
    },
    {
     "name": "stderr",
     "output_type": "stream",
     "text": [
      "/usr/local/lib/python3.7/dist-packages/ipykernel_launcher.py:8: RuntimeWarning: overflow encountered in expm1\n",
      "  \n"
     ]
    }
   ],
   "source": [
    "from sklearn.model_selection import cross_val_predict\n",
    "\n",
    "# X = all_df.iloc[:len(y), :]\n",
    "# X_test = all_df.iloc[len(y):, :]\n",
    "# X.shape, y.shape, X_test.shape\n",
    "\n",
    "lr_model_fit = lr_model.fit(X_train, y_train)\n",
    "final_preds = np.floor(np.expm1(lr_model_fit.predict(test)))\n",
    "print(final_preds)"
   ]
  },
  {
   "cell_type": "code",
   "execution_count": null,
   "id": "LP8Vte_YcT9w",
   "metadata": {
    "colab": {
     "base_uri": "https://localhost:8080/"
    },
    "id": "LP8Vte_YcT9w",
    "outputId": "e39567c9-7f05-435b-942c-4f355a02757b"
   },
   "outputs": [
    {
     "name": "stdout",
     "output_type": "stream",
     "text": [
      "     Id  SalePrice\n",
      "0  1461   109089.0\n",
      "1  1462   160608.0\n",
      "2  1463   181348.0\n",
      "3  1464   195114.0\n",
      "4  1465   189188.0\n"
     ]
    }
   ],
   "source": [
    "submission = pd.read_csv(DATA_PATH + \"sample_submission.csv\")\n",
    "submission.iloc[:,1] = final_preds\n",
    "print(submission.head())\n",
    "submission.to_csv(\"submission.csv\", index=False)"
   ]
  },
  {
   "cell_type": "markdown",
   "id": "EXAw0vthcXLf",
   "metadata": {
    "id": "EXAw0vthcXLf"
   },
   "source": [
    "## 모형 만들기"
   ]
  },
  {
   "cell_type": "code",
   "execution_count": null,
   "id": "im9Zlk05cWhv",
   "metadata": {
    "colab": {
     "base_uri": "https://localhost:8080/"
    },
    "id": "im9Zlk05cWhv",
    "outputId": "7e09f864-6937-4d4d-d1dd-6319899d665c"
   },
   "outputs": [
    {
     "name": "stdout",
     "output_type": "stream",
     "text": [
      "0.9513387660720953\n",
      "-52492042.95698945\n"
     ]
    }
   ],
   "source": [
    " from sklearn.linear_model import LinearRegression\n",
    " lr_model = LinearRegression()\n",
    " lr_model.fit(X_train, y_train) \n",
    "\n",
    " print(lr_model.score(X_train, y_train))\n",
    " print(lr_model.score(X_test, y_test))"
   ]
  },
  {
   "cell_type": "markdown",
   "id": "hUdOgd7sFBAQ",
   "metadata": {
    "id": "hUdOgd7sFBAQ"
   },
   "source": [
    "## 번외)평가지표\n",
    "-MAE, MSE, RMSE"
   ]
  },
  {
   "cell_type": "markdown",
   "id": "pkhHkglSFOl-",
   "metadata": {
    "id": "pkhHkglSFOl-"
   },
   "source": [
    "### MAE\n",
    "- 실제값과 예측값의 차이, 오차와 오차들의 절댓값 평균을 말함."
   ]
  },
  {
   "cell_type": "code",
   "execution_count": null,
   "id": "KajOWk2MHs9W",
   "metadata": {
    "id": "KajOWk2MHs9W"
   },
   "outputs": [],
   "source": [
    "import numpy as np \n",
    "\n",
    "def mean_absolute_error(y_true, y_pred):\n",
    "    error = 0 \n",
    "    for yt, yp in zip(y_true, y_pred):\n",
    "        # yt : 실젯값\n",
    "        # yp : 예측값\n",
    "        error = error + np.abs(yt - yp)\n",
    "        # 절댓값 오차의 평균\n",
    "    mae = error / len(y_true)\n",
    "    return mae\n",
    "\n",
    "def mean_squared_error(y_true, y_pred):\n",
    "    error = 0 \n",
    "    for yt, yp in zip(y_true, y_pred):\n",
    "        # yt : 실젯값\n",
    "        # yp : 예측값\n",
    "        error = error + (yt - yp) ** 2\n",
    "        # 제곱값 오차의 평균\n",
    "    mse = error / len(y_true)\n",
    "    return mse\n",
    "\n",
    "def root_mean_squared_error(y_true, y_pred):\n",
    "    error = 0 \n",
    "    for yt, yp in zip(y_true, y_pred):\n",
    "        # yt : 실젯값\n",
    "        # yp : 예측값\n",
    "        error = error + (yt - yp) ** 2\n",
    "        # 제곱값 오차의 평균\n",
    "    mse = error / len(y_true)\n",
    "    \n",
    "    # 제곱근 추가\n",
    "    rmse = np.round(np.sqrt(mse), 3)\n",
    "    return rmse\n",
    "\n",
    "y_true = [400, 300, 800]\n",
    "y_pred = [380, 320, 777]\n",
    "\n",
    "print(\"MAE:\", mean_absolute_error(y_true, y_pred))\n",
    "print(\"MSE:\", mean_squared_error(y_true, y_pred))\n",
    "print(\"RMSE:\", root_mean_squared_error(y_true, y_pred))"
   ]
  }
 ],
 "metadata": {
  "colab": {
   "collapsed_sections": [],
   "name": "lecture-in-humanedu.ipynb",
   "provenance": []
  },
  "kernelspec": {
   "display_name": "Python 3 (ipykernel)",
   "language": "python",
   "name": "python3"
  },
  "language_info": {
   "codemirror_mode": {
    "name": "ipython",
    "version": 3
   },
   "file_extension": ".py",
   "mimetype": "text/x-python",
   "name": "python",
   "nbconvert_exporter": "python",
   "pygments_lexer": "ipython3",
   "version": "3.9.12"
  },
  "papermill": {
   "default_parameters": {},
   "duration": 15.242129,
   "end_time": "2022-07-07T02:42:14.612827",
   "environment_variables": {},
   "exception": null,
   "input_path": "__notebook__.ipynb",
   "output_path": "__notebook__.ipynb",
   "parameters": {},
   "start_time": "2022-07-07T02:41:59.370698",
   "version": "2.3.4"
  }
 },
 "nbformat": 4,
 "nbformat_minor": 5
}
